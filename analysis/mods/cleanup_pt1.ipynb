{
 "cells": [
  {
   "attachments": {},
   "cell_type": "markdown",
   "metadata": {},
   "source": [
    "# Semi-automatic modifications to the collection"
   ]
  },
  {
   "attachments": {},
   "cell_type": "markdown",
   "metadata": {},
   "source": [
    "### Utility functions"
   ]
  },
  {
   "cell_type": "code",
   "execution_count": 1,
   "metadata": {},
   "outputs": [],
   "source": [
    "import os\n",
    "\n",
    "SIZE_LIMIT = 100 * 1024 * 1024  # 100 MB\n",
    "\n",
    "\n",
    "def is_file_larger_than_size_limit(filepath: str) -> bool:\n",
    "    size = os.path.getsize(str(filepath))\n",
    "    return int(size) >= int(SIZE_LIMIT)\n",
    "\n",
    "\n",
    "def read_head(filepath: str) -> str:\n",
    "    head = os.popen(f\"head {filepath}\").read()\n",
    "    return head"
   ]
  },
  {
   "cell_type": "code",
   "execution_count": 2,
   "metadata": {},
   "outputs": [],
   "source": [
    "RDF_SUFFIXES = [\"rdf\", \"ttl\", \"owl\", \"n3\", \"nt\", \"jsonld\", \"nq\", \"trig\", \"trix\"]\n",
    "\n",
    "\n",
    "def check_if_file_name_is_rdf(name: str) -> bool:\n",
    "    return name.split(\".\")[-1] in RDF_SUFFIXES"
   ]
  },
  {
   "cell_type": "code",
   "execution_count": 3,
   "metadata": {},
   "outputs": [],
   "source": [
    "import time\n",
    "from pathlib import Path\n",
    "\n",
    "\n",
    "def delete_file(file_path: str):\n",
    "    if os.path.isfile(file_path):\n",
    "        print(f\"Deleting {file_path}\")\n",
    "        os.remove(file_path)\n",
    "\n",
    "\n",
    "def change_extension(filepath: str, new_extension: str):\n",
    "    suffix = Path(filepath).suffix\n",
    "\n",
    "    new_name = None\n",
    "\n",
    "    if len(suffix) > 0:\n",
    "        new_name = filepath.replace(suffix, f\".{new_extension}\")\n",
    "    else:\n",
    "        new_name = f\"{filepath}.{new_extension}\"\n",
    "\n",
    "    if os.path.isfile(new_name):\n",
    "        time_str = time.strftime(\"%Y_%m_%d-%I_%M_%S\")\n",
    "        new_name = f\"{time_str}-{new_name}\"\n",
    "\n",
    "    print(f\"Renaming {filepath} to {new_name}\")\n",
    "    os.rename(filepath, new_name)"
   ]
  },
  {
   "cell_type": "code",
   "execution_count": 4,
   "metadata": {},
   "outputs": [],
   "source": [
    "def diff_file(file_path_1: str, file_path_2: str) -> str:\n",
    "    return os.popen(f\"diff {file_path_1} {file_path_2}\").read()"
   ]
  },
  {
   "cell_type": "code",
   "execution_count": 5,
   "metadata": {},
   "outputs": [],
   "source": [
    "def diff_dataset(dataset_path_1: str, dataset_path_2: str) -> str:\n",
    "    return os.popen(f\"diff -qr {dataset_path_1} {dataset_path_2}\").read()"
   ]
  },
  {
   "attachments": {},
   "cell_type": "markdown",
   "metadata": {},
   "source": [
    "## Delete HTML files"
   ]
  },
  {
   "cell_type": "code",
   "execution_count": 18,
   "metadata": {},
   "outputs": [],
   "source": [
    "rdf_but_actually_html = [\n",
    "    \"datasets/561/covidcountystatistics.ttl\",\n",
    "    \"datasets/561/covidstatisticsprofile.ttl\",\n",
    "    \"datasets/4354/rows.rdf\",\n",
    "    \"datasets/5662/rows.rdf\",\n",
    "    \"datasets/5663/rows.rdf\",\n",
    "    \"datasets/5665/rows.rdf\",\n",
    "    \"datasets/5719/rows.rdf\",\n",
    "    \"datasets/5720/rows.rdf\",\n",
    "    \"datasets/5721/rows.rdf\",\n",
    "    \"datasets/5739/rows.rdf\",\n",
    "    \"datasets/5740/rows.rdf\",\n",
    "    \"datasets/5741/rows.rdf\",\n",
    "    \"datasets/5742/rows.rdf\",\n",
    "    \"datasets/5743/rows.rdf\",\n",
    "    \"datasets/5744/rows.rdf\",\n",
    "    \"datasets/9692/rows.rdf\",\n",
    "    \"datasets/11003/rows.rdf\",\n",
    "    \"datasets/11520/rows.rdf\",\n",
    "    \"datasets/12635/foaf.rdf\",\n",
    "    \"datasets/12704/makxdekkers.rdf\",\n",
    "    \"datasets/12942/foaf.rdf\",\n",
    "    \"datasets/12949/foaf.rdf\",\n",
    "    \"datasets/13004/foaf.rdf\",\n",
    "    \"datasets/13148/foaf.rdf\",\n",
    "    \"datasets/13290/006893251.ttl\",\n",
    "    \"datasets/13290/006893251.rdf\",\n",
    "    \"datasets/13291/territory-environment-section.nt\",\n",
    "    \"datasets/13357/pml-justification.owl\",\n",
    "    \"datasets/13357/event.owl\",\n",
    "    \"datasets/13400/laser-printer.ttl\",\n",
    "    \"datasets/13581/caster-complessi.rdf\",\n",
    "    \"datasets/13581/titolariomaic.rdf\",\n",
    "    \"datasets/13581/entimaic.rdf\",\n",
    "    \"datasets/13581/commissioniparlamentariinchiesta.rdf\",\n",
    "    \"datasets/13581/uodmaic.rdf\",\n",
    "    \"datasets/13581/luoghiacs.rdf\",\n",
    "    \"datasets/13581/assembleacostituente.rdf\",\n",
    "    \"datasets/13581/personemaic.rdf\",\n",
    "    \"datasets/13581/caster-soggettiproduttori.rdf\",\n",
    "    \"datasets/13581/caster-soggetticonservatori.rdf\",\n",
    "    \"datasets/13590/l99.rdf\",\n",
    "    \"datasets/13590/s40.rdf\",\n",
    "    \"datasets/13590/asjp.owl\",\n",
    "    \"datasets/13590/r1234.rdf\",\n",
    "    \"datasets/13590/fromance.rdf\",\n",
    "    \"datasets/13590/d13-468.rdf\",\n",
    "    \"datasets/13723/00100204.ttl\",\n",
    "    \"datasets/13845/ntn-individuals.owl\",\n",
    "    \"datasets/13950/cell2159549-5275-262-1.rdf\",\n",
    "    \"datasets/14013/eventkg-r2.ttl\",\n",
    "    \"datasets/14160/fulldump.nq\",\n",
    "    \"datasets/14196/fro-usc-title-15-chapter-2d-s1-5.ttl\",\n",
    "    \"datasets/14196/fro-banking.ttl\",\n",
    "    \"datasets/14382/laser-printer.ttl\",\n",
    "    \"datasets/14469/00100204.ttl\",\n",
    "    \"datasets/14493/caster-complessi.rdf\",\n",
    "    \"datasets/14493/titolariomaic.rdf\",\n",
    "    \"datasets/14493/entimaic.rdf\",\n",
    "    \"datasets/14493/commissioniparlamentariinchiesta.rdf\",\n",
    "    \"datasets/14493/uodmaic.rdf\",\n",
    "    \"datasets/14493/luoghiacs.rdf\",\n",
    "    \"datasets/14493/assembleacostituente.rdf\",\n",
    "    \"datasets/14493/personemaic.rdf\",\n",
    "    \"datasets/14493/caster-soggettiproduttori.rdf\",\n",
    "    \"datasets/14493/caster-soggetticonservatori.rdf\",\n",
    "    \"datasets/14603/pml-justification.owl\",\n",
    "    \"datasets/14603/event.owl\",\n",
    "    \"datasets/14636/492dbb62-b569-f6cb-5822-545c474bc3db.rdf\",\n",
    "    \"datasets/14735/dump.nt\",\n",
    "    \"datasets/14735/terms.rdf\",\n",
    "    \"datasets/15056/l99.rdf\",\n",
    "    \"datasets/15056/s40.rdf\",\n",
    "    \"datasets/15056/asjp.owl\",\n",
    "    \"datasets/15056/r1234.rdf\",\n",
    "    \"datasets/15056/fromance.rdf\",\n",
    "    \"datasets/15056/d13-468.rdf\",\n",
    "    \"datasets/15144/n3.n3\",\n",
    "    \"datasets/15205/ntn-individuals.owl\",\n",
    "    \"datasets/15333/territory-environment-section.nt\",\n",
    "    \"datasets/15632/1920402.rdf\",\n",
    "    \"datasets/15636/dmo-government-staff-and-salary-data-template-march-2011version-4.rdf\",\n",
    "    \"datasets/15636/hmt-staffdata-mar2011.rdf\",\n",
    "    \"datasets/15636/apa-staffdata-oct2011.rdf\",\n",
    "    \"datasets/15636/300911-dmo-organogram-ver-2.rdf\",\n",
    "    \"datasets/15636/hmt-treasury-staff-and-salary-data-template-september-2011-for-input-final-v14.rdf\",\n",
    "    \"datasets/15636/apa-staffdata-mar2011.rdf\",\n",
    "    \"datasets/15715/junior-and-senior-organogram-data-2011-03-31.rdf\",\n",
    "    \"datasets/15736/tsol-staff-data-march-2011.rdf\",\n",
    "    \"datasets/15736/tsol-staff-data-september-2011.rdf\",\n",
    "    \"datasets/15737/wndc-senior-salary-and-organogram-march-2011v24.rdf\",\n",
    "    \"datasets/15737/300911-wndc-organogram-ver2.rdf\",\n",
    "    \"datasets/15739/hornimanstaff-and-salary-data.rdf\",\n",
    "    \"datasets/15743/wales-office-organogram.rdf\",\n",
    "    \"datasets/15749/government-staff-and-salary-data-march-2011-gscc.rdf\",\n",
    "    \"datasets/15753/may-2011-government-staff-and-salary-data-partnerships-for-schools-30-march-2011.rdf\",\n",
    "    \"datasets/15757/iwm-staff-and-salary-data-sept-2011.rdf\",\n",
    "    \"datasets/15761/government-staff-and-salary-data-ihol-march-2011-2.rdf\",\n",
    "    \"datasets/15762/transparency-organogram.rdf\",\n",
    "    \"datasets/15766/geffrye-museum-staff-and-salary-data-july-2011.rdf\",\n",
    "    \"datasets/15766/geffrye-museum-staff-and-salary-data-nov-2011.rdf\",\n",
    "    \"datasets/15767/1932550.rdf\",\n",
    "    \"datasets/15767/2035652.rdf\",\n",
    "    \"datasets/15771/2011-03-31-nhm-organograms.rdf\",\n",
    "    \"datasets/15771/2011-09-30-nhm-organograms.rdf\",\n",
    "    \"datasets/15774/2011-05-26-staff-posts-and-salary-data.rdf\",\n",
    "    \"datasets/15774/2011-12-05-ofqual-staff-salary-data-30092011.rdf\",\n",
    "    \"datasets/15779/government-staff-and-salary-data-template-v2.rdf\",\n",
    "    \"datasets/15779/copy-of-government-staff-and-salary-data-blank-template-october-2011-2.rdf\",\n",
    "    \"datasets/15781/1881-senior-and-junior-staff-and-their-pay-grades.rdf\",\n",
    "    \"datasets/15786/uksport-staff-and-salary-data-march2011.rdf\",\n",
    "    \"datasets/15788/nml-organogram2010.rdf\",\n",
    "    \"datasets/15798/organisation-data-1321011754.rdf\",\n",
    "    \"datasets/15798/government-staff-and-salary-data-blank-template-1311955022.rdf\",\n",
    "    \"datasets/15998/rdfdatamodel-bandi-forniture-servizi.rdf\",\n",
    "    \"datasets/15998/rdfdatamodel-altri-bandi.rdf\",\n",
    "    \"datasets/15998/rdfdatamodel-bandi-lavori-pubblici.rdf\",\n",
    "    \"datasets/16001/rdfschema.rdf\",\n",
    "    \"datasets/16002/rdfdatamodel-notizia.rdf\",\n",
    "    \"datasets/16004/rdfdatamodel-concorso.rdf\",\n",
    "    \"datasets/16005/rdfdatamodel-incarico.rdf\",\n",
    "    \"datasets/16006/rdfdatamodel-hotspot.rdf\",\n",
    "    \"datasets/21522/rdfdatamodel-immobile.rdf\",\n",
    "    \"datasets/21523/rdfschema.rdf\",\n",
    "    \"datasets/21525/rdfdatamodel-incarico.rdf\",\n",
    "    \"datasets/21526/rdfdatamodel-bandi-forniture-servizi.rdf\",\n",
    "    \"datasets/21526/rdfdatamodel-altri-bandi.rdf\",\n",
    "    \"datasets/21526/rdfdatamodel-bandi-lavori-pubblici.rdf\",\n",
    "    \"datasets/21527/rdfdatamodel-concorso.rdf\",\n",
    "    \"datasets/21528/rdfdatamodel-notizia.rdf\",\n",
    "    \"datasets/21529/rdfdatamodel-hotspot.rdf\",\n",
    "    \"datasets/41371/9evq-q4ni.rdf\",\n",
    "    \"datasets/41387/t4mm-ynkd.rdf\",\n",
    "    \"datasets/41391/czii-xhj9.rdf\",\n",
    "    \"datasets/41437/ifrs-uzjp.rdf\",\n",
    "    \"datasets/41439/4icd-wtsk.rdf\",\n",
    "    \"datasets/41444/3gk2-vh5k.rdf\",\n",
    "    \"datasets/41445/ipzh-446j.rdf\",\n",
    "    \"datasets/41449/482t-q4rs.rdf\",\n",
    "    \"datasets/41450/uh35-acwz.rdf\",\n",
    "    \"datasets/41454/42yc-giac.rdf\",\n",
    "    \"datasets/41455/v6fm-igu4.rdf\",\n",
    "    \"datasets/41456/crr5-2d65.rdf\",\n",
    "    \"datasets/41465/nvy7-tkh5.rdf\",\n",
    "    \"datasets/41469/i5wn-ri8c.rdf\",\n",
    "    \"datasets/41470/ihqv-a9gs.rdf\",\n",
    "    \"datasets/41485/jqvy-ujks.rdf\",\n",
    "    \"datasets/41501/e5jd-ytjd.rdf\",\n",
    "    \"datasets/41503/pmjs-6uqq.rdf\",\n",
    "    \"datasets/41504/6nsk-9bvz.rdf\",\n",
    "    \"datasets/41506/kcq6-et5q.rdf\",\n",
    "    \"datasets/41507/umf4-5kmu.rdf\",\n",
    "    \"datasets/41515/262v-pqa4.rdf\",\n",
    "    \"datasets/41516/bua2-8m9z.rdf\",\n",
    "    \"datasets/41517/euqj-acaw.rdf\",\n",
    "    \"datasets/41518/u8mi-c6pg.rdf\",\n",
    "    \"datasets/41519/eamz-affj.rdf\",\n",
    "    \"datasets/41520/ckfq-pjk7.rdf\",\n",
    "    \"datasets/41521/thk4-xhpc.rdf\",\n",
    "    \"datasets/41522/edbj-pf5t.rdf\",\n",
    "    \"datasets/41529/bdqp-b69h.rdf\",\n",
    "    \"datasets/41531/7c6w-2qvk.rdf\",\n",
    "    \"datasets/41534/pfin-hytb.rdf\",\n",
    "    \"datasets/41539/8axi-nkrk.rdf\",\n",
    "    \"datasets/41543/jt95-7nbp.rdf\",\n",
    "    \"datasets/41544/ve8x-7wpr.rdf\",\n",
    "    \"datasets/41545/icy5-rmhs.rdf\",\n",
    "    \"datasets/41551/wv9g-2f6t.rdf\",\n",
    "    \"datasets/41553/ebpk-uqj6.rdf\",\n",
    "    \"datasets/41554/peqv-8v8d.rdf\",\n",
    "    \"datasets/41562/9jqf-bv5r.rdf\",\n",
    "    \"datasets/41566/u2pr-yjem.rdf\",\n",
    "    \"datasets/41567/dtbb-ntrk.rdf\",\n",
    "    \"datasets/41575/hrms-kvnm.rdf\",\n",
    "    \"datasets/41579/ceue-hyth.rdf\",\n",
    "    \"datasets/41601/uyqg-fzse.rdf\",\n",
    "    \"datasets/41621/jxnv-8xjh.rdf\",\n",
    "    \"datasets/41623/uinr-uget.rdf\",\n",
    "    \"datasets/41628/hjfz-c27j.rdf\",\n",
    "    \"datasets/41629/yv5n-n5p6.rdf\",\n",
    "    \"datasets/41633/juhd-9k9e.rdf\",\n",
    "    \"datasets/41637/8u94-yfgk.rdf\",\n",
    "    \"datasets/41642/tpe5-6nkd.rdf\",\n",
    "    \"datasets/41646/56wk-ihbf.rdf\",\n",
    "    \"datasets/41650/mei3-ydbi.rdf\",\n",
    "    \"datasets/41653/2qeb-tphe.rdf\",\n",
    "    \"datasets/41654/knjf-uj4v.rdf\",\n",
    "    \"datasets/41658/yrc6-b6sx.rdf\",\n",
    "    \"datasets/41659/azh4-cire.rdf\",\n",
    "    \"datasets/41664/w6du-72j6.rdf\",\n",
    "    \"datasets/41675/yszw-pq5x.rdf\",\n",
    "    \"datasets/41683/32gq-nuwm.rdf\",\n",
    "    \"datasets/41685/hbkv-72qc.rdf\",\n",
    "    \"datasets/41686/fhqq-2mjq.rdf\",\n",
    "    \"datasets/41690/j5h2-6za2.rdf\",\n",
    "    \"datasets/41701/xpng-ppj3.rdf\",\n",
    "    \"datasets/41702/95br-iyzp.rdf\",\n",
    "    \"datasets/41703/7xmy-88ts.rdf\",\n",
    "    \"datasets/41704/ega3-ewab.rdf\",\n",
    "    \"datasets/41705/ahxt-tnnb.rdf\",\n",
    "    \"datasets/41706/gz3r-fk2y.rdf\",\n",
    "    \"datasets/41707/6sdr-8fgz.rdf\",\n",
    "    \"datasets/64157/kptj-tafi.rdf\",\n",
    "    \"datasets/64159/vkyy-2v6z.rdf\",\n",
    "    \"datasets/64163/i85s-twae.rdf\",\n",
    "    \"datasets/64165/vrsm-k79r.rdf\",\n",
    "    \"datasets/64167/4f3r-bvja.rdf\",\n",
    "    \"datasets/64168/3z7i-zwvu.rdf\",\n",
    "    \"datasets/64173/vrkj-8w4d.rdf\",\n",
    "    \"datasets/64174/vnqw-sx9g.rdf\",\n",
    "    \"datasets/64181/mudx-8k94.rdf\",\n",
    "    \"datasets/64186/gd4u-cu57.rdf\",\n",
    "    \"datasets/64194/5t3u-serj.rdf\",\n",
    "    \"datasets/64200/b3bu-fswq.rdf\",\n",
    "    \"datasets/77951/rj4h-8pn4.rdf\",\n",
    "]"
   ]
  },
  {
   "cell_type": "code",
   "execution_count": 19,
   "metadata": {},
   "outputs": [
    {
     "name": "stdout",
     "output_type": "stream",
     "text": [
      "Deleting datasets/561/covidcountystatistics.ttl\n",
      "Deleting datasets/561/covidstatisticsprofile.ttl\n",
      "Deleting datasets/4354/rows.rdf\n",
      "Deleting datasets/5662/rows.rdf\n",
      "Deleting datasets/5663/rows.rdf\n",
      "Deleting datasets/5665/rows.rdf\n",
      "Deleting datasets/5719/rows.rdf\n",
      "Deleting datasets/5720/rows.rdf\n",
      "Deleting datasets/5721/rows.rdf\n",
      "Deleting datasets/5739/rows.rdf\n",
      "Deleting datasets/5740/rows.rdf\n",
      "Deleting datasets/5741/rows.rdf\n",
      "Deleting datasets/5742/rows.rdf\n",
      "Deleting datasets/5743/rows.rdf\n",
      "Deleting datasets/5744/rows.rdf\n",
      "Deleting datasets/9692/rows.rdf\n",
      "Deleting datasets/11003/rows.rdf\n",
      "Deleting datasets/11520/rows.rdf\n",
      "Deleting datasets/12635/foaf.rdf\n",
      "Deleting datasets/12704/makxdekkers.rdf\n",
      "Deleting datasets/12942/foaf.rdf\n",
      "Deleting datasets/12949/foaf.rdf\n",
      "Deleting datasets/13004/foaf.rdf\n",
      "Deleting datasets/13148/foaf.rdf\n",
      "Deleting datasets/13290/006893251.ttl\n",
      "Deleting datasets/13290/006893251.rdf\n",
      "Deleting datasets/13291/territory-environment-section.nt\n",
      "Deleting datasets/13357/pml-justification.owl\n",
      "Deleting datasets/13357/event.owl\n",
      "Deleting datasets/13400/laser-printer.ttl\n",
      "Deleting datasets/13581/caster-complessi.rdf\n",
      "Deleting datasets/13581/titolariomaic.rdf\n",
      "Deleting datasets/13581/entimaic.rdf\n",
      "Deleting datasets/13581/commissioniparlamentariinchiesta.rdf\n",
      "Deleting datasets/13581/uodmaic.rdf\n",
      "Deleting datasets/13581/luoghiacs.rdf\n",
      "Deleting datasets/13581/assembleacostituente.rdf\n",
      "Deleting datasets/13581/personemaic.rdf\n",
      "Deleting datasets/13581/caster-soggettiproduttori.rdf\n",
      "Deleting datasets/13581/caster-soggetticonservatori.rdf\n",
      "Deleting datasets/13590/l99.rdf\n",
      "Deleting datasets/13590/s40.rdf\n",
      "Deleting datasets/13590/asjp.owl\n",
      "Deleting datasets/13590/r1234.rdf\n",
      "Deleting datasets/13590/fromance.rdf\n",
      "Deleting datasets/13590/d13-468.rdf\n",
      "Deleting datasets/13723/00100204.ttl\n",
      "Deleting datasets/13845/ntn-individuals.owl\n",
      "Deleting datasets/13950/cell2159549-5275-262-1.rdf\n",
      "Deleting datasets/14013/eventkg-r2.ttl\n",
      "Deleting datasets/14160/fulldump.nq\n",
      "Deleting datasets/14196/fro-usc-title-15-chapter-2d-s1-5.ttl\n",
      "Deleting datasets/14196/fro-banking.ttl\n",
      "Deleting datasets/14382/laser-printer.ttl\n",
      "Deleting datasets/14469/00100204.ttl\n",
      "Deleting datasets/14493/caster-complessi.rdf\n",
      "Deleting datasets/14493/titolariomaic.rdf\n",
      "Deleting datasets/14493/entimaic.rdf\n",
      "Deleting datasets/14493/commissioniparlamentariinchiesta.rdf\n",
      "Deleting datasets/14493/uodmaic.rdf\n",
      "Deleting datasets/14493/luoghiacs.rdf\n",
      "Deleting datasets/14493/assembleacostituente.rdf\n",
      "Deleting datasets/14493/personemaic.rdf\n",
      "Deleting datasets/14493/caster-soggettiproduttori.rdf\n",
      "Deleting datasets/14493/caster-soggetticonservatori.rdf\n",
      "Deleting datasets/14603/pml-justification.owl\n",
      "Deleting datasets/14603/event.owl\n",
      "Deleting datasets/14636/492dbb62-b569-f6cb-5822-545c474bc3db.rdf\n",
      "Deleting datasets/14735/dump.nt\n",
      "Deleting datasets/14735/terms.rdf\n",
      "Deleting datasets/15056/l99.rdf\n",
      "Deleting datasets/15056/s40.rdf\n",
      "Deleting datasets/15056/asjp.owl\n",
      "Deleting datasets/15056/r1234.rdf\n",
      "Deleting datasets/15056/fromance.rdf\n",
      "Deleting datasets/15056/d13-468.rdf\n",
      "Deleting datasets/15144/n3.n3\n",
      "Deleting datasets/15205/ntn-individuals.owl\n",
      "Deleting datasets/15333/territory-environment-section.nt\n",
      "Deleting datasets/15632/1920402.rdf\n",
      "Deleting datasets/15636/dmo-government-staff-and-salary-data-template-march-2011version-4.rdf\n",
      "Deleting datasets/15636/hmt-staffdata-mar2011.rdf\n",
      "Deleting datasets/15636/apa-staffdata-oct2011.rdf\n",
      "Deleting datasets/15636/300911-dmo-organogram-ver-2.rdf\n",
      "Deleting datasets/15636/hmt-treasury-staff-and-salary-data-template-september-2011-for-input-final-v14.rdf\n",
      "Deleting datasets/15636/apa-staffdata-mar2011.rdf\n",
      "Deleting datasets/15715/junior-and-senior-organogram-data-2011-03-31.rdf\n",
      "Deleting datasets/15736/tsol-staff-data-march-2011.rdf\n",
      "Deleting datasets/15736/tsol-staff-data-september-2011.rdf\n",
      "Deleting datasets/15737/wndc-senior-salary-and-organogram-march-2011v24.rdf\n",
      "Deleting datasets/15737/300911-wndc-organogram-ver2.rdf\n",
      "Deleting datasets/15739/hornimanstaff-and-salary-data.rdf\n",
      "Deleting datasets/15743/wales-office-organogram.rdf\n",
      "Deleting datasets/15749/government-staff-and-salary-data-march-2011-gscc.rdf\n",
      "Deleting datasets/15753/may-2011-government-staff-and-salary-data-partnerships-for-schools-30-march-2011.rdf\n",
      "Deleting datasets/15757/iwm-staff-and-salary-data-sept-2011.rdf\n",
      "Deleting datasets/15761/government-staff-and-salary-data-ihol-march-2011-2.rdf\n",
      "Deleting datasets/15762/transparency-organogram.rdf\n",
      "Deleting datasets/15766/geffrye-museum-staff-and-salary-data-july-2011.rdf\n",
      "Deleting datasets/15766/geffrye-museum-staff-and-salary-data-nov-2011.rdf\n",
      "Deleting datasets/15767/1932550.rdf\n",
      "Deleting datasets/15767/2035652.rdf\n",
      "Deleting datasets/15771/2011-03-31-nhm-organograms.rdf\n",
      "Deleting datasets/15771/2011-09-30-nhm-organograms.rdf\n",
      "Deleting datasets/15774/2011-05-26-staff-posts-and-salary-data.rdf\n",
      "Deleting datasets/15774/2011-12-05-ofqual-staff-salary-data-30092011.rdf\n",
      "Deleting datasets/15779/government-staff-and-salary-data-template-v2.rdf\n",
      "Deleting datasets/15779/copy-of-government-staff-and-salary-data-blank-template-october-2011-2.rdf\n",
      "Deleting datasets/15781/1881-senior-and-junior-staff-and-their-pay-grades.rdf\n",
      "Deleting datasets/15786/uksport-staff-and-salary-data-march2011.rdf\n",
      "Deleting datasets/15788/nml-organogram2010.rdf\n",
      "Deleting datasets/15798/organisation-data-1321011754.rdf\n",
      "Deleting datasets/15798/government-staff-and-salary-data-blank-template-1311955022.rdf\n",
      "Deleting datasets/15998/rdfdatamodel-bandi-forniture-servizi.rdf\n",
      "Deleting datasets/15998/rdfdatamodel-altri-bandi.rdf\n",
      "Deleting datasets/15998/rdfdatamodel-bandi-lavori-pubblici.rdf\n",
      "Deleting datasets/16001/rdfschema.rdf\n",
      "Deleting datasets/16002/rdfdatamodel-notizia.rdf\n",
      "Deleting datasets/16004/rdfdatamodel-concorso.rdf\n",
      "Deleting datasets/16005/rdfdatamodel-incarico.rdf\n",
      "Deleting datasets/16006/rdfdatamodel-hotspot.rdf\n",
      "Deleting datasets/21522/rdfdatamodel-immobile.rdf\n",
      "Deleting datasets/21523/rdfschema.rdf\n",
      "Deleting datasets/21525/rdfdatamodel-incarico.rdf\n",
      "Deleting datasets/21526/rdfdatamodel-bandi-forniture-servizi.rdf\n",
      "Deleting datasets/21526/rdfdatamodel-altri-bandi.rdf\n",
      "Deleting datasets/21526/rdfdatamodel-bandi-lavori-pubblici.rdf\n",
      "Deleting datasets/21527/rdfdatamodel-concorso.rdf\n",
      "Deleting datasets/21528/rdfdatamodel-notizia.rdf\n",
      "Deleting datasets/21529/rdfdatamodel-hotspot.rdf\n",
      "Deleting datasets/41371/9evq-q4ni.rdf\n",
      "Deleting datasets/41387/t4mm-ynkd.rdf\n",
      "Deleting datasets/41391/czii-xhj9.rdf\n",
      "Deleting datasets/41437/ifrs-uzjp.rdf\n",
      "Deleting datasets/41439/4icd-wtsk.rdf\n",
      "Deleting datasets/41444/3gk2-vh5k.rdf\n",
      "Deleting datasets/41445/ipzh-446j.rdf\n",
      "Deleting datasets/41449/482t-q4rs.rdf\n",
      "Deleting datasets/41450/uh35-acwz.rdf\n",
      "Deleting datasets/41454/42yc-giac.rdf\n",
      "Deleting datasets/41455/v6fm-igu4.rdf\n",
      "Deleting datasets/41456/crr5-2d65.rdf\n",
      "Deleting datasets/41465/nvy7-tkh5.rdf\n",
      "Deleting datasets/41469/i5wn-ri8c.rdf\n",
      "Deleting datasets/41470/ihqv-a9gs.rdf\n",
      "Deleting datasets/41485/jqvy-ujks.rdf\n",
      "Deleting datasets/41501/e5jd-ytjd.rdf\n",
      "Deleting datasets/41503/pmjs-6uqq.rdf\n",
      "Deleting datasets/41504/6nsk-9bvz.rdf\n",
      "Deleting datasets/41506/kcq6-et5q.rdf\n",
      "Deleting datasets/41507/umf4-5kmu.rdf\n",
      "Deleting datasets/41515/262v-pqa4.rdf\n",
      "Deleting datasets/41516/bua2-8m9z.rdf\n",
      "Deleting datasets/41517/euqj-acaw.rdf\n",
      "Deleting datasets/41518/u8mi-c6pg.rdf\n",
      "Deleting datasets/41519/eamz-affj.rdf\n",
      "Deleting datasets/41520/ckfq-pjk7.rdf\n",
      "Deleting datasets/41521/thk4-xhpc.rdf\n",
      "Deleting datasets/41522/edbj-pf5t.rdf\n",
      "Deleting datasets/41529/bdqp-b69h.rdf\n",
      "Deleting datasets/41531/7c6w-2qvk.rdf\n",
      "Deleting datasets/41534/pfin-hytb.rdf\n",
      "Deleting datasets/41539/8axi-nkrk.rdf\n",
      "Deleting datasets/41543/jt95-7nbp.rdf\n",
      "Deleting datasets/41544/ve8x-7wpr.rdf\n",
      "Deleting datasets/41545/icy5-rmhs.rdf\n",
      "Deleting datasets/41551/wv9g-2f6t.rdf\n",
      "Deleting datasets/41553/ebpk-uqj6.rdf\n",
      "Deleting datasets/41554/peqv-8v8d.rdf\n",
      "Deleting datasets/41562/9jqf-bv5r.rdf\n",
      "Deleting datasets/41566/u2pr-yjem.rdf\n",
      "Deleting datasets/41567/dtbb-ntrk.rdf\n",
      "Deleting datasets/41575/hrms-kvnm.rdf\n",
      "Deleting datasets/41579/ceue-hyth.rdf\n",
      "Deleting datasets/41601/uyqg-fzse.rdf\n",
      "Deleting datasets/41621/jxnv-8xjh.rdf\n",
      "Deleting datasets/41623/uinr-uget.rdf\n",
      "Deleting datasets/41628/hjfz-c27j.rdf\n",
      "Deleting datasets/41629/yv5n-n5p6.rdf\n",
      "Deleting datasets/41633/juhd-9k9e.rdf\n",
      "Deleting datasets/41637/8u94-yfgk.rdf\n",
      "Deleting datasets/41642/tpe5-6nkd.rdf\n",
      "Deleting datasets/41646/56wk-ihbf.rdf\n",
      "Deleting datasets/41650/mei3-ydbi.rdf\n",
      "Deleting datasets/41653/2qeb-tphe.rdf\n",
      "Deleting datasets/41654/knjf-uj4v.rdf\n",
      "Deleting datasets/41658/yrc6-b6sx.rdf\n",
      "Deleting datasets/41659/azh4-cire.rdf\n",
      "Deleting datasets/41664/w6du-72j6.rdf\n",
      "Deleting datasets/41675/yszw-pq5x.rdf\n",
      "Deleting datasets/41683/32gq-nuwm.rdf\n",
      "Deleting datasets/41685/hbkv-72qc.rdf\n",
      "Deleting datasets/41686/fhqq-2mjq.rdf\n",
      "Deleting datasets/41690/j5h2-6za2.rdf\n",
      "Deleting datasets/41701/xpng-ppj3.rdf\n",
      "Deleting datasets/41702/95br-iyzp.rdf\n",
      "Deleting datasets/41703/7xmy-88ts.rdf\n",
      "Deleting datasets/41704/ega3-ewab.rdf\n",
      "Deleting datasets/41705/ahxt-tnnb.rdf\n",
      "Deleting datasets/41706/gz3r-fk2y.rdf\n",
      "Deleting datasets/41707/6sdr-8fgz.rdf\n",
      "Deleting datasets/64157/kptj-tafi.rdf\n",
      "Deleting datasets/64159/vkyy-2v6z.rdf\n",
      "Deleting datasets/64163/i85s-twae.rdf\n",
      "Deleting datasets/64165/vrsm-k79r.rdf\n",
      "Deleting datasets/64167/4f3r-bvja.rdf\n",
      "Deleting datasets/64168/3z7i-zwvu.rdf\n",
      "Deleting datasets/64173/vrkj-8w4d.rdf\n",
      "Deleting datasets/64174/vnqw-sx9g.rdf\n",
      "Deleting datasets/64181/mudx-8k94.rdf\n",
      "Deleting datasets/64186/gd4u-cu57.rdf\n",
      "Deleting datasets/64194/5t3u-serj.rdf\n",
      "Deleting datasets/64200/b3bu-fswq.rdf\n",
      "Deleting datasets/77951/rj4h-8pn4.rdf\n"
     ]
    }
   ],
   "source": [
    "for f in rdf_but_actually_html:\n",
    "    delete_file(f)"
   ]
  },
  {
   "cell_type": "code",
   "execution_count": 20,
   "metadata": {},
   "outputs": [],
   "source": [
    "unparsed_html = [\n",
    "    \"datasets/13254/databnf-all-rdf-xml.tar.gz-user-databnf-password-databnf\",\n",
    "    \"datasets/13290/006893251.json\",\n",
    "    \"datasets/13291/society-section\",\n",
    "    \"datasets/13291/population-section\",\n",
    "    \"datasets/13291/economy-section\",\n",
    "    \"datasets/13291/active-population-economic-sector-nace09-timeseries\",\n",
    "    \"datasets/13351/cc195814-83a4-386f-509a-37e2f35a204b.html\",\n",
    "    \"datasets/13356/523\",\n",
    "    \"datasets/13356/spatial\",\n",
    "    \"datasets/13357/data-view\",\n",
    "    \"datasets/13357/prov\",\n",
    "    \"datasets/13357/tvcg.2010.181\",\n",
    "    \"datasets/13357/void\",\n",
    "    \"datasets/13357/dcat\",\n",
    "    \"datasets/13369/linux\",\n",
    "    \"datasets/13384/4bf87ee3-8f52-94bb-2398-44e7af6980e4.html\",\n",
    "    \"datasets/13388/paris\",\n",
    "    \"datasets/13394/5f51f368-635f-adb1-5968-f8a8d8471070.html\",\n",
    "    \"datasets/13412/sparql-service-description\",\n",
    "    \"datasets/13412/prov\",\n",
    "    \"datasets/13412/void\",\n",
    "    \"datasets/13412/dcat\",\n",
    "    \"datasets/13421/cb6ceeb7-47af-f243-3e45-3c0a916f6c17.html\",\n",
    "    \"datasets/13452/7d0e4f43-405b-760e-3f62-88874c758714.html\",\n",
    "    \"datasets/13568/1745\",\n",
    "    \"datasets/13581/cd1700000001\",\n",
    "    \"datasets/13582/p305757\",\n",
    "    \"datasets/13590/families.rdf.zip\",\n",
    "    \"datasets/13590/senses.rdf.zip\",\n",
    "    \"datasets/13590/renderings.ttl.zip\",\n",
    "    \"datasets/13590/languoids.rdf.zip\",\n",
    "    \"datasets/13594/aanmonstering-del-gem-1890-35\",\n",
    "    \"datasets/13623/cc195814-83a4-386f-509a-37e2f35a204b.html\",\n",
    "    \"datasets/13759/prov\",\n",
    "    \"datasets/13759/void\",\n",
    "    \"datasets/13759/dcat\",\n",
    "    \"datasets/13796/sparql-service-description\",\n",
    "    \"datasets/13796/prov\",\n",
    "    \"datasets/13796/void\",\n",
    "    \"datasets/13796/dcat\",\n",
    "    \"datasets/13990/examples\",\n",
    "    \"datasets/14336/linux\",\n",
    "    \"datasets/14451/nuts1\",\n",
    "    \"datasets/14451/lv\",\n",
    "    \"datasets/14486/aanmonstering-del-gem-1890-35\",\n",
    "    \"datasets/14491/p305757\",\n",
    "    \"datasets/14493/cd1700000001\",\n",
    "    \"datasets/14587/4bf87ee3-8f52-94bb-2398-44e7af6980e4.html\",\n",
    "    \"datasets/14599/5f51f368-635f-adb1-5968-f8a8d8471070.html\",\n",
    "    \"datasets/14603/data-view\",\n",
    "    \"datasets/14603/prov\",\n",
    "    \"datasets/14603/tvcg.2010.181\",\n",
    "    \"datasets/14603/void\",\n",
    "    \"datasets/14603/dcat\",\n",
    "    \"datasets/14604/e199bcf2-bf94-6b87-81a0-4dacaec11f46.html\",\n",
    "    \"datasets/14636/492dbb62-b569-f6cb-5822-545c474bc3db.html\",\n",
    "    \"datasets/14637/7d0e4f43-405b-760e-3f62-88874c758714.html\",\n",
    "    \"datasets/14735/data.nobelprize.org\",\n",
    "    \"datasets/14735/1\",\n",
    "    \"datasets/14806/sparql-service-description\",\n",
    "    \"datasets/14806/prov\",\n",
    "    \"datasets/14806/void\",\n",
    "    \"datasets/14806/dcat\",\n",
    "    \"datasets/15006/138269.3\",\n",
    "    \"datasets/15056/families.rdf.zip\",\n",
    "    \"datasets/15056/senses.rdf.zip\",\n",
    "    \"datasets/15056/renderings.ttl.zip\",\n",
    "    \"datasets/15056/languoids.rdf.zip\",\n",
    "    \"datasets/15082/sparql-service-description\",\n",
    "    \"datasets/15082/prov\",\n",
    "    \"datasets/15082/void\",\n",
    "    \"datasets/15082/dcat\",\n",
    "    \"datasets/15150/prov\",\n",
    "    \"datasets/15150/void\",\n",
    "    \"datasets/15150/dcat\",\n",
    "    \"datasets/15333/society-section\",\n",
    "    \"datasets/15333/population-section\",\n",
    "    \"datasets/15333/economy-section\",\n",
    "    \"datasets/15333/active-population-economic-sector-nace09-timeseries\",\n",
    "    \"datasets/15381/523\",\n",
    "    \"datasets/15381/spatial\",\n",
    "    \"datasets/15414/paris\",\n",
    "    \"datasets/15458/2ffc8ca0-4822-36b8-620b-24d356101748.html\",\n",
    "    \"datasets/15788/2011-nml-organogram.rdf-service-wms-request-getcapabilities-version-1.3\",\n",
    "    \"datasets/21468/proposte-qtxt-select-20-20where-20-7b-s-20-p-20-o-7d-20limit-201000\",\n",
    "]"
   ]
  },
  {
   "cell_type": "code",
   "execution_count": 21,
   "metadata": {},
   "outputs": [
    {
     "name": "stdout",
     "output_type": "stream",
     "text": [
      "Deleting datasets/13254/databnf-all-rdf-xml.tar.gz-user-databnf-password-databnf\n",
      "Deleting datasets/13290/006893251.json\n",
      "Deleting datasets/13291/society-section\n",
      "Deleting datasets/13291/population-section\n",
      "Deleting datasets/13291/economy-section\n",
      "Deleting datasets/13291/active-population-economic-sector-nace09-timeseries\n",
      "Deleting datasets/13351/cc195814-83a4-386f-509a-37e2f35a204b.html\n",
      "Deleting datasets/13356/523\n",
      "Deleting datasets/13356/spatial\n",
      "Deleting datasets/13357/data-view\n",
      "Deleting datasets/13357/prov\n",
      "Deleting datasets/13357/tvcg.2010.181\n",
      "Deleting datasets/13357/void\n",
      "Deleting datasets/13357/dcat\n",
      "Deleting datasets/13369/linux\n",
      "Deleting datasets/13384/4bf87ee3-8f52-94bb-2398-44e7af6980e4.html\n",
      "Deleting datasets/13388/paris\n",
      "Deleting datasets/13394/5f51f368-635f-adb1-5968-f8a8d8471070.html\n",
      "Deleting datasets/13412/sparql-service-description\n",
      "Deleting datasets/13412/prov\n",
      "Deleting datasets/13412/void\n",
      "Deleting datasets/13412/dcat\n",
      "Deleting datasets/13421/cb6ceeb7-47af-f243-3e45-3c0a916f6c17.html\n",
      "Deleting datasets/13452/7d0e4f43-405b-760e-3f62-88874c758714.html\n",
      "Deleting datasets/13568/1745\n",
      "Deleting datasets/13581/cd1700000001\n",
      "Deleting datasets/13582/p305757\n",
      "Deleting datasets/13590/families.rdf.zip\n",
      "Deleting datasets/13590/senses.rdf.zip\n",
      "Deleting datasets/13590/renderings.ttl.zip\n",
      "Deleting datasets/13590/languoids.rdf.zip\n",
      "Deleting datasets/13594/aanmonstering-del-gem-1890-35\n",
      "Deleting datasets/13623/cc195814-83a4-386f-509a-37e2f35a204b.html\n",
      "Deleting datasets/13759/prov\n",
      "Deleting datasets/13759/void\n",
      "Deleting datasets/13759/dcat\n",
      "Deleting datasets/13796/sparql-service-description\n",
      "Deleting datasets/13796/prov\n",
      "Deleting datasets/13796/void\n",
      "Deleting datasets/13796/dcat\n",
      "Deleting datasets/13990/examples\n",
      "Deleting datasets/14336/linux\n",
      "Deleting datasets/14451/nuts1\n",
      "Deleting datasets/14451/lv\n",
      "Deleting datasets/14486/aanmonstering-del-gem-1890-35\n",
      "Deleting datasets/14491/p305757\n",
      "Deleting datasets/14493/cd1700000001\n",
      "Deleting datasets/14587/4bf87ee3-8f52-94bb-2398-44e7af6980e4.html\n",
      "Deleting datasets/14599/5f51f368-635f-adb1-5968-f8a8d8471070.html\n",
      "Deleting datasets/14603/data-view\n",
      "Deleting datasets/14603/prov\n",
      "Deleting datasets/14603/tvcg.2010.181\n",
      "Deleting datasets/14603/void\n",
      "Deleting datasets/14603/dcat\n",
      "Deleting datasets/14604/e199bcf2-bf94-6b87-81a0-4dacaec11f46.html\n",
      "Deleting datasets/14636/492dbb62-b569-f6cb-5822-545c474bc3db.html\n",
      "Deleting datasets/14637/7d0e4f43-405b-760e-3f62-88874c758714.html\n",
      "Deleting datasets/14735/data.nobelprize.org\n",
      "Deleting datasets/14735/1\n",
      "Deleting datasets/14806/sparql-service-description\n",
      "Deleting datasets/14806/prov\n",
      "Deleting datasets/14806/void\n",
      "Deleting datasets/14806/dcat\n",
      "Deleting datasets/15006/138269.3\n",
      "Deleting datasets/15056/families.rdf.zip\n",
      "Deleting datasets/15056/senses.rdf.zip\n",
      "Deleting datasets/15056/renderings.ttl.zip\n",
      "Deleting datasets/15056/languoids.rdf.zip\n",
      "Deleting datasets/15082/sparql-service-description\n",
      "Deleting datasets/15082/prov\n",
      "Deleting datasets/15082/void\n",
      "Deleting datasets/15082/dcat\n",
      "Deleting datasets/15150/prov\n",
      "Deleting datasets/15150/void\n",
      "Deleting datasets/15150/dcat\n",
      "Deleting datasets/15333/society-section\n",
      "Deleting datasets/15333/population-section\n",
      "Deleting datasets/15333/economy-section\n",
      "Deleting datasets/15333/active-population-economic-sector-nace09-timeseries\n",
      "Deleting datasets/15381/523\n",
      "Deleting datasets/15381/spatial\n",
      "Deleting datasets/15414/paris\n",
      "Deleting datasets/15458/2ffc8ca0-4822-36b8-620b-24d356101748.html\n",
      "Deleting datasets/15788/2011-nml-organogram.rdf-service-wms-request-getcapabilities-version-1.3\n",
      "Deleting datasets/21468/proposte-qtxt-select-20-20where-20-7b-s-20-p-20-o-7d-20limit-201000\n"
     ]
    }
   ],
   "source": [
    "for f in unparsed_html:\n",
    "    delete_file(f)"
   ]
  },
  {
   "attachments": {},
   "cell_type": "markdown",
   "metadata": {},
   "source": [
    "## Delete JSON files"
   ]
  },
  {
   "cell_type": "code",
   "execution_count": 22,
   "metadata": {},
   "outputs": [],
   "source": [
    "rdf_but_actually_json = [\n",
    "    \"datasets/569/rows.rdf\",\n",
    "    \"datasets/573/rows.rdf\",\n",
    "    \"datasets/574/rows.rdf\",\n",
    "    \"datasets/576/rows.rdf\",\n",
    "    \"datasets/588/rows.rdf\",\n",
    "    \"datasets/599/rows.rdf\",\n",
    "    \"datasets/615/rows.rdf\",\n",
    "    \"datasets/618/rows.rdf\",\n",
    "    \"datasets/622/rows.rdf\",\n",
    "    \"datasets/623/rows.rdf\",\n",
    "    \"datasets/633/rows.rdf\",\n",
    "    \"datasets/635/rows.rdf\",\n",
    "    \"datasets/636/rows.rdf\",\n",
    "    \"datasets/644/rows.rdf\",\n",
    "    \"datasets/659/rows.rdf\",\n",
    "    \"datasets/684/rows.rdf\",\n",
    "    \"datasets/687/rows.rdf\",\n",
    "    \"datasets/725/rows.rdf\",\n",
    "    \"datasets/726/rows.rdf\",\n",
    "    \"datasets/743/rows.rdf\",\n",
    "    \"datasets/748/rows.rdf\",\n",
    "    \"datasets/753/rows.rdf\",\n",
    "    \"datasets/764/rows.rdf\",\n",
    "    \"datasets/769/rows.rdf\",\n",
    "    \"datasets/772/rows.rdf\",\n",
    "    \"datasets/773/rows.rdf\",\n",
    "    \"datasets/780/rows.rdf\",\n",
    "    \"datasets/784/rows.rdf\",\n",
    "    \"datasets/786/rows.rdf\",\n",
    "    \"datasets/794/rows.rdf\",\n",
    "    \"datasets/807/rows.rdf\",\n",
    "    \"datasets/811/rows.rdf\",\n",
    "    \"datasets/818/rows.rdf\",\n",
    "    \"datasets/830/rows.rdf\",\n",
    "    \"datasets/831/rows.rdf\",\n",
    "    \"datasets/837/rows.rdf\",\n",
    "    \"datasets/849/rows.rdf\",\n",
    "    \"datasets/858/rows.rdf\",\n",
    "    \"datasets/859/rows.rdf\",\n",
    "    \"datasets/861/rows.rdf\",\n",
    "    \"datasets/880/rows.rdf\",\n",
    "    \"datasets/888/rows.rdf\",\n",
    "    \"datasets/894/rows.rdf\",\n",
    "    \"datasets/895/rows.rdf\",\n",
    "    \"datasets/14418/173390.rdf\",\n",
    "]"
   ]
  },
  {
   "cell_type": "code",
   "execution_count": 23,
   "metadata": {},
   "outputs": [
    {
     "name": "stdout",
     "output_type": "stream",
     "text": [
      "Deleting datasets/569/rows.rdf\n",
      "Deleting datasets/573/rows.rdf\n",
      "Deleting datasets/574/rows.rdf\n",
      "Deleting datasets/576/rows.rdf\n",
      "Deleting datasets/588/rows.rdf\n",
      "Deleting datasets/599/rows.rdf\n",
      "Deleting datasets/615/rows.rdf\n",
      "Deleting datasets/618/rows.rdf\n",
      "Deleting datasets/622/rows.rdf\n",
      "Deleting datasets/623/rows.rdf\n",
      "Deleting datasets/633/rows.rdf\n",
      "Deleting datasets/635/rows.rdf\n",
      "Deleting datasets/636/rows.rdf\n",
      "Deleting datasets/644/rows.rdf\n",
      "Deleting datasets/659/rows.rdf\n",
      "Deleting datasets/684/rows.rdf\n",
      "Deleting datasets/687/rows.rdf\n",
      "Deleting datasets/725/rows.rdf\n",
      "Deleting datasets/726/rows.rdf\n",
      "Deleting datasets/743/rows.rdf\n",
      "Deleting datasets/748/rows.rdf\n",
      "Deleting datasets/753/rows.rdf\n",
      "Deleting datasets/764/rows.rdf\n",
      "Deleting datasets/769/rows.rdf\n",
      "Deleting datasets/772/rows.rdf\n",
      "Deleting datasets/773/rows.rdf\n",
      "Deleting datasets/780/rows.rdf\n",
      "Deleting datasets/784/rows.rdf\n",
      "Deleting datasets/786/rows.rdf\n",
      "Deleting datasets/794/rows.rdf\n",
      "Deleting datasets/807/rows.rdf\n",
      "Deleting datasets/811/rows.rdf\n",
      "Deleting datasets/818/rows.rdf\n",
      "Deleting datasets/830/rows.rdf\n",
      "Deleting datasets/831/rows.rdf\n",
      "Deleting datasets/837/rows.rdf\n",
      "Deleting datasets/849/rows.rdf\n",
      "Deleting datasets/858/rows.rdf\n",
      "Deleting datasets/859/rows.rdf\n",
      "Deleting datasets/861/rows.rdf\n",
      "Deleting datasets/880/rows.rdf\n",
      "Deleting datasets/888/rows.rdf\n",
      "Deleting datasets/894/rows.rdf\n",
      "Deleting datasets/895/rows.rdf\n",
      "Deleting datasets/14418/173390.rdf\n"
     ]
    }
   ],
   "source": [
    "for f in rdf_but_actually_json:\n",
    "    delete_file(f)"
   ]
  },
  {
   "cell_type": "code",
   "execution_count": 24,
   "metadata": {},
   "outputs": [],
   "source": [
    "unparsed_json = [\"datasets/14418/gtaa\"]"
   ]
  },
  {
   "cell_type": "code",
   "execution_count": 25,
   "metadata": {},
   "outputs": [
    {
     "name": "stdout",
     "output_type": "stream",
     "text": [
      "Deleting datasets/14418/gtaa\n"
     ]
    }
   ],
   "source": [
    "for f in unparsed_json:\n",
    "    delete_file(f)"
   ]
  },
  {
   "attachments": {},
   "cell_type": "markdown",
   "metadata": {},
   "source": [
    "## Cast to RDF"
   ]
  },
  {
   "cell_type": "code",
   "execution_count": 26,
   "metadata": {},
   "outputs": [],
   "source": [
    "cast_to_rdf = [\n",
    "    \"datasets/13254/rdf.xml\",\n",
    "    \"datasets/13284/deck\",\n",
    "    \"datasets/13288/54b30\",\n",
    "    \"datasets/13291/vocab\",\n",
    "    \"datasets/13334/s2377506.xml\",\n",
    "    \"datasets/13357/wgs84-pos\",\n",
    "    \"datasets/13357/doap\",\n",
    "    \"datasets/13357/vsr\",\n",
    "    \"datasets/13357/ns\",\n",
    "    \"datasets/13357/core\",\n",
    "    \"datasets/13412/doap\",\n",
    "    \"datasets/13412/vsr\",\n",
    "    \"datasets/13412/ns\",\n",
    "    \"datasets/13412/core\",\n",
    "    \"datasets/13577/psclemon\",\n",
    "    \"datasets/13759/doap\",\n",
    "    \"datasets/13759/ns\",\n",
    "    \"datasets/13759/core\",\n",
    "    \"datasets/13796/doap\",\n",
    "    \"datasets/13796/ns\",\n",
    "    \"datasets/13796/core\",\n",
    "    \"datasets/13997/bulmo-0007-473x-2000-num-158-2-2373\",\n",
    "    \"datasets/13997/196565-person\",\n",
    "    \"datasets/13997/ahess-0395-2649\",\n",
    "    \"datasets/14054/rdf.xml\",\n",
    "    \"datasets/14079/wheat\",\n",
    "    \"datasets/14417/deck\",\n",
    "    \"datasets/14580/54b30\",\n",
    "    \"datasets/14583/s2377506.xml\",\n",
    "    \"datasets/14603/wgs84-pos\",\n",
    "    \"datasets/14603/doap\",\n",
    "    \"datasets/14603/vsr\",\n",
    "    \"datasets/14603/ns\",\n",
    "    \"datasets/14603/core\",\n",
    "    \"datasets/14806/doap\",\n",
    "    \"datasets/14806/ns\",\n",
    "    \"datasets/14806/core\",\n",
    "    \"datasets/14921/psclemon\",\n",
    "    \"datasets/15082/doap\",\n",
    "    \"datasets/15082/vsr\",\n",
    "    \"datasets/15082/ns\",\n",
    "    \"datasets/15082/core\",\n",
    "    \"datasets/15150/doap\",\n",
    "    \"datasets/15150/ns\",\n",
    "    \"datasets/15150/core\",\n",
    "    \"datasets/15333/vocab\",\n",
    "    \"datasets/15641/moj-data.rdf.txt\",\n",
    "]"
   ]
  },
  {
   "cell_type": "code",
   "execution_count": 27,
   "metadata": {},
   "outputs": [
    {
     "name": "stdout",
     "output_type": "stream",
     "text": [
      "Renaming datasets/13254/rdf.xml to datasets/13254/rdf.rdf\n",
      "Renaming datasets/13284/deck to datasets/13284/deck.rdf\n",
      "Renaming datasets/13288/54b30 to datasets/13288/54b30.rdf\n",
      "Renaming datasets/13291/vocab to datasets/13291/vocab.rdf\n",
      "Renaming datasets/13334/s2377506.xml to datasets/13334/s2377506.rdf\n",
      "Renaming datasets/13357/wgs84-pos to datasets/13357/wgs84-pos.rdf\n",
      "Renaming datasets/13357/doap to datasets/13357/doap.rdf\n",
      "Renaming datasets/13357/vsr to datasets/13357/vsr.rdf\n",
      "Renaming datasets/13357/ns to datasets/13357/ns.rdf\n",
      "Renaming datasets/13357/core to datasets/13357/core.rdf\n",
      "Renaming datasets/13412/doap to datasets/13412/doap.rdf\n",
      "Renaming datasets/13412/vsr to datasets/13412/vsr.rdf\n",
      "Renaming datasets/13412/ns to datasets/13412/ns.rdf\n",
      "Renaming datasets/13412/core to datasets/13412/core.rdf\n",
      "Renaming datasets/13577/psclemon to datasets/13577/psclemon.rdf\n",
      "Renaming datasets/13759/doap to datasets/13759/doap.rdf\n",
      "Renaming datasets/13759/ns to datasets/13759/ns.rdf\n",
      "Renaming datasets/13759/core to datasets/13759/core.rdf\n",
      "Renaming datasets/13796/doap to datasets/13796/doap.rdf\n",
      "Renaming datasets/13796/ns to datasets/13796/ns.rdf\n",
      "Renaming datasets/13796/core to datasets/13796/core.rdf\n",
      "Renaming datasets/13997/bulmo-0007-473x-2000-num-158-2-2373 to datasets/13997/bulmo-0007-473x-2000-num-158-2-2373.rdf\n",
      "Renaming datasets/13997/196565-person to datasets/13997/196565-person.rdf\n",
      "Renaming datasets/13997/ahess-0395-2649 to datasets/13997/ahess-0395-2649.rdf\n",
      "Renaming datasets/14054/rdf.xml to datasets/14054/rdf.rdf\n",
      "Renaming datasets/14079/wheat to datasets/14079/wheat.rdf\n",
      "Renaming datasets/14417/deck to datasets/14417/deck.rdf\n",
      "Renaming datasets/14580/54b30 to datasets/14580/54b30.rdf\n",
      "Renaming datasets/14583/s2377506.xml to datasets/14583/s2377506.rdf\n",
      "Renaming datasets/14603/wgs84-pos to datasets/14603/wgs84-pos.rdf\n",
      "Renaming datasets/14603/doap to datasets/14603/doap.rdf\n",
      "Renaming datasets/14603/vsr to datasets/14603/vsr.rdf\n",
      "Renaming datasets/14603/ns to datasets/14603/ns.rdf\n",
      "Renaming datasets/14603/core to datasets/14603/core.rdf\n",
      "Renaming datasets/14806/doap to datasets/14806/doap.rdf\n",
      "Renaming datasets/14806/ns to datasets/14806/ns.rdf\n",
      "Renaming datasets/14806/core to datasets/14806/core.rdf\n",
      "Renaming datasets/14921/psclemon to datasets/14921/psclemon.rdf\n",
      "Renaming datasets/15082/doap to datasets/15082/doap.rdf\n",
      "Renaming datasets/15082/vsr to datasets/15082/vsr.rdf\n",
      "Renaming datasets/15082/ns to datasets/15082/ns.rdf\n",
      "Renaming datasets/15082/core to datasets/15082/core.rdf\n",
      "Renaming datasets/15150/doap to datasets/15150/doap.rdf\n",
      "Renaming datasets/15150/ns to datasets/15150/ns.rdf\n",
      "Renaming datasets/15150/core to datasets/15150/core.rdf\n",
      "Renaming datasets/15333/vocab to datasets/15333/vocab.rdf\n",
      "Renaming datasets/15641/moj-data.rdf.txt to datasets/15641/moj-data.rdf.rdf\n"
     ]
    }
   ],
   "source": [
    "for f in cast_to_rdf:\n",
    "    change_extension(f, \"rdf\")"
   ]
  },
  {
   "attachments": {},
   "cell_type": "markdown",
   "metadata": {},
   "source": [
    "## Cast to TTL"
   ]
  },
  {
   "cell_type": "code",
   "execution_count": 28,
   "metadata": {},
   "outputs": [],
   "source": [
    "cast_to_ttl = [\n",
    "    \"datasets/13252/affymetrix-185061-at\",\n",
    "    \"datasets/13279/hgnc-7\",\n",
    "    \"datasets/13299/homologene-1000\",\n",
    "    \"datasets/13357/cube\",\n",
    "    \"datasets/13412/nif-core\",\n",
    "    \"datasets/13471/omim-603903\",\n",
    "    \"datasets/13482/sgd-s000006169\",\n",
    "    \"datasets/13600/drugbank-db00001\",\n",
    "    \"datasets/13715/gb\",\n",
    "    \"datasets/14387/hgnc-7\",\n",
    "    \"datasets/14396/omim-603903\",\n",
    "    \"datasets/14411/affymetrix-185061-at\",\n",
    "    \"datasets/14430/gb\",\n",
    "    \"datasets/14472/ndc-49288-0001-272c9910-2160-4d41-afbd-faab3055ba1d\",\n",
    "    \"datasets/14473/mesh-d018377\",\n",
    "    \"datasets/14519/go-0006915\",\n",
    "    \"datasets/14520/drugbank-db00001\",\n",
    "    \"datasets/14558/taxonomy-9606\",\n",
    "    \"datasets/14603/cube\",\n",
    "    \"datasets/15082/nif-core\",\n",
    "    \"datasets/15144/turtle\",\n",
    "]"
   ]
  },
  {
   "cell_type": "code",
   "execution_count": 29,
   "metadata": {},
   "outputs": [
    {
     "name": "stdout",
     "output_type": "stream",
     "text": [
      "Renaming datasets/13252/affymetrix-185061-at to datasets/13252/affymetrix-185061-at.ttl\n",
      "Renaming datasets/13279/hgnc-7 to datasets/13279/hgnc-7.ttl\n",
      "Renaming datasets/13299/homologene-1000 to datasets/13299/homologene-1000.ttl\n",
      "Renaming datasets/13357/cube to datasets/13357/cube.ttl\n",
      "Renaming datasets/13412/nif-core to datasets/13412/nif-core.ttl\n",
      "Renaming datasets/13471/omim-603903 to datasets/13471/omim-603903.ttl\n",
      "Renaming datasets/13482/sgd-s000006169 to datasets/13482/sgd-s000006169.ttl\n",
      "Renaming datasets/13600/drugbank-db00001 to datasets/13600/drugbank-db00001.ttl\n",
      "Renaming datasets/13715/gb to datasets/13715/gb.ttl\n",
      "Renaming datasets/14387/hgnc-7 to datasets/14387/hgnc-7.ttl\n",
      "Renaming datasets/14396/omim-603903 to datasets/14396/omim-603903.ttl\n",
      "Renaming datasets/14411/affymetrix-185061-at to datasets/14411/affymetrix-185061-at.ttl\n",
      "Renaming datasets/14430/gb to datasets/14430/gb.ttl\n",
      "Renaming datasets/14472/ndc-49288-0001-272c9910-2160-4d41-afbd-faab3055ba1d to datasets/14472/ndc-49288-0001-272c9910-2160-4d41-afbd-faab3055ba1d.ttl\n",
      "Renaming datasets/14473/mesh-d018377 to datasets/14473/mesh-d018377.ttl\n",
      "Renaming datasets/14519/go-0006915 to datasets/14519/go-0006915.ttl\n",
      "Renaming datasets/14520/drugbank-db00001 to datasets/14520/drugbank-db00001.ttl\n",
      "Renaming datasets/14558/taxonomy-9606 to datasets/14558/taxonomy-9606.ttl\n",
      "Renaming datasets/14603/cube to datasets/14603/cube.ttl\n",
      "Renaming datasets/15082/nif-core to datasets/15082/nif-core.ttl\n",
      "Renaming datasets/15144/turtle to datasets/15144/turtle.ttl\n"
     ]
    }
   ],
   "source": [
    "for f in cast_to_ttl:\n",
    "    change_extension(f, \"ttl\")"
   ]
  },
  {
   "attachments": {},
   "cell_type": "markdown",
   "metadata": {},
   "source": [
    "## Delete RDF unparsable files"
   ]
  },
  {
   "cell_type": "code",
   "execution_count": 30,
   "metadata": {},
   "outputs": [],
   "source": [
    "rdf_unparsable = [\n",
    "    \"datasets/2210/rows.rdf\",\n",
    "    \"datasets/2556/rows.rdf\",\n",
    "    \"datasets/5364/rows.rdf\",\n",
    "    \"datasets/5451/rows.rdf\",\n",
    "    \"datasets/6046/rows.rdf\",\n",
    "    \"datasets/8112/rows.rdf\",\n",
    "    \"datasets/9298/rows.rdf\",\n",
    "    \"datasets/9461/rows.rdf\",\n",
    "    \"datasets/10144/rows.rdf\",\n",
    "    \"datasets/10145/rows.rdf\",\n",
    "    \"datasets/10235/rows.rdf\",\n",
    "    \"datasets/10251/rows.rdf\",\n",
    "    \"datasets/10284/rows.rdf\",\n",
    "    \"datasets/10658/rows.rdf\",\n",
    "    \"datasets/10703/rows.rdf\",\n",
    "    \"datasets/10825/rows.rdf\",\n",
    "    \"datasets/10936/rows.rdf\",\n",
    "    \"datasets/10959/rows.rdf\",\n",
    "    \"datasets/11022/rows.rdf\",\n",
    "    \"datasets/11024/rows.rdf\",\n",
    "    \"datasets/11035/rows.rdf\",\n",
    "    \"datasets/11099/rows.rdf\",\n",
    "    \"datasets/11167/rows.rdf\",\n",
    "    \"datasets/11191/rows.rdf\",\n",
    "    \"datasets/11238/rows.rdf\",\n",
    "    \"datasets/11247/rows.rdf\",\n",
    "    \"datasets/11263/rows.rdf\",\n",
    "    \"datasets/11285/rows.rdf\",\n",
    "    \"datasets/11322/rows.rdf\",\n",
    "    \"datasets/11360/rows.rdf\",\n",
    "    \"datasets/11401/rows.rdf\",\n",
    "    \"datasets/11511/rows.rdf\",\n",
    "    \"datasets/11611/rows.rdf\",\n",
    "    \"datasets/11625/rows.rdf\",\n",
    "    \"datasets/11631/rows.rdf\",\n",
    "    \"datasets/11655/rows.rdf\",\n",
    "    \"datasets/11689/rows.rdf\",\n",
    "    \"datasets/11709/rows.rdf\",\n",
    "    \"datasets/11828/rows.rdf\",\n",
    "    \"datasets/12275/rows.rdf\",\n",
    "    \"datasets/12577/foaf.rdf\",\n",
    "    \"datasets/12720/foaf.rdf\",\n",
    "    \"datasets/12819/index.rdf\",\n",
    "    \"datasets/12935/foaf-momus.rdf\",\n",
    "    \"datasets/12989/aigp-dblp-sameas.rdf\",\n",
    "    \"datasets/13043/foaf.rdf\",\n",
    "    \"datasets/13109/foaf.rdf\",\n",
    "    \"datasets/13152/doap.rdf\",\n",
    "    \"datasets/13357/owl.owl\",\n",
    "    \"datasets/13357/rdf-schema.rdf\",\n",
    "    \"datasets/13357/contact.nt\",\n",
    "    \"datasets/13357/22-rdf-syntax-ns.nt\",\n",
    "    \"datasets/13378/wordsense-entity-noun-1.nt\",\n",
    "    \"datasets/13388/paris.nt\",\n",
    "    \"datasets/13412/owl.owl\",\n",
    "    \"datasets/13412/rdf-schema.rdf\",\n",
    "    \"datasets/13412/contact.nt\",\n",
    "    \"datasets/13412/22-rdf-syntax-ns.nt\",\n",
    "    \"datasets/13469/interpro-ipr000100.nt\",\n",
    "    \"datasets/13577/lemonentriespointingtosinglefile.nt\",\n",
    "    \"datasets/13577/individualspointingtosinglefile.nt\",\n",
    "    \"datasets/13577/lemonentriespointingtobigfile.nt\",\n",
    "    \"datasets/13577/simpleentries.nt\",\n",
    "    \"datasets/13577/simpleontology.nt\",\n",
    "    \"datasets/13577/individualspointingtobigfile.nt\",\n",
    "    \"datasets/13583/gold-2010.owl\",\n",
    "    \"datasets/13759/owl.owl\",\n",
    "    \"datasets/13759/rdf-schema.rdf\",\n",
    "    \"datasets/13759/contact.nt\",\n",
    "    \"datasets/13759/22-rdf-syntax-ns.nt\",\n",
    "    \"datasets/13796/owl.owl\",\n",
    "    \"datasets/13796/rdf-schema.rdf\",\n",
    "    \"datasets/13796/contact.nt\",\n",
    "    \"datasets/13796/22-rdf-syntax-ns.nt\",\n",
    "    \"datasets/14079/mapping-eat-dbpedia.rdf\",\n",
    "    \"datasets/14080/33383.ttl\",\n",
    "    \"datasets/14195/nomisma.ttl\",\n",
    "    \"datasets/14198/data-and-taxonomy.ttl\",\n",
    "    \"datasets/14252/wordsense-entity-noun-1.nt\",\n",
    "    \"datasets/14472/bio2rdf-ndc-sio-mapping.owl\",\n",
    "    \"datasets/14603/owl.owl\",\n",
    "    \"datasets/14603/rdf-schema.rdf\",\n",
    "    \"datasets/14603/contact.nt\",\n",
    "    \"datasets/14603/22-rdf-syntax-ns.nt\",\n",
    "    \"datasets/14806/owl.owl\",\n",
    "    \"datasets/14806/rdf-schema.rdf\",\n",
    "    \"datasets/14806/contact.nt\",\n",
    "    \"datasets/14806/22-rdf-syntax-ns.nt\",\n",
    "    \"datasets/14821/gold-2010.owl\",\n",
    "    \"datasets/14921/lemonentriespointingtosinglefile.nt\",\n",
    "    \"datasets/14921/individualspointingtosinglefile.nt\",\n",
    "    \"datasets/14921/lemonentriespointingtobigfile.nt\",\n",
    "    \"datasets/14921/simpleentries.nt\",\n",
    "    \"datasets/14921/simpleontology.nt\",\n",
    "    \"datasets/14921/individualspointingtobigfile.nt\",\n",
    "    \"datasets/15082/owl.owl\",\n",
    "    \"datasets/15082/rdf-schema.rdf\",\n",
    "    \"datasets/15082/contact.nt\",\n",
    "    \"datasets/15082/22-rdf-syntax-ns.nt\",\n",
    "    \"datasets/15144/void.ttl\",\n",
    "    \"datasets/15150/owl.owl\",\n",
    "    \"datasets/15150/rdf-schema.rdf\",\n",
    "    \"datasets/15150/contact.nt\",\n",
    "    \"datasets/15150/22-rdf-syntax-ns.nt\",\n",
    "    \"datasets/15414/paris.nt\",\n",
    "    \"datasets/15633/applications-by-account.nt\",\n",
    "    \"datasets/15658/ccwater-organogram-30-sept-2011.rdf\",\n",
    "    \"datasets/15803/dfe-20data-20september-202011.rdf\",\n",
    "    \"datasets/15976/ingresos.jsonld\",\n",
    "    \"datasets/15976/gastosfuncionales.jsonld\",\n",
    "    \"datasets/15976/gastos.jsonld\",\n",
    "    \"datasets/15977/ingresos.jsonld\",\n",
    "    \"datasets/15977/gastosfuncionales.jsonld\",\n",
    "    \"datasets/15977/gastos.jsonld\",\n",
    "    \"datasets/15978/ingresos.jsonld\",\n",
    "    \"datasets/15978/gastosfuncionales.jsonld\",\n",
    "    \"datasets/15978/gastos.jsonld\",\n",
    "    \"datasets/16034/ore-rem.ttl\",\n",
    "    \"datasets/16035/ore-rem.ttl\",\n",
    "    \"datasets/16036/ore-rem.ttl\",\n",
    "    \"datasets/16037/ore-rem.ttl\",\n",
    "    \"datasets/16038/ore-rem.ttl\",\n",
    "    \"datasets/16039/ore-rem.ttl\",\n",
    "    \"datasets/16040/ore-rem.ttl\",\n",
    "    \"datasets/16041/ore-rem.ttl\",\n",
    "    \"datasets/16042/ore-rem.ttl\",\n",
    "    \"datasets/16043/ore-rem.ttl\",\n",
    "    \"datasets/16044/ore-rem.ttl\",\n",
    "    \"datasets/16045/ore-rem.ttl\",\n",
    "    \"datasets/16046/ore-rem.ttl\",\n",
    "    \"datasets/16047/ore-rem.ttl\",\n",
    "    \"datasets/16048/ore-rem.ttl\",\n",
    "    \"datasets/16049/ore-rem.ttl\",\n",
    "    \"datasets/16050/ore-rem.ttl\",\n",
    "    \"datasets/16051/ore-rem.ttl\",\n",
    "    \"datasets/16052/ore-rem.ttl\",\n",
    "    \"datasets/16053/ore-rem.ttl\",\n",
    "    \"datasets/16054/ore-rem.ttl\",\n",
    "    \"datasets/16055/ore-rem.ttl\",\n",
    "    \"datasets/16056/ore-rem.ttl\",\n",
    "    \"datasets/16057/ore-rem.ttl\",\n",
    "    \"datasets/16058/ore-rem.ttl\",\n",
    "    \"datasets/16059/ore-rem.ttl\",\n",
    "    \"datasets/16060/ore-rem.ttl\",\n",
    "    \"datasets/16061/ore-rem.ttl\",\n",
    "    \"datasets/16062/ore-rem.ttl\",\n",
    "    \"datasets/16063/ore-rem.ttl\",\n",
    "    \"datasets/16064/ore-rem.ttl\",\n",
    "    \"datasets/16065/ore-rem.ttl\",\n",
    "    \"datasets/16066/ore-rem.ttl\",\n",
    "    \"datasets/16067/ore-rem.ttl\",\n",
    "    \"datasets/16068/ore-rem.ttl\",\n",
    "    \"datasets/16069/ore-rem.ttl\",\n",
    "    \"datasets/16070/ore-rem.ttl\",\n",
    "    \"datasets/16072/ore-rem.ttl\",\n",
    "    \"datasets/16073/ore-rem.ttl\",\n",
    "    \"datasets/16074/ore-rem.ttl\",\n",
    "    \"datasets/16075/ore-rem.ttl\",\n",
    "    \"datasets/16076/ore-rem.ttl\",\n",
    "    \"datasets/16077/ore-rem.ttl\",\n",
    "    \"datasets/17283/rows.rdf\",\n",
    "    \"datasets/17375/rows.rdf\",\n",
    "    \"datasets/17913/rows.rdf\",\n",
    "    \"datasets/17925/rows.rdf\",\n",
    "    \"datasets/19019/rows.rdf\",\n",
    "    \"datasets/21682/mf-portfif-2-th-12.rdf\",\n",
    "    \"datasets/21683/mf-portfif-1-th-12.rdf\",\n",
    "    \"datasets/21685/mf-regis-th-12.rdf\",\n",
    "    \"datasets/24154/tbgy-vw5z.rdf\",\n",
    "    \"datasets/29412/kc9i-wq85.rdf\",\n",
    "    \"datasets/29436/cnfp-tsxc.rdf\",\n",
    "    \"datasets/29783/qizy-d2wf.rdf\",\n",
    "    \"datasets/31118/ukv7-jfmv.rdf\",\n",
    "    \"datasets/31599/54yg-8jz5.rdf\",\n",
    "    \"datasets/38134/2er7-i3zj.rdf\",\n",
    "    \"datasets/39483/adzi-ting.rdf\",\n",
    "    \"datasets/39531/e5vi-a3tx.rdf\",\n",
    "    \"datasets/39552/3ukt-87ju.rdf\",\n",
    "    \"datasets/40758/wrpp-is68.rdf\",\n",
    "    \"datasets/40908/xfij-5ugz.rdf\",\n",
    "    \"datasets/41134/e4mh-a2u3.rdf\",\n",
    "    \"datasets/41151/ty3c-qr7r.rdf\",\n",
    "    \"datasets/43154/3e5s-3q2t.rdf\",\n",
    "    \"datasets/44016/6x9d-idz4.rdf\",\n",
    "    \"datasets/44051/cf7e-dhrb.rdf\",\n",
    "    \"datasets/44088/tzak-8e66.rdf\",\n",
    "    \"datasets/44849/h9vb-3tcy.rdf\",\n",
    "    \"datasets/44859/ng43-255b.rdf\",\n",
    "    \"datasets/44871/ud3j-i2ws.rdf\",\n",
    "    \"datasets/44877/f2q7-6uiv.rdf\",\n",
    "    \"datasets/45524/w4sk-nq57.rdf\",\n",
    "    \"datasets/45526/tvq9-ec9w.rdf\",\n",
    "    \"datasets/45529/hz9m-tj6z.rdf\",\n",
    "    \"datasets/45553/vqqm-nsqg.rdf\",\n",
    "    \"datasets/45604/jhsu-2pka.rdf\",\n",
    "    \"datasets/45627/5aye-4rtt.rdf\",\n",
    "    \"datasets/45806/nen9-84ke.rdf\",\n",
    "    \"datasets/45815/nhy6-gqam.rdf\",\n",
    "    \"datasets/46447/xr9u-qg7n.rdf\",\n",
    "    \"datasets/46542/ajtb-tms2.rdf\",\n",
    "    \"datasets/47505/fjs5-35cn.rdf\",\n",
    "    \"datasets/47562/r6vz-x6jf.rdf\",\n",
    "    \"datasets/51693/gpn8-sbpq.rdf\",\n",
    "    \"datasets/51718/3gkq-ags9.rdf\",\n",
    "    \"datasets/51786/w9kt-3hk8.rdf\",\n",
    "    \"datasets/51895/rpzm-6wvf.rdf\",\n",
    "    \"datasets/51932/rgq9-zjqv.rdf\",\n",
    "    \"datasets/52511/dszh-kvzr.rdf\",\n",
    "    \"datasets/52562/wq8k-pnqg.rdf\",\n",
    "    \"datasets/52591/dscg-f8mh.rdf\",\n",
    "    \"datasets/52690/ncz3-ptfk.rdf\",\n",
    "    \"datasets/52743/nwdp-pxq4.rdf\",\n",
    "    \"datasets/52856/yay2-kfah.rdf\",\n",
    "    \"datasets/54958/hqa9-fu65.rdf\",\n",
    "    \"datasets/54959/26n4-t3i2.rdf\",\n",
    "    \"datasets/54960/bxas-tthn.rdf\",\n",
    "    \"datasets/54961/e5yz-rhka.rdf\",\n",
    "    \"datasets/54962/qqc4-zyw5.rdf\",\n",
    "    \"datasets/54963/ncb4-kvyy.rdf\",\n",
    "    \"datasets/54964/2nt5-t4gz.rdf\",\n",
    "    \"datasets/54965/jm5p-4tih.rdf\",\n",
    "    \"datasets/54966/e46j-f6vr.rdf\",\n",
    "    \"datasets/54967/33c2-vvwz.rdf\",\n",
    "    \"datasets/54968/bcmx-n3c4.rdf\",\n",
    "    \"datasets/54969/xay3-emkq.rdf\",\n",
    "    \"datasets/54970/aa8h-5r4x.rdf\",\n",
    "    \"datasets/54971/bn76-emh9.rdf\",\n",
    "    \"datasets/54972/w5r2-3t5j.rdf\",\n",
    "    \"datasets/63637/mdmf-aswt.rdf\",\n",
    "    \"datasets/63805/giq8-gspk.rdf\",\n",
    "    \"datasets/63944/c34u-vnew.rdf\",\n",
    "    \"datasets/63951/d83j-k75n.rdf\",\n",
    "    \"datasets/63958/szs6-ihk8.rdf\",\n",
    "    \"datasets/64225/bhrt-29rb.rdf\",\n",
    "    \"datasets/65708/myju-bx58.rdf\",\n",
    "    \"datasets/65952/snxs-8atp.rdf\",\n",
    "    \"datasets/66005/2ynm-erms.rdf\",\n",
    "    \"datasets/66165/khtu-ck6k.rdf\",\n",
    "    \"datasets/66467/tb7s-6pqn.rdf\",\n",
    "    \"datasets/68298/2qji-4zqf.rdf\",\n",
    "    \"datasets/68732/vsbg-t3e9.rdf\",\n",
    "    \"datasets/73786/3wtr-89us.rdf\",\n",
    "    \"datasets/75678/j55h-3upk.rdf\",\n",
    "    \"datasets/76281/hv9n-xgy4.rdf\",\n",
    "    \"datasets/77345/8qjh-sbs9.rdf\",\n",
    "    \"datasets/80848/r6sk-x3g9.rdf\",\n",
    "    \"datasets/88131/v9dk-xgzr.rdf\",\n",
    "]"
   ]
  },
  {
   "cell_type": "code",
   "execution_count": 31,
   "metadata": {},
   "outputs": [
    {
     "name": "stdout",
     "output_type": "stream",
     "text": [
      "Deleting datasets/2210/rows.rdf\n",
      "Deleting datasets/2556/rows.rdf\n",
      "Deleting datasets/5364/rows.rdf\n",
      "Deleting datasets/5451/rows.rdf\n",
      "Deleting datasets/6046/rows.rdf\n",
      "Deleting datasets/8112/rows.rdf\n",
      "Deleting datasets/9298/rows.rdf\n",
      "Deleting datasets/9461/rows.rdf\n",
      "Deleting datasets/10144/rows.rdf\n",
      "Deleting datasets/10145/rows.rdf\n",
      "Deleting datasets/10235/rows.rdf\n",
      "Deleting datasets/10251/rows.rdf\n",
      "Deleting datasets/10284/rows.rdf\n",
      "Deleting datasets/10658/rows.rdf\n",
      "Deleting datasets/10703/rows.rdf\n",
      "Deleting datasets/10825/rows.rdf\n",
      "Deleting datasets/10936/rows.rdf\n",
      "Deleting datasets/10959/rows.rdf\n",
      "Deleting datasets/11022/rows.rdf\n",
      "Deleting datasets/11024/rows.rdf\n",
      "Deleting datasets/11035/rows.rdf\n",
      "Deleting datasets/11099/rows.rdf\n",
      "Deleting datasets/11167/rows.rdf\n",
      "Deleting datasets/11191/rows.rdf\n",
      "Deleting datasets/11238/rows.rdf\n",
      "Deleting datasets/11247/rows.rdf\n",
      "Deleting datasets/11263/rows.rdf\n",
      "Deleting datasets/11285/rows.rdf\n",
      "Deleting datasets/11322/rows.rdf\n",
      "Deleting datasets/11360/rows.rdf\n",
      "Deleting datasets/11401/rows.rdf\n",
      "Deleting datasets/11511/rows.rdf\n",
      "Deleting datasets/11611/rows.rdf\n",
      "Deleting datasets/11625/rows.rdf\n",
      "Deleting datasets/11631/rows.rdf\n",
      "Deleting datasets/11655/rows.rdf\n",
      "Deleting datasets/11689/rows.rdf\n",
      "Deleting datasets/11709/rows.rdf\n",
      "Deleting datasets/11828/rows.rdf\n",
      "Deleting datasets/12275/rows.rdf\n",
      "Deleting datasets/12577/foaf.rdf\n",
      "Deleting datasets/12720/foaf.rdf\n",
      "Deleting datasets/12819/index.rdf\n",
      "Deleting datasets/12935/foaf-momus.rdf\n",
      "Deleting datasets/12989/aigp-dblp-sameas.rdf\n",
      "Deleting datasets/13043/foaf.rdf\n",
      "Deleting datasets/13109/foaf.rdf\n",
      "Deleting datasets/13152/doap.rdf\n",
      "Deleting datasets/13357/owl.owl\n",
      "Deleting datasets/13357/rdf-schema.rdf\n",
      "Deleting datasets/13357/contact.nt\n",
      "Deleting datasets/13357/22-rdf-syntax-ns.nt\n",
      "Deleting datasets/13378/wordsense-entity-noun-1.nt\n",
      "Deleting datasets/13388/paris.nt\n",
      "Deleting datasets/13412/owl.owl\n",
      "Deleting datasets/13412/rdf-schema.rdf\n",
      "Deleting datasets/13412/contact.nt\n",
      "Deleting datasets/13412/22-rdf-syntax-ns.nt\n",
      "Deleting datasets/13469/interpro-ipr000100.nt\n",
      "Deleting datasets/13577/lemonentriespointingtosinglefile.nt\n",
      "Deleting datasets/13577/individualspointingtosinglefile.nt\n",
      "Deleting datasets/13577/lemonentriespointingtobigfile.nt\n",
      "Deleting datasets/13577/simpleentries.nt\n",
      "Deleting datasets/13577/simpleontology.nt\n",
      "Deleting datasets/13577/individualspointingtobigfile.nt\n",
      "Deleting datasets/13583/gold-2010.owl\n",
      "Deleting datasets/13759/owl.owl\n",
      "Deleting datasets/13759/rdf-schema.rdf\n",
      "Deleting datasets/13759/contact.nt\n",
      "Deleting datasets/13759/22-rdf-syntax-ns.nt\n",
      "Deleting datasets/13796/owl.owl\n",
      "Deleting datasets/13796/rdf-schema.rdf\n",
      "Deleting datasets/13796/contact.nt\n",
      "Deleting datasets/13796/22-rdf-syntax-ns.nt\n",
      "Deleting datasets/14079/mapping-eat-dbpedia.rdf\n",
      "Deleting datasets/14080/33383.ttl\n",
      "Deleting datasets/14195/nomisma.ttl\n",
      "Deleting datasets/14198/data-and-taxonomy.ttl\n",
      "Deleting datasets/14252/wordsense-entity-noun-1.nt\n",
      "Deleting datasets/14472/bio2rdf-ndc-sio-mapping.owl\n",
      "Deleting datasets/14603/owl.owl\n",
      "Deleting datasets/14603/rdf-schema.rdf\n",
      "Deleting datasets/14603/contact.nt\n",
      "Deleting datasets/14603/22-rdf-syntax-ns.nt\n",
      "Deleting datasets/14806/owl.owl\n",
      "Deleting datasets/14806/rdf-schema.rdf\n",
      "Deleting datasets/14806/contact.nt\n",
      "Deleting datasets/14806/22-rdf-syntax-ns.nt\n",
      "Deleting datasets/14821/gold-2010.owl\n",
      "Deleting datasets/14921/lemonentriespointingtosinglefile.nt\n",
      "Deleting datasets/14921/individualspointingtosinglefile.nt\n",
      "Deleting datasets/14921/lemonentriespointingtobigfile.nt\n",
      "Deleting datasets/14921/simpleentries.nt\n",
      "Deleting datasets/14921/simpleontology.nt\n",
      "Deleting datasets/14921/individualspointingtobigfile.nt\n",
      "Deleting datasets/15082/owl.owl\n",
      "Deleting datasets/15082/rdf-schema.rdf\n",
      "Deleting datasets/15082/contact.nt\n",
      "Deleting datasets/15082/22-rdf-syntax-ns.nt\n",
      "Deleting datasets/15144/void.ttl\n",
      "Deleting datasets/15150/owl.owl\n",
      "Deleting datasets/15150/rdf-schema.rdf\n",
      "Deleting datasets/15150/contact.nt\n",
      "Deleting datasets/15150/22-rdf-syntax-ns.nt\n",
      "Deleting datasets/15414/paris.nt\n",
      "Deleting datasets/15633/applications-by-account.nt\n",
      "Deleting datasets/15658/ccwater-organogram-30-sept-2011.rdf\n",
      "Deleting datasets/15803/dfe-20data-20september-202011.rdf\n",
      "Deleting datasets/15976/ingresos.jsonld\n",
      "Deleting datasets/15976/gastosfuncionales.jsonld\n",
      "Deleting datasets/15976/gastos.jsonld\n",
      "Deleting datasets/15977/ingresos.jsonld\n",
      "Deleting datasets/15977/gastosfuncionales.jsonld\n",
      "Deleting datasets/15977/gastos.jsonld\n",
      "Deleting datasets/15978/ingresos.jsonld\n",
      "Deleting datasets/15978/gastosfuncionales.jsonld\n",
      "Deleting datasets/15978/gastos.jsonld\n",
      "Deleting datasets/16034/ore-rem.ttl\n",
      "Deleting datasets/16035/ore-rem.ttl\n",
      "Deleting datasets/16036/ore-rem.ttl\n",
      "Deleting datasets/16037/ore-rem.ttl\n",
      "Deleting datasets/16038/ore-rem.ttl\n",
      "Deleting datasets/16039/ore-rem.ttl\n",
      "Deleting datasets/16040/ore-rem.ttl\n",
      "Deleting datasets/16041/ore-rem.ttl\n",
      "Deleting datasets/16042/ore-rem.ttl\n",
      "Deleting datasets/16043/ore-rem.ttl\n",
      "Deleting datasets/16044/ore-rem.ttl\n",
      "Deleting datasets/16045/ore-rem.ttl\n",
      "Deleting datasets/16046/ore-rem.ttl\n",
      "Deleting datasets/16047/ore-rem.ttl\n",
      "Deleting datasets/16048/ore-rem.ttl\n",
      "Deleting datasets/16049/ore-rem.ttl\n",
      "Deleting datasets/16050/ore-rem.ttl\n",
      "Deleting datasets/16051/ore-rem.ttl\n",
      "Deleting datasets/16052/ore-rem.ttl\n",
      "Deleting datasets/16053/ore-rem.ttl\n",
      "Deleting datasets/16054/ore-rem.ttl\n",
      "Deleting datasets/16055/ore-rem.ttl\n",
      "Deleting datasets/16056/ore-rem.ttl\n",
      "Deleting datasets/16057/ore-rem.ttl\n",
      "Deleting datasets/16058/ore-rem.ttl\n",
      "Deleting datasets/16059/ore-rem.ttl\n",
      "Deleting datasets/16060/ore-rem.ttl\n",
      "Deleting datasets/16061/ore-rem.ttl\n",
      "Deleting datasets/16062/ore-rem.ttl\n",
      "Deleting datasets/16063/ore-rem.ttl\n",
      "Deleting datasets/16064/ore-rem.ttl\n",
      "Deleting datasets/16065/ore-rem.ttl\n",
      "Deleting datasets/16066/ore-rem.ttl\n",
      "Deleting datasets/16067/ore-rem.ttl\n",
      "Deleting datasets/16068/ore-rem.ttl\n",
      "Deleting datasets/16069/ore-rem.ttl\n",
      "Deleting datasets/16070/ore-rem.ttl\n",
      "Deleting datasets/16072/ore-rem.ttl\n",
      "Deleting datasets/16073/ore-rem.ttl\n",
      "Deleting datasets/16074/ore-rem.ttl\n",
      "Deleting datasets/16075/ore-rem.ttl\n",
      "Deleting datasets/16076/ore-rem.ttl\n",
      "Deleting datasets/16077/ore-rem.ttl\n",
      "Deleting datasets/17283/rows.rdf\n",
      "Deleting datasets/17375/rows.rdf\n",
      "Deleting datasets/17913/rows.rdf\n",
      "Deleting datasets/17925/rows.rdf\n",
      "Deleting datasets/19019/rows.rdf\n",
      "Deleting datasets/21682/mf-portfif-2-th-12.rdf\n",
      "Deleting datasets/21683/mf-portfif-1-th-12.rdf\n",
      "Deleting datasets/21685/mf-regis-th-12.rdf\n",
      "Deleting datasets/24154/tbgy-vw5z.rdf\n",
      "Deleting datasets/29412/kc9i-wq85.rdf\n",
      "Deleting datasets/29436/cnfp-tsxc.rdf\n",
      "Deleting datasets/29783/qizy-d2wf.rdf\n",
      "Deleting datasets/31118/ukv7-jfmv.rdf\n",
      "Deleting datasets/31599/54yg-8jz5.rdf\n",
      "Deleting datasets/38134/2er7-i3zj.rdf\n",
      "Deleting datasets/39483/adzi-ting.rdf\n",
      "Deleting datasets/39531/e5vi-a3tx.rdf\n",
      "Deleting datasets/39552/3ukt-87ju.rdf\n",
      "Deleting datasets/40758/wrpp-is68.rdf\n",
      "Deleting datasets/40908/xfij-5ugz.rdf\n",
      "Deleting datasets/41134/e4mh-a2u3.rdf\n",
      "Deleting datasets/41151/ty3c-qr7r.rdf\n",
      "Deleting datasets/43154/3e5s-3q2t.rdf\n",
      "Deleting datasets/44016/6x9d-idz4.rdf\n",
      "Deleting datasets/44051/cf7e-dhrb.rdf\n",
      "Deleting datasets/44088/tzak-8e66.rdf\n",
      "Deleting datasets/44849/h9vb-3tcy.rdf\n",
      "Deleting datasets/44859/ng43-255b.rdf\n",
      "Deleting datasets/44871/ud3j-i2ws.rdf\n",
      "Deleting datasets/44877/f2q7-6uiv.rdf\n",
      "Deleting datasets/45524/w4sk-nq57.rdf\n",
      "Deleting datasets/45526/tvq9-ec9w.rdf\n",
      "Deleting datasets/45529/hz9m-tj6z.rdf\n",
      "Deleting datasets/45553/vqqm-nsqg.rdf\n",
      "Deleting datasets/45604/jhsu-2pka.rdf\n",
      "Deleting datasets/45627/5aye-4rtt.rdf\n",
      "Deleting datasets/45806/nen9-84ke.rdf\n",
      "Deleting datasets/45815/nhy6-gqam.rdf\n",
      "Deleting datasets/46447/xr9u-qg7n.rdf\n",
      "Deleting datasets/46542/ajtb-tms2.rdf\n",
      "Deleting datasets/47505/fjs5-35cn.rdf\n",
      "Deleting datasets/47562/r6vz-x6jf.rdf\n",
      "Deleting datasets/51693/gpn8-sbpq.rdf\n",
      "Deleting datasets/51718/3gkq-ags9.rdf\n",
      "Deleting datasets/51786/w9kt-3hk8.rdf\n",
      "Deleting datasets/51895/rpzm-6wvf.rdf\n",
      "Deleting datasets/51932/rgq9-zjqv.rdf\n",
      "Deleting datasets/52511/dszh-kvzr.rdf\n",
      "Deleting datasets/52562/wq8k-pnqg.rdf\n",
      "Deleting datasets/52591/dscg-f8mh.rdf\n",
      "Deleting datasets/52690/ncz3-ptfk.rdf\n",
      "Deleting datasets/52743/nwdp-pxq4.rdf\n",
      "Deleting datasets/52856/yay2-kfah.rdf\n",
      "Deleting datasets/54958/hqa9-fu65.rdf\n",
      "Deleting datasets/54959/26n4-t3i2.rdf\n",
      "Deleting datasets/54960/bxas-tthn.rdf\n",
      "Deleting datasets/54961/e5yz-rhka.rdf\n",
      "Deleting datasets/54962/qqc4-zyw5.rdf\n",
      "Deleting datasets/54963/ncb4-kvyy.rdf\n",
      "Deleting datasets/54964/2nt5-t4gz.rdf\n",
      "Deleting datasets/54965/jm5p-4tih.rdf\n",
      "Deleting datasets/54966/e46j-f6vr.rdf\n",
      "Deleting datasets/54967/33c2-vvwz.rdf\n",
      "Deleting datasets/54968/bcmx-n3c4.rdf\n",
      "Deleting datasets/54969/xay3-emkq.rdf\n",
      "Deleting datasets/54970/aa8h-5r4x.rdf\n",
      "Deleting datasets/54971/bn76-emh9.rdf\n",
      "Deleting datasets/54972/w5r2-3t5j.rdf\n",
      "Deleting datasets/63637/mdmf-aswt.rdf\n",
      "Deleting datasets/63805/giq8-gspk.rdf\n",
      "Deleting datasets/63944/c34u-vnew.rdf\n",
      "Deleting datasets/63951/d83j-k75n.rdf\n",
      "Deleting datasets/63958/szs6-ihk8.rdf\n",
      "Deleting datasets/64225/bhrt-29rb.rdf\n",
      "Deleting datasets/65708/myju-bx58.rdf\n",
      "Deleting datasets/65952/snxs-8atp.rdf\n",
      "Deleting datasets/66005/2ynm-erms.rdf\n",
      "Deleting datasets/66165/khtu-ck6k.rdf\n",
      "Deleting datasets/66467/tb7s-6pqn.rdf\n",
      "Deleting datasets/68298/2qji-4zqf.rdf\n",
      "Deleting datasets/68732/vsbg-t3e9.rdf\n",
      "Deleting datasets/73786/3wtr-89us.rdf\n",
      "Deleting datasets/75678/j55h-3upk.rdf\n",
      "Deleting datasets/76281/hv9n-xgy4.rdf\n",
      "Deleting datasets/77345/8qjh-sbs9.rdf\n",
      "Deleting datasets/80848/r6sk-x3g9.rdf\n",
      "Deleting datasets/88131/v9dk-xgzr.rdf\n"
     ]
    }
   ],
   "source": [
    "for f in rdf_unparsable:\n",
    "    delete_file(f)"
   ]
  },
  {
   "attachments": {},
   "cell_type": "markdown",
   "metadata": {},
   "source": [
    "## Analysis of unused - NON RDF files"
   ]
  },
  {
   "attachments": {},
   "cell_type": "markdown",
   "metadata": {},
   "source": [
    "### Files recognized as archives"
   ]
  },
  {
   "cell_type": "code",
   "execution_count": 32,
   "metadata": {},
   "outputs": [],
   "source": [
    "import magic\n",
    "import zipfile\n",
    "import tarfile\n",
    "\n",
    "def is_gz_file(filepath):\n",
    "    with open(filepath, \"rb\") as f:\n",
    "        return f.read(2) == b\"\\x1f\\x8b\"\n",
    "\n",
    "\n",
    "def is_bz2_file(filepath):\n",
    "    with open(filepath, \"rb\") as f:\n",
    "        return f.read(3) == b\"\\x42\\x5a\\x68\""
   ]
  },
  {
   "cell_type": "code",
   "execution_count": 33,
   "metadata": {},
   "outputs": [],
   "source": [
    "# Files that have been recognized as archives\n",
    "archives = [\n",
    "    \"datasets/13263/govwild-rdf-2012-01-30.zip\",\n",
    "    \"datasets/13283/txn-ocs.ttl.gz\",\n",
    "    \"datasets/13283/txn-distribution.ttl.gz\",\n",
    "    \"datasets/13283/txn-images.ttl.gz\",\n",
    "    \"datasets/13283/txn-misc.ttl.gz\",\n",
    "    \"datasets/13347/geospecies.rdf.gz\",\n",
    "    \"datasets/13368/all-geonames-rdf.zip\",\n",
    "    \"datasets/13369/dbpedia-3.6.owl.bz2\",\n",
    "    \"datasets/13378/wn20full.zip\",\n",
    "    \"datasets/13388/dbpedia-3.6.owl.bz2\",\n",
    "    \"datasets/13461/dbpedia-3.5.1.owl.bz2\",\n",
    "    \"datasets/13461/all-languages.tar\",\n",
    "    \"datasets/13822/lsoa.ttl.zip\",\n",
    "    \"datasets/13997/persee-person-align-rdf.tar.gz\",\n",
    "    \"datasets/14079/eat.nt.gz\",\n",
    "    \"datasets/14252/wn20full.zip\",\n",
    "    \"datasets/14277/txn-ocs.ttl.gz\",\n",
    "    \"datasets/14277/txn-distribution.ttl.gz\",\n",
    "    \"datasets/14277/txn-images.ttl.gz\",\n",
    "    \"datasets/14277/txn-misc.ttl.gz\",\n",
    "    \"datasets/14324/geospecies.rdf.gz\",\n",
    "    \"datasets/14336/dbpedia-3.6.owl.bz2\",\n",
    "    \"datasets/14344/all-geonames-rdf.zip\",\n",
    "    \"datasets/14364/govwild-rdf-2012-01-30.zip\",\n",
    "    \"datasets/14801/usage.nt.gz\",\n",
    "    \"datasets/15282/lsoa.ttl.zip\",\n",
    "    \"datasets/15414/dbpedia-3.6.owl.bz2\",\n",
    "    \"datasets/21532/jrcnames-uri.zip\",\n",
    "]"
   ]
  },
  {
   "cell_type": "code",
   "execution_count": 34,
   "metadata": {},
   "outputs": [
    {
     "name": "stdout",
     "output_type": "stream",
     "text": [
      "TAR: 2\n",
      "ZIP: 9\n",
      "TAR GZ: 12\n",
      "BZ2: 5\n"
     ]
    }
   ],
   "source": [
    "tar = list()\n",
    "zip = list()\n",
    "tar_gz = list()\n",
    "bz2 = list()\n",
    "\n",
    "for file in archives:\n",
    "    if tarfile.is_tarfile(file):\n",
    "        tar.append(file)\n",
    "    elif zipfile.is_zipfile(file):\n",
    "        zip.append(file)\n",
    "    elif is_gz_file(file):\n",
    "        tar_gz.append(file)\n",
    "    elif is_bz2_file(file):\n",
    "        bz2.append(file)\n",
    "\n",
    "assert len(archives) == len(tar) + len(zip) + len(tar_gz) + len(bz2)\n",
    "\n",
    "print(f\"TAR: {len(tar)}\")\n",
    "print(f\"ZIP: {len(zip)}\")\n",
    "print(f\"TAR GZ: {len(tar_gz)}\")\n",
    "print(f\"BZ2: {len(bz2)}\")\n"
   ]
  },
  {
   "attachments": {},
   "cell_type": "markdown",
   "metadata": {},
   "source": [
    "#### TAR"
   ]
  },
  {
   "cell_type": "code",
   "execution_count": 35,
   "metadata": {},
   "outputs": [
    {
     "name": "stdout",
     "output_type": "stream",
     "text": [
      "datasets/13461/all-languages.tar\n",
      "datasets/13997/persee-person-align-rdf.tar.gz\n"
     ]
    }
   ],
   "source": [
    "for a in tar:\n",
    "    print(a)"
   ]
  },
  {
   "cell_type": "code",
   "execution_count": 36,
   "metadata": {},
   "outputs": [],
   "source": [
    "%%bash\n",
    "cd datasets/13461\n",
    "tar -xf all-languages.tar"
   ]
  },
  {
   "cell_type": "code",
   "execution_count": 37,
   "metadata": {},
   "outputs": [
    {
     "name": "stdout",
     "output_type": "stream",
     "text": [
      "17G\ttest\n",
      "\u001b[01;34mtest\u001b[00m\n",
      "├── \u001b[01;34maf\u001b[00m\n",
      "│   ├── \u001b[01;32mgeo_coordinates_af.nq.bz2\u001b[00m\n",
      "│   ├── \u001b[01;32mgeo_coordinates_af.nt.bz2\u001b[00m\n",
      "│   ├── \u001b[01;32minfobox_properties_af.nq.bz2\u001b[00m\n",
      "│   ├── \u001b[01;32minfobox_properties_af.nt.bz2\u001b[00m\n",
      "│   ├── \u001b[01;32minfobox_property_definitions_af.nq.bz2\u001b[00m\n",
      "│   ├── \u001b[01;32minfobox_property_definitions_af.nt.bz2\u001b[00m\n",
      "│   ├── \u001b[01;32mlabels_af.nq.bz2\u001b[00m\n",
      "│   ├── \u001b[01;32mlabels_af.nt.bz2\u001b[00m\n",
      "│   ├── \u001b[01;32mlong_abstracts_af.nq.bz2\u001b[00m\n",
      "│   ├── \u001b[01;32mlong_abstracts_af.nt.bz2\u001b[00m\n",
      "│   ├── \u001b[01;32mpage_links_af.nq.bz2\u001b[00m\n",
      "│   ├── \u001b[01;32mpage_links_af.nt.bz2\u001b[00m\n",
      "│   ├── \u001b[01;32mshort_abstracts_af.nq.bz2\u001b[00m\n",
      "│   ├── \u001b[01;32mshort_abstracts_af.nt.bz2\u001b[00m\n",
      "│   ├── \u001b[01;32mwikipedia_links_af.nq.bz2\u001b[00m\n",
      "│   └── \u001b[01;32mwikipedia_links_af.nt.bz2\u001b[00m\n",
      "├── \u001b[01;34man\u001b[00m\n",
      "│   ├── \u001b[01;32mgeo_coordinates_an.nq.bz2\u001b[00m\n",
      "│   ├── \u001b[01;32mgeo_coordinates_an.nt.bz2\u001b[00m\n",
      "│   ├── \u001b[01;32minfobox_properties_an.nq.bz2\u001b[00m\n",
      "│   ├── \u001b[01;32minfobox_properties_an.nt.bz2\u001b[00m\n",
      "│   ├── \u001b[01;32minfobox_property_definitions_an.nq.bz2\u001b[00m\n",
      "│   ├── \u001b[01;32minfobox_property_definitions_an.nt.bz2\u001b[00m\n",
      "│   ├── \u001b[01;32mlabels_an.nq.bz2\u001b[00m\n",
      "│   ├── \u001b[01;32mlabels_an.nt.bz2\u001b[00m\n",
      "│   ├── \u001b[01;32mlong_abstracts_an.nq.bz2\u001b[00m\n",
      "│   ├── \u001b[01;32mlong_abstracts_an.nt.bz2\u001b[00m\n",
      "│   ├── \u001b[01;32mpage_links_an.nq.bz2\u001b[00m\n",
      "│   ├── \u001b[01;32mpage_links_an.nt.bz2\u001b[00m\n",
      "│   ├── \u001b[01;32mshort_abstracts_an.nq.bz2\u001b[00m\n",
      "│   ├── \u001b[01;32mshort_abstracts_an.nt.bz2\u001b[00m\n",
      "│   ├── \u001b[01;32mwikipedia_links_an.nq.bz2\u001b[00m\n",
      "│   └── \u001b[01;32mwikipedia_links_an.nt.bz2\u001b[00m\n",
      "├── \u001b[01;34mar\u001b[00m\n",
      "│   ├── \u001b[01;32mgeo_coordinates_ar.nq.bz2\u001b[00m\n",
      "│   ├── \u001b[01;32mgeo_coordinates_ar.nt.bz2\u001b[00m\n",
      "│   ├── \u001b[01;32minfobox_properties_ar.nq.bz2\u001b[00m\n",
      "│   ├── \u001b[01;32minfobox_properties_ar.nt.bz2\u001b[00m\n",
      "│   ├── \u001b[01;32minfobox_property_definitions_ar.nq.bz2\u001b[00m\n",
      "│   ├── \u001b[01;32minfobox_property_definitions_ar.nt.bz2\u001b[00m\n",
      "│   ├── \u001b[01;32mlabels_ar.nq.bz2\u001b[00m\n",
      "│   ├── \u001b[01;32mlabels_ar.nt.bz2\u001b[00m\n",
      "│   ├── \u001b[01;32mlong_abstracts_ar.nq.bz2\u001b[00m\n",
      "│   ├── \u001b[01;32mlong_abstracts_ar.nt.bz2\u001b[00m\n",
      "│   ├── \u001b[01;32mpage_links_ar.nq.bz2\u001b[00m\n",
      "│   ├── \u001b[01;32mpage_links_ar.nt.bz2\u001b[00m\n",
      "│   ├── \u001b[01;32mshort_abstracts_ar.nq.bz2\u001b[00m\n",
      "│   ├── \u001b[01;32mshort_abstracts_ar.nt.bz2\u001b[00m\n",
      "│   ├── \u001b[01;32mwikipedia_links_ar.nq.bz2\u001b[00m\n",
      "│   └── \u001b[01;32mwikipedia_links_ar.nt.bz2\u001b[00m\n",
      "├── \u001b[01;34mast\u001b[00m\n",
      "│   ├── \u001b[01;32mgeo_coordinates_ast.nq.bz2\u001b[00m\n",
      "│   ├── \u001b[01;32mgeo_coordinates_ast.nt.bz2\u001b[00m\n",
      "│   ├── \u001b[01;32minfobox_properties_ast.nq.bz2\u001b[00m\n",
      "│   ├── \u001b[01;32minfobox_properties_ast.nt.bz2\u001b[00m\n",
      "│   ├── \u001b[01;32minfobox_property_definitions_ast.nq.bz2\u001b[00m\n",
      "│   ├── \u001b[01;32minfobox_property_definitions_ast.nt.bz2\u001b[00m\n",
      "│   ├── \u001b[01;32mlabels_ast.nq.bz2\u001b[00m\n",
      "│   ├── \u001b[01;32mlabels_ast.nt.bz2\u001b[00m\n",
      "│   ├── \u001b[01;32mlong_abstracts_ast.nq.bz2\u001b[00m\n",
      "│   ├── \u001b[01;32mlong_abstracts_ast.nt.bz2\u001b[00m\n",
      "│   ├── \u001b[01;32mpage_links_ast.nq.bz2\u001b[00m\n",
      "│   ├── \u001b[01;32mpage_links_ast.nt.bz2\u001b[00m\n",
      "│   ├── \u001b[01;32mshort_abstracts_ast.nq.bz2\u001b[00m\n",
      "│   ├── \u001b[01;32mshort_abstracts_ast.nt.bz2\u001b[00m\n",
      "│   ├── \u001b[01;32mwikipedia_links_ast.nq.bz2\u001b[00m\n",
      "│   └── \u001b[01;32mwikipedia_links_ast.nt.bz2\u001b[00m\n",
      "├── \u001b[01;34maz\u001b[00m\n",
      "│   ├── \u001b[01;32mgeo_coordinates_az.nq.bz2\u001b[00m\n",
      "│   ├── \u001b[01;32mgeo_coordinates_az.nt.bz2\u001b[00m\n",
      "│   ├── \u001b[01;32minfobox_properties_az.nq.bz2\u001b[00m\n",
      "│   ├── \u001b[01;32minfobox_properties_az.nt.bz2\u001b[00m\n",
      "│   ├── \u001b[01;32minfobox_property_definitions_az.nq.bz2\u001b[00m\n",
      "│   ├── \u001b[01;32minfobox_property_definitions_az.nt.bz2\u001b[00m\n",
      "│   ├── \u001b[01;32mlabels_az.nq.bz2\u001b[00m\n",
      "│   ├── \u001b[01;32mlabels_az.nt.bz2\u001b[00m\n",
      "│   ├── \u001b[01;32mlong_abstracts_az.nq.bz2\u001b[00m\n",
      "│   ├── \u001b[01;32mlong_abstracts_az.nt.bz2\u001b[00m\n",
      "│   ├── \u001b[01;32mpage_links_az.nq.bz2\u001b[00m\n",
      "│   ├── \u001b[01;32mpage_links_az.nt.bz2\u001b[00m\n",
      "│   ├── \u001b[01;32mshort_abstracts_az.nq.bz2\u001b[00m\n",
      "│   ├── \u001b[01;32mshort_abstracts_az.nt.bz2\u001b[00m\n",
      "│   ├── \u001b[01;32mwikipedia_links_az.nq.bz2\u001b[00m\n",
      "│   └── \u001b[01;32mwikipedia_links_az.nt.bz2\u001b[00m\n",
      "├── \u001b[01;34mbat_smg\u001b[00m\n",
      "│   ├── \u001b[01;32mgeo_coordinates_bat_smg.nq.bz2\u001b[00m\n",
      "│   ├── \u001b[01;32mgeo_coordinates_bat_smg.nt.bz2\u001b[00m\n",
      "│   ├── \u001b[01;32minfobox_properties_bat_smg.nq.bz2\u001b[00m\n",
      "│   ├── \u001b[01;32minfobox_properties_bat_smg.nt.bz2\u001b[00m\n",
      "│   ├── \u001b[01;32minfobox_property_definitions_bat_smg.nq.bz2\u001b[00m\n",
      "│   ├── \u001b[01;32minfobox_property_definitions_bat_smg.nt.bz2\u001b[00m\n",
      "│   ├── \u001b[01;32mlabels_bat_smg.nq.bz2\u001b[00m\n",
      "│   ├── \u001b[01;32mlabels_bat_smg.nt.bz2\u001b[00m\n",
      "│   ├── \u001b[01;32mlong_abstracts_bat_smg.nq.bz2\u001b[00m\n",
      "│   ├── \u001b[01;32mlong_abstracts_bat_smg.nt.bz2\u001b[00m\n",
      "│   ├── \u001b[01;32mpage_links_bat_smg.nq.bz2\u001b[00m\n",
      "│   ├── \u001b[01;32mpage_links_bat_smg.nt.bz2\u001b[00m\n",
      "│   ├── \u001b[01;32mshort_abstracts_bat_smg.nq.bz2\u001b[00m\n",
      "│   ├── \u001b[01;32mshort_abstracts_bat_smg.nt.bz2\u001b[00m\n",
      "│   ├── \u001b[01;32mwikipedia_links_bat_smg.nq.bz2\u001b[00m\n",
      "│   └── \u001b[01;32mwikipedia_links_bat_smg.nt.bz2\u001b[00m\n",
      "├── \u001b[01;34mbe\u001b[00m\n",
      "│   ├── \u001b[01;32mgeo_coordinates_be.nq.bz2\u001b[00m\n",
      "│   ├── \u001b[01;32mgeo_coordinates_be.nt.bz2\u001b[00m\n",
      "│   ├── \u001b[01;32minfobox_properties_be.nq.bz2\u001b[00m\n",
      "│   ├── \u001b[01;32minfobox_properties_be.nt.bz2\u001b[00m\n",
      "│   ├── \u001b[01;32minfobox_property_definitions_be.nq.bz2\u001b[00m\n",
      "│   ├── \u001b[01;32minfobox_property_definitions_be.nt.bz2\u001b[00m\n",
      "│   ├── \u001b[01;32mlabels_be.nq.bz2\u001b[00m\n",
      "│   ├── \u001b[01;32mlabels_be.nt.bz2\u001b[00m\n",
      "│   ├── \u001b[01;32mlong_abstracts_be.nq.bz2\u001b[00m\n",
      "│   ├── \u001b[01;32mlong_abstracts_be.nt.bz2\u001b[00m\n",
      "│   ├── \u001b[01;32mpage_links_be.nq.bz2\u001b[00m\n",
      "│   ├── \u001b[01;32mpage_links_be.nt.bz2\u001b[00m\n",
      "│   ├── \u001b[01;32mshort_abstracts_be.nq.bz2\u001b[00m\n",
      "│   ├── \u001b[01;32mshort_abstracts_be.nt.bz2\u001b[00m\n",
      "│   ├── \u001b[01;32mwikipedia_links_be.nq.bz2\u001b[00m\n",
      "│   └── \u001b[01;32mwikipedia_links_be.nt.bz2\u001b[00m\n",
      "├── \u001b[01;34mbe_x_old\u001b[00m\n",
      "│   ├── \u001b[01;32mgeo_coordinates_be_x_old.nq.bz2\u001b[00m\n",
      "│   ├── \u001b[01;32mgeo_coordinates_be_x_old.nt.bz2\u001b[00m\n",
      "│   ├── \u001b[01;32minfobox_properties_be_x_old.nq.bz2\u001b[00m\n",
      "│   ├── \u001b[01;32minfobox_properties_be_x_old.nt.bz2\u001b[00m\n",
      "│   ├── \u001b[01;32minfobox_property_definitions_be_x_old.nq.bz2\u001b[00m\n",
      "│   ├── \u001b[01;32minfobox_property_definitions_be_x_old.nt.bz2\u001b[00m\n",
      "│   ├── \u001b[01;32mlabels_be_x_old.nq.bz2\u001b[00m\n",
      "│   ├── \u001b[01;32mlabels_be_x_old.nt.bz2\u001b[00m\n",
      "│   ├── \u001b[01;32mlong_abstracts_be_x_old.nq.bz2\u001b[00m\n",
      "│   ├── \u001b[01;32mlong_abstracts_be_x_old.nt.bz2\u001b[00m\n",
      "│   ├── \u001b[01;32mpage_links_be_x_old.nq.bz2\u001b[00m\n",
      "│   ├── \u001b[01;32mpage_links_be_x_old.nt.bz2\u001b[00m\n",
      "│   ├── \u001b[01;32mshort_abstracts_be_x_old.nq.bz2\u001b[00m\n",
      "│   ├── \u001b[01;32mshort_abstracts_be_x_old.nt.bz2\u001b[00m\n",
      "│   ├── \u001b[01;32mwikipedia_links_be_x_old.nq.bz2\u001b[00m\n",
      "│   └── \u001b[01;32mwikipedia_links_be_x_old.nt.bz2\u001b[00m\n",
      "├── \u001b[01;34mbg\u001b[00m\n",
      "│   ├── \u001b[01;32mgeo_coordinates_bg.nq.bz2\u001b[00m\n",
      "│   ├── \u001b[01;32mgeo_coordinates_bg.nt.bz2\u001b[00m\n",
      "│   ├── \u001b[01;32minfobox_properties_bg.nq.bz2\u001b[00m\n",
      "│   ├── \u001b[01;32minfobox_properties_bg.nt.bz2\u001b[00m\n",
      "│   ├── \u001b[01;32minfobox_property_definitions_bg.nq.bz2\u001b[00m\n",
      "│   ├── \u001b[01;32minfobox_property_definitions_bg.nt.bz2\u001b[00m\n",
      "│   ├── \u001b[01;32mlabels_bg.nq.bz2\u001b[00m\n",
      "│   ├── \u001b[01;32mlabels_bg.nt.bz2\u001b[00m\n",
      "│   ├── \u001b[01;32mlong_abstracts_bg.nq.bz2\u001b[00m\n",
      "│   ├── \u001b[01;32mlong_abstracts_bg.nt.bz2\u001b[00m\n",
      "│   ├── \u001b[01;32mpage_links_bg.nq.bz2\u001b[00m\n",
      "│   ├── \u001b[01;32mpage_links_bg.nt.bz2\u001b[00m\n",
      "│   ├── \u001b[01;32mshort_abstracts_bg.nq.bz2\u001b[00m\n",
      "│   ├── \u001b[01;32mshort_abstracts_bg.nt.bz2\u001b[00m\n",
      "│   ├── \u001b[01;32mwikipedia_links_bg.nq.bz2\u001b[00m\n",
      "│   └── \u001b[01;32mwikipedia_links_bg.nt.bz2\u001b[00m\n",
      "├── \u001b[01;34mbn\u001b[00m\n",
      "│   ├── \u001b[01;32mgeo_coordinates_bn.nq.bz2\u001b[00m\n",
      "│   ├── \u001b[01;32mgeo_coordinates_bn.nt.bz2\u001b[00m\n",
      "│   ├── \u001b[01;32minfobox_properties_bn.nq.bz2\u001b[00m\n",
      "│   ├── \u001b[01;32minfobox_properties_bn.nt.bz2\u001b[00m\n",
      "│   ├── \u001b[01;32minfobox_property_definitions_bn.nq.bz2\u001b[00m\n",
      "│   ├── \u001b[01;32minfobox_property_definitions_bn.nt.bz2\u001b[00m\n",
      "│   ├── \u001b[01;32mlabels_bn.nq.bz2\u001b[00m\n",
      "│   ├── \u001b[01;32mlabels_bn.nt.bz2\u001b[00m\n",
      "│   ├── \u001b[01;32mlong_abstracts_bn.nq.bz2\u001b[00m\n",
      "│   ├── \u001b[01;32mlong_abstracts_bn.nt.bz2\u001b[00m\n",
      "│   ├── \u001b[01;32mpage_links_bn.nq.bz2\u001b[00m\n",
      "│   ├── \u001b[01;32mpage_links_bn.nt.bz2\u001b[00m\n",
      "│   ├── \u001b[01;32mshort_abstracts_bn.nq.bz2\u001b[00m\n",
      "│   ├── \u001b[01;32mshort_abstracts_bn.nt.bz2\u001b[00m\n",
      "│   ├── \u001b[01;32mwikipedia_links_bn.nq.bz2\u001b[00m\n",
      "│   └── \u001b[01;32mwikipedia_links_bn.nt.bz2\u001b[00m\n",
      "├── \u001b[01;34mbpy\u001b[00m\n",
      "│   ├── \u001b[01;32mgeo_coordinates_bpy.nq.bz2\u001b[00m\n",
      "│   ├── \u001b[01;32mgeo_coordinates_bpy.nt.bz2\u001b[00m\n",
      "│   ├── \u001b[01;32minfobox_properties_bpy.nq.bz2\u001b[00m\n",
      "│   ├── \u001b[01;32minfobox_properties_bpy.nt.bz2\u001b[00m\n",
      "│   ├── \u001b[01;32minfobox_property_definitions_bpy.nq.bz2\u001b[00m\n",
      "│   ├── \u001b[01;32minfobox_property_definitions_bpy.nt.bz2\u001b[00m\n",
      "│   ├── \u001b[01;32mlabels_bpy.nq.bz2\u001b[00m\n",
      "│   ├── \u001b[01;32mlabels_bpy.nt.bz2\u001b[00m\n",
      "│   ├── \u001b[01;32mlong_abstracts_bpy.nq.bz2\u001b[00m\n",
      "│   ├── \u001b[01;32mlong_abstracts_bpy.nt.bz2\u001b[00m\n",
      "│   ├── \u001b[01;32mpage_links_bpy.nq.bz2\u001b[00m\n",
      "│   ├── \u001b[01;32mpage_links_bpy.nt.bz2\u001b[00m\n",
      "│   ├── \u001b[01;32mshort_abstracts_bpy.nq.bz2\u001b[00m\n",
      "│   ├── \u001b[01;32mshort_abstracts_bpy.nt.bz2\u001b[00m\n",
      "│   ├── \u001b[01;32mwikipedia_links_bpy.nq.bz2\u001b[00m\n",
      "│   └── \u001b[01;32mwikipedia_links_bpy.nt.bz2\u001b[00m\n",
      "├── \u001b[01;34mbr\u001b[00m\n",
      "│   ├── \u001b[01;32mgeo_coordinates_br.nq.bz2\u001b[00m\n",
      "│   ├── \u001b[01;32mgeo_coordinates_br.nt.bz2\u001b[00m\n",
      "│   ├── \u001b[01;32minfobox_properties_br.nq.bz2\u001b[00m\n",
      "│   ├── \u001b[01;32minfobox_properties_br.nt.bz2\u001b[00m\n",
      "│   ├── \u001b[01;32minfobox_property_definitions_br.nq.bz2\u001b[00m\n",
      "│   ├── \u001b[01;32minfobox_property_definitions_br.nt.bz2\u001b[00m\n",
      "│   ├── \u001b[01;32mlabels_br.nq.bz2\u001b[00m\n",
      "│   ├── \u001b[01;32mlabels_br.nt.bz2\u001b[00m\n",
      "│   ├── \u001b[01;32mlong_abstracts_br.nq.bz2\u001b[00m\n",
      "│   ├── \u001b[01;32mlong_abstracts_br.nt.bz2\u001b[00m\n",
      "│   ├── \u001b[01;32mpage_links_br.nq.bz2\u001b[00m\n",
      "│   ├── \u001b[01;32mpage_links_br.nt.bz2\u001b[00m\n",
      "│   ├── \u001b[01;32mshort_abstracts_br.nq.bz2\u001b[00m\n",
      "│   ├── \u001b[01;32mshort_abstracts_br.nt.bz2\u001b[00m\n",
      "│   ├── \u001b[01;32mwikipedia_links_br.nq.bz2\u001b[00m\n",
      "│   └── \u001b[01;32mwikipedia_links_br.nt.bz2\u001b[00m\n",
      "├── \u001b[01;34mbs\u001b[00m\n",
      "│   ├── \u001b[01;32mgeo_coordinates_bs.nq.bz2\u001b[00m\n",
      "│   ├── \u001b[01;32mgeo_coordinates_bs.nt.bz2\u001b[00m\n",
      "│   ├── \u001b[01;32minfobox_properties_bs.nq.bz2\u001b[00m\n",
      "│   ├── \u001b[01;32minfobox_properties_bs.nt.bz2\u001b[00m\n",
      "│   ├── \u001b[01;32minfobox_property_definitions_bs.nq.bz2\u001b[00m\n",
      "│   ├── \u001b[01;32minfobox_property_definitions_bs.nt.bz2\u001b[00m\n",
      "│   ├── \u001b[01;32mlabels_bs.nq.bz2\u001b[00m\n",
      "│   ├── \u001b[01;32mlabels_bs.nt.bz2\u001b[00m\n",
      "│   ├── \u001b[01;32mlong_abstracts_bs.nq.bz2\u001b[00m\n",
      "│   ├── \u001b[01;32mlong_abstracts_bs.nt.bz2\u001b[00m\n",
      "│   ├── \u001b[01;32mpage_links_bs.nq.bz2\u001b[00m\n",
      "│   ├── \u001b[01;32mpage_links_bs.nt.bz2\u001b[00m\n",
      "│   ├── \u001b[01;32mshort_abstracts_bs.nq.bz2\u001b[00m\n",
      "│   ├── \u001b[01;32mshort_abstracts_bs.nt.bz2\u001b[00m\n",
      "│   ├── \u001b[01;32mwikipedia_links_bs.nq.bz2\u001b[00m\n",
      "│   └── \u001b[01;32mwikipedia_links_bs.nt.bz2\u001b[00m\n",
      "├── \u001b[01;34mca\u001b[00m\n",
      "│   ├── \u001b[01;32mgeo_coordinates_ca.nq.bz2\u001b[00m\n",
      "│   ├── \u001b[01;32mgeo_coordinates_ca.nt.bz2\u001b[00m\n",
      "│   ├── \u001b[01;32minfobox_properties_ca.nq.bz2\u001b[00m\n",
      "│   ├── \u001b[01;32minfobox_properties_ca.nt.bz2\u001b[00m\n",
      "│   ├── \u001b[01;32minfobox_property_definitions_ca.nq.bz2\u001b[00m\n",
      "│   ├── \u001b[01;32minfobox_property_definitions_ca.nt.bz2\u001b[00m\n",
      "│   ├── \u001b[01;32mlabels_ca.nq.bz2\u001b[00m\n",
      "│   ├── \u001b[01;32mlabels_ca.nt.bz2\u001b[00m\n",
      "│   ├── \u001b[01;32mlong_abstracts_ca.nq.bz2\u001b[00m\n",
      "│   ├── \u001b[01;32mlong_abstracts_ca.nt.bz2\u001b[00m\n",
      "│   ├── \u001b[01;32mpage_links_ca.nq.bz2\u001b[00m\n",
      "│   ├── \u001b[01;32mpage_links_ca.nt.bz2\u001b[00m\n",
      "│   ├── \u001b[01;32mshort_abstracts_ca.nq.bz2\u001b[00m\n",
      "│   ├── \u001b[01;32mshort_abstracts_ca.nt.bz2\u001b[00m\n",
      "│   ├── \u001b[01;32mwikipedia_links_ca.nq.bz2\u001b[00m\n",
      "│   └── \u001b[01;32mwikipedia_links_ca.nt.bz2\u001b[00m\n",
      "├── \u001b[01;34mceb\u001b[00m\n",
      "│   ├── \u001b[01;32mgeo_coordinates_ceb.nq.bz2\u001b[00m\n",
      "│   ├── \u001b[01;32mgeo_coordinates_ceb.nt.bz2\u001b[00m\n",
      "│   ├── \u001b[01;32minfobox_properties_ceb.nq.bz2\u001b[00m\n",
      "│   ├── \u001b[01;32minfobox_properties_ceb.nt.bz2\u001b[00m\n",
      "│   ├── \u001b[01;32minfobox_property_definitions_ceb.nq.bz2\u001b[00m\n",
      "│   ├── \u001b[01;32minfobox_property_definitions_ceb.nt.bz2\u001b[00m\n",
      "│   ├── \u001b[01;32mlabels_ceb.nq.bz2\u001b[00m\n",
      "│   ├── \u001b[01;32mlabels_ceb.nt.bz2\u001b[00m\n",
      "│   ├── \u001b[01;32mlong_abstracts_ceb.nq.bz2\u001b[00m\n",
      "│   ├── \u001b[01;32mlong_abstracts_ceb.nt.bz2\u001b[00m\n",
      "│   ├── \u001b[01;32mpage_links_ceb.nq.bz2\u001b[00m\n",
      "│   ├── \u001b[01;32mpage_links_ceb.nt.bz2\u001b[00m\n",
      "│   ├── \u001b[01;32mshort_abstracts_ceb.nq.bz2\u001b[00m\n",
      "│   ├── \u001b[01;32mshort_abstracts_ceb.nt.bz2\u001b[00m\n",
      "│   ├── \u001b[01;32mwikipedia_links_ceb.nq.bz2\u001b[00m\n",
      "│   └── \u001b[01;32mwikipedia_links_ceb.nt.bz2\u001b[00m\n",
      "├── \u001b[01;34mcs\u001b[00m\n",
      "│   ├── \u001b[01;32mgeo_coordinates_cs.nq.bz2\u001b[00m\n",
      "│   ├── \u001b[01;32mgeo_coordinates_cs.nt.bz2\u001b[00m\n",
      "│   ├── \u001b[01;32minfobox_properties_cs.nq.bz2\u001b[00m\n",
      "│   ├── \u001b[01;32minfobox_properties_cs.nt.bz2\u001b[00m\n",
      "│   ├── \u001b[01;32minfobox_property_definitions_cs.nq.bz2\u001b[00m\n",
      "│   ├── \u001b[01;32minfobox_property_definitions_cs.nt.bz2\u001b[00m\n",
      "│   ├── \u001b[01;32mlabels_cs.nq.bz2\u001b[00m\n",
      "│   ├── \u001b[01;32mlabels_cs.nt.bz2\u001b[00m\n",
      "│   ├── \u001b[01;32mlong_abstracts_cs.nq.bz2\u001b[00m\n",
      "│   ├── \u001b[01;32mlong_abstracts_cs.nt.bz2\u001b[00m\n",
      "│   ├── \u001b[01;32mpage_links_cs.nq.bz2\u001b[00m\n",
      "│   ├── \u001b[01;32mpage_links_cs.nt.bz2\u001b[00m\n",
      "│   ├── \u001b[01;32mshort_abstracts_cs.nq.bz2\u001b[00m\n",
      "│   ├── \u001b[01;32mshort_abstracts_cs.nt.bz2\u001b[00m\n",
      "│   ├── \u001b[01;32mwikipedia_links_cs.nq.bz2\u001b[00m\n",
      "│   └── \u001b[01;32mwikipedia_links_cs.nt.bz2\u001b[00m\n",
      "├── \u001b[01;34mcv\u001b[00m\n",
      "│   ├── \u001b[01;32mgeo_coordinates_cv.nq.bz2\u001b[00m\n",
      "│   ├── \u001b[01;32mgeo_coordinates_cv.nt.bz2\u001b[00m\n",
      "│   ├── \u001b[01;32minfobox_properties_cv.nq.bz2\u001b[00m\n",
      "│   ├── \u001b[01;32minfobox_properties_cv.nt.bz2\u001b[00m\n",
      "│   ├── \u001b[01;32minfobox_property_definitions_cv.nq.bz2\u001b[00m\n",
      "│   ├── \u001b[01;32minfobox_property_definitions_cv.nt.bz2\u001b[00m\n",
      "│   ├── \u001b[01;32mlabels_cv.nq.bz2\u001b[00m\n",
      "│   ├── \u001b[01;32mlabels_cv.nt.bz2\u001b[00m\n",
      "│   ├── \u001b[01;32mlong_abstracts_cv.nq.bz2\u001b[00m\n",
      "│   ├── \u001b[01;32mlong_abstracts_cv.nt.bz2\u001b[00m\n",
      "│   ├── \u001b[01;32mpage_links_cv.nq.bz2\u001b[00m\n",
      "│   ├── \u001b[01;32mpage_links_cv.nt.bz2\u001b[00m\n",
      "│   ├── \u001b[01;32mshort_abstracts_cv.nq.bz2\u001b[00m\n",
      "│   ├── \u001b[01;32mshort_abstracts_cv.nt.bz2\u001b[00m\n",
      "│   ├── \u001b[01;32mwikipedia_links_cv.nq.bz2\u001b[00m\n",
      "│   └── \u001b[01;32mwikipedia_links_cv.nt.bz2\u001b[00m\n",
      "├── \u001b[01;34mcy\u001b[00m\n",
      "│   ├── \u001b[01;32mgeo_coordinates_cy.nq.bz2\u001b[00m\n",
      "│   ├── \u001b[01;32mgeo_coordinates_cy.nt.bz2\u001b[00m\n",
      "│   ├── \u001b[01;32minfobox_properties_cy.nq.bz2\u001b[00m\n",
      "│   ├── \u001b[01;32minfobox_properties_cy.nt.bz2\u001b[00m\n",
      "│   ├── \u001b[01;32minfobox_property_definitions_cy.nq.bz2\u001b[00m\n",
      "│   ├── \u001b[01;32minfobox_property_definitions_cy.nt.bz2\u001b[00m\n",
      "│   ├── \u001b[01;32mlabels_cy.nq.bz2\u001b[00m\n",
      "│   ├── \u001b[01;32mlabels_cy.nt.bz2\u001b[00m\n",
      "│   ├── \u001b[01;32mlong_abstracts_cy.nq.bz2\u001b[00m\n",
      "│   ├── \u001b[01;32mlong_abstracts_cy.nt.bz2\u001b[00m\n",
      "│   ├── \u001b[01;32mpage_links_cy.nq.bz2\u001b[00m\n",
      "│   ├── \u001b[01;32mpage_links_cy.nt.bz2\u001b[00m\n",
      "│   ├── \u001b[01;32mshort_abstracts_cy.nq.bz2\u001b[00m\n",
      "│   ├── \u001b[01;32mshort_abstracts_cy.nt.bz2\u001b[00m\n",
      "│   ├── \u001b[01;32mwikipedia_links_cy.nq.bz2\u001b[00m\n",
      "│   └── \u001b[01;32mwikipedia_links_cy.nt.bz2\u001b[00m\n",
      "├── \u001b[01;34mda\u001b[00m\n",
      "│   ├── \u001b[01;32mgeo_coordinates_da.nq.bz2\u001b[00m\n",
      "│   ├── \u001b[01;32mgeo_coordinates_da.nt.bz2\u001b[00m\n",
      "│   ├── \u001b[01;32minfobox_properties_da.nq.bz2\u001b[00m\n",
      "│   ├── \u001b[01;32minfobox_properties_da.nt.bz2\u001b[00m\n",
      "│   ├── \u001b[01;32minfobox_property_definitions_da.nq.bz2\u001b[00m\n",
      "│   ├── \u001b[01;32minfobox_property_definitions_da.nt.bz2\u001b[00m\n",
      "│   ├── \u001b[01;32mlabels_da.nq.bz2\u001b[00m\n",
      "│   ├── \u001b[01;32mlabels_da.nt.bz2\u001b[00m\n",
      "│   ├── \u001b[01;32mlong_abstracts_da.nq.bz2\u001b[00m\n",
      "│   ├── \u001b[01;32mlong_abstracts_da.nt.bz2\u001b[00m\n",
      "│   ├── \u001b[01;32mpage_links_da.nq.bz2\u001b[00m\n",
      "│   ├── \u001b[01;32mpage_links_da.nt.bz2\u001b[00m\n",
      "│   ├── \u001b[01;32mshort_abstracts_da.nq.bz2\u001b[00m\n",
      "│   ├── \u001b[01;32mshort_abstracts_da.nt.bz2\u001b[00m\n",
      "│   ├── \u001b[01;32mwikipedia_links_da.nq.bz2\u001b[00m\n",
      "│   └── \u001b[01;32mwikipedia_links_da.nt.bz2\u001b[00m\n",
      "├── dbpedia_3.5.1.owl\n",
      "├── \u001b[01;31mdbpedia_3.5.1.owl.bz2\u001b[00m\n",
      "├── \u001b[01;34mde\u001b[00m\n",
      "│   ├── \u001b[01;32mgeo_coordinates_de.nq.bz2\u001b[00m\n",
      "│   ├── \u001b[01;32mgeo_coordinates_de.nt.bz2\u001b[00m\n",
      "│   ├── \u001b[01;32mhomepages_de.nq.bz2\u001b[00m\n",
      "│   ├── \u001b[01;32mhomepages_de.nt.bz2\u001b[00m\n",
      "│   ├── \u001b[01;32minfobox_properties_de.nq.bz2\u001b[00m\n",
      "│   ├── \u001b[01;32minfobox_properties_de.nt.bz2\u001b[00m\n",
      "│   ├── \u001b[01;32minfobox_property_definitions_de.nq.bz2\u001b[00m\n",
      "│   ├── \u001b[01;32minfobox_property_definitions_de.nt.bz2\u001b[00m\n",
      "│   ├── \u001b[01;32mlabels_de.nq.bz2\u001b[00m\n",
      "│   ├── \u001b[01;32mlabels_de.nt.bz2\u001b[00m\n",
      "│   ├── \u001b[01;32mlong_abstracts_de.nq.bz2\u001b[00m\n",
      "│   ├── \u001b[01;32mlong_abstracts_de.nt.bz2\u001b[00m\n",
      "│   ├── \u001b[01;32mpage_links_de.nq.bz2\u001b[00m\n",
      "│   ├── \u001b[01;32mpage_links_de.nt.bz2\u001b[00m\n",
      "│   ├── \u001b[01;32mpersondata_de.nq.bz2\u001b[00m\n",
      "│   ├── \u001b[01;32mpersondata_de.nt.bz2\u001b[00m\n",
      "│   ├── \u001b[01;32mpnd_de.nq.bz2\u001b[00m\n",
      "│   ├── \u001b[01;32mpnd_de.nt.bz2\u001b[00m\n",
      "│   ├── \u001b[01;32mshort_abstracts_de.nq.bz2\u001b[00m\n",
      "│   ├── \u001b[01;32mshort_abstracts_de.nt.bz2\u001b[00m\n",
      "│   ├── \u001b[01;32mwikipedia_links_de.nq.bz2\u001b[00m\n",
      "│   └── \u001b[01;32mwikipedia_links_de.nt.bz2\u001b[00m\n",
      "├── \u001b[01;34mel\u001b[00m\n",
      "│   ├── \u001b[01;32mgeo_coordinates_el.nq.bz2\u001b[00m\n",
      "│   ├── \u001b[01;32mgeo_coordinates_el.nt.bz2\u001b[00m\n",
      "│   ├── \u001b[01;32minfobox_properties_el.nq.bz2\u001b[00m\n",
      "│   ├── \u001b[01;32minfobox_properties_el.nt.bz2\u001b[00m\n",
      "│   ├── \u001b[01;32minfobox_property_definitions_el.nq.bz2\u001b[00m\n",
      "│   ├── \u001b[01;32minfobox_property_definitions_el.nt.bz2\u001b[00m\n",
      "│   ├── \u001b[01;32mlabels_el.nq.bz2\u001b[00m\n",
      "│   ├── \u001b[01;32mlabels_el.nt.bz2\u001b[00m\n",
      "│   ├── \u001b[01;32mlong_abstracts_el.nq.bz2\u001b[00m\n",
      "│   ├── \u001b[01;32mlong_abstracts_el.nt.bz2\u001b[00m\n",
      "│   ├── \u001b[01;32mpage_links_el.nq.bz2\u001b[00m\n",
      "│   ├── \u001b[01;32mpage_links_el.nt.bz2\u001b[00m\n",
      "│   ├── \u001b[01;32mshort_abstracts_el.nq.bz2\u001b[00m\n",
      "│   ├── \u001b[01;32mshort_abstracts_el.nt.bz2\u001b[00m\n",
      "│   ├── \u001b[01;32mwikipedia_links_el.nq.bz2\u001b[00m\n",
      "│   └── \u001b[01;32mwikipedia_links_el.nt.bz2\u001b[00m\n",
      "├── \u001b[01;34men\u001b[00m\n",
      "│   ├── \u001b[01;32marticle_categories_en.nq.bz2\u001b[00m\n",
      "│   ├── \u001b[01;32marticle_categories_en.nt.bz2\u001b[00m\n",
      "│   ├── \u001b[01;32mcategory_labels_en.nq.bz2\u001b[00m\n",
      "│   ├── \u001b[01;32mcategory_labels_en.nt.bz2\u001b[00m\n",
      "│   ├── \u001b[01;31mdisambiguations_en.nq.bz2\u001b[00m\n",
      "│   ├── \u001b[01;31mdisambiguations_en.nt.bz2\u001b[00m\n",
      "│   ├── \u001b[01;32mexternal_links_en.nq.bz2\u001b[00m\n",
      "│   ├── \u001b[01;32mexternal_links_en.nt.bz2\u001b[00m\n",
      "│   ├── \u001b[01;32mgeo_coordinates_en.nq.bz2\u001b[00m\n",
      "│   ├── \u001b[01;32mgeo_coordinates_en.nt.bz2\u001b[00m\n",
      "│   ├── \u001b[01;32mhomepages_en.nq.bz2\u001b[00m\n",
      "│   ├── \u001b[01;32mhomepages_en.nt.bz2\u001b[00m\n",
      "│   ├── \u001b[01;32mimages_en.nq.bz2\u001b[00m\n",
      "│   ├── \u001b[01;32mimages_en.nt.bz2\u001b[00m\n",
      "│   ├── \u001b[01;32minfobox_properties_en.nq.bz2\u001b[00m\n",
      "│   ├── \u001b[01;32minfobox_properties_en.nt.bz2\u001b[00m\n",
      "│   ├── \u001b[01;32minfobox_property_definitions_en.nq.bz2\u001b[00m\n",
      "│   ├── \u001b[01;32minfobox_property_definitions_en.nt.bz2\u001b[00m\n",
      "│   ├── \u001b[01;32minstance_types_en.nq.bz2\u001b[00m\n",
      "│   ├── \u001b[01;32minstance_types_en.nt.bz2\u001b[00m\n",
      "│   ├── \u001b[01;32mlabels_en.nq.bz2\u001b[00m\n",
      "│   ├── \u001b[01;32mlabels_en.nt.bz2\u001b[00m\n",
      "│   ├── \u001b[01;32mlong_abstracts_en.nq.bz2\u001b[00m\n",
      "│   ├── \u001b[01;32mlong_abstracts_en.nt.bz2\u001b[00m\n",
      "│   ├── \u001b[01;32mmappingbased_properties_en.nq.bz2\u001b[00m\n",
      "│   ├── \u001b[01;32mmappingbased_properties_en.nt.bz2\u001b[00m\n",
      "│   ├── \u001b[01;32mpage_ids_en.nq.bz2\u001b[00m\n",
      "│   ├── \u001b[01;32mpage_ids_en.nt.bz2\u001b[00m\n",
      "│   ├── \u001b[01;32mpage_links_en.nq.bz2\u001b[00m\n",
      "│   ├── \u001b[01;32mpage_links_en.nt.bz2\u001b[00m\n",
      "│   ├── \u001b[01;32mpersondata_en.nq.bz2\u001b[00m\n",
      "│   ├── \u001b[01;32mpersondata_en.nt.bz2\u001b[00m\n",
      "│   ├── \u001b[01;32mpnd_en.nq.bz2\u001b[00m\n",
      "│   ├── \u001b[01;32mpnd_en.nt.bz2\u001b[00m\n",
      "│   ├── \u001b[01;32mredirects_en.nq.bz2\u001b[00m\n",
      "│   ├── \u001b[01;32mredirects_en.nt.bz2\u001b[00m\n",
      "│   ├── \u001b[01;32mrevisions_en.nq.bz2\u001b[00m\n",
      "│   ├── \u001b[01;32mrevisions_en.nt.bz2\u001b[00m\n",
      "│   ├── \u001b[01;32mshort_abstracts_en.nq.bz2\u001b[00m\n",
      "│   ├── \u001b[01;32mshort_abstracts_en.nt.bz2\u001b[00m\n",
      "│   ├── \u001b[01;32mskos_categories_en.nq.bz2\u001b[00m\n",
      "│   ├── \u001b[01;32mskos_categories_en.nt.bz2\u001b[00m\n",
      "│   ├── \u001b[01;32mspecific_mappingbased_properties_en.nq.bz2\u001b[00m\n",
      "│   ├── \u001b[01;32mspecific_mappingbased_properties_en.nt.bz2\u001b[00m\n",
      "│   ├── \u001b[01;32mwikipedia_links_en.nq.bz2\u001b[00m\n",
      "│   └── \u001b[01;32mwikipedia_links_en.nt.bz2\u001b[00m\n",
      "├── \u001b[01;34meo\u001b[00m\n",
      "│   ├── \u001b[01;32mgeo_coordinates_eo.nq.bz2\u001b[00m\n",
      "│   ├── \u001b[01;32mgeo_coordinates_eo.nt.bz2\u001b[00m\n",
      "│   ├── \u001b[01;32minfobox_properties_eo.nq.bz2\u001b[00m\n",
      "│   ├── \u001b[01;32minfobox_properties_eo.nt.bz2\u001b[00m\n",
      "│   ├── \u001b[01;32minfobox_property_definitions_eo.nq.bz2\u001b[00m\n",
      "│   ├── \u001b[01;32minfobox_property_definitions_eo.nt.bz2\u001b[00m\n",
      "│   ├── \u001b[01;32mlabels_eo.nq.bz2\u001b[00m\n",
      "│   ├── \u001b[01;32mlabels_eo.nt.bz2\u001b[00m\n",
      "│   ├── \u001b[01;32mlong_abstracts_eo.nq.bz2\u001b[00m\n",
      "│   ├── \u001b[01;32mlong_abstracts_eo.nt.bz2\u001b[00m\n",
      "│   ├── \u001b[01;32mpage_links_eo.nq.bz2\u001b[00m\n",
      "│   ├── \u001b[01;32mpage_links_eo.nt.bz2\u001b[00m\n",
      "│   ├── \u001b[01;32mshort_abstracts_eo.nq.bz2\u001b[00m\n",
      "│   ├── \u001b[01;32mshort_abstracts_eo.nt.bz2\u001b[00m\n",
      "│   ├── \u001b[01;32mwikipedia_links_eo.nq.bz2\u001b[00m\n",
      "│   └── \u001b[01;32mwikipedia_links_eo.nt.bz2\u001b[00m\n",
      "├── \u001b[01;34mes\u001b[00m\n",
      "│   ├── \u001b[01;32mgeo_coordinates_es.nq.bz2\u001b[00m\n",
      "│   ├── \u001b[01;32mgeo_coordinates_es.nt.bz2\u001b[00m\n",
      "│   ├── \u001b[01;32minfobox_properties_es.nq.bz2\u001b[00m\n",
      "│   ├── \u001b[01;32minfobox_properties_es.nt.bz2\u001b[00m\n",
      "│   ├── \u001b[01;32minfobox_property_definitions_es.nq.bz2\u001b[00m\n",
      "│   ├── \u001b[01;32minfobox_property_definitions_es.nt.bz2\u001b[00m\n",
      "│   ├── \u001b[01;32mlabels_es.nq.bz2\u001b[00m\n",
      "│   ├── \u001b[01;32mlabels_es.nt.bz2\u001b[00m\n",
      "│   ├── \u001b[01;32mlong_abstracts_es.nq.bz2\u001b[00m\n",
      "│   ├── \u001b[01;32mlong_abstracts_es.nt.bz2\u001b[00m\n",
      "│   ├── \u001b[01;32mpage_links_es.nq.bz2\u001b[00m\n",
      "│   ├── \u001b[01;32mpage_links_es.nt.bz2\u001b[00m\n",
      "│   ├── \u001b[01;32mshort_abstracts_es.nq.bz2\u001b[00m\n",
      "│   ├── \u001b[01;32mshort_abstracts_es.nt.bz2\u001b[00m\n",
      "│   ├── \u001b[01;32mwikipedia_links_es.nq.bz2\u001b[00m\n",
      "│   └── \u001b[01;32mwikipedia_links_es.nt.bz2\u001b[00m\n",
      "├── \u001b[01;34met\u001b[00m\n",
      "│   ├── \u001b[01;32mgeo_coordinates_et.nq.bz2\u001b[00m\n",
      "│   ├── \u001b[01;32mgeo_coordinates_et.nt.bz2\u001b[00m\n",
      "│   ├── \u001b[01;32minfobox_properties_et.nq.bz2\u001b[00m\n",
      "│   ├── \u001b[01;32minfobox_properties_et.nt.bz2\u001b[00m\n",
      "│   ├── \u001b[01;32minfobox_property_definitions_et.nq.bz2\u001b[00m\n",
      "│   ├── \u001b[01;32minfobox_property_definitions_et.nt.bz2\u001b[00m\n",
      "│   ├── \u001b[01;32mlabels_et.nq.bz2\u001b[00m\n",
      "│   ├── \u001b[01;32mlabels_et.nt.bz2\u001b[00m\n",
      "│   ├── \u001b[01;32mlong_abstracts_et.nq.bz2\u001b[00m\n",
      "│   ├── \u001b[01;32mlong_abstracts_et.nt.bz2\u001b[00m\n",
      "│   ├── \u001b[01;32mpage_links_et.nq.bz2\u001b[00m\n",
      "│   ├── \u001b[01;32mpage_links_et.nt.bz2\u001b[00m\n",
      "│   ├── \u001b[01;32mshort_abstracts_et.nq.bz2\u001b[00m\n",
      "│   ├── \u001b[01;32mshort_abstracts_et.nt.bz2\u001b[00m\n",
      "│   ├── \u001b[01;32mwikipedia_links_et.nq.bz2\u001b[00m\n",
      "│   └── \u001b[01;32mwikipedia_links_et.nt.bz2\u001b[00m\n",
      "├── \u001b[01;34meu\u001b[00m\n",
      "│   ├── \u001b[01;32mgeo_coordinates_eu.nq.bz2\u001b[00m\n",
      "│   ├── \u001b[01;32mgeo_coordinates_eu.nt.bz2\u001b[00m\n",
      "│   ├── \u001b[01;32minfobox_properties_eu.nq.bz2\u001b[00m\n",
      "│   ├── \u001b[01;32minfobox_properties_eu.nt.bz2\u001b[00m\n",
      "│   ├── \u001b[01;32minfobox_property_definitions_eu.nq.bz2\u001b[00m\n",
      "│   ├── \u001b[01;32minfobox_property_definitions_eu.nt.bz2\u001b[00m\n",
      "│   ├── \u001b[01;32mlabels_eu.nq.bz2\u001b[00m\n",
      "│   ├── \u001b[01;32mlabels_eu.nt.bz2\u001b[00m\n",
      "│   ├── \u001b[01;32mlong_abstracts_eu.nq.bz2\u001b[00m\n",
      "│   ├── \u001b[01;32mlong_abstracts_eu.nt.bz2\u001b[00m\n",
      "│   ├── \u001b[01;32mpage_links_eu.nq.bz2\u001b[00m\n",
      "│   ├── \u001b[01;32mpage_links_eu.nt.bz2\u001b[00m\n",
      "│   ├── \u001b[01;32mshort_abstracts_eu.nq.bz2\u001b[00m\n",
      "│   ├── \u001b[01;32mshort_abstracts_eu.nt.bz2\u001b[00m\n",
      "│   ├── \u001b[01;32mwikipedia_links_eu.nq.bz2\u001b[00m\n",
      "│   └── \u001b[01;32mwikipedia_links_eu.nt.bz2\u001b[00m\n",
      "├── \u001b[01;34mfa\u001b[00m\n",
      "│   ├── \u001b[01;32mgeo_coordinates_fa.nq.bz2\u001b[00m\n",
      "│   ├── \u001b[01;32mgeo_coordinates_fa.nt.bz2\u001b[00m\n",
      "│   ├── \u001b[01;32minfobox_properties_fa.nq.bz2\u001b[00m\n",
      "│   ├── \u001b[01;32minfobox_properties_fa.nt.bz2\u001b[00m\n",
      "│   ├── \u001b[01;32minfobox_property_definitions_fa.nq.bz2\u001b[00m\n",
      "│   ├── \u001b[01;32minfobox_property_definitions_fa.nt.bz2\u001b[00m\n",
      "│   ├── \u001b[01;32mlabels_fa.nq.bz2\u001b[00m\n",
      "│   ├── \u001b[01;32mlabels_fa.nt.bz2\u001b[00m\n",
      "│   ├── \u001b[01;32mlong_abstracts_fa.nq.bz2\u001b[00m\n",
      "│   ├── \u001b[01;32mlong_abstracts_fa.nt.bz2\u001b[00m\n",
      "│   ├── \u001b[01;32mpage_links_fa.nq.bz2\u001b[00m\n",
      "│   ├── \u001b[01;32mpage_links_fa.nt.bz2\u001b[00m\n",
      "│   ├── \u001b[01;32mshort_abstracts_fa.nq.bz2\u001b[00m\n",
      "│   ├── \u001b[01;32mshort_abstracts_fa.nt.bz2\u001b[00m\n",
      "│   ├── \u001b[01;32mwikipedia_links_fa.nq.bz2\u001b[00m\n",
      "│   └── \u001b[01;32mwikipedia_links_fa.nt.bz2\u001b[00m\n",
      "├── \u001b[01;34mfi\u001b[00m\n",
      "│   ├── \u001b[01;32mgeo_coordinates_fi.nq.bz2\u001b[00m\n",
      "│   ├── \u001b[01;32mgeo_coordinates_fi.nt.bz2\u001b[00m\n",
      "│   ├── \u001b[01;32minfobox_properties_fi.nq.bz2\u001b[00m\n",
      "│   ├── \u001b[01;32minfobox_properties_fi.nt.bz2\u001b[00m\n",
      "│   ├── \u001b[01;32minfobox_property_definitions_fi.nq.bz2\u001b[00m\n",
      "│   ├── \u001b[01;32minfobox_property_definitions_fi.nt.bz2\u001b[00m\n",
      "│   ├── \u001b[01;32mlabels_fi.nq.bz2\u001b[00m\n",
      "│   ├── \u001b[01;32mlabels_fi.nt.bz2\u001b[00m\n",
      "│   ├── \u001b[01;32mlong_abstracts_fi.nq.bz2\u001b[00m\n",
      "│   ├── \u001b[01;32mlong_abstracts_fi.nt.bz2\u001b[00m\n",
      "│   ├── \u001b[01;32mpage_links_fi.nq.bz2\u001b[00m\n",
      "│   ├── \u001b[01;32mpage_links_fi.nt.bz2\u001b[00m\n",
      "│   ├── \u001b[01;32mshort_abstracts_fi.nq.bz2\u001b[00m\n",
      "│   ├── \u001b[01;32mshort_abstracts_fi.nt.bz2\u001b[00m\n",
      "│   ├── \u001b[01;32mwikipedia_links_fi.nq.bz2\u001b[00m\n",
      "│   └── \u001b[01;32mwikipedia_links_fi.nt.bz2\u001b[00m\n",
      "├── \u001b[01;34mfr\u001b[00m\n",
      "│   ├── \u001b[01;32mgeo_coordinates_fr.nq.bz2\u001b[00m\n",
      "│   ├── \u001b[01;32mgeo_coordinates_fr.nt.bz2\u001b[00m\n",
      "│   ├── \u001b[01;32mhomepages_fr.nq.bz2\u001b[00m\n",
      "│   ├── \u001b[01;32mhomepages_fr.nt.bz2\u001b[00m\n",
      "│   ├── \u001b[01;32minfobox_properties_fr.nq.bz2\u001b[00m\n",
      "│   ├── \u001b[01;32minfobox_properties_fr.nt.bz2\u001b[00m\n",
      "│   ├── \u001b[01;32minfobox_property_definitions_fr.nq.bz2\u001b[00m\n",
      "│   ├── \u001b[01;32minfobox_property_definitions_fr.nt.bz2\u001b[00m\n",
      "│   ├── \u001b[01;32mlabels_fr.nq.bz2\u001b[00m\n",
      "│   ├── \u001b[01;32mlabels_fr.nt.bz2\u001b[00m\n",
      "│   ├── \u001b[01;32mlong_abstracts_fr.nq.bz2\u001b[00m\n",
      "│   ├── \u001b[01;32mlong_abstracts_fr.nt.bz2\u001b[00m\n",
      "│   ├── \u001b[01;32mpage_links_fr.nq.bz2\u001b[00m\n",
      "│   ├── \u001b[01;32mpage_links_fr.nt.bz2\u001b[00m\n",
      "│   ├── \u001b[01;32mshort_abstracts_fr.nq.bz2\u001b[00m\n",
      "│   ├── \u001b[01;32mshort_abstracts_fr.nt.bz2\u001b[00m\n",
      "│   ├── \u001b[01;32mwikipedia_links_fr.nq.bz2\u001b[00m\n",
      "│   └── \u001b[01;32mwikipedia_links_fr.nt.bz2\u001b[00m\n",
      "├── \u001b[01;34mfy\u001b[00m\n",
      "│   ├── \u001b[01;32minfobox_properties_fy.nq.bz2\u001b[00m\n",
      "│   ├── \u001b[01;32minfobox_properties_fy.nt.bz2\u001b[00m\n",
      "│   ├── \u001b[01;32minfobox_property_definitions_fy.nq.bz2\u001b[00m\n",
      "│   ├── \u001b[01;32minfobox_property_definitions_fy.nt.bz2\u001b[00m\n",
      "│   ├── \u001b[01;32mlabels_fy.nq.bz2\u001b[00m\n",
      "│   ├── \u001b[01;32mlabels_fy.nt.bz2\u001b[00m\n",
      "│   ├── \u001b[01;32mlong_abstracts_fy.nq.bz2\u001b[00m\n",
      "│   ├── \u001b[01;32mlong_abstracts_fy.nt.bz2\u001b[00m\n",
      "│   ├── \u001b[01;32mpage_links_fy.nq.bz2\u001b[00m\n",
      "│   ├── \u001b[01;32mpage_links_fy.nt.bz2\u001b[00m\n",
      "│   ├── \u001b[01;32mshort_abstracts_fy.nq.bz2\u001b[00m\n",
      "│   ├── \u001b[01;32mshort_abstracts_fy.nt.bz2\u001b[00m\n",
      "│   ├── \u001b[01;32mwikipedia_links_fy.nq.bz2\u001b[00m\n",
      "│   └── \u001b[01;32mwikipedia_links_fy.nt.bz2\u001b[00m\n",
      "├── \u001b[01;34mga\u001b[00m\n",
      "│   ├── \u001b[01;32mgeo_coordinates_ga.nq.bz2\u001b[00m\n",
      "│   ├── \u001b[01;32mgeo_coordinates_ga.nt.bz2\u001b[00m\n",
      "│   ├── \u001b[01;32minfobox_properties_ga.nq.bz2\u001b[00m\n",
      "│   ├── \u001b[01;32minfobox_properties_ga.nt.bz2\u001b[00m\n",
      "│   ├── \u001b[01;32minfobox_property_definitions_ga.nq.bz2\u001b[00m\n",
      "│   ├── \u001b[01;32minfobox_property_definitions_ga.nt.bz2\u001b[00m\n",
      "│   ├── \u001b[01;32mlabels_ga.nq.bz2\u001b[00m\n",
      "│   ├── \u001b[01;32mlabels_ga.nt.bz2\u001b[00m\n",
      "│   ├── \u001b[01;32mlong_abstracts_ga.nq.bz2\u001b[00m\n",
      "│   ├── \u001b[01;32mlong_abstracts_ga.nt.bz2\u001b[00m\n",
      "│   ├── \u001b[01;32mpage_links_ga.nq.bz2\u001b[00m\n",
      "│   ├── \u001b[01;32mpage_links_ga.nt.bz2\u001b[00m\n",
      "│   ├── \u001b[01;32mshort_abstracts_ga.nq.bz2\u001b[00m\n",
      "│   ├── \u001b[01;32mshort_abstracts_ga.nt.bz2\u001b[00m\n",
      "│   ├── \u001b[01;32mwikipedia_links_ga.nq.bz2\u001b[00m\n",
      "│   └── \u001b[01;32mwikipedia_links_ga.nt.bz2\u001b[00m\n",
      "├── \u001b[01;34mgl\u001b[00m\n",
      "│   ├── \u001b[01;32mgeo_coordinates_gl.nq.bz2\u001b[00m\n",
      "│   ├── \u001b[01;32mgeo_coordinates_gl.nt.bz2\u001b[00m\n",
      "│   ├── \u001b[01;32minfobox_properties_gl.nq.bz2\u001b[00m\n",
      "│   ├── \u001b[01;32minfobox_properties_gl.nt.bz2\u001b[00m\n",
      "│   ├── \u001b[01;32minfobox_property_definitions_gl.nq.bz2\u001b[00m\n",
      "│   ├── \u001b[01;32minfobox_property_definitions_gl.nt.bz2\u001b[00m\n",
      "│   ├── \u001b[01;32mlabels_gl.nq.bz2\u001b[00m\n",
      "│   ├── \u001b[01;32mlabels_gl.nt.bz2\u001b[00m\n",
      "│   ├── \u001b[01;32mlong_abstracts_gl.nq.bz2\u001b[00m\n",
      "│   ├── \u001b[01;32mlong_abstracts_gl.nt.bz2\u001b[00m\n",
      "│   ├── \u001b[01;32mpage_links_gl.nq.bz2\u001b[00m\n",
      "│   ├── \u001b[01;32mpage_links_gl.nt.bz2\u001b[00m\n",
      "│   ├── \u001b[01;32mshort_abstracts_gl.nq.bz2\u001b[00m\n",
      "│   ├── \u001b[01;32mshort_abstracts_gl.nt.bz2\u001b[00m\n",
      "│   ├── \u001b[01;32mwikipedia_links_gl.nq.bz2\u001b[00m\n",
      "│   └── \u001b[01;32mwikipedia_links_gl.nt.bz2\u001b[00m\n",
      "├── \u001b[01;34mgu\u001b[00m\n",
      "│   ├── \u001b[01;32mgeo_coordinates_gu.nq.bz2\u001b[00m\n",
      "│   ├── \u001b[01;32mgeo_coordinates_gu.nt.bz2\u001b[00m\n",
      "│   ├── \u001b[01;32minfobox_properties_gu.nq.bz2\u001b[00m\n",
      "│   ├── \u001b[01;32minfobox_properties_gu.nt.bz2\u001b[00m\n",
      "│   ├── \u001b[01;32minfobox_property_definitions_gu.nq.bz2\u001b[00m\n",
      "│   ├── \u001b[01;32minfobox_property_definitions_gu.nt.bz2\u001b[00m\n",
      "│   ├── \u001b[01;32mlabels_gu.nq.bz2\u001b[00m\n",
      "│   ├── \u001b[01;32mlabels_gu.nt.bz2\u001b[00m\n",
      "│   ├── \u001b[01;32mlong_abstracts_gu.nq.bz2\u001b[00m\n",
      "│   ├── \u001b[01;32mlong_abstracts_gu.nt.bz2\u001b[00m\n",
      "│   ├── \u001b[01;32mpage_links_gu.nq.bz2\u001b[00m\n",
      "│   ├── \u001b[01;32mpage_links_gu.nt.bz2\u001b[00m\n",
      "│   ├── \u001b[01;32mshort_abstracts_gu.nq.bz2\u001b[00m\n",
      "│   ├── \u001b[01;32mshort_abstracts_gu.nt.bz2\u001b[00m\n",
      "│   ├── \u001b[01;32mwikipedia_links_gu.nq.bz2\u001b[00m\n",
      "│   └── \u001b[01;32mwikipedia_links_gu.nt.bz2\u001b[00m\n",
      "├── \u001b[01;34mhe\u001b[00m\n",
      "│   ├── \u001b[01;32mgeo_coordinates_he.nq.bz2\u001b[00m\n",
      "│   ├── \u001b[01;32mgeo_coordinates_he.nt.bz2\u001b[00m\n",
      "│   ├── \u001b[01;32minfobox_properties_he.nq.bz2\u001b[00m\n",
      "│   ├── \u001b[01;32minfobox_properties_he.nt.bz2\u001b[00m\n",
      "│   ├── \u001b[01;32minfobox_property_definitions_he.nq.bz2\u001b[00m\n",
      "│   ├── \u001b[01;32minfobox_property_definitions_he.nt.bz2\u001b[00m\n",
      "│   ├── \u001b[01;32mlabels_he.nq.bz2\u001b[00m\n",
      "│   ├── \u001b[01;32mlabels_he.nt.bz2\u001b[00m\n",
      "│   ├── \u001b[01;32mlong_abstracts_he.nq.bz2\u001b[00m\n",
      "│   ├── \u001b[01;32mlong_abstracts_he.nt.bz2\u001b[00m\n",
      "│   ├── \u001b[01;32mpage_links_he.nq.bz2\u001b[00m\n",
      "│   ├── \u001b[01;32mpage_links_he.nt.bz2\u001b[00m\n",
      "│   ├── \u001b[01;32mshort_abstracts_he.nq.bz2\u001b[00m\n",
      "│   ├── \u001b[01;32mshort_abstracts_he.nt.bz2\u001b[00m\n",
      "│   ├── \u001b[01;32mwikipedia_links_he.nq.bz2\u001b[00m\n",
      "│   └── \u001b[01;32mwikipedia_links_he.nt.bz2\u001b[00m\n",
      "├── \u001b[01;34mhi\u001b[00m\n",
      "│   ├── \u001b[01;32mgeo_coordinates_hi.nq.bz2\u001b[00m\n",
      "│   ├── \u001b[01;32mgeo_coordinates_hi.nt.bz2\u001b[00m\n",
      "│   ├── \u001b[01;32minfobox_properties_hi.nq.bz2\u001b[00m\n",
      "│   ├── \u001b[01;32minfobox_properties_hi.nt.bz2\u001b[00m\n",
      "│   ├── \u001b[01;32minfobox_property_definitions_hi.nq.bz2\u001b[00m\n",
      "│   ├── \u001b[01;32minfobox_property_definitions_hi.nt.bz2\u001b[00m\n",
      "│   ├── \u001b[01;32mlabels_hi.nq.bz2\u001b[00m\n",
      "│   ├── \u001b[01;32mlabels_hi.nt.bz2\u001b[00m\n",
      "│   ├── \u001b[01;32mlong_abstracts_hi.nq.bz2\u001b[00m\n",
      "│   ├── \u001b[01;32mlong_abstracts_hi.nt.bz2\u001b[00m\n",
      "│   ├── \u001b[01;32mpage_links_hi.nq.bz2\u001b[00m\n",
      "│   ├── \u001b[01;32mpage_links_hi.nt.bz2\u001b[00m\n",
      "│   ├── \u001b[01;32mshort_abstracts_hi.nq.bz2\u001b[00m\n",
      "│   ├── \u001b[01;32mshort_abstracts_hi.nt.bz2\u001b[00m\n",
      "│   ├── \u001b[01;32mwikipedia_links_hi.nq.bz2\u001b[00m\n",
      "│   └── \u001b[01;32mwikipedia_links_hi.nt.bz2\u001b[00m\n",
      "├── \u001b[01;34mhr\u001b[00m\n",
      "│   ├── \u001b[01;32mgeo_coordinates_hr.nq.bz2\u001b[00m\n",
      "│   ├── \u001b[01;32mgeo_coordinates_hr.nt.bz2\u001b[00m\n",
      "│   ├── \u001b[01;32minfobox_properties_hr.nq.bz2\u001b[00m\n",
      "│   ├── \u001b[01;32minfobox_properties_hr.nt.bz2\u001b[00m\n",
      "│   ├── \u001b[01;32minfobox_property_definitions_hr.nq.bz2\u001b[00m\n",
      "│   ├── \u001b[01;32minfobox_property_definitions_hr.nt.bz2\u001b[00m\n",
      "│   ├── \u001b[01;32mlabels_hr.nq.bz2\u001b[00m\n",
      "│   ├── \u001b[01;32mlabels_hr.nt.bz2\u001b[00m\n",
      "│   ├── \u001b[01;32mlong_abstracts_hr.nq.bz2\u001b[00m\n",
      "│   ├── \u001b[01;32mlong_abstracts_hr.nt.bz2\u001b[00m\n",
      "│   ├── \u001b[01;32mpage_links_hr.nq.bz2\u001b[00m\n",
      "│   ├── \u001b[01;32mpage_links_hr.nt.bz2\u001b[00m\n",
      "│   ├── \u001b[01;32mshort_abstracts_hr.nq.bz2\u001b[00m\n",
      "│   ├── \u001b[01;32mshort_abstracts_hr.nt.bz2\u001b[00m\n",
      "│   ├── \u001b[01;32mwikipedia_links_hr.nq.bz2\u001b[00m\n",
      "│   └── \u001b[01;32mwikipedia_links_hr.nt.bz2\u001b[00m\n",
      "├── \u001b[01;34mht\u001b[00m\n",
      "│   ├── \u001b[01;32mgeo_coordinates_ht.nq.bz2\u001b[00m\n",
      "│   ├── \u001b[01;32mgeo_coordinates_ht.nt.bz2\u001b[00m\n",
      "│   ├── \u001b[01;32minfobox_properties_ht.nq.bz2\u001b[00m\n",
      "│   ├── \u001b[01;32minfobox_properties_ht.nt.bz2\u001b[00m\n",
      "│   ├── \u001b[01;32minfobox_property_definitions_ht.nq.bz2\u001b[00m\n",
      "│   ├── \u001b[01;32minfobox_property_definitions_ht.nt.bz2\u001b[00m\n",
      "│   ├── \u001b[01;32mlabels_ht.nq.bz2\u001b[00m\n",
      "│   ├── \u001b[01;32mlabels_ht.nt.bz2\u001b[00m\n",
      "│   ├── \u001b[01;32mlong_abstracts_ht.nq.bz2\u001b[00m\n",
      "│   ├── \u001b[01;32mlong_abstracts_ht.nt.bz2\u001b[00m\n",
      "│   ├── \u001b[01;32mpage_links_ht.nq.bz2\u001b[00m\n",
      "│   ├── \u001b[01;32mpage_links_ht.nt.bz2\u001b[00m\n",
      "│   ├── \u001b[01;32mshort_abstracts_ht.nq.bz2\u001b[00m\n",
      "│   ├── \u001b[01;32mshort_abstracts_ht.nt.bz2\u001b[00m\n",
      "│   ├── \u001b[01;32mwikipedia_links_ht.nq.bz2\u001b[00m\n",
      "│   └── \u001b[01;32mwikipedia_links_ht.nt.bz2\u001b[00m\n",
      "├── \u001b[01;34mhu\u001b[00m\n",
      "│   ├── \u001b[01;32mgeo_coordinates_hu.nq.bz2\u001b[00m\n",
      "│   ├── \u001b[01;32mgeo_coordinates_hu.nt.bz2\u001b[00m\n",
      "│   ├── \u001b[01;32minfobox_properties_hu.nq.bz2\u001b[00m\n",
      "│   ├── \u001b[01;32minfobox_properties_hu.nt.bz2\u001b[00m\n",
      "│   ├── \u001b[01;32minfobox_property_definitions_hu.nq.bz2\u001b[00m\n",
      "│   ├── \u001b[01;32minfobox_property_definitions_hu.nt.bz2\u001b[00m\n",
      "│   ├── \u001b[01;32mlabels_hu.nq.bz2\u001b[00m\n",
      "│   ├── \u001b[01;32mlabels_hu.nt.bz2\u001b[00m\n",
      "│   ├── \u001b[01;32mlong_abstracts_hu.nq.bz2\u001b[00m\n",
      "│   ├── \u001b[01;32mlong_abstracts_hu.nt.bz2\u001b[00m\n",
      "│   ├── \u001b[01;32mpage_links_hu.nq.bz2\u001b[00m\n",
      "│   ├── \u001b[01;32mpage_links_hu.nt.bz2\u001b[00m\n",
      "│   ├── \u001b[01;32mshort_abstracts_hu.nq.bz2\u001b[00m\n",
      "│   ├── \u001b[01;32mshort_abstracts_hu.nt.bz2\u001b[00m\n",
      "│   ├── \u001b[01;32mwikipedia_links_hu.nq.bz2\u001b[00m\n",
      "│   └── \u001b[01;32mwikipedia_links_hu.nt.bz2\u001b[00m\n",
      "├── \u001b[01;34mid\u001b[00m\n",
      "│   ├── \u001b[01;32mgeo_coordinates_id.nq.bz2\u001b[00m\n",
      "│   ├── \u001b[01;32mgeo_coordinates_id.nt.bz2\u001b[00m\n",
      "│   ├── \u001b[01;32minfobox_properties_id.nq.bz2\u001b[00m\n",
      "│   ├── \u001b[01;32minfobox_properties_id.nt.bz2\u001b[00m\n",
      "│   ├── \u001b[01;32minfobox_property_definitions_id.nq.bz2\u001b[00m\n",
      "│   ├── \u001b[01;32minfobox_property_definitions_id.nt.bz2\u001b[00m\n",
      "│   ├── \u001b[01;32mlabels_id.nq.bz2\u001b[00m\n",
      "│   ├── \u001b[01;32mlabels_id.nt.bz2\u001b[00m\n",
      "│   ├── \u001b[01;32mlong_abstracts_id.nq.bz2\u001b[00m\n",
      "│   ├── \u001b[01;32mlong_abstracts_id.nt.bz2\u001b[00m\n",
      "│   ├── \u001b[01;32mpage_links_id.nq.bz2\u001b[00m\n",
      "│   ├── \u001b[01;32mpage_links_id.nt.bz2\u001b[00m\n",
      "│   ├── \u001b[01;32mshort_abstracts_id.nq.bz2\u001b[00m\n",
      "│   ├── \u001b[01;32mshort_abstracts_id.nt.bz2\u001b[00m\n",
      "│   ├── \u001b[01;32mwikipedia_links_id.nq.bz2\u001b[00m\n",
      "│   └── \u001b[01;32mwikipedia_links_id.nt.bz2\u001b[00m\n",
      "├── \u001b[01;34mio\u001b[00m\n",
      "│   ├── \u001b[01;32mgeo_coordinates_io.nq.bz2\u001b[00m\n",
      "│   ├── \u001b[01;32mgeo_coordinates_io.nt.bz2\u001b[00m\n",
      "│   ├── \u001b[01;32minfobox_properties_io.nq.bz2\u001b[00m\n",
      "│   ├── \u001b[01;32minfobox_properties_io.nt.bz2\u001b[00m\n",
      "│   ├── \u001b[01;32minfobox_property_definitions_io.nq.bz2\u001b[00m\n",
      "│   ├── \u001b[01;32minfobox_property_definitions_io.nt.bz2\u001b[00m\n",
      "│   ├── \u001b[01;32mlabels_io.nq.bz2\u001b[00m\n",
      "│   ├── \u001b[01;32mlabels_io.nt.bz2\u001b[00m\n",
      "│   ├── \u001b[01;32mlong_abstracts_io.nq.bz2\u001b[00m\n",
      "│   ├── \u001b[01;32mlong_abstracts_io.nt.bz2\u001b[00m\n",
      "│   ├── \u001b[01;32mpage_links_io.nq.bz2\u001b[00m\n",
      "│   ├── \u001b[01;32mpage_links_io.nt.bz2\u001b[00m\n",
      "│   ├── \u001b[01;32mshort_abstracts_io.nq.bz2\u001b[00m\n",
      "│   ├── \u001b[01;32mshort_abstracts_io.nt.bz2\u001b[00m\n",
      "│   ├── \u001b[01;32mwikipedia_links_io.nq.bz2\u001b[00m\n",
      "│   └── \u001b[01;32mwikipedia_links_io.nt.bz2\u001b[00m\n",
      "├── \u001b[01;34mis\u001b[00m\n",
      "│   ├── \u001b[01;32mgeo_coordinates_is.nq.bz2\u001b[00m\n",
      "│   ├── \u001b[01;32mgeo_coordinates_is.nt.bz2\u001b[00m\n",
      "│   ├── \u001b[01;32minfobox_properties_is.nq.bz2\u001b[00m\n",
      "│   ├── \u001b[01;32minfobox_properties_is.nt.bz2\u001b[00m\n",
      "│   ├── \u001b[01;32minfobox_property_definitions_is.nq.bz2\u001b[00m\n",
      "│   ├── \u001b[01;32minfobox_property_definitions_is.nt.bz2\u001b[00m\n",
      "│   ├── \u001b[01;32mlabels_is.nq.bz2\u001b[00m\n",
      "│   ├── \u001b[01;32mlabels_is.nt.bz2\u001b[00m\n",
      "│   ├── \u001b[01;32mlong_abstracts_is.nq.bz2\u001b[00m\n",
      "│   ├── \u001b[01;32mlong_abstracts_is.nt.bz2\u001b[00m\n",
      "│   ├── \u001b[01;32mpage_links_is.nq.bz2\u001b[00m\n",
      "│   ├── \u001b[01;32mpage_links_is.nt.bz2\u001b[00m\n",
      "│   ├── \u001b[01;32mshort_abstracts_is.nq.bz2\u001b[00m\n",
      "│   ├── \u001b[01;32mshort_abstracts_is.nt.bz2\u001b[00m\n",
      "│   ├── \u001b[01;32mwikipedia_links_is.nq.bz2\u001b[00m\n",
      "│   └── \u001b[01;32mwikipedia_links_is.nt.bz2\u001b[00m\n",
      "├── \u001b[01;34mit\u001b[00m\n",
      "│   ├── \u001b[01;32mgeo_coordinates_it.nq.bz2\u001b[00m\n",
      "│   ├── \u001b[01;32mgeo_coordinates_it.nt.bz2\u001b[00m\n",
      "│   ├── \u001b[01;32minfobox_properties_it.nq.bz2\u001b[00m\n",
      "│   ├── \u001b[01;32minfobox_properties_it.nt.bz2\u001b[00m\n",
      "│   ├── \u001b[01;32minfobox_property_definitions_it.nq.bz2\u001b[00m\n",
      "│   ├── \u001b[01;32minfobox_property_definitions_it.nt.bz2\u001b[00m\n",
      "│   ├── \u001b[01;32mlabels_it.nq.bz2\u001b[00m\n",
      "│   ├── \u001b[01;32mlabels_it.nt.bz2\u001b[00m\n",
      "│   ├── \u001b[01;32mlong_abstracts_it.nq.bz2\u001b[00m\n",
      "│   ├── \u001b[01;32mlong_abstracts_it.nt.bz2\u001b[00m\n",
      "│   ├── \u001b[01;32mpage_links_it.nq.bz2\u001b[00m\n",
      "│   ├── \u001b[01;32mpage_links_it.nt.bz2\u001b[00m\n",
      "│   ├── \u001b[01;32mshort_abstracts_it.nq.bz2\u001b[00m\n",
      "│   ├── \u001b[01;32mshort_abstracts_it.nt.bz2\u001b[00m\n",
      "│   ├── \u001b[01;32mwikipedia_links_it.nq.bz2\u001b[00m\n",
      "│   └── \u001b[01;32mwikipedia_links_it.nt.bz2\u001b[00m\n",
      "├── \u001b[01;34mja\u001b[00m\n",
      "│   ├── \u001b[01;32mgeo_coordinates_ja.nq.bz2\u001b[00m\n",
      "│   ├── \u001b[01;32mgeo_coordinates_ja.nt.bz2\u001b[00m\n",
      "│   ├── \u001b[01;32minfobox_properties_ja.nq.bz2\u001b[00m\n",
      "│   ├── \u001b[01;32minfobox_properties_ja.nt.bz2\u001b[00m\n",
      "│   ├── \u001b[01;32minfobox_property_definitions_ja.nq.bz2\u001b[00m\n",
      "│   ├── \u001b[01;32minfobox_property_definitions_ja.nt.bz2\u001b[00m\n",
      "│   ├── \u001b[01;32mlabels_ja.nq.bz2\u001b[00m\n",
      "│   ├── \u001b[01;32mlabels_ja.nt.bz2\u001b[00m\n",
      "│   ├── \u001b[01;32mlong_abstracts_ja.nq.bz2\u001b[00m\n",
      "│   ├── \u001b[01;32mlong_abstracts_ja.nt.bz2\u001b[00m\n",
      "│   ├── \u001b[01;32mpage_links_ja.nq.bz2\u001b[00m\n",
      "│   ├── \u001b[01;32mpage_links_ja.nt.bz2\u001b[00m\n",
      "│   ├── \u001b[01;32mshort_abstracts_ja.nq.bz2\u001b[00m\n",
      "│   ├── \u001b[01;32mshort_abstracts_ja.nt.bz2\u001b[00m\n",
      "│   ├── \u001b[01;32mwikipedia_links_ja.nq.bz2\u001b[00m\n",
      "│   └── \u001b[01;32mwikipedia_links_ja.nt.bz2\u001b[00m\n",
      "├── \u001b[01;34mjv\u001b[00m\n",
      "│   ├── \u001b[01;32mgeo_coordinates_jv.nq.bz2\u001b[00m\n",
      "│   ├── \u001b[01;32mgeo_coordinates_jv.nt.bz2\u001b[00m\n",
      "│   ├── \u001b[01;32minfobox_properties_jv.nq.bz2\u001b[00m\n",
      "│   ├── \u001b[01;32minfobox_properties_jv.nt.bz2\u001b[00m\n",
      "│   ├── \u001b[01;32minfobox_property_definitions_jv.nq.bz2\u001b[00m\n",
      "│   ├── \u001b[01;32minfobox_property_definitions_jv.nt.bz2\u001b[00m\n",
      "│   ├── \u001b[01;32mlabels_jv.nq.bz2\u001b[00m\n",
      "│   ├── \u001b[01;32mlabels_jv.nt.bz2\u001b[00m\n",
      "│   ├── \u001b[01;32mlong_abstracts_jv.nq.bz2\u001b[00m\n",
      "│   ├── \u001b[01;32mlong_abstracts_jv.nt.bz2\u001b[00m\n",
      "│   ├── \u001b[01;32mpage_links_jv.nq.bz2\u001b[00m\n",
      "│   ├── \u001b[01;32mpage_links_jv.nt.bz2\u001b[00m\n",
      "│   ├── \u001b[01;32mshort_abstracts_jv.nq.bz2\u001b[00m\n",
      "│   ├── \u001b[01;32mshort_abstracts_jv.nt.bz2\u001b[00m\n",
      "│   ├── \u001b[01;32mwikipedia_links_jv.nq.bz2\u001b[00m\n",
      "│   └── \u001b[01;32mwikipedia_links_jv.nt.bz2\u001b[00m\n",
      "├── \u001b[01;34mka\u001b[00m\n",
      "│   ├── \u001b[01;32mgeo_coordinates_ka.nq.bz2\u001b[00m\n",
      "│   ├── \u001b[01;32mgeo_coordinates_ka.nt.bz2\u001b[00m\n",
      "│   ├── \u001b[01;32minfobox_properties_ka.nq.bz2\u001b[00m\n",
      "│   ├── \u001b[01;32minfobox_properties_ka.nt.bz2\u001b[00m\n",
      "│   ├── \u001b[01;32minfobox_property_definitions_ka.nq.bz2\u001b[00m\n",
      "│   ├── \u001b[01;32minfobox_property_definitions_ka.nt.bz2\u001b[00m\n",
      "│   ├── \u001b[01;32mlabels_ka.nq.bz2\u001b[00m\n",
      "│   ├── \u001b[01;32mlabels_ka.nt.bz2\u001b[00m\n",
      "│   ├── \u001b[01;32mlong_abstracts_ka.nq.bz2\u001b[00m\n",
      "│   ├── \u001b[01;32mlong_abstracts_ka.nt.bz2\u001b[00m\n",
      "│   ├── \u001b[01;32mpage_links_ka.nq.bz2\u001b[00m\n",
      "│   ├── \u001b[01;32mpage_links_ka.nt.bz2\u001b[00m\n",
      "│   ├── \u001b[01;32mshort_abstracts_ka.nq.bz2\u001b[00m\n",
      "│   ├── \u001b[01;32mshort_abstracts_ka.nt.bz2\u001b[00m\n",
      "│   ├── \u001b[01;32mwikipedia_links_ka.nq.bz2\u001b[00m\n",
      "│   └── \u001b[01;32mwikipedia_links_ka.nt.bz2\u001b[00m\n",
      "├── \u001b[01;34mko\u001b[00m\n",
      "│   ├── \u001b[01;32mgeo_coordinates_ko.nq.bz2\u001b[00m\n",
      "│   ├── \u001b[01;32mgeo_coordinates_ko.nt.bz2\u001b[00m\n",
      "│   ├── \u001b[01;32minfobox_properties_ko.nq.bz2\u001b[00m\n",
      "│   ├── \u001b[01;32minfobox_properties_ko.nt.bz2\u001b[00m\n",
      "│   ├── \u001b[01;32minfobox_property_definitions_ko.nq.bz2\u001b[00m\n",
      "│   ├── \u001b[01;32minfobox_property_definitions_ko.nt.bz2\u001b[00m\n",
      "│   ├── \u001b[01;32mlabels_ko.nq.bz2\u001b[00m\n",
      "│   ├── \u001b[01;32mlabels_ko.nt.bz2\u001b[00m\n",
      "│   ├── \u001b[01;32mlong_abstracts_ko.nq.bz2\u001b[00m\n",
      "│   ├── \u001b[01;32mlong_abstracts_ko.nt.bz2\u001b[00m\n",
      "│   ├── \u001b[01;32mpage_links_ko.nq.bz2\u001b[00m\n",
      "│   ├── \u001b[01;32mpage_links_ko.nt.bz2\u001b[00m\n",
      "│   ├── \u001b[01;32mshort_abstracts_ko.nq.bz2\u001b[00m\n",
      "│   ├── \u001b[01;32mshort_abstracts_ko.nt.bz2\u001b[00m\n",
      "│   ├── \u001b[01;32mwikipedia_links_ko.nq.bz2\u001b[00m\n",
      "│   └── \u001b[01;32mwikipedia_links_ko.nt.bz2\u001b[00m\n",
      "├── \u001b[01;34mksh\u001b[00m\n",
      "│   ├── \u001b[01;32minfobox_properties_ksh.nq.bz2\u001b[00m\n",
      "│   ├── \u001b[01;32minfobox_properties_ksh.nt.bz2\u001b[00m\n",
      "│   ├── \u001b[01;32minfobox_property_definitions_ksh.nq.bz2\u001b[00m\n",
      "│   ├── \u001b[01;32minfobox_property_definitions_ksh.nt.bz2\u001b[00m\n",
      "│   ├── \u001b[01;32mlabels_ksh.nq.bz2\u001b[00m\n",
      "│   ├── \u001b[01;32mlabels_ksh.nt.bz2\u001b[00m\n",
      "│   ├── \u001b[01;32mlong_abstracts_ksh.nq.bz2\u001b[00m\n",
      "│   ├── \u001b[01;32mlong_abstracts_ksh.nt.bz2\u001b[00m\n",
      "│   ├── \u001b[01;32mpage_links_ksh.nq.bz2\u001b[00m\n",
      "│   ├── \u001b[01;32mpage_links_ksh.nt.bz2\u001b[00m\n",
      "│   ├── \u001b[01;32mshort_abstracts_ksh.nq.bz2\u001b[00m\n",
      "│   ├── \u001b[01;32mshort_abstracts_ksh.nt.bz2\u001b[00m\n",
      "│   ├── \u001b[01;32mwikipedia_links_ksh.nq.bz2\u001b[00m\n",
      "│   └── \u001b[01;32mwikipedia_links_ksh.nt.bz2\u001b[00m\n",
      "├── \u001b[01;34mku\u001b[00m\n",
      "│   ├── \u001b[01;32mgeo_coordinates_ku.nq.bz2\u001b[00m\n",
      "│   ├── \u001b[01;32mgeo_coordinates_ku.nt.bz2\u001b[00m\n",
      "│   ├── \u001b[01;32minfobox_properties_ku.nq.bz2\u001b[00m\n",
      "│   ├── \u001b[01;32minfobox_properties_ku.nt.bz2\u001b[00m\n",
      "│   ├── \u001b[01;32minfobox_property_definitions_ku.nq.bz2\u001b[00m\n",
      "│   ├── \u001b[01;32minfobox_property_definitions_ku.nt.bz2\u001b[00m\n",
      "│   ├── \u001b[01;32mlabels_ku.nq.bz2\u001b[00m\n",
      "│   ├── \u001b[01;32mlabels_ku.nt.bz2\u001b[00m\n",
      "│   ├── \u001b[01;32mlong_abstracts_ku.nq.bz2\u001b[00m\n",
      "│   ├── \u001b[01;32mlong_abstracts_ku.nt.bz2\u001b[00m\n",
      "│   ├── \u001b[01;32mpage_links_ku.nq.bz2\u001b[00m\n",
      "│   ├── \u001b[01;32mpage_links_ku.nt.bz2\u001b[00m\n",
      "│   ├── \u001b[01;32mshort_abstracts_ku.nq.bz2\u001b[00m\n",
      "│   ├── \u001b[01;32mshort_abstracts_ku.nt.bz2\u001b[00m\n",
      "│   ├── \u001b[01;32mwikipedia_links_ku.nq.bz2\u001b[00m\n",
      "│   └── \u001b[01;32mwikipedia_links_ku.nt.bz2\u001b[00m\n",
      "├── \u001b[01;34mla\u001b[00m\n",
      "│   ├── \u001b[01;32mgeo_coordinates_la.nq.bz2\u001b[00m\n",
      "│   ├── \u001b[01;32mgeo_coordinates_la.nt.bz2\u001b[00m\n",
      "│   ├── \u001b[01;32minfobox_properties_la.nq.bz2\u001b[00m\n",
      "│   ├── \u001b[01;32minfobox_properties_la.nt.bz2\u001b[00m\n",
      "│   ├── \u001b[01;32minfobox_property_definitions_la.nq.bz2\u001b[00m\n",
      "│   ├── \u001b[01;32minfobox_property_definitions_la.nt.bz2\u001b[00m\n",
      "│   ├── \u001b[01;32mlabels_la.nq.bz2\u001b[00m\n",
      "│   ├── \u001b[01;32mlabels_la.nt.bz2\u001b[00m\n",
      "│   ├── \u001b[01;32mlong_abstracts_la.nq.bz2\u001b[00m\n",
      "│   ├── \u001b[01;32mlong_abstracts_la.nt.bz2\u001b[00m\n",
      "│   ├── \u001b[01;32mpage_links_la.nq.bz2\u001b[00m\n",
      "│   ├── \u001b[01;32mpage_links_la.nt.bz2\u001b[00m\n",
      "│   ├── \u001b[01;32mshort_abstracts_la.nq.bz2\u001b[00m\n",
      "│   ├── \u001b[01;32mshort_abstracts_la.nt.bz2\u001b[00m\n",
      "│   ├── \u001b[01;32mwikipedia_links_la.nq.bz2\u001b[00m\n",
      "│   └── \u001b[01;32mwikipedia_links_la.nt.bz2\u001b[00m\n",
      "├── \u001b[01;34mlb\u001b[00m\n",
      "│   ├── \u001b[01;32mgeo_coordinates_lb.nq.bz2\u001b[00m\n",
      "│   ├── \u001b[01;32mgeo_coordinates_lb.nt.bz2\u001b[00m\n",
      "│   ├── \u001b[01;32minfobox_properties_lb.nq.bz2\u001b[00m\n",
      "│   ├── \u001b[01;32minfobox_properties_lb.nt.bz2\u001b[00m\n",
      "│   ├── \u001b[01;32minfobox_property_definitions_lb.nq.bz2\u001b[00m\n",
      "│   ├── \u001b[01;32minfobox_property_definitions_lb.nt.bz2\u001b[00m\n",
      "│   ├── \u001b[01;32mlabels_lb.nq.bz2\u001b[00m\n",
      "│   ├── \u001b[01;32mlabels_lb.nt.bz2\u001b[00m\n",
      "│   ├── \u001b[01;32mlong_abstracts_lb.nq.bz2\u001b[00m\n",
      "│   ├── \u001b[01;32mlong_abstracts_lb.nt.bz2\u001b[00m\n",
      "│   ├── \u001b[01;32mpage_links_lb.nq.bz2\u001b[00m\n",
      "│   ├── \u001b[01;32mpage_links_lb.nt.bz2\u001b[00m\n",
      "│   ├── \u001b[01;32mshort_abstracts_lb.nq.bz2\u001b[00m\n",
      "│   ├── \u001b[01;32mshort_abstracts_lb.nt.bz2\u001b[00m\n",
      "│   ├── \u001b[01;32mwikipedia_links_lb.nq.bz2\u001b[00m\n",
      "│   └── \u001b[01;32mwikipedia_links_lb.nt.bz2\u001b[00m\n",
      "├── \u001b[01;34mlinks\u001b[00m\n",
      "│   ├── \u001b[01;32mbookmashup_links.nt.bz2\u001b[00m\n",
      "│   ├── \u001b[01;32mdailymed_links.nt.bz2\u001b[00m\n",
      "│   ├── \u001b[01;32mdblp_links.nt.bz2\u001b[00m\n",
      "│   ├── \u001b[01;32mdiseasome_links.nt.bz2\u001b[00m\n",
      "│   ├── \u001b[01;32mdrugbank_links.nt.bz2\u001b[00m\n",
      "│   ├── \u001b[01;32meurostat_links.nt.bz2\u001b[00m\n",
      "│   ├── \u001b[01;32mfactbook_links.nt.bz2\u001b[00m\n",
      "│   ├── \u001b[01;32mflickr_links.nt.bz2\u001b[00m\n",
      "│   ├── \u001b[01;32mfreebase_links.nt.bz2\u001b[00m\n",
      "│   ├── \u001b[01;32mgeonames_links.nt.bz2\u001b[00m\n",
      "│   ├── \u001b[01;32mgutenberg_links.nt.bz2\u001b[00m\n",
      "│   ├── \u001b[01;32mmusicbrainz_links.nt.bz2\u001b[00m\n",
      "│   ├── \u001b[01;32mnyt_links.nt.bz2\u001b[00m\n",
      "│   ├── \u001b[01;32mopencyc_links.nt.bz2\u001b[00m\n",
      "│   ├── \u001b[01;32mrevyu_links.nt.bz2\u001b[00m\n",
      "│   ├── \u001b[01;32msider_links.nt.bz2\u001b[00m\n",
      "│   ├── \u001b[01;32mtcm_links.nt.bz2\u001b[00m\n",
      "│   ├── \u001b[01;32muscensus_links.nt.bz2\u001b[00m\n",
      "│   ├── \u001b[01;32mwikicompany_links.nt.bz2\u001b[00m\n",
      "│   ├── \u001b[01;32mwordnet_links.nt.bz2\u001b[00m\n",
      "│   ├── \u001b[01;32myagoclasses_links.nt.bz2\u001b[00m\n",
      "│   └── \u001b[01;32myago_links.nt.bz2\u001b[00m\n",
      "├── \u001b[01;34mlmo\u001b[00m\n",
      "│   ├── \u001b[01;32mgeo_coordinates_lmo.nq.bz2\u001b[00m\n",
      "│   ├── \u001b[01;32mgeo_coordinates_lmo.nt.bz2\u001b[00m\n",
      "│   ├── \u001b[01;32minfobox_properties_lmo.nq.bz2\u001b[00m\n",
      "│   ├── \u001b[01;32minfobox_properties_lmo.nt.bz2\u001b[00m\n",
      "│   ├── \u001b[01;32minfobox_property_definitions_lmo.nq.bz2\u001b[00m\n",
      "│   ├── \u001b[01;32minfobox_property_definitions_lmo.nt.bz2\u001b[00m\n",
      "│   ├── \u001b[01;32mlabels_lmo.nq.bz2\u001b[00m\n",
      "│   ├── \u001b[01;32mlabels_lmo.nt.bz2\u001b[00m\n",
      "│   ├── \u001b[01;32mlong_abstracts_lmo.nq.bz2\u001b[00m\n",
      "│   ├── \u001b[01;32mlong_abstracts_lmo.nt.bz2\u001b[00m\n",
      "│   ├── \u001b[01;32mpage_links_lmo.nq.bz2\u001b[00m\n",
      "│   ├── \u001b[01;32mpage_links_lmo.nt.bz2\u001b[00m\n",
      "│   ├── \u001b[01;32mshort_abstracts_lmo.nq.bz2\u001b[00m\n",
      "│   ├── \u001b[01;32mshort_abstracts_lmo.nt.bz2\u001b[00m\n",
      "│   ├── \u001b[01;32mwikipedia_links_lmo.nq.bz2\u001b[00m\n",
      "│   └── \u001b[01;32mwikipedia_links_lmo.nt.bz2\u001b[00m\n",
      "├── \u001b[01;34mlt\u001b[00m\n",
      "│   ├── \u001b[01;32mgeo_coordinates_lt.nq.bz2\u001b[00m\n",
      "│   ├── \u001b[01;32mgeo_coordinates_lt.nt.bz2\u001b[00m\n",
      "│   ├── \u001b[01;32minfobox_properties_lt.nq.bz2\u001b[00m\n",
      "│   ├── \u001b[01;32minfobox_properties_lt.nt.bz2\u001b[00m\n",
      "│   ├── \u001b[01;32minfobox_property_definitions_lt.nq.bz2\u001b[00m\n",
      "│   ├── \u001b[01;32minfobox_property_definitions_lt.nt.bz2\u001b[00m\n",
      "│   ├── \u001b[01;32mlabels_lt.nq.bz2\u001b[00m\n",
      "│   ├── \u001b[01;32mlabels_lt.nt.bz2\u001b[00m\n",
      "│   ├── \u001b[01;32mlong_abstracts_lt.nq.bz2\u001b[00m\n",
      "│   ├── \u001b[01;32mlong_abstracts_lt.nt.bz2\u001b[00m\n",
      "│   ├── \u001b[01;32mpage_links_lt.nq.bz2\u001b[00m\n",
      "│   ├── \u001b[01;32mpage_links_lt.nt.bz2\u001b[00m\n",
      "│   ├── \u001b[01;32mshort_abstracts_lt.nq.bz2\u001b[00m\n",
      "│   ├── \u001b[01;32mshort_abstracts_lt.nt.bz2\u001b[00m\n",
      "│   ├── \u001b[01;32mwikipedia_links_lt.nq.bz2\u001b[00m\n",
      "│   └── \u001b[01;32mwikipedia_links_lt.nt.bz2\u001b[00m\n",
      "├── \u001b[01;34mlv\u001b[00m\n",
      "│   ├── \u001b[01;32mgeo_coordinates_lv.nq.bz2\u001b[00m\n",
      "│   ├── \u001b[01;32mgeo_coordinates_lv.nt.bz2\u001b[00m\n",
      "│   ├── \u001b[01;32minfobox_properties_lv.nq.bz2\u001b[00m\n",
      "│   ├── \u001b[01;32minfobox_properties_lv.nt.bz2\u001b[00m\n",
      "│   ├── \u001b[01;32minfobox_property_definitions_lv.nq.bz2\u001b[00m\n",
      "│   ├── \u001b[01;32minfobox_property_definitions_lv.nt.bz2\u001b[00m\n",
      "│   ├── \u001b[01;32mlabels_lv.nq.bz2\u001b[00m\n",
      "│   ├── \u001b[01;32mlabels_lv.nt.bz2\u001b[00m\n",
      "│   ├── \u001b[01;32mlong_abstracts_lv.nq.bz2\u001b[00m\n",
      "│   ├── \u001b[01;32mlong_abstracts_lv.nt.bz2\u001b[00m\n",
      "│   ├── \u001b[01;32mpage_links_lv.nq.bz2\u001b[00m\n",
      "│   ├── \u001b[01;32mpage_links_lv.nt.bz2\u001b[00m\n",
      "│   ├── \u001b[01;32mshort_abstracts_lv.nq.bz2\u001b[00m\n",
      "│   ├── \u001b[01;32mshort_abstracts_lv.nt.bz2\u001b[00m\n",
      "│   ├── \u001b[01;32mwikipedia_links_lv.nq.bz2\u001b[00m\n",
      "│   └── \u001b[01;32mwikipedia_links_lv.nt.bz2\u001b[00m\n",
      "├── \u001b[01;34mmk\u001b[00m\n",
      "│   ├── \u001b[01;32mgeo_coordinates_mk.nq.bz2\u001b[00m\n",
      "│   ├── \u001b[01;32mgeo_coordinates_mk.nt.bz2\u001b[00m\n",
      "│   ├── \u001b[01;32minfobox_properties_mk.nq.bz2\u001b[00m\n",
      "│   ├── \u001b[01;32minfobox_properties_mk.nt.bz2\u001b[00m\n",
      "│   ├── \u001b[01;32minfobox_property_definitions_mk.nq.bz2\u001b[00m\n",
      "│   ├── \u001b[01;32minfobox_property_definitions_mk.nt.bz2\u001b[00m\n",
      "│   ├── \u001b[01;32mlabels_mk.nq.bz2\u001b[00m\n",
      "│   ├── \u001b[01;32mlabels_mk.nt.bz2\u001b[00m\n",
      "│   ├── \u001b[01;32mlong_abstracts_mk.nq.bz2\u001b[00m\n",
      "│   ├── \u001b[01;32mlong_abstracts_mk.nt.bz2\u001b[00m\n",
      "│   ├── \u001b[01;32mpage_links_mk.nq.bz2\u001b[00m\n",
      "│   ├── \u001b[01;32mpage_links_mk.nt.bz2\u001b[00m\n",
      "│   ├── \u001b[01;32mshort_abstracts_mk.nq.bz2\u001b[00m\n",
      "│   ├── \u001b[01;32mshort_abstracts_mk.nt.bz2\u001b[00m\n",
      "│   ├── \u001b[01;32mwikipedia_links_mk.nq.bz2\u001b[00m\n",
      "│   └── \u001b[01;32mwikipedia_links_mk.nt.bz2\u001b[00m\n",
      "├── \u001b[01;34mml\u001b[00m\n",
      "│   ├── \u001b[01;32mgeo_coordinates_ml.nq.bz2\u001b[00m\n",
      "│   ├── \u001b[01;32mgeo_coordinates_ml.nt.bz2\u001b[00m\n",
      "│   ├── \u001b[01;32minfobox_properties_ml.nq.bz2\u001b[00m\n",
      "│   ├── \u001b[01;32minfobox_properties_ml.nt.bz2\u001b[00m\n",
      "│   ├── \u001b[01;32minfobox_property_definitions_ml.nq.bz2\u001b[00m\n",
      "│   ├── \u001b[01;32minfobox_property_definitions_ml.nt.bz2\u001b[00m\n",
      "│   ├── \u001b[01;32mlabels_ml.nq.bz2\u001b[00m\n",
      "│   ├── \u001b[01;32mlabels_ml.nt.bz2\u001b[00m\n",
      "│   ├── \u001b[01;32mlong_abstracts_ml.nq.bz2\u001b[00m\n",
      "│   ├── \u001b[01;32mlong_abstracts_ml.nt.bz2\u001b[00m\n",
      "│   ├── \u001b[01;32mpage_links_ml.nq.bz2\u001b[00m\n",
      "│   ├── \u001b[01;32mpage_links_ml.nt.bz2\u001b[00m\n",
      "│   ├── \u001b[01;32mshort_abstracts_ml.nq.bz2\u001b[00m\n",
      "│   ├── \u001b[01;32mshort_abstracts_ml.nt.bz2\u001b[00m\n",
      "│   ├── \u001b[01;32mwikipedia_links_ml.nq.bz2\u001b[00m\n",
      "│   └── \u001b[01;32mwikipedia_links_ml.nt.bz2\u001b[00m\n",
      "├── \u001b[01;34mmr\u001b[00m\n",
      "│   ├── \u001b[01;32mgeo_coordinates_mr.nq.bz2\u001b[00m\n",
      "│   ├── \u001b[01;32mgeo_coordinates_mr.nt.bz2\u001b[00m\n",
      "│   ├── \u001b[01;32minfobox_properties_mr.nq.bz2\u001b[00m\n",
      "│   ├── \u001b[01;32minfobox_properties_mr.nt.bz2\u001b[00m\n",
      "│   ├── \u001b[01;32minfobox_property_definitions_mr.nq.bz2\u001b[00m\n",
      "│   ├── \u001b[01;32minfobox_property_definitions_mr.nt.bz2\u001b[00m\n",
      "│   ├── \u001b[01;32mlabels_mr.nq.bz2\u001b[00m\n",
      "│   ├── \u001b[01;32mlabels_mr.nt.bz2\u001b[00m\n",
      "│   ├── \u001b[01;32mlong_abstracts_mr.nq.bz2\u001b[00m\n",
      "│   ├── \u001b[01;32mlong_abstracts_mr.nt.bz2\u001b[00m\n",
      "│   ├── \u001b[01;32mpage_links_mr.nq.bz2\u001b[00m\n",
      "│   ├── \u001b[01;32mpage_links_mr.nt.bz2\u001b[00m\n",
      "│   ├── \u001b[01;32mshort_abstracts_mr.nq.bz2\u001b[00m\n",
      "│   ├── \u001b[01;32mshort_abstracts_mr.nt.bz2\u001b[00m\n",
      "│   ├── \u001b[01;32mwikipedia_links_mr.nq.bz2\u001b[00m\n",
      "│   └── \u001b[01;32mwikipedia_links_mr.nt.bz2\u001b[00m\n",
      "├── \u001b[01;34mms\u001b[00m\n",
      "│   ├── \u001b[01;32mgeo_coordinates_ms.nq.bz2\u001b[00m\n",
      "│   ├── \u001b[01;32mgeo_coordinates_ms.nt.bz2\u001b[00m\n",
      "│   ├── \u001b[01;32minfobox_properties_ms.nq.bz2\u001b[00m\n",
      "│   ├── \u001b[01;32minfobox_properties_ms.nt.bz2\u001b[00m\n",
      "│   ├── \u001b[01;32minfobox_property_definitions_ms.nq.bz2\u001b[00m\n",
      "│   ├── \u001b[01;32minfobox_property_definitions_ms.nt.bz2\u001b[00m\n",
      "│   ├── \u001b[01;32mlabels_ms.nq.bz2\u001b[00m\n",
      "│   ├── \u001b[01;32mlabels_ms.nt.bz2\u001b[00m\n",
      "│   ├── \u001b[01;32mlong_abstracts_ms.nq.bz2\u001b[00m\n",
      "│   ├── \u001b[01;32mlong_abstracts_ms.nt.bz2\u001b[00m\n",
      "│   ├── \u001b[01;32mpage_links_ms.nq.bz2\u001b[00m\n",
      "│   ├── \u001b[01;32mpage_links_ms.nt.bz2\u001b[00m\n",
      "│   ├── \u001b[01;32mshort_abstracts_ms.nq.bz2\u001b[00m\n",
      "│   ├── \u001b[01;32mshort_abstracts_ms.nt.bz2\u001b[00m\n",
      "│   ├── \u001b[01;32mwikipedia_links_ms.nq.bz2\u001b[00m\n",
      "│   └── \u001b[01;32mwikipedia_links_ms.nt.bz2\u001b[00m\n",
      "├── \u001b[01;34mnap\u001b[00m\n",
      "│   ├── \u001b[01;32minfobox_properties_nap.nq.bz2\u001b[00m\n",
      "│   ├── \u001b[01;32minfobox_properties_nap.nt.bz2\u001b[00m\n",
      "│   ├── \u001b[01;32minfobox_property_definitions_nap.nq.bz2\u001b[00m\n",
      "│   ├── \u001b[01;32minfobox_property_definitions_nap.nt.bz2\u001b[00m\n",
      "│   ├── \u001b[01;32mlabels_nap.nq.bz2\u001b[00m\n",
      "│   ├── \u001b[01;32mlabels_nap.nt.bz2\u001b[00m\n",
      "│   ├── \u001b[01;32mlong_abstracts_nap.nq.bz2\u001b[00m\n",
      "│   ├── \u001b[01;32mlong_abstracts_nap.nt.bz2\u001b[00m\n",
      "│   ├── \u001b[01;32mpage_links_nap.nq.bz2\u001b[00m\n",
      "│   ├── \u001b[01;32mpage_links_nap.nt.bz2\u001b[00m\n",
      "│   ├── \u001b[01;32mshort_abstracts_nap.nq.bz2\u001b[00m\n",
      "│   ├── \u001b[01;32mshort_abstracts_nap.nt.bz2\u001b[00m\n",
      "│   ├── \u001b[01;32mwikipedia_links_nap.nq.bz2\u001b[00m\n",
      "│   └── \u001b[01;32mwikipedia_links_nap.nt.bz2\u001b[00m\n",
      "├── \u001b[01;34mnds\u001b[00m\n",
      "│   ├── \u001b[01;32minfobox_properties_nds.nq.bz2\u001b[00m\n",
      "│   ├── \u001b[01;32minfobox_properties_nds.nt.bz2\u001b[00m\n",
      "│   ├── \u001b[01;32minfobox_property_definitions_nds.nq.bz2\u001b[00m\n",
      "│   ├── \u001b[01;32minfobox_property_definitions_nds.nt.bz2\u001b[00m\n",
      "│   ├── \u001b[01;32mlabels_nds.nq.bz2\u001b[00m\n",
      "│   ├── \u001b[01;32mlabels_nds.nt.bz2\u001b[00m\n",
      "│   ├── \u001b[01;32mlong_abstracts_nds.nq.bz2\u001b[00m\n",
      "│   ├── \u001b[01;32mlong_abstracts_nds.nt.bz2\u001b[00m\n",
      "│   ├── \u001b[01;32mpage_links_nds.nq.bz2\u001b[00m\n",
      "│   ├── \u001b[01;32mpage_links_nds.nt.bz2\u001b[00m\n",
      "│   ├── \u001b[01;32mshort_abstracts_nds.nq.bz2\u001b[00m\n",
      "│   ├── \u001b[01;32mshort_abstracts_nds.nt.bz2\u001b[00m\n",
      "│   ├── \u001b[01;32mwikipedia_links_nds.nq.bz2\u001b[00m\n",
      "│   └── \u001b[01;32mwikipedia_links_nds.nt.bz2\u001b[00m\n",
      "├── \u001b[01;34mnew\u001b[00m\n",
      "│   ├── \u001b[01;32mgeo_coordinates_new.nq.bz2\u001b[00m\n",
      "│   ├── \u001b[01;32mgeo_coordinates_new.nt.bz2\u001b[00m\n",
      "│   ├── \u001b[01;32minfobox_properties_new.nq.bz2\u001b[00m\n",
      "│   ├── \u001b[01;32minfobox_properties_new.nt.bz2\u001b[00m\n",
      "│   ├── \u001b[01;32minfobox_property_definitions_new.nq.bz2\u001b[00m\n",
      "│   ├── \u001b[01;32minfobox_property_definitions_new.nt.bz2\u001b[00m\n",
      "│   ├── \u001b[01;32mlabels_new.nq.bz2\u001b[00m\n",
      "│   ├── \u001b[01;32mlabels_new.nt.bz2\u001b[00m\n",
      "│   ├── \u001b[01;32mlong_abstracts_new.nq.bz2\u001b[00m\n",
      "│   ├── \u001b[01;32mlong_abstracts_new.nt.bz2\u001b[00m\n",
      "│   ├── \u001b[01;32mpage_links_new.nq.bz2\u001b[00m\n",
      "│   ├── \u001b[01;32mpage_links_new.nt.bz2\u001b[00m\n",
      "│   ├── \u001b[01;32mshort_abstracts_new.nq.bz2\u001b[00m\n",
      "│   ├── \u001b[01;32mshort_abstracts_new.nt.bz2\u001b[00m\n",
      "│   ├── \u001b[01;32mwikipedia_links_new.nq.bz2\u001b[00m\n",
      "│   └── \u001b[01;32mwikipedia_links_new.nt.bz2\u001b[00m\n",
      "├── \u001b[01;34mnl\u001b[00m\n",
      "│   ├── \u001b[01;32mgeo_coordinates_nl.nq.bz2\u001b[00m\n",
      "│   ├── \u001b[01;32mgeo_coordinates_nl.nt.bz2\u001b[00m\n",
      "│   ├── \u001b[01;32minfobox_properties_nl.nq.bz2\u001b[00m\n",
      "│   ├── \u001b[01;32minfobox_properties_nl.nt.bz2\u001b[00m\n",
      "│   ├── \u001b[01;32minfobox_property_definitions_nl.nq.bz2\u001b[00m\n",
      "│   ├── \u001b[01;32minfobox_property_definitions_nl.nt.bz2\u001b[00m\n",
      "│   ├── \u001b[01;32mlabels_nl.nq.bz2\u001b[00m\n",
      "│   ├── \u001b[01;32mlabels_nl.nt.bz2\u001b[00m\n",
      "│   ├── \u001b[01;32mlong_abstracts_nl.nq.bz2\u001b[00m\n",
      "│   ├── \u001b[01;32mlong_abstracts_nl.nt.bz2\u001b[00m\n",
      "│   ├── \u001b[01;32mpage_links_nl.nq.bz2\u001b[00m\n",
      "│   ├── \u001b[01;32mpage_links_nl.nt.bz2\u001b[00m\n",
      "│   ├── \u001b[01;32mshort_abstracts_nl.nq.bz2\u001b[00m\n",
      "│   ├── \u001b[01;32mshort_abstracts_nl.nt.bz2\u001b[00m\n",
      "│   ├── \u001b[01;32mwikipedia_links_nl.nq.bz2\u001b[00m\n",
      "│   └── \u001b[01;32mwikipedia_links_nl.nt.bz2\u001b[00m\n",
      "├── \u001b[01;34mnn\u001b[00m\n",
      "│   ├── \u001b[01;32mgeo_coordinates_nn.nq.bz2\u001b[00m\n",
      "│   ├── \u001b[01;32mgeo_coordinates_nn.nt.bz2\u001b[00m\n",
      "│   ├── \u001b[01;32minfobox_properties_nn.nq.bz2\u001b[00m\n",
      "│   ├── \u001b[01;32minfobox_properties_nn.nt.bz2\u001b[00m\n",
      "│   ├── \u001b[01;32minfobox_property_definitions_nn.nq.bz2\u001b[00m\n",
      "│   ├── \u001b[01;32minfobox_property_definitions_nn.nt.bz2\u001b[00m\n",
      "│   ├── \u001b[01;32mlabels_nn.nq.bz2\u001b[00m\n",
      "│   ├── \u001b[01;32mlabels_nn.nt.bz2\u001b[00m\n",
      "│   ├── \u001b[01;32mlong_abstracts_nn.nq.bz2\u001b[00m\n",
      "│   ├── \u001b[01;32mlong_abstracts_nn.nt.bz2\u001b[00m\n",
      "│   ├── \u001b[01;32mpage_links_nn.nq.bz2\u001b[00m\n",
      "│   ├── \u001b[01;32mpage_links_nn.nt.bz2\u001b[00m\n",
      "│   ├── \u001b[01;32mshort_abstracts_nn.nq.bz2\u001b[00m\n",
      "│   ├── \u001b[01;32mshort_abstracts_nn.nt.bz2\u001b[00m\n",
      "│   ├── \u001b[01;32mwikipedia_links_nn.nq.bz2\u001b[00m\n",
      "│   └── \u001b[01;32mwikipedia_links_nn.nt.bz2\u001b[00m\n",
      "├── \u001b[01;34mno\u001b[00m\n",
      "│   ├── \u001b[01;32mgeo_coordinates_no.nq.bz2\u001b[00m\n",
      "│   ├── \u001b[01;32mgeo_coordinates_no.nt.bz2\u001b[00m\n",
      "│   ├── \u001b[01;32minfobox_properties_no.nq.bz2\u001b[00m\n",
      "│   ├── \u001b[01;32minfobox_properties_no.nt.bz2\u001b[00m\n",
      "│   ├── \u001b[01;32minfobox_property_definitions_no.nq.bz2\u001b[00m\n",
      "│   ├── \u001b[01;32minfobox_property_definitions_no.nt.bz2\u001b[00m\n",
      "│   ├── \u001b[01;32mlabels_no.nq.bz2\u001b[00m\n",
      "│   ├── \u001b[01;32mlabels_no.nt.bz2\u001b[00m\n",
      "│   ├── \u001b[01;32mlong_abstracts_no.nq.bz2\u001b[00m\n",
      "│   ├── \u001b[01;32mlong_abstracts_no.nt.bz2\u001b[00m\n",
      "│   ├── \u001b[01;32mpage_links_no.nq.bz2\u001b[00m\n",
      "│   ├── \u001b[01;32mpage_links_no.nt.bz2\u001b[00m\n",
      "│   ├── \u001b[01;32mshort_abstracts_no.nq.bz2\u001b[00m\n",
      "│   ├── \u001b[01;32mshort_abstracts_no.nt.bz2\u001b[00m\n",
      "│   ├── \u001b[01;32mwikipedia_links_no.nq.bz2\u001b[00m\n",
      "│   └── \u001b[01;32mwikipedia_links_no.nt.bz2\u001b[00m\n",
      "├── \u001b[01;34moc\u001b[00m\n",
      "│   ├── \u001b[01;32mgeo_coordinates_oc.nq.bz2\u001b[00m\n",
      "│   ├── \u001b[01;32mgeo_coordinates_oc.nt.bz2\u001b[00m\n",
      "│   ├── \u001b[01;32minfobox_properties_oc.nq.bz2\u001b[00m\n",
      "│   ├── \u001b[01;32minfobox_properties_oc.nt.bz2\u001b[00m\n",
      "│   ├── \u001b[01;32minfobox_property_definitions_oc.nq.bz2\u001b[00m\n",
      "│   ├── \u001b[01;32minfobox_property_definitions_oc.nt.bz2\u001b[00m\n",
      "│   ├── \u001b[01;32mlabels_oc.nq.bz2\u001b[00m\n",
      "│   ├── \u001b[01;32mlabels_oc.nt.bz2\u001b[00m\n",
      "│   ├── \u001b[01;32mlong_abstracts_oc.nq.bz2\u001b[00m\n",
      "│   ├── \u001b[01;32mlong_abstracts_oc.nt.bz2\u001b[00m\n",
      "│   ├── \u001b[01;32mpage_links_oc.nq.bz2\u001b[00m\n",
      "│   ├── \u001b[01;32mpage_links_oc.nt.bz2\u001b[00m\n",
      "│   ├── \u001b[01;32mshort_abstracts_oc.nq.bz2\u001b[00m\n",
      "│   ├── \u001b[01;32mshort_abstracts_oc.nt.bz2\u001b[00m\n",
      "│   ├── \u001b[01;32mwikipedia_links_oc.nq.bz2\u001b[00m\n",
      "│   └── \u001b[01;32mwikipedia_links_oc.nt.bz2\u001b[00m\n",
      "├── \u001b[01;34mpl\u001b[00m\n",
      "│   ├── \u001b[01;32mgeo_coordinates_pl.nq.bz2\u001b[00m\n",
      "│   ├── \u001b[01;32mgeo_coordinates_pl.nt.bz2\u001b[00m\n",
      "│   ├── \u001b[01;32minfobox_properties_pl.nq.bz2\u001b[00m\n",
      "│   ├── \u001b[01;32minfobox_properties_pl.nt.bz2\u001b[00m\n",
      "│   ├── \u001b[01;32minfobox_property_definitions_pl.nq.bz2\u001b[00m\n",
      "│   ├── \u001b[01;32minfobox_property_definitions_pl.nt.bz2\u001b[00m\n",
      "│   ├── \u001b[01;32mlabels_pl.nq.bz2\u001b[00m\n",
      "│   ├── \u001b[01;32mlabels_pl.nt.bz2\u001b[00m\n",
      "│   ├── \u001b[01;32mlong_abstracts_pl.nq.bz2\u001b[00m\n",
      "│   ├── \u001b[01;32mlong_abstracts_pl.nt.bz2\u001b[00m\n",
      "│   ├── \u001b[01;32mpage_links_pl.nq.bz2\u001b[00m\n",
      "│   ├── \u001b[01;32mpage_links_pl.nt.bz2\u001b[00m\n",
      "│   ├── \u001b[01;32mshort_abstracts_pl.nq.bz2\u001b[00m\n",
      "│   ├── \u001b[01;32mshort_abstracts_pl.nt.bz2\u001b[00m\n",
      "│   ├── \u001b[01;32mwikipedia_links_pl.nq.bz2\u001b[00m\n",
      "│   └── \u001b[01;32mwikipedia_links_pl.nt.bz2\u001b[00m\n",
      "├── \u001b[01;34mpms\u001b[00m\n",
      "│   ├── \u001b[01;32mgeo_coordinates_pms.nq.bz2\u001b[00m\n",
      "│   ├── \u001b[01;32mgeo_coordinates_pms.nt.bz2\u001b[00m\n",
      "│   ├── \u001b[01;32minfobox_properties_pms.nq.bz2\u001b[00m\n",
      "│   ├── \u001b[01;32minfobox_properties_pms.nt.bz2\u001b[00m\n",
      "│   ├── \u001b[01;32minfobox_property_definitions_pms.nq.bz2\u001b[00m\n",
      "│   ├── \u001b[01;32minfobox_property_definitions_pms.nt.bz2\u001b[00m\n",
      "│   ├── \u001b[01;32mlabels_pms.nq.bz2\u001b[00m\n",
      "│   ├── \u001b[01;32mlabels_pms.nt.bz2\u001b[00m\n",
      "│   ├── \u001b[01;32mlong_abstracts_pms.nq.bz2\u001b[00m\n",
      "│   ├── \u001b[01;32mlong_abstracts_pms.nt.bz2\u001b[00m\n",
      "│   ├── \u001b[01;32mpage_links_pms.nq.bz2\u001b[00m\n",
      "│   ├── \u001b[01;32mpage_links_pms.nt.bz2\u001b[00m\n",
      "│   ├── \u001b[01;32mshort_abstracts_pms.nq.bz2\u001b[00m\n",
      "│   ├── \u001b[01;32mshort_abstracts_pms.nt.bz2\u001b[00m\n",
      "│   ├── \u001b[01;32mwikipedia_links_pms.nq.bz2\u001b[00m\n",
      "│   └── \u001b[01;32mwikipedia_links_pms.nt.bz2\u001b[00m\n",
      "├── \u001b[01;34mpt\u001b[00m\n",
      "│   ├── \u001b[01;32mgeo_coordinates_pt.nq.bz2\u001b[00m\n",
      "│   ├── \u001b[01;32mgeo_coordinates_pt.nt.bz2\u001b[00m\n",
      "│   ├── \u001b[01;32minfobox_properties_pt.nq.bz2\u001b[00m\n",
      "│   ├── \u001b[01;32minfobox_properties_pt.nt.bz2\u001b[00m\n",
      "│   ├── \u001b[01;32minfobox_property_definitions_pt.nq.bz2\u001b[00m\n",
      "│   ├── \u001b[01;32minfobox_property_definitions_pt.nt.bz2\u001b[00m\n",
      "│   ├── \u001b[01;32mlabels_pt.nq.bz2\u001b[00m\n",
      "│   ├── \u001b[01;32mlabels_pt.nt.bz2\u001b[00m\n",
      "│   ├── \u001b[01;32mlong_abstracts_pt.nq.bz2\u001b[00m\n",
      "│   ├── \u001b[01;32mlong_abstracts_pt.nt.bz2\u001b[00m\n",
      "│   ├── \u001b[01;32mpage_links_pt.nq.bz2\u001b[00m\n",
      "│   ├── \u001b[01;32mpage_links_pt.nt.bz2\u001b[00m\n",
      "│   ├── \u001b[01;32mshort_abstracts_pt.nq.bz2\u001b[00m\n",
      "│   ├── \u001b[01;32mshort_abstracts_pt.nt.bz2\u001b[00m\n",
      "│   ├── \u001b[01;32mwikipedia_links_pt.nq.bz2\u001b[00m\n",
      "│   └── \u001b[01;32mwikipedia_links_pt.nt.bz2\u001b[00m\n",
      "├── \u001b[01;34mqu\u001b[00m\n",
      "│   ├── \u001b[01;32mgeo_coordinates_qu.nq.bz2\u001b[00m\n",
      "│   ├── \u001b[01;32mgeo_coordinates_qu.nt.bz2\u001b[00m\n",
      "│   ├── \u001b[01;32minfobox_properties_qu.nq.bz2\u001b[00m\n",
      "│   ├── \u001b[01;32minfobox_properties_qu.nt.bz2\u001b[00m\n",
      "│   ├── \u001b[01;32minfobox_property_definitions_qu.nq.bz2\u001b[00m\n",
      "│   ├── \u001b[01;32minfobox_property_definitions_qu.nt.bz2\u001b[00m\n",
      "│   ├── \u001b[01;32mlabels_qu.nq.bz2\u001b[00m\n",
      "│   ├── \u001b[01;32mlabels_qu.nt.bz2\u001b[00m\n",
      "│   ├── \u001b[01;32mlong_abstracts_qu.nq.bz2\u001b[00m\n",
      "│   ├── \u001b[01;32mlong_abstracts_qu.nt.bz2\u001b[00m\n",
      "│   ├── \u001b[01;32mpage_links_qu.nq.bz2\u001b[00m\n",
      "│   ├── \u001b[01;32mpage_links_qu.nt.bz2\u001b[00m\n",
      "│   ├── \u001b[01;32mshort_abstracts_qu.nq.bz2\u001b[00m\n",
      "│   ├── \u001b[01;32mshort_abstracts_qu.nt.bz2\u001b[00m\n",
      "│   ├── \u001b[01;32mwikipedia_links_qu.nq.bz2\u001b[00m\n",
      "│   └── \u001b[01;32mwikipedia_links_qu.nt.bz2\u001b[00m\n",
      "├── \u001b[01;34mro\u001b[00m\n",
      "│   ├── \u001b[01;32mgeo_coordinates_ro.nq.bz2\u001b[00m\n",
      "│   ├── \u001b[01;32mgeo_coordinates_ro.nt.bz2\u001b[00m\n",
      "│   ├── \u001b[01;32minfobox_properties_ro.nq.bz2\u001b[00m\n",
      "│   ├── \u001b[01;32minfobox_properties_ro.nt.bz2\u001b[00m\n",
      "│   ├── \u001b[01;32minfobox_property_definitions_ro.nq.bz2\u001b[00m\n",
      "│   ├── \u001b[01;32minfobox_property_definitions_ro.nt.bz2\u001b[00m\n",
      "│   ├── \u001b[01;32mlabels_ro.nq.bz2\u001b[00m\n",
      "│   ├── \u001b[01;32mlabels_ro.nt.bz2\u001b[00m\n",
      "│   ├── \u001b[01;32mlong_abstracts_ro.nq.bz2\u001b[00m\n",
      "│   ├── \u001b[01;32mlong_abstracts_ro.nt.bz2\u001b[00m\n",
      "│   ├── \u001b[01;32mpage_links_ro.nq.bz2\u001b[00m\n",
      "│   ├── \u001b[01;32mpage_links_ro.nt.bz2\u001b[00m\n",
      "│   ├── \u001b[01;32mshort_abstracts_ro.nq.bz2\u001b[00m\n",
      "│   ├── \u001b[01;32mshort_abstracts_ro.nt.bz2\u001b[00m\n",
      "│   ├── \u001b[01;32mwikipedia_links_ro.nq.bz2\u001b[00m\n",
      "│   └── \u001b[01;32mwikipedia_links_ro.nt.bz2\u001b[00m\n",
      "├── \u001b[01;34mru\u001b[00m\n",
      "│   ├── \u001b[01;32mgeo_coordinates_ru.nq.bz2\u001b[00m\n",
      "│   ├── \u001b[01;32mgeo_coordinates_ru.nt.bz2\u001b[00m\n",
      "│   ├── \u001b[01;32minfobox_properties_ru.nq.bz2\u001b[00m\n",
      "│   ├── \u001b[01;32minfobox_properties_ru.nt.bz2\u001b[00m\n",
      "│   ├── \u001b[01;32minfobox_property_definitions_ru.nq.bz2\u001b[00m\n",
      "│   ├── \u001b[01;32minfobox_property_definitions_ru.nt.bz2\u001b[00m\n",
      "│   ├── \u001b[01;32mlabels_ru.nq.bz2\u001b[00m\n",
      "│   ├── \u001b[01;32mlabels_ru.nt.bz2\u001b[00m\n",
      "│   ├── \u001b[01;32mlong_abstracts_ru.nq.bz2\u001b[00m\n",
      "│   ├── \u001b[01;32mlong_abstracts_ru.nt.bz2\u001b[00m\n",
      "│   ├── \u001b[01;32mpage_links_ru.nq.bz2\u001b[00m\n",
      "│   ├── \u001b[01;32mpage_links_ru.nt.bz2\u001b[00m\n",
      "│   ├── \u001b[01;32mshort_abstracts_ru.nq.bz2\u001b[00m\n",
      "│   ├── \u001b[01;32mshort_abstracts_ru.nt.bz2\u001b[00m\n",
      "│   ├── \u001b[01;32mwikipedia_links_ru.nq.bz2\u001b[00m\n",
      "│   └── \u001b[01;32mwikipedia_links_ru.nt.bz2\u001b[00m\n",
      "├── \u001b[01;34mscn\u001b[00m\n",
      "│   ├── \u001b[01;32minfobox_properties_scn.nq.bz2\u001b[00m\n",
      "│   ├── \u001b[01;32minfobox_properties_scn.nt.bz2\u001b[00m\n",
      "│   ├── \u001b[01;32minfobox_property_definitions_scn.nq.bz2\u001b[00m\n",
      "│   ├── \u001b[01;32minfobox_property_definitions_scn.nt.bz2\u001b[00m\n",
      "│   ├── \u001b[01;32mlabels_scn.nq.bz2\u001b[00m\n",
      "│   ├── \u001b[01;32mlabels_scn.nt.bz2\u001b[00m\n",
      "│   ├── \u001b[01;32mlong_abstracts_scn.nq.bz2\u001b[00m\n",
      "│   ├── \u001b[01;32mlong_abstracts_scn.nt.bz2\u001b[00m\n",
      "│   ├── \u001b[01;32mpage_links_scn.nq.bz2\u001b[00m\n",
      "│   ├── \u001b[01;32mpage_links_scn.nt.bz2\u001b[00m\n",
      "│   ├── \u001b[01;32mshort_abstracts_scn.nq.bz2\u001b[00m\n",
      "│   ├── \u001b[01;32mshort_abstracts_scn.nt.bz2\u001b[00m\n",
      "│   ├── \u001b[01;32mwikipedia_links_scn.nq.bz2\u001b[00m\n",
      "│   └── \u001b[01;32mwikipedia_links_scn.nt.bz2\u001b[00m\n",
      "├── \u001b[01;34msh\u001b[00m\n",
      "│   ├── \u001b[01;32mgeo_coordinates_sh.nq.bz2\u001b[00m\n",
      "│   ├── \u001b[01;32mgeo_coordinates_sh.nt.bz2\u001b[00m\n",
      "│   ├── \u001b[01;32minfobox_properties_sh.nq.bz2\u001b[00m\n",
      "│   ├── \u001b[01;32minfobox_properties_sh.nt.bz2\u001b[00m\n",
      "│   ├── \u001b[01;32minfobox_property_definitions_sh.nq.bz2\u001b[00m\n",
      "│   ├── \u001b[01;32minfobox_property_definitions_sh.nt.bz2\u001b[00m\n",
      "│   ├── \u001b[01;32mlabels_sh.nq.bz2\u001b[00m\n",
      "│   ├── \u001b[01;32mlabels_sh.nt.bz2\u001b[00m\n",
      "│   ├── \u001b[01;32mlong_abstracts_sh.nq.bz2\u001b[00m\n",
      "│   ├── \u001b[01;32mlong_abstracts_sh.nt.bz2\u001b[00m\n",
      "│   ├── \u001b[01;32mpage_links_sh.nq.bz2\u001b[00m\n",
      "│   ├── \u001b[01;32mpage_links_sh.nt.bz2\u001b[00m\n",
      "│   ├── \u001b[01;32mshort_abstracts_sh.nq.bz2\u001b[00m\n",
      "│   ├── \u001b[01;32mshort_abstracts_sh.nt.bz2\u001b[00m\n",
      "│   ├── \u001b[01;32mwikipedia_links_sh.nq.bz2\u001b[00m\n",
      "│   └── \u001b[01;32mwikipedia_links_sh.nt.bz2\u001b[00m\n",
      "├── \u001b[01;34msimple\u001b[00m\n",
      "│   ├── \u001b[01;32mgeo_coordinates_simple.nq.bz2\u001b[00m\n",
      "│   ├── \u001b[01;32mgeo_coordinates_simple.nt.bz2\u001b[00m\n",
      "│   ├── \u001b[01;32minfobox_properties_simple.nq.bz2\u001b[00m\n",
      "│   ├── \u001b[01;32minfobox_properties_simple.nt.bz2\u001b[00m\n",
      "│   ├── \u001b[01;32minfobox_property_definitions_simple.nq.bz2\u001b[00m\n",
      "│   ├── \u001b[01;32minfobox_property_definitions_simple.nt.bz2\u001b[00m\n",
      "│   ├── \u001b[01;32mlabels_simple.nq.bz2\u001b[00m\n",
      "│   ├── \u001b[01;32mlabels_simple.nt.bz2\u001b[00m\n",
      "│   ├── \u001b[01;32mlong_abstracts_simple.nq.bz2\u001b[00m\n",
      "│   ├── \u001b[01;32mlong_abstracts_simple.nt.bz2\u001b[00m\n",
      "│   ├── \u001b[01;32mpage_links_simple.nq.bz2\u001b[00m\n",
      "│   ├── \u001b[01;32mpage_links_simple.nt.bz2\u001b[00m\n",
      "│   ├── \u001b[01;32mshort_abstracts_simple.nq.bz2\u001b[00m\n",
      "│   ├── \u001b[01;32mshort_abstracts_simple.nt.bz2\u001b[00m\n",
      "│   ├── \u001b[01;32mwikipedia_links_simple.nq.bz2\u001b[00m\n",
      "│   └── \u001b[01;32mwikipedia_links_simple.nt.bz2\u001b[00m\n",
      "├── \u001b[01;34msk\u001b[00m\n",
      "│   ├── \u001b[01;32mgeo_coordinates_sk.nq.bz2\u001b[00m\n",
      "│   ├── \u001b[01;32mgeo_coordinates_sk.nt.bz2\u001b[00m\n",
      "│   ├── \u001b[01;32minfobox_properties_sk.nq.bz2\u001b[00m\n",
      "│   ├── \u001b[01;32minfobox_properties_sk.nt.bz2\u001b[00m\n",
      "│   ├── \u001b[01;32minfobox_property_definitions_sk.nq.bz2\u001b[00m\n",
      "│   ├── \u001b[01;32minfobox_property_definitions_sk.nt.bz2\u001b[00m\n",
      "│   ├── \u001b[01;32mlabels_sk.nq.bz2\u001b[00m\n",
      "│   ├── \u001b[01;32mlabels_sk.nt.bz2\u001b[00m\n",
      "│   ├── \u001b[01;32mlong_abstracts_sk.nq.bz2\u001b[00m\n",
      "│   ├── \u001b[01;32mlong_abstracts_sk.nt.bz2\u001b[00m\n",
      "│   ├── \u001b[01;32mpage_links_sk.nq.bz2\u001b[00m\n",
      "│   ├── \u001b[01;32mpage_links_sk.nt.bz2\u001b[00m\n",
      "│   ├── \u001b[01;32mshort_abstracts_sk.nq.bz2\u001b[00m\n",
      "│   ├── \u001b[01;32mshort_abstracts_sk.nt.bz2\u001b[00m\n",
      "│   ├── \u001b[01;32mwikipedia_links_sk.nq.bz2\u001b[00m\n",
      "│   └── \u001b[01;32mwikipedia_links_sk.nt.bz2\u001b[00m\n",
      "├── \u001b[01;34msl\u001b[00m\n",
      "│   ├── \u001b[01;32mgeo_coordinates_sl.nq.bz2\u001b[00m\n",
      "│   ├── \u001b[01;32mgeo_coordinates_sl.nt.bz2\u001b[00m\n",
      "│   ├── \u001b[01;32minfobox_properties_sl.nq.bz2\u001b[00m\n",
      "│   ├── \u001b[01;32minfobox_properties_sl.nt.bz2\u001b[00m\n",
      "│   ├── \u001b[01;32minfobox_property_definitions_sl.nq.bz2\u001b[00m\n",
      "│   ├── \u001b[01;32minfobox_property_definitions_sl.nt.bz2\u001b[00m\n",
      "│   ├── \u001b[01;32mlabels_sl.nq.bz2\u001b[00m\n",
      "│   ├── \u001b[01;32mlabels_sl.nt.bz2\u001b[00m\n",
      "│   ├── \u001b[01;32mlong_abstracts_sl.nq.bz2\u001b[00m\n",
      "│   ├── \u001b[01;32mlong_abstracts_sl.nt.bz2\u001b[00m\n",
      "│   ├── \u001b[01;32mpage_links_sl.nq.bz2\u001b[00m\n",
      "│   ├── \u001b[01;32mpage_links_sl.nt.bz2\u001b[00m\n",
      "│   ├── \u001b[01;32mshort_abstracts_sl.nq.bz2\u001b[00m\n",
      "│   ├── \u001b[01;32mshort_abstracts_sl.nt.bz2\u001b[00m\n",
      "│   ├── \u001b[01;32mwikipedia_links_sl.nq.bz2\u001b[00m\n",
      "│   └── \u001b[01;32mwikipedia_links_sl.nt.bz2\u001b[00m\n",
      "├── \u001b[01;34msq\u001b[00m\n",
      "│   ├── \u001b[01;32mgeo_coordinates_sq.nq.bz2\u001b[00m\n",
      "│   ├── \u001b[01;32mgeo_coordinates_sq.nt.bz2\u001b[00m\n",
      "│   ├── \u001b[01;32minfobox_properties_sq.nq.bz2\u001b[00m\n",
      "│   ├── \u001b[01;32minfobox_properties_sq.nt.bz2\u001b[00m\n",
      "│   ├── \u001b[01;32minfobox_property_definitions_sq.nq.bz2\u001b[00m\n",
      "│   ├── \u001b[01;32minfobox_property_definitions_sq.nt.bz2\u001b[00m\n",
      "│   ├── \u001b[01;32mlabels_sq.nq.bz2\u001b[00m\n",
      "│   ├── \u001b[01;32mlabels_sq.nt.bz2\u001b[00m\n",
      "│   ├── \u001b[01;32mlong_abstracts_sq.nq.bz2\u001b[00m\n",
      "│   ├── \u001b[01;32mlong_abstracts_sq.nt.bz2\u001b[00m\n",
      "│   ├── \u001b[01;32mpage_links_sq.nq.bz2\u001b[00m\n",
      "│   ├── \u001b[01;32mpage_links_sq.nt.bz2\u001b[00m\n",
      "│   ├── \u001b[01;32mshort_abstracts_sq.nq.bz2\u001b[00m\n",
      "│   ├── \u001b[01;32mshort_abstracts_sq.nt.bz2\u001b[00m\n",
      "│   ├── \u001b[01;32mwikipedia_links_sq.nq.bz2\u001b[00m\n",
      "│   └── \u001b[01;32mwikipedia_links_sq.nt.bz2\u001b[00m\n",
      "├── \u001b[01;34msr\u001b[00m\n",
      "│   ├── \u001b[01;32mgeo_coordinates_sr.nq.bz2\u001b[00m\n",
      "│   ├── \u001b[01;32mgeo_coordinates_sr.nt.bz2\u001b[00m\n",
      "│   ├── \u001b[01;32minfobox_properties_sr.nq.bz2\u001b[00m\n",
      "│   ├── \u001b[01;32minfobox_properties_sr.nt.bz2\u001b[00m\n",
      "│   ├── \u001b[01;32minfobox_property_definitions_sr.nq.bz2\u001b[00m\n",
      "│   ├── \u001b[01;32minfobox_property_definitions_sr.nt.bz2\u001b[00m\n",
      "│   ├── \u001b[01;32mlabels_sr.nq.bz2\u001b[00m\n",
      "│   ├── \u001b[01;32mlabels_sr.nt.bz2\u001b[00m\n",
      "│   ├── \u001b[01;32mlong_abstracts_sr.nq.bz2\u001b[00m\n",
      "│   ├── \u001b[01;32mlong_abstracts_sr.nt.bz2\u001b[00m\n",
      "│   ├── \u001b[01;32mpage_links_sr.nq.bz2\u001b[00m\n",
      "│   ├── \u001b[01;32mpage_links_sr.nt.bz2\u001b[00m\n",
      "│   ├── \u001b[01;32mshort_abstracts_sr.nq.bz2\u001b[00m\n",
      "│   ├── \u001b[01;32mshort_abstracts_sr.nt.bz2\u001b[00m\n",
      "│   ├── \u001b[01;32mwikipedia_links_sr.nq.bz2\u001b[00m\n",
      "│   └── \u001b[01;32mwikipedia_links_sr.nt.bz2\u001b[00m\n",
      "├── \u001b[01;34msu\u001b[00m\n",
      "│   ├── \u001b[01;32mgeo_coordinates_su.nq.bz2\u001b[00m\n",
      "│   ├── \u001b[01;32mgeo_coordinates_su.nt.bz2\u001b[00m\n",
      "│   ├── \u001b[01;32minfobox_properties_su.nq.bz2\u001b[00m\n",
      "│   ├── \u001b[01;32minfobox_properties_su.nt.bz2\u001b[00m\n",
      "│   ├── \u001b[01;32minfobox_property_definitions_su.nq.bz2\u001b[00m\n",
      "│   ├── \u001b[01;32minfobox_property_definitions_su.nt.bz2\u001b[00m\n",
      "│   ├── \u001b[01;32mlabels_su.nq.bz2\u001b[00m\n",
      "│   ├── \u001b[01;32mlabels_su.nt.bz2\u001b[00m\n",
      "│   ├── \u001b[01;32mlong_abstracts_su.nq.bz2\u001b[00m\n",
      "│   ├── \u001b[01;32mlong_abstracts_su.nt.bz2\u001b[00m\n",
      "│   ├── \u001b[01;32mpage_links_su.nq.bz2\u001b[00m\n",
      "│   ├── \u001b[01;32mpage_links_su.nt.bz2\u001b[00m\n",
      "│   ├── \u001b[01;32mshort_abstracts_su.nq.bz2\u001b[00m\n",
      "│   ├── \u001b[01;32mshort_abstracts_su.nt.bz2\u001b[00m\n",
      "│   ├── \u001b[01;32mwikipedia_links_su.nq.bz2\u001b[00m\n",
      "│   └── \u001b[01;32mwikipedia_links_su.nt.bz2\u001b[00m\n",
      "├── \u001b[01;34msv\u001b[00m\n",
      "│   ├── \u001b[01;32mgeo_coordinates_sv.nq.bz2\u001b[00m\n",
      "│   ├── \u001b[01;32mgeo_coordinates_sv.nt.bz2\u001b[00m\n",
      "│   ├── \u001b[01;32minfobox_properties_sv.nq.bz2\u001b[00m\n",
      "│   ├── \u001b[01;32minfobox_properties_sv.nt.bz2\u001b[00m\n",
      "│   ├── \u001b[01;32minfobox_property_definitions_sv.nq.bz2\u001b[00m\n",
      "│   ├── \u001b[01;32minfobox_property_definitions_sv.nt.bz2\u001b[00m\n",
      "│   ├── \u001b[01;32mlabels_sv.nq.bz2\u001b[00m\n",
      "│   ├── \u001b[01;32mlabels_sv.nt.bz2\u001b[00m\n",
      "│   ├── \u001b[01;32mlong_abstracts_sv.nq.bz2\u001b[00m\n",
      "│   ├── \u001b[01;32mlong_abstracts_sv.nt.bz2\u001b[00m\n",
      "│   ├── \u001b[01;32mpage_links_sv.nq.bz2\u001b[00m\n",
      "│   ├── \u001b[01;32mpage_links_sv.nt.bz2\u001b[00m\n",
      "│   ├── \u001b[01;32mshort_abstracts_sv.nq.bz2\u001b[00m\n",
      "│   ├── \u001b[01;32mshort_abstracts_sv.nt.bz2\u001b[00m\n",
      "│   ├── \u001b[01;32mwikipedia_links_sv.nq.bz2\u001b[00m\n",
      "│   └── \u001b[01;32mwikipedia_links_sv.nt.bz2\u001b[00m\n",
      "├── \u001b[01;34msw\u001b[00m\n",
      "│   ├── \u001b[01;32mgeo_coordinates_sw.nq.bz2\u001b[00m\n",
      "│   ├── \u001b[01;32mgeo_coordinates_sw.nt.bz2\u001b[00m\n",
      "│   ├── \u001b[01;32minfobox_properties_sw.nq.bz2\u001b[00m\n",
      "│   ├── \u001b[01;32minfobox_properties_sw.nt.bz2\u001b[00m\n",
      "│   ├── \u001b[01;32minfobox_property_definitions_sw.nq.bz2\u001b[00m\n",
      "│   ├── \u001b[01;32minfobox_property_definitions_sw.nt.bz2\u001b[00m\n",
      "│   ├── \u001b[01;32mlabels_sw.nq.bz2\u001b[00m\n",
      "│   ├── \u001b[01;32mlabels_sw.nt.bz2\u001b[00m\n",
      "│   ├── \u001b[01;32mlong_abstracts_sw.nq.bz2\u001b[00m\n",
      "│   ├── \u001b[01;32mlong_abstracts_sw.nt.bz2\u001b[00m\n",
      "│   ├── \u001b[01;32mpage_links_sw.nq.bz2\u001b[00m\n",
      "│   ├── \u001b[01;32mpage_links_sw.nt.bz2\u001b[00m\n",
      "│   ├── \u001b[01;32mshort_abstracts_sw.nq.bz2\u001b[00m\n",
      "│   ├── \u001b[01;32mshort_abstracts_sw.nt.bz2\u001b[00m\n",
      "│   ├── \u001b[01;32mwikipedia_links_sw.nq.bz2\u001b[00m\n",
      "│   └── \u001b[01;32mwikipedia_links_sw.nt.bz2\u001b[00m\n",
      "├── \u001b[01;34mta\u001b[00m\n",
      "│   ├── \u001b[01;32mgeo_coordinates_ta.nq.bz2\u001b[00m\n",
      "│   ├── \u001b[01;32mgeo_coordinates_ta.nt.bz2\u001b[00m\n",
      "│   ├── \u001b[01;32minfobox_properties_ta.nq.bz2\u001b[00m\n",
      "│   ├── \u001b[01;32minfobox_properties_ta.nt.bz2\u001b[00m\n",
      "│   ├── \u001b[01;32minfobox_property_definitions_ta.nq.bz2\u001b[00m\n",
      "│   ├── \u001b[01;32minfobox_property_definitions_ta.nt.bz2\u001b[00m\n",
      "│   ├── \u001b[01;32mlabels_ta.nq.bz2\u001b[00m\n",
      "│   ├── \u001b[01;32mlabels_ta.nt.bz2\u001b[00m\n",
      "│   ├── \u001b[01;32mlong_abstracts_ta.nq.bz2\u001b[00m\n",
      "│   ├── \u001b[01;32mlong_abstracts_ta.nt.bz2\u001b[00m\n",
      "│   ├── \u001b[01;32mpage_links_ta.nq.bz2\u001b[00m\n",
      "│   ├── \u001b[01;32mpage_links_ta.nt.bz2\u001b[00m\n",
      "│   ├── \u001b[01;32mshort_abstracts_ta.nq.bz2\u001b[00m\n",
      "│   ├── \u001b[01;32mshort_abstracts_ta.nt.bz2\u001b[00m\n",
      "│   ├── \u001b[01;32mwikipedia_links_ta.nq.bz2\u001b[00m\n",
      "│   └── \u001b[01;32mwikipedia_links_ta.nt.bz2\u001b[00m\n",
      "├── \u001b[01;34mte\u001b[00m\n",
      "│   ├── \u001b[01;32mgeo_coordinates_te.nq.bz2\u001b[00m\n",
      "│   ├── \u001b[01;32mgeo_coordinates_te.nt.bz2\u001b[00m\n",
      "│   ├── \u001b[01;32minfobox_properties_te.nq.bz2\u001b[00m\n",
      "│   ├── \u001b[01;32minfobox_properties_te.nt.bz2\u001b[00m\n",
      "│   ├── \u001b[01;32minfobox_property_definitions_te.nq.bz2\u001b[00m\n",
      "│   ├── \u001b[01;32minfobox_property_definitions_te.nt.bz2\u001b[00m\n",
      "│   ├── \u001b[01;32mlabels_te.nq.bz2\u001b[00m\n",
      "│   ├── \u001b[01;32mlabels_te.nt.bz2\u001b[00m\n",
      "│   ├── \u001b[01;32mlong_abstracts_te.nq.bz2\u001b[00m\n",
      "│   ├── \u001b[01;32mlong_abstracts_te.nt.bz2\u001b[00m\n",
      "│   ├── \u001b[01;32mpage_links_te.nq.bz2\u001b[00m\n",
      "│   ├── \u001b[01;32mpage_links_te.nt.bz2\u001b[00m\n",
      "│   ├── \u001b[01;32mshort_abstracts_te.nq.bz2\u001b[00m\n",
      "│   ├── \u001b[01;32mshort_abstracts_te.nt.bz2\u001b[00m\n",
      "│   ├── \u001b[01;32mwikipedia_links_te.nq.bz2\u001b[00m\n",
      "│   └── \u001b[01;32mwikipedia_links_te.nt.bz2\u001b[00m\n",
      "├── \u001b[01;34mth\u001b[00m\n",
      "│   ├── \u001b[01;32mgeo_coordinates_th.nq.bz2\u001b[00m\n",
      "│   ├── \u001b[01;32mgeo_coordinates_th.nt.bz2\u001b[00m\n",
      "│   ├── \u001b[01;32minfobox_properties_th.nq.bz2\u001b[00m\n",
      "│   ├── \u001b[01;32minfobox_properties_th.nt.bz2\u001b[00m\n",
      "│   ├── \u001b[01;32minfobox_property_definitions_th.nq.bz2\u001b[00m\n",
      "│   ├── \u001b[01;32minfobox_property_definitions_th.nt.bz2\u001b[00m\n",
      "│   ├── \u001b[01;32mlabels_th.nq.bz2\u001b[00m\n",
      "│   ├── \u001b[01;32mlabels_th.nt.bz2\u001b[00m\n",
      "│   ├── \u001b[01;32mlong_abstracts_th.nq.bz2\u001b[00m\n",
      "│   ├── \u001b[01;32mlong_abstracts_th.nt.bz2\u001b[00m\n",
      "│   ├── \u001b[01;32mpage_links_th.nq.bz2\u001b[00m\n",
      "│   ├── \u001b[01;32mpage_links_th.nt.bz2\u001b[00m\n",
      "│   ├── \u001b[01;32mshort_abstracts_th.nq.bz2\u001b[00m\n",
      "│   ├── \u001b[01;32mshort_abstracts_th.nt.bz2\u001b[00m\n",
      "│   ├── \u001b[01;32mwikipedia_links_th.nq.bz2\u001b[00m\n",
      "│   └── \u001b[01;32mwikipedia_links_th.nt.bz2\u001b[00m\n",
      "├── \u001b[01;34mtl\u001b[00m\n",
      "│   ├── \u001b[01;32mgeo_coordinates_tl.nq.bz2\u001b[00m\n",
      "│   ├── \u001b[01;32mgeo_coordinates_tl.nt.bz2\u001b[00m\n",
      "│   ├── \u001b[01;32minfobox_properties_tl.nq.bz2\u001b[00m\n",
      "│   ├── \u001b[01;32minfobox_properties_tl.nt.bz2\u001b[00m\n",
      "│   ├── \u001b[01;32minfobox_property_definitions_tl.nq.bz2\u001b[00m\n",
      "│   ├── \u001b[01;32minfobox_property_definitions_tl.nt.bz2\u001b[00m\n",
      "│   ├── \u001b[01;32mlabels_tl.nq.bz2\u001b[00m\n",
      "│   ├── \u001b[01;32mlabels_tl.nt.bz2\u001b[00m\n",
      "│   ├── \u001b[01;32mlong_abstracts_tl.nq.bz2\u001b[00m\n",
      "│   ├── \u001b[01;32mlong_abstracts_tl.nt.bz2\u001b[00m\n",
      "│   ├── \u001b[01;32mpage_links_tl.nq.bz2\u001b[00m\n",
      "│   ├── \u001b[01;32mpage_links_tl.nt.bz2\u001b[00m\n",
      "│   ├── \u001b[01;32mshort_abstracts_tl.nq.bz2\u001b[00m\n",
      "│   ├── \u001b[01;32mshort_abstracts_tl.nt.bz2\u001b[00m\n",
      "│   ├── \u001b[01;32mwikipedia_links_tl.nq.bz2\u001b[00m\n",
      "│   └── \u001b[01;32mwikipedia_links_tl.nt.bz2\u001b[00m\n",
      "├── \u001b[01;34mtr\u001b[00m\n",
      "│   ├── \u001b[01;32mgeo_coordinates_tr.nq.bz2\u001b[00m\n",
      "│   ├── \u001b[01;32mgeo_coordinates_tr.nt.bz2\u001b[00m\n",
      "│   ├── \u001b[01;32minfobox_properties_tr.nq.bz2\u001b[00m\n",
      "│   ├── \u001b[01;32minfobox_properties_tr.nt.bz2\u001b[00m\n",
      "│   ├── \u001b[01;32minfobox_property_definitions_tr.nq.bz2\u001b[00m\n",
      "│   ├── \u001b[01;32minfobox_property_definitions_tr.nt.bz2\u001b[00m\n",
      "│   ├── \u001b[01;32mlabels_tr.nq.bz2\u001b[00m\n",
      "│   ├── \u001b[01;32mlabels_tr.nt.bz2\u001b[00m\n",
      "│   ├── \u001b[01;32mlong_abstracts_tr.nq.bz2\u001b[00m\n",
      "│   ├── \u001b[01;32mlong_abstracts_tr.nt.bz2\u001b[00m\n",
      "│   ├── \u001b[01;32mpage_links_tr.nq.bz2\u001b[00m\n",
      "│   ├── \u001b[01;32mpage_links_tr.nt.bz2\u001b[00m\n",
      "│   ├── \u001b[01;32mshort_abstracts_tr.nq.bz2\u001b[00m\n",
      "│   ├── \u001b[01;32mshort_abstracts_tr.nt.bz2\u001b[00m\n",
      "│   ├── \u001b[01;32mwikipedia_links_tr.nq.bz2\u001b[00m\n",
      "│   └── \u001b[01;32mwikipedia_links_tr.nt.bz2\u001b[00m\n",
      "├── \u001b[01;34muk\u001b[00m\n",
      "│   ├── \u001b[01;32mgeo_coordinates_uk.nq.bz2\u001b[00m\n",
      "│   ├── \u001b[01;32mgeo_coordinates_uk.nt.bz2\u001b[00m\n",
      "│   ├── \u001b[01;32minfobox_properties_uk.nq.bz2\u001b[00m\n",
      "│   ├── \u001b[01;32minfobox_properties_uk.nt.bz2\u001b[00m\n",
      "│   ├── \u001b[01;32minfobox_property_definitions_uk.nq.bz2\u001b[00m\n",
      "│   ├── \u001b[01;32minfobox_property_definitions_uk.nt.bz2\u001b[00m\n",
      "│   ├── \u001b[01;32mlabels_uk.nq.bz2\u001b[00m\n",
      "│   ├── \u001b[01;32mlabels_uk.nt.bz2\u001b[00m\n",
      "│   ├── \u001b[01;32mlong_abstracts_uk.nq.bz2\u001b[00m\n",
      "│   ├── \u001b[01;32mlong_abstracts_uk.nt.bz2\u001b[00m\n",
      "│   ├── \u001b[01;32mpage_links_uk.nq.bz2\u001b[00m\n",
      "│   ├── \u001b[01;32mpage_links_uk.nt.bz2\u001b[00m\n",
      "│   ├── \u001b[01;32mshort_abstracts_uk.nq.bz2\u001b[00m\n",
      "│   ├── \u001b[01;32mshort_abstracts_uk.nt.bz2\u001b[00m\n",
      "│   ├── \u001b[01;32mwikipedia_links_uk.nq.bz2\u001b[00m\n",
      "│   └── \u001b[01;32mwikipedia_links_uk.nt.bz2\u001b[00m\n",
      "├── \u001b[01;34mur\u001b[00m\n",
      "│   ├── \u001b[01;32mgeo_coordinates_ur.nq.bz2\u001b[00m\n",
      "│   ├── \u001b[01;32mgeo_coordinates_ur.nt.bz2\u001b[00m\n",
      "│   ├── \u001b[01;32minfobox_properties_ur.nq.bz2\u001b[00m\n",
      "│   ├── \u001b[01;32minfobox_properties_ur.nt.bz2\u001b[00m\n",
      "│   ├── \u001b[01;32minfobox_property_definitions_ur.nq.bz2\u001b[00m\n",
      "│   ├── \u001b[01;32minfobox_property_definitions_ur.nt.bz2\u001b[00m\n",
      "│   ├── \u001b[01;32mlabels_ur.nq.bz2\u001b[00m\n",
      "│   ├── \u001b[01;32mlabels_ur.nt.bz2\u001b[00m\n",
      "│   ├── \u001b[01;32mlong_abstracts_ur.nq.bz2\u001b[00m\n",
      "│   ├── \u001b[01;32mlong_abstracts_ur.nt.bz2\u001b[00m\n",
      "│   ├── \u001b[01;32mpage_links_ur.nq.bz2\u001b[00m\n",
      "│   ├── \u001b[01;32mpage_links_ur.nt.bz2\u001b[00m\n",
      "│   ├── \u001b[01;32mshort_abstracts_ur.nq.bz2\u001b[00m\n",
      "│   ├── \u001b[01;32mshort_abstracts_ur.nt.bz2\u001b[00m\n",
      "│   ├── \u001b[01;32mwikipedia_links_ur.nq.bz2\u001b[00m\n",
      "│   └── \u001b[01;32mwikipedia_links_ur.nt.bz2\u001b[00m\n",
      "├── \u001b[01;34mvi\u001b[00m\n",
      "│   ├── \u001b[01;32mgeo_coordinates_vi.nq.bz2\u001b[00m\n",
      "│   ├── \u001b[01;32mgeo_coordinates_vi.nt.bz2\u001b[00m\n",
      "│   ├── \u001b[01;32minfobox_properties_vi.nq.bz2\u001b[00m\n",
      "│   ├── \u001b[01;32minfobox_properties_vi.nt.bz2\u001b[00m\n",
      "│   ├── \u001b[01;32minfobox_property_definitions_vi.nq.bz2\u001b[00m\n",
      "│   ├── \u001b[01;32minfobox_property_definitions_vi.nt.bz2\u001b[00m\n",
      "│   ├── \u001b[01;32mlabels_vi.nq.bz2\u001b[00m\n",
      "│   ├── \u001b[01;32mlabels_vi.nt.bz2\u001b[00m\n",
      "│   ├── \u001b[01;32mlong_abstracts_vi.nq.bz2\u001b[00m\n",
      "│   ├── \u001b[01;32mlong_abstracts_vi.nt.bz2\u001b[00m\n",
      "│   ├── \u001b[01;32mpage_links_vi.nq.bz2\u001b[00m\n",
      "│   ├── \u001b[01;32mpage_links_vi.nt.bz2\u001b[00m\n",
      "│   ├── \u001b[01;32mshort_abstracts_vi.nq.bz2\u001b[00m\n",
      "│   ├── \u001b[01;32mshort_abstracts_vi.nt.bz2\u001b[00m\n",
      "│   ├── \u001b[01;32mwikipedia_links_vi.nq.bz2\u001b[00m\n",
      "│   └── \u001b[01;32mwikipedia_links_vi.nt.bz2\u001b[00m\n",
      "├── \u001b[01;34mvo\u001b[00m\n",
      "│   ├── \u001b[01;32mgeo_coordinates_vo.nq.bz2\u001b[00m\n",
      "│   ├── \u001b[01;32mgeo_coordinates_vo.nt.bz2\u001b[00m\n",
      "│   ├── \u001b[01;32minfobox_properties_vo.nq.bz2\u001b[00m\n",
      "│   ├── \u001b[01;32minfobox_properties_vo.nt.bz2\u001b[00m\n",
      "│   ├── \u001b[01;32minfobox_property_definitions_vo.nq.bz2\u001b[00m\n",
      "│   ├── \u001b[01;32minfobox_property_definitions_vo.nt.bz2\u001b[00m\n",
      "│   ├── \u001b[01;32mlabels_vo.nq.bz2\u001b[00m\n",
      "│   ├── \u001b[01;32mlabels_vo.nt.bz2\u001b[00m\n",
      "│   ├── \u001b[01;32mlong_abstracts_vo.nq.bz2\u001b[00m\n",
      "│   ├── \u001b[01;32mlong_abstracts_vo.nt.bz2\u001b[00m\n",
      "│   ├── \u001b[01;32mpage_links_vo.nq.bz2\u001b[00m\n",
      "│   ├── \u001b[01;32mpage_links_vo.nt.bz2\u001b[00m\n",
      "│   ├── \u001b[01;32mshort_abstracts_vo.nq.bz2\u001b[00m\n",
      "│   ├── \u001b[01;32mshort_abstracts_vo.nt.bz2\u001b[00m\n",
      "│   ├── \u001b[01;32mwikipedia_links_vo.nq.bz2\u001b[00m\n",
      "│   └── \u001b[01;32mwikipedia_links_vo.nt.bz2\u001b[00m\n",
      "├── \u001b[01;34mwa\u001b[00m\n",
      "│   ├── \u001b[01;32minfobox_properties_wa.nq.bz2\u001b[00m\n",
      "│   ├── \u001b[01;32minfobox_properties_wa.nt.bz2\u001b[00m\n",
      "│   ├── \u001b[01;32minfobox_property_definitions_wa.nq.bz2\u001b[00m\n",
      "│   ├── \u001b[01;32minfobox_property_definitions_wa.nt.bz2\u001b[00m\n",
      "│   ├── \u001b[01;32mlabels_wa.nq.bz2\u001b[00m\n",
      "│   ├── \u001b[01;32mlabels_wa.nt.bz2\u001b[00m\n",
      "│   ├── \u001b[01;32mlong_abstracts_wa.nq.bz2\u001b[00m\n",
      "│   ├── \u001b[01;32mlong_abstracts_wa.nt.bz2\u001b[00m\n",
      "│   ├── \u001b[01;32mpage_links_wa.nq.bz2\u001b[00m\n",
      "│   ├── \u001b[01;32mpage_links_wa.nt.bz2\u001b[00m\n",
      "│   ├── \u001b[01;32mshort_abstracts_wa.nq.bz2\u001b[00m\n",
      "│   ├── \u001b[01;32mshort_abstracts_wa.nt.bz2\u001b[00m\n",
      "│   ├── \u001b[01;32mwikipedia_links_wa.nq.bz2\u001b[00m\n",
      "│   └── \u001b[01;32mwikipedia_links_wa.nt.bz2\u001b[00m\n",
      "├── \u001b[01;34mzh\u001b[00m\n",
      "│   ├── \u001b[01;32mgeo_coordinates_zh.nq.bz2\u001b[00m\n",
      "│   ├── \u001b[01;32mgeo_coordinates_zh.nt.bz2\u001b[00m\n",
      "│   ├── \u001b[01;32minfobox_properties_zh.nq.bz2\u001b[00m\n",
      "│   ├── \u001b[01;32minfobox_properties_zh.nt.bz2\u001b[00m\n",
      "│   ├── \u001b[01;32minfobox_property_definitions_zh.nq.bz2\u001b[00m\n",
      "│   ├── \u001b[01;32minfobox_property_definitions_zh.nt.bz2\u001b[00m\n",
      "│   ├── \u001b[01;32mlabels_zh.nq.bz2\u001b[00m\n",
      "│   ├── \u001b[01;32mlabels_zh.nt.bz2\u001b[00m\n",
      "│   ├── \u001b[01;32mlong_abstracts_zh.nq.bz2\u001b[00m\n",
      "│   ├── \u001b[01;32mlong_abstracts_zh.nt.bz2\u001b[00m\n",
      "│   ├── \u001b[01;32mpage_links_zh.nq.bz2\u001b[00m\n",
      "│   ├── \u001b[01;32mpage_links_zh.nt.bz2\u001b[00m\n",
      "│   ├── \u001b[01;32mshort_abstracts_zh.nq.bz2\u001b[00m\n",
      "│   ├── \u001b[01;32mshort_abstracts_zh.nt.bz2\u001b[00m\n",
      "│   ├── \u001b[01;32mwikipedia_links_zh.nq.bz2\u001b[00m\n",
      "│   └── \u001b[01;32mwikipedia_links_zh.nt.bz2\u001b[00m\n",
      "└── \u001b[01;34mzh_yue\u001b[00m\n",
      "    ├── \u001b[01;32mgeo_coordinates_zh_yue.nq.bz2\u001b[00m\n",
      "    ├── \u001b[01;32mgeo_coordinates_zh_yue.nt.bz2\u001b[00m\n",
      "    ├── \u001b[01;32minfobox_properties_zh_yue.nq.bz2\u001b[00m\n",
      "    ├── \u001b[01;32minfobox_properties_zh_yue.nt.bz2\u001b[00m\n",
      "    ├── \u001b[01;32minfobox_property_definitions_zh_yue.nq.bz2\u001b[00m\n",
      "    ├── \u001b[01;32minfobox_property_definitions_zh_yue.nt.bz2\u001b[00m\n",
      "    ├── \u001b[01;32mlabels_zh_yue.nq.bz2\u001b[00m\n",
      "    ├── \u001b[01;32mlabels_zh_yue.nt.bz2\u001b[00m\n",
      "    ├── \u001b[01;32mlong_abstracts_zh_yue.nq.bz2\u001b[00m\n",
      "    ├── \u001b[01;32mlong_abstracts_zh_yue.nt.bz2\u001b[00m\n",
      "    ├── \u001b[01;32mpage_links_zh_yue.nq.bz2\u001b[00m\n",
      "    ├── \u001b[01;32mpage_links_zh_yue.nt.bz2\u001b[00m\n",
      "    ├── \u001b[01;32mshort_abstracts_zh_yue.nq.bz2\u001b[00m\n",
      "    ├── \u001b[01;32mshort_abstracts_zh_yue.nt.bz2\u001b[00m\n",
      "    ├── \u001b[01;32mwikipedia_links_zh_yue.nq.bz2\u001b[00m\n",
      "    └── \u001b[01;32mwikipedia_links_zh_yue.nt.bz2\u001b[00m\n",
      "\n",
      "93 directories, 1522 files\n"
     ]
    }
   ],
   "source": [
    "%%bash\n",
    "cd datasets/13461\n",
    "du -sh test\n",
    "tree test"
   ]
  },
  {
   "attachments": {},
   "cell_type": "markdown",
   "metadata": {},
   "source": [
    "The file `datasets/13461all-languages.tar` extracts the folder `test`. The tree of the directory test is reported above.\n",
    "Inside this tree there are many files, which are all compress in other archives.\n",
    "I will not consider this file, extracting it requires too much hard disk space."
   ]
  },
  {
   "cell_type": "code",
   "execution_count": 38,
   "metadata": {},
   "outputs": [],
   "source": [
    "%%bash\n",
    "rm -rf datasets/13461/test"
   ]
  },
  {
   "cell_type": "code",
   "execution_count": 1,
   "metadata": {},
   "outputs": [],
   "source": [
    "%%bash\n",
    "rm datasets/13461/all-languages.tar"
   ]
  },
  {
   "cell_type": "code",
   "execution_count": 2,
   "metadata": {},
   "outputs": [
    {
     "name": "stdout",
     "output_type": "stream",
     "text": [
      "totale 4688\n",
      "drwxr-xr-x     2 riccardo riccardo    4096  9 mag 19.04 .\n",
      "drwxr-xr-x 31591 riccardo riccardo  962560 17 apr 22.34 ..\n",
      "-rw-r--r--     1 riccardo riccardo  651532  8 apr 15.12 berlin.n3\n",
      "-rw-r--r--     1 riccardo riccardo 1408691  8 apr 15.12 berlin.rdf\n",
      "-rw-r--r--     1 riccardo riccardo  464311  8 apr 15.12 dbpedia-3.5.1.owl\n",
      "-rw-r--r--     1 riccardo riccardo 1297387 30 apr 06.10 metadata.json\n"
     ]
    }
   ],
   "source": [
    "%%bash\n",
    "ls -la datasets/13461"
   ]
  },
  {
   "cell_type": "code",
   "execution_count": 40,
   "metadata": {},
   "outputs": [
    {
     "name": "stdout",
     "output_type": "stream",
     "text": [
      "totale 10300\n",
      "drwxr-xr-x     2 riccardo riccardo    4096  9 mag 18.45 .\n",
      "drwxr-xr-x 31591 riccardo riccardo  962560 17 apr 22.34 ..\n",
      "-rw-r--r--     1 riccardo riccardo  530900  8 apr 15.12 196565-person.rdf\n",
      "-rw-r--r--     1 riccardo riccardo   24713  8 apr 15.12 ahess-0395-2649.rdf\n",
      "-rw-r--r--     1 riccardo riccardo   11627  8 apr 15.12 bulmo-0007-473x-2000-num-158-2-2373.rdf\n",
      "-rw-r--r--     1 riccardo riccardo  103707 30 apr 04.49 metadata.json\n",
      "-rw-r--r--     1 riccardo riccardo   96354  8 apr 15.12 persee-ontology.owl\n",
      "-rw-r--r--     1 riccardo riccardo 8796163  8 apr 15.12 persee-person-align-rdf.tar.gz\n",
      "8,4M\tdatasets/13997/persee-person-align-rdf.tar.gz\n"
     ]
    }
   ],
   "source": [
    "%%bash\n",
    "ls -la datasets/13997/\n",
    "du -sh datasets/13997/persee-person-align-rdf.tar.gz"
   ]
  },
  {
   "cell_type": "code",
   "execution_count": 1,
   "metadata": {},
   "outputs": [
    {
     "name": "stdout",
     "output_type": "stream",
     "text": [
      "\u001b[01;34m.\u001b[00m\n",
      "├── 196565-person.rdf\n",
      "├── ahess-0395-2649.rdf\n",
      "├── bulmo-0007-473x-2000-num-158-2-2373.rdf\n",
      "├── define_UMS_Persee.rdf\n",
      "├── metadata-cc.json\n",
      "├── metadata.json\n",
      "├── PERSEE_align_All_2021-09-24.rdf\n",
      "├── PERSEE_align_Bnf_2021-09-24.rdf\n",
      "├── PERSEE_align_DBpedia_2021-09-24.rdf\n",
      "├── PERSEE_align_DBpediaFR_2021-09-24.rdf\n",
      "├── PERSEE_align_idHAL_2021-09-24.rdf\n",
      "├── PERSEE_align_Idref_2021-09-24.rdf\n",
      "├── PERSEE_align_Isni_2021-09-24.rdf\n",
      "├── PERSEE_align_ORCID_2021-09-24.rdf\n",
      "├── PERSEE_align_RePEc_2021-09-24.rdf\n",
      "├── PERSEE_align_viaf_2021-09-24.rdf\n",
      "├── PERSEE_align_wikidata_2021-09-24.rdf\n",
      "├── PERSEE_align_wikipedia_2021-09-24.rdf\n",
      "├── PERSEE_align_wikipediaFR_2021-09-24.rdf\n",
      "└── persee-ontology.owl\n",
      "\n",
      "0 directories, 20 files\n"
     ]
    }
   ],
   "source": [
    "%%bash\n",
    "cd datasets/13997/\n",
    "tar -xf persee-person-align-rdf.tar.gz\n",
    "rm -rf persee-person-align-rdf.tar.gz\n",
    "rm license.txt\n",
    "tree ."
   ]
  },
  {
   "attachments": {},
   "cell_type": "markdown",
   "metadata": {},
   "source": [
    "#### ZIP"
   ]
  },
  {
   "cell_type": "code",
   "execution_count": 42,
   "metadata": {},
   "outputs": [
    {
     "name": "stdout",
     "output_type": "stream",
     "text": [
      "datasets/13263/govwild-rdf-2012-01-30.zip\n",
      "datasets/13368/all-geonames-rdf.zip\n",
      "datasets/13378/wn20full.zip\n",
      "datasets/13822/lsoa.ttl.zip\n",
      "datasets/14252/wn20full.zip\n",
      "datasets/14344/all-geonames-rdf.zip\n",
      "datasets/14364/govwild-rdf-2012-01-30.zip\n",
      "datasets/15282/lsoa.ttl.zip\n",
      "datasets/21532/jrcnames-uri.zip\n"
     ]
    }
   ],
   "source": [
    "for a in zip:\n",
    "    print(a)"
   ]
  },
  {
   "attachments": {},
   "cell_type": "markdown",
   "metadata": {},
   "source": [
    "##### datasets/13263/govwild-rdf-2012-01-30.zip"
   ]
  },
  {
   "cell_type": "code",
   "execution_count": 43,
   "metadata": {},
   "outputs": [
    {
     "name": "stdout",
     "output_type": "stream",
     "text": [
      "totale 241340\n",
      "drwxr-xr-x     2 riccardo riccardo      4096  8 mag 17.32 .\n",
      "drwxr-xr-x 31591 riccardo riccardo    962560 17 apr 22.34 ..\n",
      "-rw-r--r--     1 riccardo riccardo 246077569  8 apr 15.06 govwild-rdf-2012-01-30.zip\n",
      "-rw-r--r--     1 riccardo riccardo     33191  8 apr 15.06 gwontology.rdf\n",
      "-rw-r--r--     1 riccardo riccardo     38066 30 apr 01.29 metadata.json\n",
      "235M\tgovwild-rdf-2012-01-30.zip\n"
     ]
    }
   ],
   "source": [
    "%%bash\n",
    "cd datasets/13263\n",
    "ls -la\n",
    "du -sh govwild-rdf-2012-01-30.zip\n"
   ]
  },
  {
   "cell_type": "code",
   "execution_count": 44,
   "metadata": {},
   "outputs": [
    {
     "name": "stdout",
     "output_type": "stream",
     "text": [
      "Archive:  govwild-rdf-2012-01-30.zip\n",
      "   creating: Govwild_rdf_2012-01-30/\n",
      "  inflating: Govwild_rdf_2012-01-30/changelog_2012-01-30.txt  \n",
      "  inflating: Govwild_rdf_2012-01-30/Govwild_rdf.n3  \n"
     ]
    }
   ],
   "source": [
    "%%bash \n",
    "cd datasets/13263\n",
    "unzip govwild-rdf-2012-01-30.zip"
   ]
  },
  {
   "cell_type": "code",
   "execution_count": 45,
   "metadata": {},
   "outputs": [
    {
     "name": "stdout",
     "output_type": "stream",
     "text": [
      "\u001b[01;34mdatasets/13263\u001b[00m\n",
      "├── \u001b[01;34mGovwild_rdf_2012-01-30\u001b[00m\n",
      "│   ├── changelog_2012-01-30.txt\n",
      "│   └── \u001b[01;32mGovwild_rdf.n3\u001b[00m\n",
      "├── \u001b[01;31mgovwild-rdf-2012-01-30.zip\u001b[00m\n",
      "├── gwontology.rdf\n",
      "└── metadata.json\n",
      "\n",
      "1 directory, 5 files\n"
     ]
    }
   ],
   "source": [
    "%%bash \n",
    "tree datasets/13263"
   ]
  },
  {
   "cell_type": "code",
   "execution_count": 46,
   "metadata": {},
   "outputs": [],
   "source": [
    "%%bash\n",
    "cd datasets/13263\n",
    "mv Govwild_rdf_2012-01-30/Govwild_rdf.n3 .\n",
    "mv Govwild_rdf_2012-01-30/changelog_2012-01-30.txt ."
   ]
  },
  {
   "cell_type": "code",
   "execution_count": 47,
   "metadata": {},
   "outputs": [
    {
     "name": "stdout",
     "output_type": "stream",
     "text": [
      "\u001b[01;34m.\u001b[00m\n",
      "├── changelog_2012-01-30.txt\n",
      "├── \u001b[01;31mgovwild-rdf-2012-01-30.zip\u001b[00m\n",
      "├── \u001b[01;32mGovwild_rdf.n3\u001b[00m\n",
      "├── gwontology.rdf\n",
      "└── metadata.json\n",
      "\n",
      "0 directories, 5 files\n"
     ]
    }
   ],
   "source": [
    "%%bash\n",
    "cd datasets/13263\n",
    "rm -rf Govwild_rdf_2012-01-30\n",
    "tree"
   ]
  },
  {
   "cell_type": "code",
   "execution_count": 48,
   "metadata": {},
   "outputs": [],
   "source": [
    "%%bash\n",
    "rm -rf datasets/13263/govwild-rdf-2012-01-30.zip"
   ]
  },
  {
   "cell_type": "code",
   "execution_count": 49,
   "metadata": {},
   "outputs": [
    {
     "name": "stdout",
     "output_type": "stream",
     "text": [
      "- bug fixing:\n",
      "\t- only calculate \"euFinanceTotalReceived\" for the countries of the EU, analogous for \"earmarksTotalReceived\" and the states in the US\n",
      "\t- remove duplicate sameAs-links for Freebase\n",
      "\t- huge funds aren't negative any more\n",
      "- cleansed sourceDetailed (wrongly added EuFinance)\n",
      "- optimized splitting of FreebaseCompany\n",
      "- ontology changes:\n",
      "\t- rename \"Relationship\" to \"PersonRelationship\"\n",
      "\t- rename \"NYTArticle\" to \"NewsArticle\"\n",
      "\t- rename \"Place\" to \"Address\"\n"
     ]
    }
   ],
   "source": [
    "%%bash\n",
    "head datasets/13263/changelog_2012-01-30.txt"
   ]
  },
  {
   "cell_type": "code",
   "execution_count": 50,
   "metadata": {},
   "outputs": [],
   "source": [
    "%%bash\n",
    "rm -rf datasets/13263/changelog_2012-01-30.txt"
   ]
  },
  {
   "cell_type": "code",
   "execution_count": 51,
   "metadata": {},
   "outputs": [
    {
     "name": "stdout",
     "output_type": "stream",
     "text": [
      "\u001b[01;34mdatasets/13263\u001b[00m\n",
      "├── \u001b[01;32mGovwild_rdf.n3\u001b[00m\n",
      "├── gwontology.rdf\n",
      "└── metadata.json\n",
      "\n",
      "0 directories, 3 files\n"
     ]
    }
   ],
   "source": [
    "%%bash \n",
    "tree datasets/13263"
   ]
  },
  {
   "attachments": {},
   "cell_type": "markdown",
   "metadata": {},
   "source": [
    "##### datasets/13368/all-geonames-rdf.zip"
   ]
  },
  {
   "cell_type": "code",
   "execution_count": 52,
   "metadata": {},
   "outputs": [
    {
     "name": "stdout",
     "output_type": "stream",
     "text": [
      "totale 726332\n",
      "drwxr-xr-x     2 riccardo riccardo      4096  8 mag 17.32 .\n",
      "drwxr-xr-x 31591 riccardo riccardo    962560 17 apr 22.34 ..\n",
      "-rw-r--r--     1 riccardo riccardo      2833  8 apr 15.06 about.rdf\n",
      "-rw-r--r--     1 riccardo riccardo 742269561  8 apr 15.06 all-geonames-rdf.zip\n",
      "-rw-r--r--     1 riccardo riccardo    307431 30 apr 04.07 metadata.json\n",
      "-rw-r--r--     1 riccardo riccardo    196853  8 apr 15.06 ontology-v2.rdf\n",
      "708M\tall-geonames-rdf.zip\n"
     ]
    }
   ],
   "source": [
    "%%bash \n",
    "cd datasets/13368\n",
    "ls -la\n",
    "du -sh all-geonames-rdf.zip"
   ]
  },
  {
   "cell_type": "code",
   "execution_count": 53,
   "metadata": {},
   "outputs": [
    {
     "name": "stdout",
     "output_type": "stream",
     "text": [
      "Archive:  all-geonames-rdf.zip\n",
      "  inflating: all-geonames-rdf.txt    \n"
     ]
    }
   ],
   "source": [
    "%%bash \n",
    "cd datasets/13368\n",
    "unzip all-geonames-rdf.zip"
   ]
  },
  {
   "cell_type": "code",
   "execution_count": 54,
   "metadata": {},
   "outputs": [
    {
     "name": "stdout",
     "output_type": "stream",
     "text": [
      "\u001b[01;34m.\u001b[00m\n",
      "├── about.rdf\n",
      "├── all-geonames-rdf.txt\n",
      "├── \u001b[01;31mall-geonames-rdf.zip\u001b[00m\n",
      "├── metadata.json\n",
      "└── ontology-v2.rdf\n",
      "\n",
      "0 directories, 5 files\n"
     ]
    }
   ],
   "source": [
    "%%bash \n",
    "cd datasets/13368\n",
    "tree ."
   ]
  },
  {
   "cell_type": "code",
   "execution_count": 55,
   "metadata": {},
   "outputs": [
    {
     "name": "stdout",
     "output_type": "stream",
     "text": [
      "18G\tdatasets/13368/all-geonames-rdf.txt\n",
      "https://sws.geonames.org/3/\n",
      "<?xml version=\"1.0\" encoding=\"UTF-8\" standalone=\"no\"?><rdf:RDF xmlns:cc=\"http://creativecommons.org/ns#\" xmlns:dcterms=\"http://purl.org/dc/terms/\" xmlns:foaf=\"http://xmlns.com/foaf/0.1/\" xmlns:gn=\"http://www.geonames.org/ontology#\" xmlns:owl=\"http://www.w3.org/2002/07/owl#\" xmlns:rdf=\"http://www.w3.org/1999/02/22-rdf-syntax-ns#\" xmlns:rdfs=\"http://www.w3.org/2000/01/rdf-schema#\" xmlns:wgs84_pos=\"http://www.w3.org/2003/01/geo/wgs84_pos#\">    <gn:Feature rdf:about=\"https://sws.geonames.org/3/\">        <rdfs:isDefinedBy rdf:resource=\"https://sws.geonames.org/3/about.rdf\"/>        <gn:name>Zamīn Sūkhteh</gn:name>        <gn:alternateName xml:lang=\"fa\">زمين سوخته</gn:alternateName>        <gn:alternateName xml:lang=\"fa\">Zamīn Sūkhteh</gn:alternateName>        <gn:featureClass rdf:resource=\"https://www.geonames.org/ontology#S\"/>        <gn:featureCode rdf:resource=\"https://www.geonames.org/ontology#S.CRRL\"/>        <gn:countryCode>IR</gn:countryCode>        <wgs84_pos:lat>32.45831</wgs84_pos:lat>        <wgs84_pos:long>48.96335</wgs84_pos:long>        <gn:parentFeature rdf:resource=\"https://sws.geonames.org/3202991/\"/>        <gn:parentCountry rdf:resource=\"https://sws.geonames.org/130758/\"/>        <gn:parentADM1 rdf:resource=\"https://sws.geonames.org/127082/\"/>        <gn:nearbyFeatures rdf:resource=\"https://sws.geonames.org/3/nearby.rdf\"/>        <gn:locationMap rdf:resource=\"https://www.geonames.org/3/zamin-sukhteh.html\"/>    </gn:Feature></rdf:RDF>\n",
      "https://sws.geonames.org/4/\n",
      "<?xml version=\"1.0\" encoding=\"UTF-8\" standalone=\"no\"?><rdf:RDF xmlns:cc=\"http://creativecommons.org/ns#\" xmlns:dcterms=\"http://purl.org/dc/terms/\" xmlns:foaf=\"http://xmlns.com/foaf/0.1/\" xmlns:gn=\"http://www.geonames.org/ontology#\" xmlns:owl=\"http://www.w3.org/2002/07/owl#\" xmlns:rdf=\"http://www.w3.org/1999/02/22-rdf-syntax-ns#\" xmlns:rdfs=\"http://www.w3.org/2000/01/rdf-schema#\" xmlns:wgs84_pos=\"http://www.w3.org/2003/01/geo/wgs84_pos#\">    <gn:Feature rdf:about=\"https://sws.geonames.org/4/\">        <rdfs:isDefinedBy rdf:resource=\"https://sws.geonames.org/4/about.rdf\"/>        <gn:name>Rūdkhāneh-ye Āb-e Zālek</gn:name>        <gn:alternateName xml:lang=\"fa\">رودخانه آب زالک</gn:alternateName>        <gn:alternateName xml:lang=\"fa\">Āb-e Zālakī</gn:alternateName>        <gn:alternateName>Rūdkhāneh-ye Āb-e Zālek</gn:alternateName>        <gn:alternateName xml:lang=\"fa\">Rūdkhāneh-ye Zākalī</gn:alternateName>        <gn:alternateName>Rūdkhāneh-ye Āb-e Zālekī</gn:alternateName>        <gn:alternateName xml:lang=\"fa\">رودخانه زاکلی</gn:alternateName>        <gn:alternateName xml:lang=\"fa\">رودخانه آب زالکی</gn:alternateName>        <gn:featureClass rdf:resource=\"https://www.geonames.org/ontology#H\"/>        <gn:featureCode rdf:resource=\"https://www.geonames.org/ontology#H.STM\"/>        <gn:countryCode>IR</gn:countryCode>        <wgs84_pos:lat>32.93273</wgs84_pos:lat>        <wgs84_pos:long>48.76505</wgs84_pos:long>        <gn:parentFeature rdf:resource=\"https://sws.geonames.org/127082/\"/>        <gn:parentCountry rdf:resource=\"https://sws.geonames.org/130758/\"/>        <gn:parentADM1 rdf:resource=\"https://sws.geonames.org/127082/\"/>        <gn:nearbyFeatures rdf:resource=\"https://sws.geonames.org/4/nearby.rdf\"/>        <gn:locationMap rdf:resource=\"https://www.geonames.org/4/rudkhaneh-ye-ab-e-zalek.html\"/>    </gn:Feature></rdf:RDF>\n",
      "https://sws.geonames.org/5/\n",
      "<?xml version=\"1.0\" encoding=\"UTF-8\" standalone=\"no\"?><rdf:RDF xmlns:cc=\"http://creativecommons.org/ns#\" xmlns:dcterms=\"http://purl.org/dc/terms/\" xmlns:foaf=\"http://xmlns.com/foaf/0.1/\" xmlns:gn=\"http://www.geonames.org/ontology#\" xmlns:owl=\"http://www.w3.org/2002/07/owl#\" xmlns:rdf=\"http://www.w3.org/1999/02/22-rdf-syntax-ns#\" xmlns:rdfs=\"http://www.w3.org/2000/01/rdf-schema#\" xmlns:wgs84_pos=\"http://www.w3.org/2003/01/geo/wgs84_pos#\">    <gn:Feature rdf:about=\"https://sws.geonames.org/5/\">        <rdfs:isDefinedBy rdf:resource=\"https://sws.geonames.org/5/about.rdf\"/>        <gn:name>Yekāhī</gn:name>        <gn:alternateName xml:lang=\"fa\">Yekāhī</gn:alternateName>        <gn:featureClass rdf:resource=\"https://www.geonames.org/ontology#P\"/>        <gn:featureCode rdf:resource=\"https://www.geonames.org/ontology#P.PPL\"/>        <gn:countryCode>IR</gn:countryCode>        <wgs84_pos:lat>32.5</wgs84_pos:lat>        <wgs84_pos:long>48.9</wgs84_pos:long>        <gn:parentFeature rdf:resource=\"https://sws.geonames.org/127082/\"/>        <gn:parentCountry rdf:resource=\"https://sws.geonames.org/130758/\"/>        <gn:parentADM1 rdf:resource=\"https://sws.geonames.org/127082/\"/>        <gn:nearbyFeatures rdf:resource=\"https://sws.geonames.org/5/nearby.rdf\"/>        <gn:locationMap rdf:resource=\"https://www.geonames.org/5/yekahi.html\"/>    </gn:Feature></rdf:RDF>\n",
      "https://sws.geonames.org/6/\n",
      "<?xml version=\"1.0\" encoding=\"UTF-8\" standalone=\"no\"?><rdf:RDF xmlns:cc=\"http://creativecommons.org/ns#\" xmlns:dcterms=\"http://purl.org/dc/terms/\" xmlns:foaf=\"http://xmlns.com/foaf/0.1/\" xmlns:gn=\"http://www.geonames.org/ontology#\" xmlns:owl=\"http://www.w3.org/2002/07/owl#\" xmlns:rdf=\"http://www.w3.org/1999/02/22-rdf-syntax-ns#\" xmlns:rdfs=\"http://www.w3.org/2000/01/rdf-schema#\" xmlns:wgs84_pos=\"http://www.w3.org/2003/01/geo/wgs84_pos#\">    <gn:Feature rdf:about=\"https://sws.geonames.org/6/\">        <rdfs:isDefinedBy rdf:resource=\"https://sws.geonames.org/6/about.rdf\"/>        <gn:name>Āb-e Yasī</gn:name>        <gn:featureClass rdf:resource=\"https://www.geonames.org/ontology#H\"/>        <gn:featureCode rdf:resource=\"https://www.geonames.org/ontology#H.STM\"/>        <gn:countryCode>IR</gn:countryCode>        <wgs84_pos:lat>32.8</wgs84_pos:lat>        <wgs84_pos:long>48.8</wgs84_pos:long>        <gn:parentFeature rdf:resource=\"https://sws.geonames.org/127082/\"/>        <gn:parentCountry rdf:resource=\"https://sws.geonames.org/130758/\"/>        <gn:parentADM1 rdf:resource=\"https://sws.geonames.org/127082/\"/>        <gn:nearbyFeatures rdf:resource=\"https://sws.geonames.org/6/nearby.rdf\"/>        <gn:locationMap rdf:resource=\"https://www.geonames.org/6/ab-e-yasi.html\"/>    </gn:Feature></rdf:RDF>\n",
      "https://sws.geonames.org/8/\n",
      "<?xml version=\"1.0\" encoding=\"UTF-8\" standalone=\"no\"?><rdf:RDF xmlns:cc=\"http://creativecommons.org/ns#\" xmlns:dcterms=\"http://purl.org/dc/terms/\" xmlns:foaf=\"http://xmlns.com/foaf/0.1/\" xmlns:gn=\"http://www.geonames.org/ontology#\" xmlns:owl=\"http://www.w3.org/2002/07/owl#\" xmlns:rdf=\"http://www.w3.org/1999/02/22-rdf-syntax-ns#\" xmlns:rdfs=\"http://www.w3.org/2000/01/rdf-schema#\" xmlns:wgs84_pos=\"http://www.w3.org/2003/01/geo/wgs84_pos#\">    <gn:Feature rdf:about=\"https://sws.geonames.org/8/\">        <rdfs:isDefinedBy rdf:resource=\"https://sws.geonames.org/8/about.rdf\"/>        <gn:name>Tappeh-ye Seh Nūr</gn:name>        <gn:alternateName xml:lang=\"fa\">Tappeh-ye Seh Nūr</gn:alternateName>        <gn:featureClass rdf:resource=\"https://www.geonames.org/ontology#T\"/>        <gn:featureCode rdf:resource=\"https://www.geonames.org/ontology#T.HLL\"/>        <gn:countryCode>IR</gn:countryCode>        <wgs84_pos:lat>32.75</wgs84_pos:lat>        <wgs84_pos:long>48.08333</wgs84_pos:long>        <gn:parentFeature rdf:resource=\"https://sws.geonames.org/127082/\"/>        <gn:parentCountry rdf:resource=\"https://sws.geonames.org/130758/\"/>        <gn:parentADM1 rdf:resource=\"https://sws.geonames.org/127082/\"/>        <gn:nearbyFeatures rdf:resource=\"https://sws.geonames.org/8/nearby.rdf\"/>        <gn:locationMap rdf:resource=\"https://www.geonames.org/8/tappeh-ye-seh-nur.html\"/>    </gn:Feature></rdf:RDF>\n"
     ]
    }
   ],
   "source": [
    "%%bash\n",
    "du -sh datasets/13368/all-geonames-rdf.txt\n",
    "head datasets/13368/all-geonames-rdf.txt"
   ]
  },
  {
   "cell_type": "code",
   "execution_count": 56,
   "metadata": {},
   "outputs": [],
   "source": [
    "%%bash\n",
    "mv datasets/13368/all-geonames-rdf.txt datasets/13368/all-geonames.rdf"
   ]
  },
  {
   "cell_type": "code",
   "execution_count": 57,
   "metadata": {},
   "outputs": [
    {
     "name": "stdout",
     "output_type": "stream",
     "text": [
      "\u001b[01;34mdatasets/13368\u001b[00m\n",
      "├── about.rdf\n",
      "├── all-geonames.rdf\n",
      "├── \u001b[01;31mall-geonames-rdf.zip\u001b[00m\n",
      "├── metadata.json\n",
      "└── ontology-v2.rdf\n",
      "\n",
      "0 directories, 5 files\n"
     ]
    }
   ],
   "source": [
    "%%bash\n",
    "tree datasets/13368"
   ]
  },
  {
   "cell_type": "code",
   "execution_count": 58,
   "metadata": {},
   "outputs": [],
   "source": [
    "%%bash\n",
    "rm -rf datasets/13368/all-geonames-rdf.zip"
   ]
  },
  {
   "cell_type": "code",
   "execution_count": 59,
   "metadata": {},
   "outputs": [
    {
     "name": "stdout",
     "output_type": "stream",
     "text": [
      "\u001b[01;34mdatasets/13368\u001b[00m\n",
      "├── about.rdf\n",
      "├── all-geonames.rdf\n",
      "├── metadata.json\n",
      "└── ontology-v2.rdf\n",
      "\n",
      "0 directories, 4 files\n"
     ]
    }
   ],
   "source": [
    "%%bash\n",
    "tree datasets/13368"
   ]
  },
  {
   "attachments": {},
   "cell_type": "markdown",
   "metadata": {},
   "source": [
    "##### datasets/13378/wn20full.zip"
   ]
  },
  {
   "cell_type": "code",
   "execution_count": 60,
   "metadata": {},
   "outputs": [
    {
     "name": "stdout",
     "output_type": "stream",
     "text": [
      "totale 14544\n",
      "drwxr-xr-x     2 riccardo riccardo     4096  9 mag 18.45 .\n",
      "drwxr-xr-x 31591 riccardo riccardo   962560 17 apr 22.34 ..\n",
      "-rw-r--r--     1 riccardo riccardo    49121 30 apr 02.44 metadata.json\n",
      "-rw-r--r--     1 riccardo riccardo 13832499  8 apr 15.06 wn20full.zip\n",
      "-rw-r--r--     1 riccardo riccardo    35332  8 apr 15.06 wnfull.rdf\n",
      "14M\tdatasets/13378/wn20full.zip\n"
     ]
    }
   ],
   "source": [
    "%%bash\n",
    "ls -la datasets/13378/\n",
    "du -sh datasets/13378/wn20full.zip"
   ]
  },
  {
   "cell_type": "code",
   "execution_count": 61,
   "metadata": {},
   "outputs": [
    {
     "name": "stdout",
     "output_type": "stream",
     "text": [
      "Archive:  wn20full.zip\n",
      "  inflating: wnfull.rdfs             \n",
      "  inflating: wordnet-antonym.rdf     \n",
      "  inflating: wordnet-attribute.rdf   \n",
      "  inflating: wordnet-causes.rdf      \n",
      "  inflating: wordnet-classifiedby.rdf  \n",
      "  inflating: wordnet-derivationallyrelated.rdf  \n",
      "  inflating: wordnet-entailment.rdf  \n",
      "  inflating: wordnet-frame.rdf       \n",
      "  inflating: wordnet-glossary.rdf    \n",
      "  inflating: wordnet-hyponym.rdf     \n",
      "  inflating: wordnet-membermeronym.rdf  \n",
      "  inflating: wordnet-participleof.rdf  \n",
      "  inflating: wordnet-partmeronym.rdf  \n",
      "  inflating: wordnet-pertainsto.rdf  \n",
      "  inflating: wordnet-sameverbgroupas.rdf  \n",
      "  inflating: wordnet-seealso.rdf     \n",
      "  inflating: wordnet-similarity.rdf  \n",
      "  inflating: wordnet-substancemeronym.rdf  \n",
      "  inflating: wordnet-synset.rdf      \n",
      "  inflating: wordnet-wordsensesandwords.rdf  \n"
     ]
    }
   ],
   "source": [
    "%%bash\n",
    "cd datasets/13378/\n",
    "unzip wn20full.zip"
   ]
  },
  {
   "cell_type": "code",
   "execution_count": 62,
   "metadata": {},
   "outputs": [
    {
     "name": "stdout",
     "output_type": "stream",
     "text": [
      "\u001b[01;34mdatasets/13378/\u001b[00m\n",
      "├── metadata.json\n",
      "├── \u001b[01;31mwn20full.zip\u001b[00m\n",
      "├── wnfull.rdf\n",
      "├── wnfull.rdfs\n",
      "├── wordnet-antonym.rdf\n",
      "├── wordnet-attribute.rdf\n",
      "├── wordnet-causes.rdf\n",
      "├── wordnet-classifiedby.rdf\n",
      "├── wordnet-derivationallyrelated.rdf\n",
      "├── wordnet-entailment.rdf\n",
      "├── wordnet-frame.rdf\n",
      "├── wordnet-glossary.rdf\n",
      "├── wordnet-hyponym.rdf\n",
      "├── wordnet-membermeronym.rdf\n",
      "├── wordnet-participleof.rdf\n",
      "├── wordnet-partmeronym.rdf\n",
      "├── wordnet-pertainsto.rdf\n",
      "├── wordnet-sameverbgroupas.rdf\n",
      "├── wordnet-seealso.rdf\n",
      "├── wordnet-similarity.rdf\n",
      "├── wordnet-substancemeronym.rdf\n",
      "├── wordnet-synset.rdf\n",
      "└── wordnet-wordsensesandwords.rdf\n",
      "\n",
      "0 directories, 23 files\n"
     ]
    }
   ],
   "source": [
    "%%bash\n",
    "tree datasets/13378/"
   ]
  },
  {
   "cell_type": "code",
   "execution_count": 63,
   "metadata": {},
   "outputs": [
    {
     "name": "stdout",
     "output_type": "stream",
     "text": [
      "\u001b[01;34m.\u001b[00m\n",
      "├── metadata.json\n",
      "├── wnfull.rdf\n",
      "├── wordnet-antonym.rdf\n",
      "├── wordnet-attribute.rdf\n",
      "├── wordnet-causes.rdf\n",
      "├── wordnet-classifiedby.rdf\n",
      "├── wordnet-derivationallyrelated.rdf\n",
      "├── wordnet-entailment.rdf\n",
      "├── wordnet-frame.rdf\n",
      "├── wordnet-glossary.rdf\n",
      "├── wordnet-hyponym.rdf\n",
      "├── wordnet-membermeronym.rdf\n",
      "├── wordnet-participleof.rdf\n",
      "├── wordnet-partmeronym.rdf\n",
      "├── wordnet-pertainsto.rdf\n",
      "├── wordnet-sameverbgroupas.rdf\n",
      "├── wordnet-seealso.rdf\n",
      "├── wordnet-similarity.rdf\n",
      "├── wordnet-substancemeronym.rdf\n",
      "├── wordnet-synset.rdf\n",
      "└── wordnet-wordsensesandwords.rdf\n",
      "\n",
      "0 directories, 21 files\n"
     ]
    }
   ],
   "source": [
    "%%bash\n",
    "cd  datasets/13378/\n",
    "rm -rf wn20full.zip wnfull.rdfs\n",
    "tree ."
   ]
  },
  {
   "attachments": {},
   "cell_type": "markdown",
   "metadata": {},
   "source": [
    "##### datasets/13822/lsoa.ttl.zip"
   ]
  },
  {
   "cell_type": "code",
   "execution_count": 64,
   "metadata": {},
   "outputs": [
    {
     "name": "stdout",
     "output_type": "stream",
     "text": [
      "totale 1892\n",
      "drwxr-xr-x     2 riccardo riccardo   4096  8 mag 17.32 .\n",
      "drwxr-xr-x 31591 riccardo riccardo 962560 17 apr 22.34 ..\n",
      "-rw-r--r--     1 riccardo riccardo   1678  8 apr 15.12 e01000001.nt\n",
      "-rw-r--r--     1 riccardo riccardo   1465  8 apr 15.12 e01000001.rdf\n",
      "-rw-r--r--     1 riccardo riccardo    907  8 apr 15.12 e01000001.ttl\n",
      "-rw-r--r--     1 riccardo riccardo 944805  8 apr 15.12 lsoa.ttl.zip\n",
      "-rw-r--r--     1 riccardo riccardo   4507 30 apr 02.50 metadata.json\n",
      "924K\tdatasets/13822/lsoa.ttl.zip\n"
     ]
    }
   ],
   "source": [
    "%%bash\n",
    "ls -la datasets/13822\n",
    "du -sh datasets/13822/lsoa.ttl.zip"
   ]
  },
  {
   "cell_type": "code",
   "execution_count": 65,
   "metadata": {},
   "outputs": [
    {
     "name": "stdout",
     "output_type": "stream",
     "text": [
      "Archive:  lsoa.ttl.zip\n",
      "  inflating: lsoa.ttl                \n"
     ]
    }
   ],
   "source": [
    "%%bash\n",
    "cd datasets/13822\n",
    "unzip lsoa.ttl.zip"
   ]
  },
  {
   "cell_type": "code",
   "execution_count": 66,
   "metadata": {},
   "outputs": [],
   "source": [
    "%%bash\n",
    "rm datasets/13822/lsoa.ttl.zip"
   ]
  },
  {
   "cell_type": "code",
   "execution_count": 67,
   "metadata": {},
   "outputs": [
    {
     "name": "stdout",
     "output_type": "stream",
     "text": [
      "\u001b[01;34mdatasets/13822\u001b[00m\n",
      "├── e01000001.nt\n",
      "├── e01000001.rdf\n",
      "├── e01000001.ttl\n",
      "├── lsoa.ttl\n",
      "└── metadata.json\n",
      "\n",
      "0 directories, 5 files\n"
     ]
    }
   ],
   "source": [
    "%%bash\n",
    "tree datasets/13822"
   ]
  },
  {
   "attachments": {},
   "cell_type": "markdown",
   "metadata": {},
   "source": [
    "##### datasets/14252/wn20full.zip (related to datasets/13378)"
   ]
  },
  {
   "cell_type": "code",
   "execution_count": 68,
   "metadata": {},
   "outputs": [
    {
     "name": "stdout",
     "output_type": "stream",
     "text": [
      "totale 14548\n",
      "drwxr-xr-x     2 riccardo riccardo     4096  9 mag 18.45 .\n",
      "drwxr-xr-x 31591 riccardo riccardo   962560 17 apr 22.34 ..\n",
      "-rw-r--r--     1 riccardo riccardo    49234 30 apr 04.22 metadata.json\n",
      "-rw-r--r--     1 riccardo riccardo 13832499  8 apr 15.12 wn20full.zip\n",
      "-rw-r--r--     1 riccardo riccardo    35332  8 apr 15.12 wnfull.rdf\n",
      "14M\tdatasets/14252/wn20full.zip\n"
     ]
    }
   ],
   "source": [
    "%%bash\n",
    "ls -la datasets/14252/\n",
    "du -sh datasets/14252/wn20full.zip"
   ]
  },
  {
   "attachments": {},
   "cell_type": "markdown",
   "metadata": {},
   "source": [
    "Seems related to `datasets/13378`"
   ]
  },
  {
   "cell_type": "code",
   "execution_count": 69,
   "metadata": {},
   "outputs": [
    {
     "data": {
      "text/plain": [
       "'I file datasets/14252/metadata.json e datasets/13378/metadata.json sono diversi\\nSolo in datasets/14252: wn20full.zip\\nSolo in datasets/13378: wordnet-antonym.rdf\\nSolo in datasets/13378: wordnet-attribute.rdf\\nSolo in datasets/13378: wordnet-causes.rdf\\nSolo in datasets/13378: wordnet-classifiedby.rdf\\nSolo in datasets/13378: wordnet-derivationallyrelated.rdf\\nSolo in datasets/13378: wordnet-entailment.rdf\\nSolo in datasets/13378: wordnet-frame.rdf\\nSolo in datasets/13378: wordnet-glossary.rdf\\nSolo in datasets/13378: wordnet-hyponym.rdf\\nSolo in datasets/13378: wordnet-membermeronym.rdf\\nSolo in datasets/13378: wordnet-participleof.rdf\\nSolo in datasets/13378: wordnet-partmeronym.rdf\\nSolo in datasets/13378: wordnet-pertainsto.rdf\\nSolo in datasets/13378: wordnet-sameverbgroupas.rdf\\nSolo in datasets/13378: wordnet-seealso.rdf\\nSolo in datasets/13378: wordnet-similarity.rdf\\nSolo in datasets/13378: wordnet-substancemeronym.rdf\\nSolo in datasets/13378: wordnet-synset.rdf\\nSolo in datasets/13378: wordnet-wordsensesandwords.rdf\\n'"
      ]
     },
     "execution_count": 69,
     "metadata": {},
     "output_type": "execute_result"
    }
   ],
   "source": [
    "diff_dataset(\"datasets/14252\", \"datasets/13378\")"
   ]
  },
  {
   "cell_type": "code",
   "execution_count": 70,
   "metadata": {},
   "outputs": [
    {
     "name": "stdout",
     "output_type": "stream",
     "text": [
      "Archive:  wn20full.zip\n",
      "  inflating: wnfull.rdfs             \n",
      "  inflating: wordnet-antonym.rdf     \n",
      "  inflating: wordnet-attribute.rdf   \n",
      "  inflating: wordnet-causes.rdf      \n",
      "  inflating: wordnet-classifiedby.rdf  \n",
      "  inflating: wordnet-derivationallyrelated.rdf  \n",
      "  inflating: wordnet-entailment.rdf  \n",
      "  inflating: wordnet-frame.rdf       \n",
      "  inflating: wordnet-glossary.rdf    \n",
      "  inflating: wordnet-hyponym.rdf     \n",
      "  inflating: wordnet-membermeronym.rdf  \n",
      "  inflating: wordnet-participleof.rdf  \n",
      "  inflating: wordnet-partmeronym.rdf  \n",
      "  inflating: wordnet-pertainsto.rdf  \n",
      "  inflating: wordnet-sameverbgroupas.rdf  \n",
      "  inflating: wordnet-seealso.rdf     \n",
      "  inflating: wordnet-similarity.rdf  \n",
      "  inflating: wordnet-substancemeronym.rdf  \n",
      "  inflating: wordnet-synset.rdf      \n",
      "  inflating: wordnet-wordsensesandwords.rdf  \n"
     ]
    }
   ],
   "source": [
    "%%bash\n",
    "cd datasets/14252/\n",
    "unzip wn20full.zip"
   ]
  },
  {
   "cell_type": "code",
   "execution_count": 71,
   "metadata": {},
   "outputs": [],
   "source": [
    "%%bash\n",
    "cd datasets/14252/\n",
    "rm wn20full.zip wnfull.rdfs"
   ]
  },
  {
   "cell_type": "code",
   "execution_count": 72,
   "metadata": {},
   "outputs": [
    {
     "name": "stdout",
     "output_type": "stream",
     "text": [
      "\u001b[01;34m.\u001b[00m\n",
      "├── metadata.json\n",
      "├── wnfull.rdf\n",
      "├── wordnet-antonym.rdf\n",
      "├── wordnet-attribute.rdf\n",
      "├── wordnet-causes.rdf\n",
      "├── wordnet-classifiedby.rdf\n",
      "├── wordnet-derivationallyrelated.rdf\n",
      "├── wordnet-entailment.rdf\n",
      "├── wordnet-frame.rdf\n",
      "├── wordnet-glossary.rdf\n",
      "├── wordnet-hyponym.rdf\n",
      "├── wordnet-membermeronym.rdf\n",
      "├── wordnet-participleof.rdf\n",
      "├── wordnet-partmeronym.rdf\n",
      "├── wordnet-pertainsto.rdf\n",
      "├── wordnet-sameverbgroupas.rdf\n",
      "├── wordnet-seealso.rdf\n",
      "├── wordnet-similarity.rdf\n",
      "├── wordnet-substancemeronym.rdf\n",
      "├── wordnet-synset.rdf\n",
      "└── wordnet-wordsensesandwords.rdf\n",
      "\n",
      "0 directories, 21 files\n"
     ]
    }
   ],
   "source": [
    "%%bash\n",
    "cd datasets/14252/\n",
    "tree ."
   ]
  },
  {
   "attachments": {},
   "cell_type": "markdown",
   "metadata": {},
   "source": [
    "##### datasets/14344/all-geonames-rdf.zip (related to datasets/13368)"
   ]
  },
  {
   "cell_type": "code",
   "execution_count": 73,
   "metadata": {},
   "outputs": [
    {
     "name": "stdout",
     "output_type": "stream",
     "text": [
      "totale 726332\n",
      "drwxr-xr-x     2 riccardo riccardo      4096  8 mag 17.32 .\n",
      "drwxr-xr-x 31591 riccardo riccardo    962560 17 apr 22.34 ..\n",
      "-rw-r--r--     1 riccardo riccardo      2833  8 apr 15.13 about.rdf\n",
      "-rw-r--r--     1 riccardo riccardo 742269561  8 apr 15.13 all-geonames-rdf.zip\n",
      "-rw-r--r--     1 riccardo riccardo    307512 30 apr 04.28 metadata.json\n",
      "-rw-r--r--     1 riccardo riccardo    196853  8 apr 15.12 ontology-v2.rdf\n",
      "708M\tdatasets/14344/all-geonames-rdf.zip\n"
     ]
    }
   ],
   "source": [
    "%%bash\n",
    "ls -la datasets/14344/\n",
    "du -sh datasets/14344/all-geonames-rdf.zip"
   ]
  },
  {
   "cell_type": "code",
   "execution_count": 74,
   "metadata": {},
   "outputs": [
    {
     "name": "stdout",
     "output_type": "stream",
     "text": [
      "Archive:  all-geonames-rdf.zip\n",
      "  inflating: all-geonames-rdf.txt    \n"
     ]
    }
   ],
   "source": [
    "%%bash\n",
    "cd datasets/14344/\n",
    "unzip all-geonames-rdf.zip"
   ]
  },
  {
   "cell_type": "code",
   "execution_count": 75,
   "metadata": {},
   "outputs": [],
   "source": [
    "%%bash\n",
    "cd datasets/14344/\n",
    "rm all-geonames-rdf.zip\n",
    "mv all-geonames-rdf.txt all-geonames.rdf"
   ]
  },
  {
   "cell_type": "code",
   "execution_count": 76,
   "metadata": {},
   "outputs": [
    {
     "data": {
      "text/plain": [
       "'I file datasets/14344/metadata.json e datasets/13368/metadata.json sono diversi\\n'"
      ]
     },
     "execution_count": 76,
     "metadata": {},
     "output_type": "execute_result"
    }
   ],
   "source": [
    "diff_dataset(\"datasets/14344\", \"datasets/13368\")"
   ]
  },
  {
   "cell_type": "code",
   "execution_count": 77,
   "metadata": {},
   "outputs": [
    {
     "name": "stdout",
     "output_type": "stream",
     "text": [
      "\u001b[01;34mdatasets/14344/\u001b[00m\n",
      "├── about.rdf\n",
      "├── all-geonames.rdf\n",
      "├── metadata.json\n",
      "└── ontology-v2.rdf\n",
      "\n",
      "0 directories, 4 files\n"
     ]
    }
   ],
   "source": [
    "%%bash\n",
    "tree datasets/14344/"
   ]
  },
  {
   "attachments": {},
   "cell_type": "markdown",
   "metadata": {},
   "source": [
    "##### datasets/14364/govwild-rdf-2012-01-30.zip (related to datasets/13263)"
   ]
  },
  {
   "cell_type": "code",
   "execution_count": 78,
   "metadata": {},
   "outputs": [
    {
     "name": "stdout",
     "output_type": "stream",
     "text": [
      "totale 241340\n",
      "drwxr-xr-x     2 riccardo riccardo      4096  8 mag 17.32 .\n",
      "drwxr-xr-x 31591 riccardo riccardo    962560 17 apr 22.34 ..\n",
      "-rw-r--r--     1 riccardo riccardo 246077569  8 apr 15.13 govwild-rdf-2012-01-30.zip\n",
      "-rw-r--r--     1 riccardo riccardo     33191  8 apr 15.13 gwontology.rdf\n",
      "-rw-r--r--     1 riccardo riccardo     38051 30 apr 04.14 metadata.json\n",
      "235M\tgovwild-rdf-2012-01-30.zip\n"
     ]
    }
   ],
   "source": [
    "%%bash\n",
    "cd datasets/14364\n",
    "ls -la\n",
    "du -sh govwild-rdf-2012-01-30.zip"
   ]
  },
  {
   "cell_type": "code",
   "execution_count": 79,
   "metadata": {},
   "outputs": [
    {
     "name": "stdout",
     "output_type": "stream",
     "text": [
      "Archive:  govwild-rdf-2012-01-30.zip\n",
      "   creating: Govwild_rdf_2012-01-30/\n",
      "  inflating: Govwild_rdf_2012-01-30/changelog_2012-01-30.txt  \n",
      "  inflating: Govwild_rdf_2012-01-30/Govwild_rdf.n3  \n"
     ]
    }
   ],
   "source": [
    "%%bash \n",
    "cd datasets/14364\n",
    "unzip govwild-rdf-2012-01-30.zip\n",
    "mv Govwild_rdf_2012-01-30/* .\n",
    "rm -rf Govwild_rdf_2012-01-30\n",
    "rm -rf datasets/14364/govwild-rdf-2012-01-30.zip"
   ]
  },
  {
   "cell_type": "code",
   "execution_count": 80,
   "metadata": {},
   "outputs": [
    {
     "name": "stdout",
     "output_type": "stream",
     "text": [
      "- bug fixing:\n",
      "\t- only calculate \"euFinanceTotalReceived\" for the countries of the EU, analogous for \"earmarksTotalReceived\" and the states in the US\n",
      "\t- remove duplicate sameAs-links for Freebase\n",
      "\t- huge funds aren't negative any more\n",
      "- cleansed sourceDetailed (wrongly added EuFinance)\n",
      "- optimized splitting of FreebaseCompany\n",
      "- ontology changes:\n",
      "\t- rename \"Relationship\" to \"PersonRelationship\"\n",
      "\t- rename \"NYTArticle\" to \"NewsArticle\"\n",
      "\t- rename \"Place\" to \"Address\"\n"
     ]
    }
   ],
   "source": [
    "%%bash\n",
    "head datasets/14364/changelog_2012-01-30.txt\n",
    "rm -rf datasets/14364/changelog_2012-01-30.txt"
   ]
  },
  {
   "cell_type": "code",
   "execution_count": 1,
   "metadata": {},
   "outputs": [],
   "source": [
    "rm datasets/14364/govwild-rdf-2012-01-30.zip"
   ]
  },
  {
   "cell_type": "code",
   "execution_count": 2,
   "metadata": {},
   "outputs": [
    {
     "name": "stdout",
     "output_type": "stream",
     "text": [
      "\u001b[01;34mdatasets/14364\u001b[00m\n",
      "├── \u001b[01;32mGovwild_rdf.n3\u001b[00m\n",
      "├── gwontology.rdf\n",
      "└── metadata.json\n",
      "\n",
      "0 directories, 3 files\n"
     ]
    }
   ],
   "source": [
    "%%bash\n",
    "tree datasets/14364"
   ]
  },
  {
   "cell_type": "code",
   "execution_count": 7,
   "metadata": {},
   "outputs": [
    {
     "data": {
      "text/plain": [
       "'I file datasets/14364/metadata.json e datasets/13263/metadata.json sono diversi\\n'"
      ]
     },
     "execution_count": 7,
     "metadata": {},
     "output_type": "execute_result"
    }
   ],
   "source": [
    "diff_dataset(\"datasets/14364\", \"datasets/13263\")"
   ]
  },
  {
   "cell_type": "code",
   "execution_count": 8,
   "metadata": {},
   "outputs": [
    {
     "data": {
      "text/plain": [
       "'2c2\\n<     \"dataset_id\": \"14364\",\\n---\\n>     \"dataset_id\": \"13263\",\\n6c6\\n<     \"tags\": \"format-rdf;gov;government;lod;lodcloud-diagram-2011-09-19;lodcloud-diagram-2014-08-30;no-deref-vocab;opendatachallenge;published-by-third-party;\",\\n---\\n>     \"tags\": \"LinkedDataCrawl2014;format-owl;format-rdf;format-rdfs;gov;government;lod;no-deref-vocab;opendatachallenge;part-deref-vocab;prop-vocab;published-by-third-party;\",\\n'"
      ]
     },
     "execution_count": 8,
     "metadata": {},
     "output_type": "execute_result"
    }
   ],
   "source": [
    "diff_file(\"datasets/14364/metadata.json\", \"datasets/13263/metadata.json\")"
   ]
  },
  {
   "attachments": {},
   "cell_type": "markdown",
   "metadata": {},
   "source": [
    "##### datasets/15282/lsoa.ttl.zip (related to datasets/13822)"
   ]
  },
  {
   "cell_type": "code",
   "execution_count": 84,
   "metadata": {},
   "outputs": [
    {
     "name": "stdout",
     "output_type": "stream",
     "text": [
      "totale 1892\n",
      "drwxr-xr-x     2 riccardo riccardo   4096  8 mag 17.32 .\n",
      "drwxr-xr-x 31591 riccardo riccardo 962560 17 apr 22.34 ..\n",
      "-rw-r--r--     1 riccardo riccardo   1678  8 apr 15.14 e01000001.nt\n",
      "-rw-r--r--     1 riccardo riccardo   1465  8 apr 15.14 e01000001.rdf\n",
      "-rw-r--r--     1 riccardo riccardo    907  8 apr 15.14 e01000001.ttl\n",
      "-rw-r--r--     1 riccardo riccardo 944805  8 apr 15.14 lsoa.ttl.zip\n",
      "-rw-r--r--     1 riccardo riccardo   4507 30 apr 02.09 metadata.json\n",
      "924K\tdatasets/15282/lsoa.ttl.zip\n"
     ]
    }
   ],
   "source": [
    "%%bash\n",
    "ls -la datasets/15282\n",
    "du -sh datasets/15282/lsoa.ttl.zip"
   ]
  },
  {
   "cell_type": "code",
   "execution_count": 85,
   "metadata": {},
   "outputs": [
    {
     "name": "stdout",
     "output_type": "stream",
     "text": [
      "Archive:  lsoa.ttl.zip\n",
      "  inflating: lsoa.ttl                \n"
     ]
    }
   ],
   "source": [
    "%%bash\n",
    "cd datasets/15282\n",
    "unzip lsoa.ttl.zip\n",
    "rm lsoa.ttl.zip"
   ]
  },
  {
   "cell_type": "code",
   "execution_count": 86,
   "metadata": {},
   "outputs": [
    {
     "name": "stdout",
     "output_type": "stream",
     "text": [
      "\u001b[01;34mdatasets/15282\u001b[00m\n",
      "├── e01000001.nt\n",
      "├── e01000001.rdf\n",
      "├── e01000001.ttl\n",
      "├── lsoa.ttl\n",
      "└── metadata.json\n",
      "\n",
      "0 directories, 5 files\n"
     ]
    }
   ],
   "source": [
    "%%bash\n",
    "tree datasets/15282"
   ]
  },
  {
   "cell_type": "code",
   "execution_count": 87,
   "metadata": {},
   "outputs": [
    {
     "data": {
      "text/plain": [
       "'I file datasets/15282/metadata.json e datasets/13822/metadata.json sono diversi\\n'"
      ]
     },
     "execution_count": 87,
     "metadata": {},
     "output_type": "execute_result"
    }
   ],
   "source": [
    "diff_dataset(\"datasets/15282\", \"datasets/13822\")"
   ]
  },
  {
   "cell_type": "code",
   "execution_count": 88,
   "metadata": {},
   "outputs": [
    {
     "data": {
      "text/plain": [
       "'2c2\\n<     \"dataset_id\": \"15282\",\\n---\\n>     \"dataset_id\": \"13822\",\\n'"
      ]
     },
     "execution_count": 88,
     "metadata": {},
     "output_type": "execute_result"
    }
   ],
   "source": [
    "diff_file(\"datasets/15282/metadata.json\", \"datasets/13822/metadata.json\")"
   ]
  },
  {
   "attachments": {},
   "cell_type": "markdown",
   "metadata": {},
   "source": [
    "##### datasets/21532/jrcnames-uri.zip"
   ]
  },
  {
   "cell_type": "code",
   "execution_count": 89,
   "metadata": {},
   "outputs": [
    {
     "name": "stdout",
     "output_type": "stream",
     "text": [
      "totale 775128\n",
      "drwxr-xr-x     2 riccardo riccardo      4096  8 mag 17.32 .\n",
      "drwxr-xr-x 31591 riccardo riccardo    962560 17 apr 22.34 ..\n",
      "-rw-r--r--     1 riccardo riccardo      9112  8 apr 15.15 jrcnamesmodel.rdf\n",
      "-rw-r--r--     1 riccardo riccardo 792724845  8 apr 15.15 jrcnames-uri.zip\n",
      "-rw-r--r--     1 riccardo riccardo     12540 30 apr 03.18 metadata.json\n",
      "757M\tjrcnames-uri.zip\n"
     ]
    }
   ],
   "source": [
    "%%bash\n",
    "cd datasets/21532\n",
    "ls -la\n",
    "du -sh jrcnames-uri.zip"
   ]
  },
  {
   "cell_type": "code",
   "execution_count": 90,
   "metadata": {},
   "outputs": [
    {
     "name": "stdout",
     "output_type": "stream",
     "text": [
      "Archive:  jrcnames-uri.zip\n",
      "  inflating: jrcnames_uri.nt         \n"
     ]
    }
   ],
   "source": [
    "%%bash \n",
    "cd datasets/21532\n",
    "unzip jrcnames-uri.zip"
   ]
  },
  {
   "cell_type": "code",
   "execution_count": 91,
   "metadata": {},
   "outputs": [
    {
     "name": "stdout",
     "output_type": "stream",
     "text": [
      "\u001b[01;34mdatasets/21532\u001b[00m\n",
      "├── jrcnamesmodel.rdf\n",
      "├── jrcnames_uri.nt\n",
      "├── \u001b[01;31mjrcnames-uri.zip\u001b[00m\n",
      "└── metadata.json\n",
      "\n",
      "0 directories, 4 files\n"
     ]
    }
   ],
   "source": [
    "%%bash \n",
    "tree datasets/21532"
   ]
  },
  {
   "cell_type": "code",
   "execution_count": 92,
   "metadata": {},
   "outputs": [],
   "source": [
    "%%bash\n",
    "rm datasets/21532/jrcnames-uri.zip"
   ]
  },
  {
   "cell_type": "code",
   "execution_count": 93,
   "metadata": {},
   "outputs": [
    {
     "name": "stdout",
     "output_type": "stream",
     "text": [
      "\u001b[01;34mdatasets/21532\u001b[00m\n",
      "├── jrcnamesmodel.rdf\n",
      "├── jrcnames_uri.nt\n",
      "└── metadata.json\n",
      "\n",
      "0 directories, 3 files\n"
     ]
    }
   ],
   "source": [
    "%%bash\n",
    "tree datasets/21532"
   ]
  },
  {
   "attachments": {},
   "cell_type": "markdown",
   "metadata": {},
   "source": [
    "#### GZ files"
   ]
  },
  {
   "cell_type": "code",
   "execution_count": 94,
   "metadata": {},
   "outputs": [
    {
     "name": "stdout",
     "output_type": "stream",
     "text": [
      "datasets/13283/txn-ocs.ttl.gz\n",
      "datasets/13283/txn-distribution.ttl.gz\n",
      "datasets/13283/txn-images.ttl.gz\n",
      "datasets/13283/txn-misc.ttl.gz\n",
      "datasets/13347/geospecies.rdf.gz\n",
      "datasets/14079/eat.nt.gz\n",
      "datasets/14277/txn-ocs.ttl.gz\n",
      "datasets/14277/txn-distribution.ttl.gz\n",
      "datasets/14277/txn-images.ttl.gz\n",
      "datasets/14277/txn-misc.ttl.gz\n",
      "datasets/14324/geospecies.rdf.gz\n",
      "datasets/14801/usage.nt.gz\n"
     ]
    }
   ],
   "source": [
    "for a in tar_gz:\n",
    "    print(a)"
   ]
  },
  {
   "attachments": {},
   "cell_type": "markdown",
   "metadata": {},
   "source": [
    "##### datasets 13283 and 14277 seems to have the same files"
   ]
  },
  {
   "cell_type": "code",
   "execution_count": 95,
   "metadata": {},
   "outputs": [
    {
     "data": {
      "text/plain": [
       "'I file datasets/13283/metadata.json e datasets/14277/metadata.json sono diversi\\n'"
      ]
     },
     "execution_count": 95,
     "metadata": {},
     "output_type": "execute_result"
    }
   ],
   "source": [
    "diff_dataset(\"datasets/13283\", \"datasets/14277\")"
   ]
  },
  {
   "cell_type": "code",
   "execution_count": 96,
   "metadata": {},
   "outputs": [
    {
     "name": "stderr",
     "output_type": "stream",
     "text": [
      "diff: extra operando \"datasets/14277/metadata.json\"\n",
      "diff: Usare \"diff --help\" per maggiori informazioni.\n"
     ]
    },
    {
     "data": {
      "text/plain": [
       "''"
      ]
     },
     "execution_count": 96,
     "metadata": {},
     "output_type": "execute_result"
    }
   ],
   "source": [
    "diff_file(\"diff datasets/13283/metadata.json\", \"datasets/14277/metadata.json\")"
   ]
  },
  {
   "cell_type": "code",
   "execution_count": 97,
   "metadata": {},
   "outputs": [
    {
     "name": "stdout",
     "output_type": "stream",
     "text": [
      "\u001b[01;34mdatasets/13283\u001b[00m\n",
      "├── f522444a-2dd9-400e-be59-47213ef38cb9.rdf\n",
      "├── metadata.json\n",
      "├── \u001b[01;31mtxn-distribution.ttl.gz\u001b[00m\n",
      "├── \u001b[01;31mtxn-images.ttl.gz\u001b[00m\n",
      "├── \u001b[01;31mtxn-misc.ttl.gz\u001b[00m\n",
      "├── \u001b[01;31mtxn-ocs.ttl.gz\u001b[00m\n",
      "└── txn.owl\n",
      "\n",
      "0 directories, 7 files\n"
     ]
    }
   ],
   "source": [
    "%%bash\n",
    "tree datasets/13283"
   ]
  },
  {
   "cell_type": "code",
   "execution_count": 98,
   "metadata": {},
   "outputs": [],
   "source": [
    "%%bash\n",
    "cd datasets/13283\n",
    "gzip -d *.gz"
   ]
  },
  {
   "cell_type": "code",
   "execution_count": 99,
   "metadata": {},
   "outputs": [
    {
     "name": "stdout",
     "output_type": "stream",
     "text": [
      "\u001b[01;34mdatasets/13283\u001b[00m\n",
      "├── f522444a-2dd9-400e-be59-47213ef38cb9.rdf\n",
      "├── metadata.json\n",
      "├── txn-distribution.ttl\n",
      "├── txn-images.ttl\n",
      "├── txn-misc.ttl\n",
      "├── txn-ocs.ttl\n",
      "└── txn.owl\n",
      "\n",
      "0 directories, 7 files\n"
     ]
    }
   ],
   "source": [
    "%%bash\n",
    "tree datasets/13283"
   ]
  },
  {
   "cell_type": "code",
   "execution_count": 100,
   "metadata": {},
   "outputs": [
    {
     "name": "stdout",
     "output_type": "stream",
     "text": [
      "\u001b[01;34mdatasets/14277\u001b[00m\n",
      "├── f522444a-2dd9-400e-be59-47213ef38cb9.rdf\n",
      "├── metadata.json\n",
      "├── \u001b[01;31mtxn-distribution.ttl.gz\u001b[00m\n",
      "├── \u001b[01;31mtxn-images.ttl.gz\u001b[00m\n",
      "├── \u001b[01;31mtxn-misc.ttl.gz\u001b[00m\n",
      "├── \u001b[01;31mtxn-ocs.ttl.gz\u001b[00m\n",
      "└── txn.owl\n",
      "\n",
      "0 directories, 7 files\n"
     ]
    }
   ],
   "source": [
    "%%bash\n",
    "tree datasets/14277"
   ]
  },
  {
   "cell_type": "code",
   "execution_count": 101,
   "metadata": {},
   "outputs": [],
   "source": [
    "%%bash\n",
    "cd datasets/14277\n",
    "gzip -d *.gz"
   ]
  },
  {
   "cell_type": "code",
   "execution_count": 102,
   "metadata": {},
   "outputs": [
    {
     "name": "stdout",
     "output_type": "stream",
     "text": [
      "\u001b[01;34mdatasets/14277\u001b[00m\n",
      "├── f522444a-2dd9-400e-be59-47213ef38cb9.rdf\n",
      "├── metadata.json\n",
      "├── txn-distribution.ttl\n",
      "├── txn-images.ttl\n",
      "├── txn-misc.ttl\n",
      "├── txn-ocs.ttl\n",
      "└── txn.owl\n",
      "\n",
      "0 directories, 7 files\n"
     ]
    }
   ],
   "source": [
    "%%bash\n",
    "tree datasets/14277"
   ]
  },
  {
   "attachments": {},
   "cell_type": "markdown",
   "metadata": {},
   "source": [
    "##### datasets 13347 and 14324 seems to have the same files"
   ]
  },
  {
   "cell_type": "code",
   "execution_count": 103,
   "metadata": {},
   "outputs": [
    {
     "data": {
      "text/plain": [
       "'I file datasets/13347/metadata.json e datasets/14324/metadata.json sono diversi\\n'"
      ]
     },
     "execution_count": 103,
     "metadata": {},
     "output_type": "execute_result"
    }
   ],
   "source": [
    "diff_dataset(\"datasets/13347\", \"datasets/14324\")"
   ]
  },
  {
   "cell_type": "code",
   "execution_count": 104,
   "metadata": {},
   "outputs": [
    {
     "data": {
      "text/plain": [
       "'2c2\\n<     \"dataset_id\": \"13347\",\\n---\\n>     \"dataset_id\": \"14324\",\\n6c6\\n<     \"tags\": \"LinkedDataCrawl2014;alt. access;crawledLinkedDataCloud2014;dataset-level-metadata;dump;format-bibo;format-cc;format-dcterm;format-foaf;format-geosp;format-gn;format-owl;format-rdf;format-rdfs;format-skos;format-void;format-wdrs;format-wlo;license-metadata\",\\n---\\n>     \"tags\": \"bio;biodiversity;ckanupload.esw.200910;deref-vocab;format-bibo;format-cc;format-dbp;format-dc;format-doap;format-foaf;format-geo;format-geonames;format-geospecies;format-owl;format-rdf;format-rdfs;format-skos;format-txn;format-umbel;format-uniprot;license\",\\n2246,2253c2246,2253\\n<         \"N1a383f779d584fa593cd21697f5de367\",\\n<         \"N8bad3c91c0a540da80d440fc092f735a\",\\n<         \"N40931169e7f74503af2298136443d9ba\",\\n<         \"Nab37b2df8d264979aaa056b31fca3fef\",\\n<         \"N89b51068d1624c6ab5e747d7729733dd\",\\n<         \"Ndce4448e72c64915b1bdd0f3ed2f96fd\",\\n<         \"N718a082d1c82442a871f978909c67727\",\\n<         \"N7bf3b548d93042cfa50961a2c244b07e\"\\n---\\n>         \"Nfdb537dda1fc4616bbe8e854783da5e0\",\\n>         \"N4d9feee9cec548e6a548f54c42ec4a56\",\\n>         \"N2e4e8b7905764bbfa3041b9d6f12983d\",\\n>         \"N2c6e9598ef144c479644e6183fa48b57\",\\n>         \"Nbc4d98df020a45ac932d2c6103107a52\",\\n>         \"N2d21060c7a13494c8c0d26f7e7dba52f\",\\n>         \"N439ea95010e84a1bb475ec3968aa3532\",\\n>         \"N3be9cf863e50460ea480bd9d3afada90\"\\n2263a2264\\n>         \"http://www.w3.org/1999/02/22-rdf-syntax-ns#first\",\\n2266a2268\\n>         \"http://www.w3.org/1999/02/22-rdf-syntax-ns#rest\",\\n2269a2272\\n>         \"http://www.w3.org/1999/02/22-rdf-syntax-ns#rest\",\\n2277d2279\\n<         \"http://www.w3.org/1999/02/22-rdf-syntax-ns#rest\",\\n2287c2289\\n<         \"http://www.w3.org/1999/02/22-rdf-syntax-ns#rest\",\\n---\\n>         \"http://www.w3.org/1999/02/22-rdf-syntax-ns#first\",\\n2314a2317\\n>         \"http://www.w3.org/1999/02/22-rdf-syntax-ns#rest\",\\n2316a2320\\n>         \"http://www.w3.org/1999/02/22-rdf-syntax-ns#first\",\\n2326d2329\\n<         \"http://www.w3.org/1999/02/22-rdf-syntax-ns#rest\",\\n2340a2344\\n>         \"http://www.w3.org/1999/02/22-rdf-syntax-ns#first\",\\n2341a2346,2347\\n>         \"http://www.w3.org/1999/02/22-rdf-syntax-ns#first\",\\n>         \"http://www.w3.org/1999/02/22-rdf-syntax-ns#first\",\\n2352a2359\\n>         \"http://www.w3.org/1999/02/22-rdf-syntax-ns#rest\",\\n2369a2377\\n>         \"http://www.w3.org/1999/02/22-rdf-syntax-ns#rest\",\\n2375c2383\\n<         \"http://www.w3.org/1999/02/22-rdf-syntax-ns#rest\",\\n---\\n>         \"http://www.w3.org/1999/02/22-rdf-syntax-ns#first\",\\n2399a2408\\n>         \"http://www.w3.org/1999/02/22-rdf-syntax-ns#rest\",\\n2412d2420\\n<         \"http://www.w3.org/1999/02/22-rdf-syntax-ns#rest\",\\n2417d2424\\n<         \"http://www.w3.org/1999/02/22-rdf-syntax-ns#rest\",\\n2426d2432\\n<         \"http://www.w3.org/1999/02/22-rdf-syntax-ns#rest\",\\n2429d2434\\n<         \"http://www.w3.org/1999/02/22-rdf-syntax-ns#rest\",\\n2431d2435\\n<         \"http://www.w3.org/1999/02/22-rdf-syntax-ns#rest\",\\n2435c2439\\n<         \"http://www.w3.org/1999/02/22-rdf-syntax-ns#rest\",\\n---\\n>         \"http://www.w3.org/1999/02/22-rdf-syntax-ns#first\",\\n2438d2441\\n<         \"http://www.w3.org/1999/02/22-rdf-syntax-ns#first\",\\n2441a2445\\n>         \"http://www.w3.org/1999/02/22-rdf-syntax-ns#rest\",\\n2454d2457\\n<         \"http://www.w3.org/1999/02/22-rdf-syntax-ns#rest\",\\n2462d2464\\n<         \"http://www.w3.org/1999/02/22-rdf-syntax-ns#rest\",\\n2464d2465\\n<         \"http://www.w3.org/1999/02/22-rdf-syntax-ns#first\",\\n2466d2466\\n<         \"http://www.w3.org/1999/02/22-rdf-syntax-ns#rest\",\\n2468a2469\\n>         \"http://www.w3.org/1999/02/22-rdf-syntax-ns#first\",\\n2470a2472,2473\\n>         \"http://www.w3.org/2002/07/owl#distinctMembers\",\\n>         \"http://www.w3.org/1999/02/22-rdf-syntax-ns#first\",\\n2473,2474d2475\\n<         \"http://www.w3.org/1999/02/22-rdf-syntax-ns#first\",\\n<         \"http://www.w3.org/1999/02/22-rdf-syntax-ns#rest\",\\n2476d2476\\n<         \"http://www.w3.org/1999/02/22-rdf-syntax-ns#rest\",\\n2478d2477\\n<         \"http://www.w3.org/1999/02/22-rdf-syntax-ns#first\",\\n2482a2482\\n>         \"http://www.w3.org/1999/02/22-rdf-syntax-ns#rest\",\\n2486d2485\\n<         \"http://www.w3.org/1999/02/22-rdf-syntax-ns#first\",\\n2489d2487\\n<         \"http://www.w3.org/1999/02/22-rdf-syntax-ns#rest\",\\n2516a2515\\n>         \"http://www.w3.org/1999/02/22-rdf-syntax-ns#rest\",\\n2527,2528c2526\\n<         \"http://www.w3.org/1999/02/22-rdf-syntax-ns#rest\",\\n<         \"http://www.w3.org/1999/02/22-rdf-syntax-ns#rest\",\\n---\\n>         \"http://www.w3.org/1999/02/22-rdf-syntax-ns#first\",\\n2534a2533\\n>         \"http://www.w3.org/1999/02/22-rdf-syntax-ns#rest\",\\n2544a2544\\n>         \"http://www.w3.org/1999/02/22-rdf-syntax-ns#rest\",\\n2546a2547\\n>         \"http://www.w3.org/1999/02/22-rdf-syntax-ns#first\",\\n2550a2552\\n>         \"http://www.w3.org/1999/02/22-rdf-syntax-ns#first\",\\n2573,2574d2574\\n<         \"http://www.w3.org/1999/02/22-rdf-syntax-ns#first\",\\n<         \"http://www.w3.org/1999/02/22-rdf-syntax-ns#type\",\\n2575a2576\\n>         \"http://www.w3.org/2002/07/owl#distinctMembers\",\\n2581a2583\\n>         \"http://www.w3.org/1999/02/22-rdf-syntax-ns#rest\",\\n2583a2586\\n>         \"http://www.w3.org/1999/02/22-rdf-syntax-ns#rest\",\\n2610a2614\\n>         \"http://www.w3.org/1999/02/22-rdf-syntax-ns#first\",\\n2628d2631\\n<         \"http://www.w3.org/1999/02/22-rdf-syntax-ns#rest\",\\n2650a2654\\n>         \"http://www.w3.org/1999/02/22-rdf-syntax-ns#rest\",\\n2653d2656\\n<         \"http://www.w3.org/1999/02/22-rdf-syntax-ns#first\",\\n2657d2659\\n<         \"http://www.w3.org/1999/02/22-rdf-syntax-ns#type\",\\n2666d2667\\n<         \"http://www.w3.org/1999/02/22-rdf-syntax-ns#first\",\\n2698d2698\\n<         \"http://www.w3.org/2002/07/owl#distinctMembers\",\\n2707a2708\\n>         \"http://www.w3.org/1999/02/22-rdf-syntax-ns#type\",\\n2711a2713\\n>         \"http://www.w3.org/1999/02/22-rdf-syntax-ns#first\",\\n2728c2730\\n<         \"http://www.w3.org/1999/02/22-rdf-syntax-ns#rest\",\\n---\\n>         \"http://www.w3.org/1999/02/22-rdf-syntax-ns#first\",\\n2747a2750\\n>         \"http://www.w3.org/1999/02/22-rdf-syntax-ns#type\",\\n2763d2765\\n<         \"http://www.w3.org/1999/02/22-rdf-syntax-ns#first\",\\n2764a2767\\n>         \"http://www.w3.org/1999/02/22-rdf-syntax-ns#first\",\\n2768d2770\\n<         \"http://www.w3.org/1999/02/22-rdf-syntax-ns#rest\",\\n2770a2773\\n>         \"http://www.w3.org/1999/02/22-rdf-syntax-ns#rest\",\\n2798,2799d2800\\n<         \"http://www.w3.org/1999/02/22-rdf-syntax-ns#first\",\\n<         \"http://www.w3.org/1999/02/22-rdf-syntax-ns#first\",\\n2806a2808,2809\\n>         \"http://www.w3.org/1999/02/22-rdf-syntax-ns#first\",\\n>         \"http://www.w3.org/1999/02/22-rdf-syntax-ns#rest\",\\n2810a2814\\n>         \"http://www.w3.org/1999/02/22-rdf-syntax-ns#rest\",\\n2813d2816\\n<         \"http://www.w3.org/1999/02/22-rdf-syntax-ns#rest\",\\n2821a2825\\n>         \"http://www.w3.org/1999/02/22-rdf-syntax-ns#rest\",\\n2825a2830\\n>         \"http://www.w3.org/1999/02/22-rdf-syntax-ns#first\",\\n2829c2834\\n<         \"http://www.w3.org/1999/02/22-rdf-syntax-ns#first\",\\n---\\n>         \"http://www.w3.org/1999/02/22-rdf-syntax-ns#rest\",\\n2831a2837\\n>         \"http://www.w3.org/1999/02/22-rdf-syntax-ns#first\",\\n2838d2843\\n<         \"http://www.w3.org/1999/02/22-rdf-syntax-ns#rest\",\\n2840a2846\\n>         \"http://www.w3.org/1999/02/22-rdf-syntax-ns#first\",\\n2845a2852\\n>         \"http://www.w3.org/1999/02/22-rdf-syntax-ns#rest\",\\n2846a2854\\n>         \"http://www.w3.org/1999/02/22-rdf-syntax-ns#rest\",\\n2849a2858,2859\\n>         \"http://www.w3.org/1999/02/22-rdf-syntax-ns#rest\",\\n>         \"http://www.w3.org/1999/02/22-rdf-syntax-ns#rest\",\\n2882a2893\\n>         \"http://www.w3.org/1999/02/22-rdf-syntax-ns#rest\",\\n2890a2902\\n>         \"http://www.w3.org/1999/02/22-rdf-syntax-ns#first\",\\n2919d2930\\n<         \"http://www.w3.org/1999/02/22-rdf-syntax-ns#first\",\\n2934d2944\\n<         \"http://www.w3.org/1999/02/22-rdf-syntax-ns#rest\",\\n2950d2959\\n<         \"http://www.w3.org/1999/02/22-rdf-syntax-ns#rest\",\\n2953d2961\\n<         \"http://www.w3.org/1999/02/22-rdf-syntax-ns#rest\",\\n2954a2963\\n>         \"http://www.w3.org/1999/02/22-rdf-syntax-ns#first\",\\n2957a2967\\n>         \"http://www.w3.org/1999/02/22-rdf-syntax-ns#rest\",\\n2963d2972\\n<         \"http://www.w3.org/1999/02/22-rdf-syntax-ns#rest\",\\n2974a2984\\n>         \"http://www.w3.org/1999/02/22-rdf-syntax-ns#rest\",\\n2977c2987,2988\\n<         \"http://www.w3.org/1999/02/22-rdf-syntax-ns#rest\",\\n---\\n>         \"http://www.w3.org/1999/02/22-rdf-syntax-ns#first\",\\n>         \"http://www.w3.org/1999/02/22-rdf-syntax-ns#first\",\\n2990d3000\\n<         \"http://www.w3.org/2002/07/owl#distinctMembers\",\\n2991a3002\\n>         \"http://www.w3.org/1999/02/22-rdf-syntax-ns#first\",\\n2995a3007\\n>         \"http://www.w3.org/1999/02/22-rdf-syntax-ns#first\",\\n3015a3028,3029\\n>         \"http://www.w3.org/1999/02/22-rdf-syntax-ns#type\",\\n>         \"http://www.w3.org/1999/02/22-rdf-syntax-ns#first\",\\n3022,3023d3035\\n<         \"http://www.w3.org/1999/02/22-rdf-syntax-ns#first\",\\n<         \"http://www.w3.org/1999/02/22-rdf-syntax-ns#first\",\\n3028d3039\\n<         \"http://www.w3.org/1999/02/22-rdf-syntax-ns#rest\",\\n3049d3059\\n<         \"http://www.w3.org/1999/02/22-rdf-syntax-ns#first\",\\n3054a3065\\n>         \"http://www.w3.org/1999/02/22-rdf-syntax-ns#rest\",\\n3057d3067\\n<         \"http://www.w3.org/2002/07/owl#distinctMembers\",\\n3060a3071\\n>         \"http://www.w3.org/1999/02/22-rdf-syntax-ns#first\",\\n3063a3075\\n>         \"http://www.w3.org/1999/02/22-rdf-syntax-ns#first\",\\n3064a3077\\n>         \"http://www.w3.org/1999/02/22-rdf-syntax-ns#first\",\\n3070d3082\\n<         \"http://www.w3.org/1999/02/22-rdf-syntax-ns#rest\",\\n3102d3113\\n<         \"http://www.w3.org/1999/02/22-rdf-syntax-ns#rest\",\\n3107a3119\\n>         \"http://www.w3.org/1999/02/22-rdf-syntax-ns#rest\",\\n3109a3122\\n>         \"http://www.w3.org/1999/02/22-rdf-syntax-ns#first\",\\n3116d3128\\n<         \"http://www.w3.org/1999/02/22-rdf-syntax-ns#rest\",\\n3132d3143\\n<         \"http://www.w3.org/1999/02/22-rdf-syntax-ns#first\",\\n3134d3144\\n<         \"http://www.w3.org/2002/07/owl#distinctMembers\",\\n3140d3149\\n<         \"http://www.w3.org/1999/02/22-rdf-syntax-ns#first\",\\n3153d3161\\n<         \"http://www.w3.org/1999/02/22-rdf-syntax-ns#rest\",\\n3156a3165\\n>         \"http://www.w3.org/1999/02/22-rdf-syntax-ns#first\",\\n3167a3177\\n>         \"http://www.w3.org/1999/02/22-rdf-syntax-ns#first\",\\n3177a3188\\n>         \"http://www.w3.org/1999/02/22-rdf-syntax-ns#first\",\\n3194d3204\\n<         \"http://www.w3.org/1999/02/22-rdf-syntax-ns#rest\",\\n3195a3206\\n>         \"http://www.w3.org/1999/02/22-rdf-syntax-ns#rest\",\\n3199a3211\\n>         \"http://www.w3.org/1999/02/22-rdf-syntax-ns#rest\",\\n3202d3213\\n<         \"http://www.w3.org/1999/02/22-rdf-syntax-ns#first\",\\n3207a3219\\n>         \"http://www.w3.org/1999/02/22-rdf-syntax-ns#first\",\\n3212d3223\\n<         \"http://www.w3.org/1999/02/22-rdf-syntax-ns#first\",\\n3223d3233\\n<         \"http://www.w3.org/1999/02/22-rdf-syntax-ns#first\",\\n3234d3243\\n<         \"http://www.w3.org/1999/02/22-rdf-syntax-ns#type\",\\n3245,3246d3253\\n<         \"http://www.w3.org/1999/02/22-rdf-syntax-ns#rest\",\\n<         \"http://www.w3.org/1999/02/22-rdf-syntax-ns#rest\",\\n3255a3263,3264\\n>         \"http://www.w3.org/1999/02/22-rdf-syntax-ns#rest\",\\n>         \"http://www.w3.org/1999/02/22-rdf-syntax-ns#rest\",\\n3259a3269\\n>         \"http://www.w3.org/1999/02/22-rdf-syntax-ns#first\",\\n3267d3276\\n<         \"http://www.w3.org/1999/02/22-rdf-syntax-ns#rest\",\\n3271a3281\\n>         \"http://www.w3.org/1999/02/22-rdf-syntax-ns#first\",\\n3277d3286\\n<         \"http://www.w3.org/1999/02/22-rdf-syntax-ns#first\",\\n3295a3305\\n>         \"http://www.w3.org/1999/02/22-rdf-syntax-ns#rest\",\\n3299c3309\\n<         \"http://www.w3.org/2002/07/owl#distinctMembers\",\\n---\\n>         \"http://www.w3.org/1999/02/22-rdf-syntax-ns#rest\",\\n3317a3328\\n>         \"http://www.w3.org/2002/07/owl#distinctMembers\",\\n3326d3336\\n<         \"http://www.w3.org/1999/02/22-rdf-syntax-ns#rest\",\\n3328,3329d3337\\n<         \"http://www.w3.org/1999/02/22-rdf-syntax-ns#rest\",\\n<         \"http://www.w3.org/1999/02/22-rdf-syntax-ns#first\",\\n3332d3339\\n<         \"http://www.w3.org/1999/02/22-rdf-syntax-ns#first\",\\n3355d3361\\n<         \"http://www.w3.org/1999/02/22-rdf-syntax-ns#first\",\\n3370a3377\\n>         \"http://www.w3.org/1999/02/22-rdf-syntax-ns#rest\",\\n3372a3380\\n>         \"http://www.w3.org/1999/02/22-rdf-syntax-ns#rest\",\\n3374a3383\\n>         \"http://www.w3.org/1999/02/22-rdf-syntax-ns#first\",\\n3384a3394\\n>         \"http://www.w3.org/1999/02/22-rdf-syntax-ns#rest\",\\n3388a3399\\n>         \"http://www.w3.org/1999/02/22-rdf-syntax-ns#rest\",\\n3391d3401\\n<         \"http://www.w3.org/1999/02/22-rdf-syntax-ns#first\",\\n3396c3406\\n<         \"http://www.w3.org/1999/02/22-rdf-syntax-ns#rest\",\\n---\\n>         \"http://www.w3.org/1999/02/22-rdf-syntax-ns#first\",\\n3411d3420\\n<         \"http://www.w3.org/1999/02/22-rdf-syntax-ns#first\",\\n3413a3423\\n>         \"http://www.w3.org/1999/02/22-rdf-syntax-ns#first\",\\n3417a3428\\n>         \"http://www.w3.org/1999/02/22-rdf-syntax-ns#rest\",\\n3418a3430\\n>         \"http://www.w3.org/2002/07/owl#distinctMembers\",\\n3423a3436\\n>         \"http://www.w3.org/1999/02/22-rdf-syntax-ns#rest\",\\n3437d3449\\n<         \"http://www.w3.org/1999/02/22-rdf-syntax-ns#first\",\\n3439,3440d3450\\n<         \"http://www.w3.org/1999/02/22-rdf-syntax-ns#first\",\\n<         \"http://www.w3.org/1999/02/22-rdf-syntax-ns#rest\",\\n3442d3451\\n<         \"http://www.w3.org/1999/02/22-rdf-syntax-ns#first\",\\n3456d3464\\n<         \"http://www.w3.org/1999/02/22-rdf-syntax-ns#first\",\\n3467d3474\\n<         \"http://www.w3.org/1999/02/22-rdf-syntax-ns#first\",\\n3473d3479\\n<         \"http://www.w3.org/1999/02/22-rdf-syntax-ns#first\",\\n3479a3486\\n>         \"http://www.w3.org/1999/02/22-rdf-syntax-ns#first\",\\n3483a3491\\n>         \"http://www.w3.org/1999/02/22-rdf-syntax-ns#first\",\\n3488d3495\\n<         \"http://www.w3.org/1999/02/22-rdf-syntax-ns#rest\",\\n3490a3498\\n>         \"http://www.w3.org/1999/02/22-rdf-syntax-ns#first\",\\n3509a3518\\n>         \"http://www.w3.org/1999/02/22-rdf-syntax-ns#rest\",\\n3512a3522\\n>         \"http://www.w3.org/1999/02/22-rdf-syntax-ns#rest\",\\n3513a3524\\n>         \"http://www.w3.org/1999/02/22-rdf-syntax-ns#first\",\\n3519d3529\\n<         \"http://www.w3.org/1999/02/22-rdf-syntax-ns#rest\",\\n3529d3538\\n<         \"http://www.w3.org/1999/02/22-rdf-syntax-ns#rest\",\\n3553a3563\\n>         \"http://www.w3.org/1999/02/22-rdf-syntax-ns#rest\",\\n3557d3566\\n<         \"http://www.w3.org/1999/02/22-rdf-syntax-ns#rest\",\\n3560a3570\\n>         \"http://www.w3.org/1999/02/22-rdf-syntax-ns#rest\",\\n3568a3579\\n>         \"http://www.w3.org/1999/02/22-rdf-syntax-ns#first\",\\n3571a3583\\n>         \"http://www.w3.org/1999/02/22-rdf-syntax-ns#rest\",\\n3578d3589\\n<         \"http://www.w3.org/1999/02/22-rdf-syntax-ns#first\",\\n3590c3601\\n<         \"http://www.w3.org/1999/02/22-rdf-syntax-ns#first\",\\n---\\n>         \"http://www.w3.org/1999/02/22-rdf-syntax-ns#rest\",\\n3597d3607\\n<         \"http://www.w3.org/1999/02/22-rdf-syntax-ns#rest\",\\n3602d3611\\n<         \"http://www.w3.org/1999/02/22-rdf-syntax-ns#rest\",\\n3605a3615\\n>         \"http://www.w3.org/1999/02/22-rdf-syntax-ns#rest\",\\n3612a3623\\n>         \"http://www.w3.org/1999/02/22-rdf-syntax-ns#first\",\\n3614,3615d3624\\n<         \"http://www.w3.org/1999/02/22-rdf-syntax-ns#rest\",\\n<         \"http://www.w3.org/1999/02/22-rdf-syntax-ns#rest\",\\n3648a3658\\n>         \"http://www.w3.org/1999/02/22-rdf-syntax-ns#first\",\\n3671d3680\\n<         \"http://www.w3.org/1999/02/22-rdf-syntax-ns#first\",\\n3676a3686\\n>         \"http://www.w3.org/1999/02/22-rdf-syntax-ns#first\",\\n3684c3694\\n<         \"http://www.w3.org/1999/02/22-rdf-syntax-ns#first\",\\n---\\n>         \"http://www.w3.org/1999/02/22-rdf-syntax-ns#rest\",\\n3698d3707\\n<         \"http://www.w3.org/1999/02/22-rdf-syntax-ns#type\",\\n3701d3709\\n<         \"http://www.w3.org/1999/02/22-rdf-syntax-ns#first\",\\n3716d3723\\n<         \"http://www.w3.org/1999/02/22-rdf-syntax-ns#rest\",\\n3737a3745\\n>         \"http://www.w3.org/1999/02/22-rdf-syntax-ns#first\",\\n3740a3749\\n>         \"http://www.w3.org/2002/07/owl#distinctMembers\",\\n3746c3755\\n<         \"http://www.w3.org/1999/02/22-rdf-syntax-ns#first\",\\n---\\n>         \"http://www.w3.org/1999/02/22-rdf-syntax-ns#rest\",\\n3755d3763\\n<         \"http://www.w3.org/1999/02/22-rdf-syntax-ns#rest\",\\n3764d3771\\n<         \"http://www.w3.org/1999/02/22-rdf-syntax-ns#first\",\\n3766a3774\\n>         \"http://www.w3.org/1999/02/22-rdf-syntax-ns#rest\",\\n3772d3779\\n<         \"http://www.w3.org/1999/02/22-rdf-syntax-ns#first\",\\n3773a3781\\n>         \"http://www.w3.org/1999/02/22-rdf-syntax-ns#rest\",\\n3775a3784\\n>         \"http://www.w3.org/1999/02/22-rdf-syntax-ns#rest\",\\n3785d3793\\n<         \"http://www.w3.org/1999/02/22-rdf-syntax-ns#rest\",\\n3790d3797\\n<         \"http://www.w3.org/2002/07/owl#distinctMembers\",\\n3810d3816\\n<         \"http://www.w3.org/1999/02/22-rdf-syntax-ns#first\",\\n3840a3847\\n>         \"http://www.w3.org/1999/02/22-rdf-syntax-ns#first\",\\n3849a3857\\n>         \"http://www.w3.org/1999/02/22-rdf-syntax-ns#first\",\\n3864a3873\\n>         \"http://www.w3.org/1999/02/22-rdf-syntax-ns#rest\",\\n3875a3885\\n>         \"http://www.w3.org/1999/02/22-rdf-syntax-ns#rest\",\\n3881a3892\\n>         \"http://www.w3.org/1999/02/22-rdf-syntax-ns#first\",\\n3887d3897\\n<         \"http://www.w3.org/1999/02/22-rdf-syntax-ns#first\",\\n3889a3900\\n>         \"http://www.w3.org/1999/02/22-rdf-syntax-ns#first\",\\n3895,3896d3905\\n<         \"http://www.w3.org/1999/02/22-rdf-syntax-ns#type\",\\n<         \"http://www.w3.org/1999/02/22-rdf-syntax-ns#rest\",\\n3899d3907\\n<         \"http://www.w3.org/1999/02/22-rdf-syntax-ns#rest\",\\n3905a3914\\n>         \"http://www.w3.org/1999/02/22-rdf-syntax-ns#first\",\\n3913d3921\\n<         \"http://www.w3.org/1999/02/22-rdf-syntax-ns#rest\",\\n3918d3925\\n<         \"http://www.w3.org/1999/02/22-rdf-syntax-ns#rest\",\\n3924,3925d3930\\n<         \"http://www.w3.org/1999/02/22-rdf-syntax-ns#first\",\\n<         \"http://www.w3.org/1999/02/22-rdf-syntax-ns#first\",\\n3935d3939\\n<         \"http://www.w3.org/1999/02/22-rdf-syntax-ns#first\",\\n3952d3955\\n<         \"http://www.w3.org/2002/07/owl#distinctMembers\",\\n3970a3974\\n>         \"http://www.w3.org/1999/02/22-rdf-syntax-ns#first\",\\n3990a3995\\n>         \"http://www.w3.org/1999/02/22-rdf-syntax-ns#first\",\\n3992d3996\\n<         \"http://www.w3.org/1999/02/22-rdf-syntax-ns#rest\",\\n3993a3998\\n>         \"http://www.w3.org/1999/02/22-rdf-syntax-ns#rest\",\\n4001d4005\\n<         \"http://www.w3.org/1999/02/22-rdf-syntax-ns#first\",\\n4015,4016c4019\\n<         \"http://www.w3.org/1999/02/22-rdf-syntax-ns#rest\",\\n<         \"http://www.w3.org/2002/07/owl#distinctMembers\",\\n---\\n>         \"http://www.w3.org/1999/02/22-rdf-syntax-ns#type\",\\n4030d4032\\n<         \"http://www.w3.org/1999/02/22-rdf-syntax-ns#rest\",\\n4033d4034\\n<         \"http://www.w3.org/1999/02/22-rdf-syntax-ns#first\",\\n4039d4039\\n<         \"http://www.w3.org/1999/02/22-rdf-syntax-ns#rest\",\\n4041d4040\\n<         \"http://www.w3.org/1999/02/22-rdf-syntax-ns#rest\",\\n4050d4048\\n<         \"http://www.w3.org/1999/02/22-rdf-syntax-ns#first\",\\n4062d4059\\n<         \"http://www.w3.org/1999/02/22-rdf-syntax-ns#first\",\\n4065a4063\\n>         \"http://www.w3.org/2002/07/owl#distinctMembers\",\\n4072a4071\\n>         \"http://www.w3.org/2002/07/owl#distinctMembers\",\\n4077a4077\\n>         \"http://www.w3.org/1999/02/22-rdf-syntax-ns#rest\",\\n4081d4080\\n<         \"http://www.w3.org/1999/02/22-rdf-syntax-ns#first\",\\n4097a4097\\n>         \"http://www.w3.org/1999/02/22-rdf-syntax-ns#rest\",\\n4101d4100\\n<         \"http://www.w3.org/1999/02/22-rdf-syntax-ns#first\",\\n4106d4104\\n<         \"http://www.w3.org/1999/02/22-rdf-syntax-ns#type\",\\n4114a4113\\n>         \"http://www.w3.org/1999/02/22-rdf-syntax-ns#rest\",\\n4119d4117\\n<         \"http://www.w3.org/1999/02/22-rdf-syntax-ns#first\",\\n4123d4120\\n<         \"http://www.w3.org/1999/02/22-rdf-syntax-ns#rest\",\\n4124a4122\\n>         \"http://www.w3.org/1999/02/22-rdf-syntax-ns#type\",\\n4132d4129\\n<         \"http://www.w3.org/1999/02/22-rdf-syntax-ns#first\",\\n4136d4132\\n<         \"http://www.w3.org/1999/02/22-rdf-syntax-ns#first\",\\n4141a4138\\n>         \"http://www.w3.org/1999/02/22-rdf-syntax-ns#first\",\\n4158d4154\\n<         \"http://www.w3.org/1999/02/22-rdf-syntax-ns#rest\",\\n4163d4158\\n<         \"http://www.w3.org/1999/02/22-rdf-syntax-ns#first\",\\n4179d4173\\n<         \"http://www.w3.org/1999/02/22-rdf-syntax-ns#first\",\\n4185a4180\\n>         \"http://www.w3.org/1999/02/22-rdf-syntax-ns#rest\",\\n4186a4182\\n>         \"http://www.w3.org/1999/02/22-rdf-syntax-ns#rest\",\\n4197,4198d4192\\n<         \"http://www.w3.org/1999/02/22-rdf-syntax-ns#rest\",\\n<         \"http://www.w3.org/1999/02/22-rdf-syntax-ns#first\",\\n4202c4196\\n<         \"http://www.w3.org/1999/02/22-rdf-syntax-ns#rest\",\\n---\\n>         \"http://www.w3.org/1999/02/22-rdf-syntax-ns#first\",\\n4228d4221\\n<         \"http://www.w3.org/1999/02/22-rdf-syntax-ns#rest\",\\n4230a4224\\n>         \"http://www.w3.org/1999/02/22-rdf-syntax-ns#rest\",\\n4235a4230\\n>         \"http://www.w3.org/1999/02/22-rdf-syntax-ns#first\",\\n4247d4241\\n<         \"http://www.w3.org/1999/02/22-rdf-syntax-ns#type\",\\n4265a4260\\n>         \"http://www.w3.org/1999/02/22-rdf-syntax-ns#type\",\\n4269a4265,4266\\n>         \"http://www.w3.org/2002/07/owl#distinctMembers\",\\n>         \"http://www.w3.org/1999/02/22-rdf-syntax-ns#rest\",\\n4274d4270\\n<         \"http://www.w3.org/1999/02/22-rdf-syntax-ns#first\",\\n4276a4273\\n>         \"http://www.w3.org/1999/02/22-rdf-syntax-ns#rest\",\\n4283a4281\\n>         \"http://www.w3.org/1999/02/22-rdf-syntax-ns#first\",\\n4285d4282\\n<         \"http://www.w3.org/1999/02/22-rdf-syntax-ns#rest\",\\n4301a4299\\n>         \"http://www.w3.org/1999/02/22-rdf-syntax-ns#rest\",\\n4314c4312\\n<         \"http://www.w3.org/1999/02/22-rdf-syntax-ns#first\",\\n---\\n>         \"http://www.w3.org/1999/02/22-rdf-syntax-ns#type\",\\n4331d4328\\n<         \"http://www.w3.org/1999/02/22-rdf-syntax-ns#first\",\\n4343a4341\\n>         \"http://www.w3.org/1999/02/22-rdf-syntax-ns#rest\",\\n4353d4350\\n<         \"http://www.w3.org/1999/02/22-rdf-syntax-ns#first\",\\n4357a4355\\n>         \"http://www.w3.org/1999/02/22-rdf-syntax-ns#first\",\\n4380a4379\\n>         \"http://www.w3.org/1999/02/22-rdf-syntax-ns#rest\",\\n4382d4380\\n<         \"http://www.w3.org/1999/02/22-rdf-syntax-ns#first\",\\n4385a4384\\n>         \"http://www.w3.org/1999/02/22-rdf-syntax-ns#first\",\\n4401d4399\\n<         \"http://www.w3.org/1999/02/22-rdf-syntax-ns#first\",\\n4404a4403,4404\\n>         \"http://www.w3.org/1999/02/22-rdf-syntax-ns#rest\",\\n>         \"http://www.w3.org/1999/02/22-rdf-syntax-ns#first\",\\n'"
      ]
     },
     "execution_count": 104,
     "metadata": {},
     "output_type": "execute_result"
    }
   ],
   "source": [
    "diff_file(\"datasets/13347/metadata.json\", \"datasets/14324/metadata.json\")"
   ]
  },
  {
   "cell_type": "code",
   "execution_count": 105,
   "metadata": {},
   "outputs": [
    {
     "name": "stdout",
     "output_type": "stream",
     "text": [
      "\u001b[01;34mdatasets/13347\u001b[00m\n",
      "├── geospecies.owl\n",
      "├── \u001b[01;31mgeospecies.rdf.gz\u001b[00m\n",
      "└── metadata.json\n",
      "\n",
      "0 directories, 3 files\n"
     ]
    }
   ],
   "source": [
    "%%bash\n",
    "tree datasets/13347"
   ]
  },
  {
   "cell_type": "code",
   "execution_count": 106,
   "metadata": {},
   "outputs": [],
   "source": [
    "%%bash\n",
    "cd datasets/13347\n",
    "gzip -d *.gz"
   ]
  },
  {
   "cell_type": "code",
   "execution_count": 107,
   "metadata": {},
   "outputs": [
    {
     "name": "stdout",
     "output_type": "stream",
     "text": [
      "\u001b[01;34mdatasets/13347\u001b[00m\n",
      "├── geospecies.owl\n",
      "├── geospecies.rdf\n",
      "└── metadata.json\n",
      "\n",
      "0 directories, 3 files\n"
     ]
    }
   ],
   "source": [
    "%%bash\n",
    "tree datasets/13347"
   ]
  },
  {
   "cell_type": "code",
   "execution_count": 108,
   "metadata": {},
   "outputs": [
    {
     "name": "stdout",
     "output_type": "stream",
     "text": [
      "\u001b[01;34mdatasets/14324\u001b[00m\n",
      "├── geospecies.owl\n",
      "├── \u001b[01;31mgeospecies.rdf.gz\u001b[00m\n",
      "└── metadata.json\n",
      "\n",
      "0 directories, 3 files\n"
     ]
    }
   ],
   "source": [
    "%%bash\n",
    "tree datasets/14324"
   ]
  },
  {
   "cell_type": "code",
   "execution_count": 109,
   "metadata": {},
   "outputs": [],
   "source": [
    "%%bash\n",
    "cd datasets/14324\n",
    "gzip -d *.gz"
   ]
  },
  {
   "cell_type": "code",
   "execution_count": 110,
   "metadata": {},
   "outputs": [
    {
     "name": "stdout",
     "output_type": "stream",
     "text": [
      "\u001b[01;34mdatasets/14324\u001b[00m\n",
      "├── geospecies.owl\n",
      "├── geospecies.rdf\n",
      "└── metadata.json\n",
      "\n",
      "0 directories, 3 files\n"
     ]
    }
   ],
   "source": [
    "%%bash\n",
    "tree datasets/14324"
   ]
  },
  {
   "attachments": {},
   "cell_type": "markdown",
   "metadata": {},
   "source": [
    "##### datasets/14079/eat.nt.gz"
   ]
  },
  {
   "cell_type": "code",
   "execution_count": 111,
   "metadata": {},
   "outputs": [
    {
     "name": "stdout",
     "output_type": "stream",
     "text": [
      "\u001b[01;34mdatasets/14079\u001b[00m\n",
      "├── \u001b[01;31meat.nt.gz\u001b[00m\n",
      "├── metadata.json\n",
      "├── vocab.ttl\n",
      "└── wheat.rdf\n",
      "\n",
      "0 directories, 4 files\n"
     ]
    }
   ],
   "source": [
    "%%bash\n",
    "tree datasets/14079"
   ]
  },
  {
   "cell_type": "code",
   "execution_count": 112,
   "metadata": {},
   "outputs": [],
   "source": [
    "%%bash\n",
    "cd datasets/14079\n",
    "gzip -d *.gz"
   ]
  },
  {
   "cell_type": "code",
   "execution_count": 113,
   "metadata": {},
   "outputs": [
    {
     "name": "stdout",
     "output_type": "stream",
     "text": [
      "\u001b[01;34mdatasets/14079\u001b[00m\n",
      "├── eat.nt\n",
      "├── metadata.json\n",
      "├── vocab.ttl\n",
      "└── wheat.rdf\n",
      "\n",
      "0 directories, 4 files\n"
     ]
    }
   ],
   "source": [
    "%%bash\n",
    "tree datasets/14079"
   ]
  },
  {
   "attachments": {},
   "cell_type": "markdown",
   "metadata": {},
   "source": [
    "##### datasets/14801/usage.nt.gz"
   ]
  },
  {
   "cell_type": "code",
   "execution_count": 114,
   "metadata": {},
   "outputs": [
    {
     "name": "stdout",
     "output_type": "stream",
     "text": [
      "\u001b[01;34mdatasets/14801\u001b[00m\n",
      "├── 2050.rdf\n",
      "├── metadata.json\n",
      "└── \u001b[01;31musage.nt.gz\u001b[00m\n",
      "\n",
      "0 directories, 3 files\n"
     ]
    }
   ],
   "source": [
    "%%bash\n",
    "tree datasets/14801"
   ]
  },
  {
   "cell_type": "code",
   "execution_count": 115,
   "metadata": {},
   "outputs": [],
   "source": [
    "%%bash\n",
    "cd datasets/14801\n",
    "gzip -d *.gz"
   ]
  },
  {
   "cell_type": "code",
   "execution_count": 116,
   "metadata": {},
   "outputs": [
    {
     "name": "stdout",
     "output_type": "stream",
     "text": [
      "\u001b[01;34mdatasets/14801\u001b[00m\n",
      "├── 2050.rdf\n",
      "├── metadata.json\n",
      "└── usage.nt\n",
      "\n",
      "0 directories, 3 files\n"
     ]
    }
   ],
   "source": [
    "%%bash\n",
    "tree datasets/14801"
   ]
  },
  {
   "attachments": {},
   "cell_type": "markdown",
   "metadata": {},
   "source": [
    "#### BZ2"
   ]
  },
  {
   "cell_type": "code",
   "execution_count": 117,
   "metadata": {},
   "outputs": [
    {
     "name": "stdout",
     "output_type": "stream",
     "text": [
      "datasets/13369/dbpedia-3.6.owl.bz2\n",
      "datasets/13388/dbpedia-3.6.owl.bz2\n",
      "datasets/13461/dbpedia-3.5.1.owl.bz2\n",
      "datasets/14336/dbpedia-3.6.owl.bz2\n",
      "datasets/15414/dbpedia-3.6.owl.bz2\n"
     ]
    }
   ],
   "source": [
    "for a in bz2:\n",
    "    print(a)"
   ]
  },
  {
   "attachments": {},
   "cell_type": "markdown",
   "metadata": {},
   "source": [
    "##### datasets/13369/dbpedia-3.6.owl.bz2"
   ]
  },
  {
   "cell_type": "code",
   "execution_count": 118,
   "metadata": {},
   "outputs": [
    {
     "name": "stdout",
     "output_type": "stream",
     "text": [
      "\u001b[01;34mdatasets/13369\u001b[00m\n",
      "├── \u001b[01;31mdbpedia-3.6.owl.bz2\u001b[00m\n",
      "├── linux.n3\n",
      "├── linux.rdf\n",
      "└── metadata.json\n",
      "\n",
      "0 directories, 4 files\n"
     ]
    }
   ],
   "source": [
    "%%bash\n",
    "tree datasets/13369"
   ]
  },
  {
   "cell_type": "code",
   "execution_count": 119,
   "metadata": {},
   "outputs": [],
   "source": [
    "%%bash\n",
    "cd datasets/13369\n",
    "bzip2 -d dbpedia-3.6.owl.bz2"
   ]
  },
  {
   "cell_type": "code",
   "execution_count": 120,
   "metadata": {},
   "outputs": [
    {
     "name": "stdout",
     "output_type": "stream",
     "text": [
      "\u001b[01;34mdatasets/13369\u001b[00m\n",
      "├── dbpedia-3.6.owl\n",
      "├── linux.n3\n",
      "├── linux.rdf\n",
      "└── metadata.json\n",
      "\n",
      "0 directories, 4 files\n"
     ]
    }
   ],
   "source": [
    "%%bash\n",
    "tree datasets/13369"
   ]
  },
  {
   "attachments": {},
   "cell_type": "markdown",
   "metadata": {},
   "source": [
    "##### datasets/13388/dbpedia-3.6.owl.bz2"
   ]
  },
  {
   "cell_type": "code",
   "execution_count": 121,
   "metadata": {},
   "outputs": [
    {
     "name": "stdout",
     "output_type": "stream",
     "text": [
      "\u001b[01;34mdatasets/13388\u001b[00m\n",
      "├── \u001b[01;31mdbpedia-3.6.owl.bz2\u001b[00m\n",
      "├── metadata.json\n",
      "├── paris.n3\n",
      "└── paris.rdf\n",
      "\n",
      "0 directories, 4 files\n"
     ]
    }
   ],
   "source": [
    "%%bash\n",
    "tree datasets/13388"
   ]
  },
  {
   "cell_type": "code",
   "execution_count": 122,
   "metadata": {},
   "outputs": [],
   "source": [
    "%%bash\n",
    "cd datasets/13388\n",
    "bzip2 -d dbpedia-3.6.owl.bz2"
   ]
  },
  {
   "cell_type": "code",
   "execution_count": 123,
   "metadata": {},
   "outputs": [
    {
     "name": "stdout",
     "output_type": "stream",
     "text": [
      "\u001b[01;34mdatasets/13388\u001b[00m\n",
      "├── dbpedia-3.6.owl\n",
      "├── metadata.json\n",
      "├── paris.n3\n",
      "└── paris.rdf\n",
      "\n",
      "0 directories, 4 files\n"
     ]
    }
   ],
   "source": [
    "%%bash\n",
    "tree datasets/13388"
   ]
  },
  {
   "attachments": {},
   "cell_type": "markdown",
   "metadata": {},
   "source": [
    "##### datasets/13461/dbpedia-3.5.1.owl.bz2"
   ]
  },
  {
   "cell_type": "code",
   "execution_count": 124,
   "metadata": {},
   "outputs": [
    {
     "name": "stdout",
     "output_type": "stream",
     "text": [
      "\u001b[01;34mdatasets/13461\u001b[00m\n",
      "├── \u001b[01;31mall-languages.tar\u001b[00m\n",
      "├── berlin.n3\n",
      "├── berlin.rdf\n",
      "├── \u001b[01;31mdbpedia-3.5.1.owl.bz2\u001b[00m\n",
      "└── metadata.json\n",
      "\n",
      "0 directories, 5 files\n"
     ]
    }
   ],
   "source": [
    "%%bash\n",
    "tree datasets/13461"
   ]
  },
  {
   "cell_type": "code",
   "execution_count": 125,
   "metadata": {},
   "outputs": [],
   "source": [
    "%%bash\n",
    "cd datasets/13461\n",
    "bzip2 -d dbpedia-3.5.1.owl.bz2"
   ]
  },
  {
   "cell_type": "code",
   "execution_count": 126,
   "metadata": {},
   "outputs": [
    {
     "name": "stdout",
     "output_type": "stream",
     "text": [
      "\u001b[01;34mdatasets/13461\u001b[00m\n",
      "├── \u001b[01;31mall-languages.tar\u001b[00m\n",
      "├── berlin.n3\n",
      "├── berlin.rdf\n",
      "├── dbpedia-3.5.1.owl\n",
      "└── metadata.json\n",
      "\n",
      "0 directories, 5 files\n"
     ]
    }
   ],
   "source": [
    "%%bash\n",
    "tree datasets/13461"
   ]
  },
  {
   "attachments": {},
   "cell_type": "markdown",
   "metadata": {},
   "source": [
    "##### datasets/14336/dbpedia-3.6.owl.bz2"
   ]
  },
  {
   "cell_type": "code",
   "execution_count": 127,
   "metadata": {},
   "outputs": [
    {
     "name": "stdout",
     "output_type": "stream",
     "text": [
      "\u001b[01;34mdatasets/14336\u001b[00m\n",
      "├── \u001b[01;31mdbpedia-3.6.owl.bz2\u001b[00m\n",
      "├── linux.n3\n",
      "├── linux.rdf\n",
      "└── metadata.json\n",
      "\n",
      "0 directories, 4 files\n"
     ]
    }
   ],
   "source": [
    "%%bash\n",
    "tree datasets/14336"
   ]
  },
  {
   "cell_type": "code",
   "execution_count": 128,
   "metadata": {},
   "outputs": [],
   "source": [
    "%%bash\n",
    "cd datasets/14336\n",
    "bzip2 -d dbpedia-3.6.owl.bz2"
   ]
  },
  {
   "cell_type": "code",
   "execution_count": 129,
   "metadata": {},
   "outputs": [
    {
     "name": "stdout",
     "output_type": "stream",
     "text": [
      "\u001b[01;34mdatasets/14336\u001b[00m\n",
      "├── dbpedia-3.6.owl\n",
      "├── linux.n3\n",
      "├── linux.rdf\n",
      "└── metadata.json\n",
      "\n",
      "0 directories, 4 files\n"
     ]
    }
   ],
   "source": [
    "%%bash\n",
    "tree datasets/14336"
   ]
  },
  {
   "attachments": {},
   "cell_type": "markdown",
   "metadata": {},
   "source": [
    "##### datasets/15414/dbpedia-3.6.owl.bz2"
   ]
  },
  {
   "cell_type": "code",
   "execution_count": 130,
   "metadata": {},
   "outputs": [
    {
     "name": "stdout",
     "output_type": "stream",
     "text": [
      "\u001b[01;34mdatasets/15414\u001b[00m\n",
      "├── \u001b[01;31mdbpedia-3.6.owl.bz2\u001b[00m\n",
      "├── metadata.json\n",
      "├── paris.n3\n",
      "└── paris.rdf\n",
      "\n",
      "0 directories, 4 files\n"
     ]
    }
   ],
   "source": [
    "%%bash\n",
    "tree datasets/15414"
   ]
  },
  {
   "cell_type": "code",
   "execution_count": 131,
   "metadata": {},
   "outputs": [],
   "source": [
    "%%bash\n",
    "cd datasets/15414\n",
    "bzip2 -d dbpedia-3.6.owl.bz2"
   ]
  },
  {
   "cell_type": "code",
   "execution_count": 132,
   "metadata": {},
   "outputs": [
    {
     "name": "stdout",
     "output_type": "stream",
     "text": [
      "\u001b[01;34mdatasets/15414\u001b[00m\n",
      "├── dbpedia-3.6.owl\n",
      "├── metadata.json\n",
      "├── paris.n3\n",
      "└── paris.rdf\n",
      "\n",
      "0 directories, 4 files\n"
     ]
    }
   ],
   "source": [
    "%%bash\n",
    "tree datasets/15414"
   ]
  },
  {
   "attachments": {},
   "cell_type": "markdown",
   "metadata": {},
   "source": [
    "### Files that needs to be checked manually"
   ]
  },
  {
   "cell_type": "code",
   "execution_count": 133,
   "metadata": {},
   "outputs": [],
   "source": [
    "assign_extensions = [\n",
    "    \"datasets/13506/biomodels-biomd0000000048\",\n",
    "    \"datasets/13522/irefindex.irogid-1069566\",\n",
    "    \"datasets/14517/irefindex.irogid-1069566\",\n",
    "    \"datasets/14742/sample-20160515.rdf.xml\",\n",
    "]"
   ]
  },
  {
   "cell_type": "code",
   "execution_count": 134,
   "metadata": {},
   "outputs": [
    {
     "name": "stdout",
     "output_type": "stream",
     "text": [
      "# Empty TURTLE\n"
     ]
    }
   ],
   "source": [
    "%%bash\n",
    "cd datasets/13506\n",
    "head biomodels-biomd0000000048\n",
    "rm biomodels-biomd0000000048"
   ]
  },
  {
   "cell_type": "code",
   "execution_count": 135,
   "metadata": {},
   "outputs": [
    {
     "name": "stdout",
     "output_type": "stream",
     "text": [
      "# Empty TURTLE\n"
     ]
    }
   ],
   "source": [
    "%%bash\n",
    "cd datasets/13522\n",
    "head irefindex.irogid-1069566\n",
    "rm irefindex.irogid-1069566"
   ]
  },
  {
   "cell_type": "code",
   "execution_count": 136,
   "metadata": {},
   "outputs": [
    {
     "name": "stdout",
     "output_type": "stream",
     "text": [
      "# Empty TURTLE\n"
     ]
    }
   ],
   "source": [
    "%%bash\n",
    "cd datasets/14517\n",
    "head irefindex.irogid-1069566\n",
    "rm irefindex.irogid-1069566"
   ]
  },
  {
   "cell_type": "code",
   "execution_count": 137,
   "metadata": {},
   "outputs": [
    {
     "name": "stdout",
     "output_type": "stream",
     "text": [
      "<RDF xmlns=\"http://www.w3.org/1999/02/22-rdf-syntax-ns#\">\n",
      "<rdfs:Resource xmlns:rdfs=\"http://www.w3.org/2000/01/rdf-schema#\"\n",
      "               xmlns:dc=\"http://purl.org/dc/elements/1.1/\"\n",
      "               xmlns:dcterms=\"http://purl.org/dc/terms/\"\n",
      "               xmlns:role=\"http://www.language-archives.org/vocabulary/role#\"\n",
      "               xmlns:rdf=\"http://www.w3.org/1999/02/22-rdf-syntax-ns#\"\n",
      "               rdf:about=\"http://www.language-archives.org/item/oai:acl.sr.language-archives.org:P87-1033\">\n",
      "   <dc:publisher rdf:resource=\"http://www.language-archives.org/archive/acl.sr.language-archives.org\"/>\n",
      "</rdfs:Resource>\n",
      "<rdfs:Resource xmlns:rdfs=\"http://www.w3.org/2000/01/rdf-schema#\"\n"
     ]
    }
   ],
   "source": [
    "%%bash\n",
    "cd datasets/14742\n",
    "head sample-20160515.rdf.xml\n",
    "mv sample-20160515.rdf.xml sample-20160515.rdf"
   ]
  },
  {
   "attachments": {},
   "cell_type": "markdown",
   "metadata": {},
   "source": [
    "### Big files"
   ]
  },
  {
   "cell_type": "code",
   "execution_count": 138,
   "metadata": {},
   "outputs": [],
   "source": [
    "# files that are more than 100MB in size\n",
    "big_files = [\n",
    "    \"datasets/2/ppg-sf-dump.rdf\",\n",
    "    \"datasets/6/ppg-sf-dump.rdf\",\n",
    "    \"datasets/11580/rows.rdf\",\n",
    "    \"datasets/13565/download-20120123.rdf\",\n",
    "    \"datasets/15243/en.rdf\",\n",
    "    \"datasets/15243/fr.rdf\",\n",
    "    \"datasets/21023/2016-allievi-partecipanti.nt\",\n",
    "]"
   ]
  },
  {
   "attachments": {},
   "cell_type": "markdown",
   "metadata": {},
   "source": [
    "After extracting all the zips above, look for all the RDF files that are bigger than 100MB"
   ]
  },
  {
   "cell_type": "code",
   "execution_count": 140,
   "metadata": {},
   "outputs": [
    {
     "name": "stdout",
     "output_type": "stream",
     "text": [
      "datasets/14324/geospecies.rdf\n",
      "datasets/13263/Govwild_rdf.n3\n",
      "datasets/21023/2016-allievi-partecipanti.nt\n",
      "datasets/11580/rows.rdf\n",
      "datasets/13565/download-20120123.rdf\n",
      "datasets/21532/jrcnames_uri.nt\n",
      "datasets/2/ppg-sf-dump.rdf\n",
      "datasets/15243/en.rdf\n",
      "datasets/15243/fr.rdf\n",
      "datasets/6/ppg-sf-dump.rdf\n",
      "datasets/13368/all-geonames.rdf\n",
      "datasets/14364/Govwild_rdf.n3\n",
      "datasets/14344/all-geonames.rdf\n",
      "datasets/14079/eat.nt\n",
      "datasets/13347/geospecies.rdf\n"
     ]
    }
   ],
   "source": [
    "for path, subdirs, files in os.walk(\"datasets\"):\n",
    "    for name in files:\n",
    "        file_with_path = os.path.join(path, name)\n",
    "        if is_file_larger_than_size_limit(file_with_path) and check_if_file_name_is_rdf(name):\n",
    "            print(file_with_path)"
   ]
  }
 ],
 "metadata": {
  "kernelspec": {
   "display_name": "Python 3 (ipykernel)",
   "language": "python",
   "name": "python3"
  },
  "language_info": {
   "codemirror_mode": {
    "name": "ipython",
    "version": 3
   },
   "file_extension": ".py",
   "mimetype": "text/x-python",
   "name": "python",
   "nbconvert_exporter": "python",
   "pygments_lexer": "ipython3",
   "version": "3.9.2"
  }
 },
 "nbformat": 4,
 "nbformat_minor": 2
}
