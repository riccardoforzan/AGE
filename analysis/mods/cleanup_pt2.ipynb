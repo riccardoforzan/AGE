{
 "cells": [
  {
   "attachments": {},
   "cell_type": "markdown",
   "metadata": {},
   "source": [
    "# Stats\n",
    "Statistics about downloaded and processed files"
   ]
  },
  {
   "cell_type": "code",
   "execution_count": 21,
   "metadata": {},
   "outputs": [],
   "source": [
    "import os"
   ]
  },
  {
   "cell_type": "code",
   "execution_count": 2,
   "metadata": {},
   "outputs": [],
   "source": [
    "# input the relative path or the absolute path pointing to the directory in which datasets have been downloaded\n",
    "folder = input()"
   ]
  },
  {
   "cell_type": "code",
   "execution_count": 3,
   "metadata": {},
   "outputs": [],
   "source": [
    "complete_datasets = list()  # completely downloaded\n",
    "partial_datasets = list()  # not completely downloaded / parsed (at least 1 valid file)\n",
    "empty_datasets = list()  # only metadata for these datasets\n",
    "not_processed = list()"
   ]
  },
  {
   "cell_type": "code",
   "execution_count": 4,
   "metadata": {},
   "outputs": [],
   "source": [
    "# scan the directory containing the downloaded datasets\n",
    "datasets = sorted(os.listdir(folder), key=lambda i: int(i))\n",
    "total_datasets = len(datasets)"
   ]
  },
  {
   "attachments": {},
   "cell_type": "markdown",
   "metadata": {},
   "source": [
    "### Utility functions"
   ]
  },
  {
   "cell_type": "code",
   "execution_count": 5,
   "metadata": {},
   "outputs": [],
   "source": [
    "import os\n",
    "\n",
    "SIZE_LIMIT = 100 * 1024 * 1024  # 100 MB\n",
    "\n",
    "\n",
    "def is_file_larger_than_size_limit(filepath: str) -> bool:\n",
    "    size = os.path.getsize(str(filepath))\n",
    "    return int(size) >= int(SIZE_LIMIT)"
   ]
  },
  {
   "cell_type": "code",
   "execution_count": 6,
   "metadata": {},
   "outputs": [],
   "source": [
    "RDF_SUFFIXES = [\"rdf\", \"ttl\", \"owl\", \"n3\", \"nt\", \"jsonld\", \"nq\", \"trig\", \"trix\"]\n",
    "\n",
    "\n",
    "def check_if_file_name_is_rdf(name: str) -> bool:\n",
    "    return name.split(\".\")[-1] in RDF_SUFFIXES"
   ]
  },
  {
   "cell_type": "code",
   "execution_count": 7,
   "metadata": {},
   "outputs": [],
   "source": [
    "import magic\n",
    "\n",
    "\n",
    "def is_html(filepath: str) -> bool:\n",
    "    mt = magic.from_file(filepath).lower()\n",
    "    if \"html\" in mt:\n",
    "        return True\n",
    "\n",
    "    with open(filepath, \"r\") as f:\n",
    "        try:\n",
    "            return \"<!doctype html\" in f.read().lower()\n",
    "        except Exception:\n",
    "            return False"
   ]
  },
  {
   "cell_type": "code",
   "execution_count": 8,
   "metadata": {},
   "outputs": [],
   "source": [
    "import json\n",
    "\n",
    "\n",
    "def is_json(filepath: str) -> bool:\n",
    "    with open(filepath, \"r\") as f:\n",
    "        try:\n",
    "            json.load(f)\n",
    "            return True\n",
    "        except Exception:\n",
    "            return False"
   ]
  },
  {
   "cell_type": "code",
   "execution_count": 39,
   "metadata": {},
   "outputs": [],
   "source": [
    "def delete_file(file_path: str):\n",
    "    if os.path.isfile(file_path):\n",
    "        print(f\"Deleting {file_path}\")\n",
    "        os.remove(file_path)"
   ]
  },
  {
   "attachments": {},
   "cell_type": "markdown",
   "metadata": {},
   "source": [
    "### Check datasets with more than 1 file downloaded"
   ]
  },
  {
   "cell_type": "code",
   "execution_count": 9,
   "metadata": {},
   "outputs": [],
   "source": [
    "datasets_with_more_than_one_file_downloaded = list()\n",
    "\n",
    "for dataset in datasets:\n",
    "    metadata_file_path = f\"{folder}/{dataset}/metadata.json\"\n",
    "\n",
    "    with open(metadata_file_path, \"r\") as f:\n",
    "        metadata = json.load(f, strict=False)\n",
    "\n",
    "        if(len(metadata[\"downloaded_urls\"]) > 1 ):\n",
    "            datasets_with_more_than_one_file_downloaded.append(f\"{folder}/{dataset}\")\n"
   ]
  },
  {
   "cell_type": "code",
   "execution_count": 10,
   "metadata": {},
   "outputs": [
    {
     "name": "stdout",
     "output_type": "stream",
     "text": [
      "Datasets with more than one file downloaded: 250\n"
     ]
    }
   ],
   "source": [
    "print(f\"Datasets with more than one file downloaded: {len(datasets_with_more_than_one_file_downloaded)}\")"
   ]
  },
  {
   "cell_type": "code",
   "execution_count": 11,
   "metadata": {},
   "outputs": [
    {
     "data": {
      "text/plain": [
       "['datasets/1',\n",
       " 'datasets/2',\n",
       " 'datasets/6',\n",
       " 'datasets/7',\n",
       " 'datasets/83',\n",
       " 'datasets/559',\n",
       " 'datasets/561',\n",
       " 'datasets/562',\n",
       " 'datasets/10093',\n",
       " 'datasets/12513',\n",
       " 'datasets/13252',\n",
       " 'datasets/13254',\n",
       " 'datasets/13263',\n",
       " 'datasets/13279',\n",
       " 'datasets/13283',\n",
       " 'datasets/13284',\n",
       " 'datasets/13288',\n",
       " 'datasets/13290',\n",
       " 'datasets/13291',\n",
       " 'datasets/13299',\n",
       " 'datasets/13319',\n",
       " 'datasets/13334',\n",
       " 'datasets/13339',\n",
       " 'datasets/13347',\n",
       " 'datasets/13351',\n",
       " 'datasets/13356',\n",
       " 'datasets/13357',\n",
       " 'datasets/13368',\n",
       " 'datasets/13369',\n",
       " 'datasets/13378',\n",
       " 'datasets/13384',\n",
       " 'datasets/13388',\n",
       " 'datasets/13394',\n",
       " 'datasets/13400',\n",
       " 'datasets/13412',\n",
       " 'datasets/13421',\n",
       " 'datasets/13452',\n",
       " 'datasets/13461',\n",
       " 'datasets/13469',\n",
       " 'datasets/13471',\n",
       " 'datasets/13482',\n",
       " 'datasets/13506',\n",
       " 'datasets/13522',\n",
       " 'datasets/13541',\n",
       " 'datasets/13565',\n",
       " 'datasets/13568',\n",
       " 'datasets/13577',\n",
       " 'datasets/13581',\n",
       " 'datasets/13582',\n",
       " 'datasets/13590',\n",
       " 'datasets/13594',\n",
       " 'datasets/13600',\n",
       " 'datasets/13622',\n",
       " 'datasets/13623',\n",
       " 'datasets/13633',\n",
       " 'datasets/13683',\n",
       " 'datasets/13715',\n",
       " 'datasets/13759',\n",
       " 'datasets/13796',\n",
       " 'datasets/13822',\n",
       " 'datasets/13845',\n",
       " 'datasets/13902',\n",
       " 'datasets/13990',\n",
       " 'datasets/13997',\n",
       " 'datasets/14013',\n",
       " 'datasets/14050',\n",
       " 'datasets/14054',\n",
       " 'datasets/14079',\n",
       " 'datasets/14080',\n",
       " 'datasets/14084',\n",
       " 'datasets/14160',\n",
       " 'datasets/14195',\n",
       " 'datasets/14196',\n",
       " 'datasets/14197',\n",
       " 'datasets/14198',\n",
       " 'datasets/14252',\n",
       " 'datasets/14277',\n",
       " 'datasets/14292',\n",
       " 'datasets/14308',\n",
       " 'datasets/14324',\n",
       " 'datasets/14336',\n",
       " 'datasets/14344',\n",
       " 'datasets/14364',\n",
       " 'datasets/14382',\n",
       " 'datasets/14387',\n",
       " 'datasets/14396',\n",
       " 'datasets/14411',\n",
       " 'datasets/14417',\n",
       " 'datasets/14418',\n",
       " 'datasets/14430',\n",
       " 'datasets/14451',\n",
       " 'datasets/14471',\n",
       " 'datasets/14472',\n",
       " 'datasets/14473',\n",
       " 'datasets/14486',\n",
       " 'datasets/14491',\n",
       " 'datasets/14493',\n",
       " 'datasets/14503',\n",
       " 'datasets/14517',\n",
       " 'datasets/14519',\n",
       " 'datasets/14520',\n",
       " 'datasets/14530',\n",
       " 'datasets/14558',\n",
       " 'datasets/14580',\n",
       " 'datasets/14583',\n",
       " 'datasets/14587',\n",
       " 'datasets/14599',\n",
       " 'datasets/14603',\n",
       " 'datasets/14604',\n",
       " 'datasets/14636',\n",
       " 'datasets/14637',\n",
       " 'datasets/14735',\n",
       " 'datasets/14801',\n",
       " 'datasets/14806',\n",
       " 'datasets/14821',\n",
       " 'datasets/14822',\n",
       " 'datasets/14916',\n",
       " 'datasets/14921',\n",
       " 'datasets/15001',\n",
       " 'datasets/15002',\n",
       " 'datasets/15003',\n",
       " 'datasets/15004',\n",
       " 'datasets/15005',\n",
       " 'datasets/15006',\n",
       " 'datasets/15007',\n",
       " 'datasets/15008',\n",
       " 'datasets/15009',\n",
       " 'datasets/15010',\n",
       " 'datasets/15011',\n",
       " 'datasets/15012',\n",
       " 'datasets/15013',\n",
       " 'datasets/15056',\n",
       " 'datasets/15059',\n",
       " 'datasets/15082',\n",
       " 'datasets/15092',\n",
       " 'datasets/15144',\n",
       " 'datasets/15150',\n",
       " 'datasets/15173',\n",
       " 'datasets/15174',\n",
       " 'datasets/15175',\n",
       " 'datasets/15176',\n",
       " 'datasets/15186',\n",
       " 'datasets/15187',\n",
       " 'datasets/15191',\n",
       " 'datasets/15192',\n",
       " 'datasets/15205',\n",
       " 'datasets/15243',\n",
       " 'datasets/15245',\n",
       " 'datasets/15261',\n",
       " 'datasets/15282',\n",
       " 'datasets/15333',\n",
       " 'datasets/15381',\n",
       " 'datasets/15414',\n",
       " 'datasets/15458',\n",
       " 'datasets/15550',\n",
       " 'datasets/15636',\n",
       " 'datasets/15658',\n",
       " 'datasets/15681',\n",
       " 'datasets/15729',\n",
       " 'datasets/15730',\n",
       " 'datasets/15736',\n",
       " 'datasets/15737',\n",
       " 'datasets/15748',\n",
       " 'datasets/15766',\n",
       " 'datasets/15767',\n",
       " 'datasets/15771',\n",
       " 'datasets/15774',\n",
       " 'datasets/15779',\n",
       " 'datasets/15788',\n",
       " 'datasets/15798',\n",
       " 'datasets/15803',\n",
       " 'datasets/15868',\n",
       " 'datasets/15881',\n",
       " 'datasets/15882',\n",
       " 'datasets/15884',\n",
       " 'datasets/15885',\n",
       " 'datasets/15887',\n",
       " 'datasets/15888',\n",
       " 'datasets/15890',\n",
       " 'datasets/15892',\n",
       " 'datasets/15931',\n",
       " 'datasets/15932',\n",
       " 'datasets/15933',\n",
       " 'datasets/15934',\n",
       " 'datasets/15935',\n",
       " 'datasets/15936',\n",
       " 'datasets/15937',\n",
       " 'datasets/15938',\n",
       " 'datasets/15939',\n",
       " 'datasets/15940',\n",
       " 'datasets/15941',\n",
       " 'datasets/15942',\n",
       " 'datasets/15945',\n",
       " 'datasets/15960',\n",
       " 'datasets/15969',\n",
       " 'datasets/15970',\n",
       " 'datasets/15976',\n",
       " 'datasets/15977',\n",
       " 'datasets/15978',\n",
       " 'datasets/15980',\n",
       " 'datasets/15998',\n",
       " 'datasets/16034',\n",
       " 'datasets/16035',\n",
       " 'datasets/16036',\n",
       " 'datasets/16037',\n",
       " 'datasets/16038',\n",
       " 'datasets/16039',\n",
       " 'datasets/16040',\n",
       " 'datasets/16041',\n",
       " 'datasets/16042',\n",
       " 'datasets/16043',\n",
       " 'datasets/16044',\n",
       " 'datasets/16045',\n",
       " 'datasets/16046',\n",
       " 'datasets/16047',\n",
       " 'datasets/16048',\n",
       " 'datasets/16049',\n",
       " 'datasets/16050',\n",
       " 'datasets/16051',\n",
       " 'datasets/16052',\n",
       " 'datasets/16053',\n",
       " 'datasets/16054',\n",
       " 'datasets/16055',\n",
       " 'datasets/16056',\n",
       " 'datasets/16057',\n",
       " 'datasets/16058',\n",
       " 'datasets/16059',\n",
       " 'datasets/16060',\n",
       " 'datasets/16061',\n",
       " 'datasets/16062',\n",
       " 'datasets/16063',\n",
       " 'datasets/16064',\n",
       " 'datasets/16065',\n",
       " 'datasets/16066',\n",
       " 'datasets/16067',\n",
       " 'datasets/16068',\n",
       " 'datasets/16069',\n",
       " 'datasets/16070',\n",
       " 'datasets/16072',\n",
       " 'datasets/16073',\n",
       " 'datasets/16074',\n",
       " 'datasets/16075',\n",
       " 'datasets/16076',\n",
       " 'datasets/16077',\n",
       " 'datasets/16078',\n",
       " 'datasets/21487',\n",
       " 'datasets/21495',\n",
       " 'datasets/21518',\n",
       " 'datasets/21526',\n",
       " 'datasets/21532']"
      ]
     },
     "execution_count": 11,
     "metadata": {},
     "output_type": "execute_result"
    }
   ],
   "source": [
    "datasets_with_more_than_one_file_downloaded"
   ]
  },
  {
   "attachments": {},
   "cell_type": "markdown",
   "metadata": {},
   "source": [
    "### Check the processing status for each dataset"
   ]
  },
  {
   "cell_type": "code",
   "execution_count": 12,
   "metadata": {},
   "outputs": [],
   "source": [
    "from enum import Enum\n",
    "\n",
    "class DatasetType(Enum):\n",
    "    EMPTY = 0\n",
    "    NOT_PROCESSED = 1\n",
    "    PARTIAL = 2\n",
    "    COMPLETE = 3\n",
    "\n",
    "\n",
    "def analyze_dataset(dataset_path) -> DatasetType:\n",
    "    with open(dataset_path, \"r\") as f:\n",
    "        metadata = json.load(f, strict=False)\n",
    "\n",
    "        keys = metadata.keys()\n",
    "\n",
    "        # check if the dataset has been mined through the data extractor\n",
    "        if not \"unused_files\" in keys:\n",
    "            return DatasetType.NOT_PROCESSED\n",
    "\n",
    "        # check if the dataset has been downloaded completely\n",
    "        completely_downloaded = False\n",
    "        if \"failed_download_urls\" in keys:\n",
    "            completely_downloaded = len(metadata[\"failed_download_urls\"]) == 0\n",
    "\n",
    "        # check if the file dataset contains at least one file that has been parsed\n",
    "        contains_a_valid_file = len(metadata[\"used_files\"]) > 0\n",
    "\n",
    "        # check if the dataset has some files that have not been parsed or has thrown errors while parsing\n",
    "        error_while_parsing = len(metadata[\"unused_files\"]) == 0\n",
    "\n",
    "        \"\"\" \n",
    "        A dataset is complete only if all these conditions are satisfied:\n",
    "        1) has been completely downloaded\n",
    "        2) contains at least one valid file (>0)\n",
    "        3) no file has generated error while parsing\n",
    "        \"\"\"\n",
    "\n",
    "        if completely_downloaded and contains_a_valid_file and not error_while_parsing:\n",
    "            return DatasetType.COMPLETE\n",
    "\n",
    "        \"\"\"\n",
    "        A dataset is partial if:\n",
    "        1) contains at least one valid file (>0)\n",
    "        2) some files may not have been downloaded\n",
    "        3) some files may have generated errors or not being the correct type to be used\n",
    "        \"\"\"\n",
    "\n",
    "        if contains_a_valid_file:\n",
    "            return DatasetType.PARTIAL\n",
    "\n",
    "        \"\"\"\n",
    "        If a dataset doesn't contain any file\n",
    "        \"\"\"\n",
    "        return DatasetType.EMPTY"
   ]
  },
  {
   "cell_type": "code",
   "execution_count": 13,
   "metadata": {},
   "outputs": [],
   "source": [
    "for dataset in datasets:\n",
    "    metadata_file_path = f\"{folder}/{dataset}/metadata.json\"\n",
    "\n",
    "    res = analyze_dataset(metadata_file_path)\n",
    "\n",
    "    if res == DatasetType.COMPLETE:\n",
    "        complete_datasets.append(dataset)\n",
    "\n",
    "    if res == DatasetType.PARTIAL:\n",
    "        partial_datasets.append(dataset)\n",
    "\n",
    "    if res == DatasetType.EMPTY:\n",
    "        empty_datasets.append(dataset)\n",
    "\n",
    "    if res == DatasetType.NOT_PROCESSED:\n",
    "        not_processed.append(dataset)"
   ]
  },
  {
   "cell_type": "code",
   "execution_count": 14,
   "metadata": {},
   "outputs": [
    {
     "name": "stdout",
     "output_type": "stream",
     "text": [
      "Total number of datasets: 31589\n",
      "Complete datasets: 8\n",
      "Partial datasets: 26377\n",
      "Empty datasets: 5204\n",
      "Not processed datasets: 0\n"
     ]
    }
   ],
   "source": [
    "print(f\"Total number of datasets: {total_datasets}\")\n",
    "print(f\"Complete datasets: {len(complete_datasets)}\")   # completely downloaded and parsed\n",
    "print(f\"Partial datasets: {len(partial_datasets)}\")\n",
    "print(f\"Empty datasets: {len(empty_datasets)}\")\n",
    "print(f\"Not processed datasets: {len(not_processed)}\")"
   ]
  },
  {
   "attachments": {},
   "cell_type": "markdown",
   "metadata": {},
   "source": [
    "### List datasets with unused file"
   ]
  },
  {
   "cell_type": "code",
   "execution_count": 15,
   "metadata": {},
   "outputs": [],
   "source": [
    "datasets_with_unused_files = list()\n",
    "\n",
    "for dataset in datasets:\n",
    "    metadata_file_path = f\"{folder}/{dataset}/metadata.json\"\n",
    "\n",
    "    with open(metadata_file_path, \"r\") as f:\n",
    "        metadata = json.load(f, strict=False)\n",
    "\n",
    "        keys = metadata.keys()\n",
    "\n",
    "        if \"unused_files\" in keys and len(metadata[\"unused_files\"]) > 0:\n",
    "            unparsable_rdf = list()\n",
    "            unparsable_other = list()\n",
    "\n",
    "            for file in metadata[\"unused_files\"]:\n",
    "                file_with_path = f\"{folder}/{dataset}/{file}\"\n",
    "\n",
    "                if check_if_file_name_is_rdf(file):\n",
    "                    unparsable_rdf.append(file)\n",
    "                else:\n",
    "                    unparsable_other.append(file)\n",
    "            \n",
    "            datasets_with_unused_files.append([dataset, unparsable_rdf, unparsable_other])"
   ]
  },
  {
   "cell_type": "code",
   "execution_count": 16,
   "metadata": {},
   "outputs": [
    {
     "data": {
      "text/markdown": [
       "\n",
       "| Dataset ID | RDF not parsable | Other not parsable |\n",
       "| --- | --- | --- |\n",
       "| 2 | ['ppg-sf-dump.rdf'] | [] |\n",
       "| 6 | ['ppg-sf-dump.rdf'] | [] |\n",
       "| 11580 | ['rows.rdf'] | [] |\n",
       "| 13263 | ['Govwild_rdf.n3'] | [] |\n",
       "| 13283 | ['txn-images.ttl', 'txn-distribution.ttl'] | [] |\n",
       "| 13284 | ['deck.rdf'] | [] |\n",
       "| 13347 | ['geospecies.rdf'] | [] |\n",
       "| 13368 | ['all-geonames.rdf'] | [] |\n",
       "| 13378 | ['wordnet-partmeronym.rdf', 'wordnet-substancemeronym.rdf', 'wordnet-seealso.rdf', 'wordnet-pertainsto.rdf', 'wordnet-causes.rdf', 'wordnet-sameverbgroupas.rdf', 'wordnet-hyponym.rdf', 'wordnet-classifiedby.rdf', 'wordnet-membermeronym.rdf', 'wordnet-participleof.rdf', 'wordnet-entailment.rdf', 'wordnet-similarity.rdf', 'wordnet-antonym.rdf', 'wordnet-attribute.rdf', 'wordnet-derivationallyrelated.rdf'] | [] |\n",
       "| 13565 | ['download-20120123.rdf'] | [] |\n",
       "| 13997 | ['PERSEE_align_wikipedia_2021-09-24.rdf', 'PERSEE_align_ORCID_2021-09-24.rdf', 'PERSEE_align_Idref_2021-09-24.rdf', 'PERSEE_align_All_2021-09-24.rdf', 'PERSEE_align_DBpediaFR_2021-09-24.rdf', 'PERSEE_align_Bnf_2021-09-24.rdf', 'PERSEE_align_Isni_2021-09-24.rdf', 'PERSEE_align_idHAL_2021-09-24.rdf', 'PERSEE_align_viaf_2021-09-24.rdf', 'PERSEE_align_RePEc_2021-09-24.rdf', 'PERSEE_align_wikidata_2021-09-24.rdf', 'PERSEE_align_wikipediaFR_2021-09-24.rdf', 'PERSEE_align_DBpedia_2021-09-24.rdf'] | ['persee-person-align-rdf.tar.gz', 'license.txt'] |\n",
       "| 14054 | ['rdf.rdf'] | [] |\n",
       "| 14079 | ['eat.nt', 'wheat.rdf'] | [] |\n",
       "| 14252 | ['wordnet-partmeronym.rdf', 'wordnet-substancemeronym.rdf', 'wordnet-seealso.rdf', 'wordnet-pertainsto.rdf', 'wordnet-causes.rdf', 'wordnet-sameverbgroupas.rdf', 'wordnet-hyponym.rdf', 'wordnet-classifiedby.rdf', 'wordnet-membermeronym.rdf', 'wordnet-participleof.rdf', 'wordnet-entailment.rdf', 'wordnet-similarity.rdf', 'wordnet-antonym.rdf', 'wordnet-attribute.rdf', 'wordnet-derivationallyrelated.rdf'] | [] |\n",
       "| 14277 | ['txn-images.ttl', 'txn-distribution.ttl'] | [] |\n",
       "| 14324 | ['geospecies.rdf'] | [] |\n",
       "| 14344 | ['all-geonames.rdf'] | [] |\n",
       "| 14364 | ['Govwild_rdf.n3'] | [] |\n",
       "| 14417 | ['deck.rdf'] | [] |\n",
       "| 15243 | ['en.rdf', 'fr.rdf'] | [] |\n",
       "| 21023 | ['2016-allievi-partecipanti.nt'] | [] |\n",
       "| 21532 | ['jrcnames_uri.nt'] | [] |\n"
      ],
      "text/plain": [
       "<IPython.core.display.Markdown object>"
      ]
     },
     "metadata": {},
     "output_type": "display_data"
    }
   ],
   "source": [
    "from IPython.display import display, Markdown\n",
    "\n",
    "markdown_table = \"\"\"\n",
    "| Dataset ID | RDF not parsable | Other not parsable |\n",
    "| --- | --- | --- |\n",
    "\"\"\"\n",
    "\n",
    "for d in datasets_with_unused_files:\n",
    "    markdown_table += (\"| {} | {} | {} |\\n\".format(d[0], str(d[1]), str(d[2])))\n",
    "\n",
    "display(Markdown(markdown_table))"
   ]
  },
  {
   "attachments": {},
   "cell_type": "markdown",
   "metadata": {},
   "source": [
    "## Analyzing unused files"
   ]
  },
  {
   "cell_type": "code",
   "execution_count": 22,
   "metadata": {},
   "outputs": [
    {
     "name": "stdout",
     "output_type": "stream",
     "text": [
      "Total used files: 27886\n",
      "Big files: 15\n",
      "Unusable files: 53\n"
     ]
    }
   ],
   "source": [
    "total_used_files = 0\n",
    "big_files = list()\n",
    "unusable_files = list()\n",
    "\n",
    "for dataset in datasets:\n",
    "    dataset_folder_path = f\"{folder}/{dataset}\"\n",
    "    metadata_file_path = f\"{dataset_folder_path}/metadata.json\"\n",
    "\n",
    "    with open(metadata_file_path, \"r\") as f:\n",
    "        metadata = json.load(f, strict=False)\n",
    "\n",
    "        keys = metadata.keys()\n",
    "\n",
    "        if \"used_files\" in keys and len(metadata[\"used_files\"]) > 0:\n",
    "            total_used_files += len(metadata[\"used_files\"])\n",
    "\n",
    "        if \"unused_files\" in keys and len(metadata[\"unused_files\"]) > 0:\n",
    "            for uf in metadata[\"unused_files\"]:\n",
    "                file_path = f\"{dataset_folder_path}/{uf}\"\n",
    "                if is_file_larger_than_size_limit(file_path):\n",
    "                    big_files.append(file_path)\n",
    "                else:\n",
    "                    unusable_files.append(file_path)\n",
    "\n",
    "print(f\"Total used files: {total_used_files}\")\n",
    "print(f\"Big files: {len(big_files)}\")\n",
    "print(f\"Unusable files: {len(unusable_files)}\")"
   ]
  },
  {
   "attachments": {},
   "cell_type": "markdown",
   "metadata": {},
   "source": [
    "### Unused files"
   ]
  },
  {
   "cell_type": "code",
   "execution_count": 20,
   "metadata": {},
   "outputs": [
    {
     "data": {
      "text/plain": [
       "['datasets/13283/txn-images.ttl',\n",
       " 'datasets/13283/txn-distribution.ttl',\n",
       " 'datasets/13284/deck.rdf',\n",
       " 'datasets/13378/wordnet-partmeronym.rdf',\n",
       " 'datasets/13378/wordnet-substancemeronym.rdf',\n",
       " 'datasets/13378/wordnet-seealso.rdf',\n",
       " 'datasets/13378/wordnet-pertainsto.rdf',\n",
       " 'datasets/13378/wordnet-causes.rdf',\n",
       " 'datasets/13378/wordnet-sameverbgroupas.rdf',\n",
       " 'datasets/13378/wordnet-hyponym.rdf',\n",
       " 'datasets/13378/wordnet-classifiedby.rdf',\n",
       " 'datasets/13378/wordnet-membermeronym.rdf',\n",
       " 'datasets/13378/wordnet-participleof.rdf',\n",
       " 'datasets/13378/wordnet-entailment.rdf',\n",
       " 'datasets/13378/wordnet-similarity.rdf',\n",
       " 'datasets/13378/wordnet-antonym.rdf',\n",
       " 'datasets/13378/wordnet-attribute.rdf',\n",
       " 'datasets/13378/wordnet-derivationallyrelated.rdf',\n",
       " 'datasets/13997/persee-person-align-rdf.tar.gz',\n",
       " 'datasets/13997/license.txt',\n",
       " 'datasets/13997/PERSEE_align_wikipedia_2021-09-24.rdf',\n",
       " 'datasets/13997/PERSEE_align_ORCID_2021-09-24.rdf',\n",
       " 'datasets/13997/PERSEE_align_Idref_2021-09-24.rdf',\n",
       " 'datasets/13997/PERSEE_align_All_2021-09-24.rdf',\n",
       " 'datasets/13997/PERSEE_align_DBpediaFR_2021-09-24.rdf',\n",
       " 'datasets/13997/PERSEE_align_Bnf_2021-09-24.rdf',\n",
       " 'datasets/13997/PERSEE_align_Isni_2021-09-24.rdf',\n",
       " 'datasets/13997/PERSEE_align_idHAL_2021-09-24.rdf',\n",
       " 'datasets/13997/PERSEE_align_viaf_2021-09-24.rdf',\n",
       " 'datasets/13997/PERSEE_align_RePEc_2021-09-24.rdf',\n",
       " 'datasets/13997/PERSEE_align_wikidata_2021-09-24.rdf',\n",
       " 'datasets/13997/PERSEE_align_wikipediaFR_2021-09-24.rdf',\n",
       " 'datasets/13997/PERSEE_align_DBpedia_2021-09-24.rdf',\n",
       " 'datasets/14054/rdf.rdf',\n",
       " 'datasets/14079/wheat.rdf',\n",
       " 'datasets/14252/wordnet-partmeronym.rdf',\n",
       " 'datasets/14252/wordnet-substancemeronym.rdf',\n",
       " 'datasets/14252/wordnet-seealso.rdf',\n",
       " 'datasets/14252/wordnet-pertainsto.rdf',\n",
       " 'datasets/14252/wordnet-causes.rdf',\n",
       " 'datasets/14252/wordnet-sameverbgroupas.rdf',\n",
       " 'datasets/14252/wordnet-hyponym.rdf',\n",
       " 'datasets/14252/wordnet-classifiedby.rdf',\n",
       " 'datasets/14252/wordnet-membermeronym.rdf',\n",
       " 'datasets/14252/wordnet-participleof.rdf',\n",
       " 'datasets/14252/wordnet-entailment.rdf',\n",
       " 'datasets/14252/wordnet-similarity.rdf',\n",
       " 'datasets/14252/wordnet-antonym.rdf',\n",
       " 'datasets/14252/wordnet-attribute.rdf',\n",
       " 'datasets/14252/wordnet-derivationallyrelated.rdf',\n",
       " 'datasets/14277/txn-images.ttl',\n",
       " 'datasets/14277/txn-distribution.ttl',\n",
       " 'datasets/14417/deck.rdf']"
      ]
     },
     "execution_count": 20,
     "metadata": {},
     "output_type": "execute_result"
    }
   ],
   "source": [
    "unusable_files"
   ]
  },
  {
   "cell_type": "code",
   "execution_count": 26,
   "metadata": {},
   "outputs": [
    {
     "name": "stdout",
     "output_type": "stream",
     "text": [
      "Deleting datasets/13283/txn-images.ttl\n",
      "Deleting datasets/13283/txn-distribution.ttl\n",
      "Deleting datasets/13284/deck.rdf\n",
      "Deleting datasets/13378/wordnet-partmeronym.rdf\n",
      "Deleting datasets/13378/wordnet-substancemeronym.rdf\n",
      "Deleting datasets/13378/wordnet-seealso.rdf\n",
      "Deleting datasets/13378/wordnet-pertainsto.rdf\n",
      "Deleting datasets/13378/wordnet-causes.rdf\n",
      "Deleting datasets/13378/wordnet-sameverbgroupas.rdf\n",
      "Deleting datasets/13378/wordnet-hyponym.rdf\n",
      "Deleting datasets/13378/wordnet-classifiedby.rdf\n",
      "Deleting datasets/13378/wordnet-membermeronym.rdf\n",
      "Deleting datasets/13378/wordnet-participleof.rdf\n",
      "Deleting datasets/13378/wordnet-entailment.rdf\n",
      "Deleting datasets/13378/wordnet-similarity.rdf\n",
      "Deleting datasets/13378/wordnet-antonym.rdf\n",
      "Deleting datasets/13378/wordnet-attribute.rdf\n",
      "Deleting datasets/13378/wordnet-derivationallyrelated.rdf\n",
      "Deleting datasets/13997/persee-person-align-rdf.tar.gz\n",
      "Deleting datasets/13997/license.txt\n",
      "Deleting datasets/13997/PERSEE_align_wikipedia_2021-09-24.rdf\n",
      "Deleting datasets/13997/PERSEE_align_ORCID_2021-09-24.rdf\n",
      "Deleting datasets/13997/PERSEE_align_Idref_2021-09-24.rdf\n",
      "Deleting datasets/13997/PERSEE_align_All_2021-09-24.rdf\n",
      "Deleting datasets/13997/PERSEE_align_DBpediaFR_2021-09-24.rdf\n",
      "Deleting datasets/13997/PERSEE_align_Bnf_2021-09-24.rdf\n",
      "Deleting datasets/13997/PERSEE_align_Isni_2021-09-24.rdf\n",
      "Deleting datasets/13997/PERSEE_align_idHAL_2021-09-24.rdf\n",
      "Deleting datasets/13997/PERSEE_align_viaf_2021-09-24.rdf\n",
      "Deleting datasets/13997/PERSEE_align_RePEc_2021-09-24.rdf\n",
      "Deleting datasets/13997/PERSEE_align_wikidata_2021-09-24.rdf\n",
      "Deleting datasets/13997/PERSEE_align_wikipediaFR_2021-09-24.rdf\n",
      "Deleting datasets/13997/PERSEE_align_DBpedia_2021-09-24.rdf\n",
      "Deleting datasets/14054/rdf.rdf\n",
      "Deleting datasets/14079/wheat.rdf\n",
      "Deleting datasets/14252/wordnet-partmeronym.rdf\n",
      "Deleting datasets/14252/wordnet-substancemeronym.rdf\n",
      "Deleting datasets/14252/wordnet-seealso.rdf\n",
      "Deleting datasets/14252/wordnet-pertainsto.rdf\n",
      "Deleting datasets/14252/wordnet-causes.rdf\n",
      "Deleting datasets/14252/wordnet-sameverbgroupas.rdf\n",
      "Deleting datasets/14252/wordnet-hyponym.rdf\n",
      "Deleting datasets/14252/wordnet-classifiedby.rdf\n",
      "Deleting datasets/14252/wordnet-membermeronym.rdf\n",
      "Deleting datasets/14252/wordnet-participleof.rdf\n",
      "Deleting datasets/14252/wordnet-entailment.rdf\n",
      "Deleting datasets/14252/wordnet-similarity.rdf\n",
      "Deleting datasets/14252/wordnet-antonym.rdf\n",
      "Deleting datasets/14252/wordnet-attribute.rdf\n",
      "Deleting datasets/14252/wordnet-derivationallyrelated.rdf\n",
      "Deleting datasets/14277/txn-images.ttl\n",
      "Deleting datasets/14277/txn-distribution.ttl\n",
      "Deleting datasets/14417/deck.rdf\n"
     ]
    }
   ],
   "source": [
    "for f in unusable_files:\n",
    "    delete_file(f)"
   ]
  },
  {
   "attachments": {},
   "cell_type": "markdown",
   "metadata": {},
   "source": [
    "### Big files"
   ]
  },
  {
   "cell_type": "code",
   "execution_count": 23,
   "metadata": {},
   "outputs": [
    {
     "data": {
      "text/plain": [
       "['datasets/2/ppg-sf-dump.rdf',\n",
       " 'datasets/6/ppg-sf-dump.rdf',\n",
       " 'datasets/11580/rows.rdf',\n",
       " 'datasets/13263/Govwild_rdf.n3',\n",
       " 'datasets/13347/geospecies.rdf',\n",
       " 'datasets/13368/all-geonames.rdf',\n",
       " 'datasets/13565/download-20120123.rdf',\n",
       " 'datasets/14079/eat.nt',\n",
       " 'datasets/14324/geospecies.rdf',\n",
       " 'datasets/14344/all-geonames.rdf',\n",
       " 'datasets/14364/Govwild_rdf.n3',\n",
       " 'datasets/15243/en.rdf',\n",
       " 'datasets/15243/fr.rdf',\n",
       " 'datasets/21023/2016-allievi-partecipanti.nt',\n",
       " 'datasets/21532/jrcnames_uri.nt']"
      ]
     },
     "execution_count": 23,
     "metadata": {},
     "output_type": "execute_result"
    }
   ],
   "source": [
    "big_files"
   ]
  },
  {
   "attachments": {},
   "cell_type": "markdown",
   "metadata": {},
   "source": [
    "Check duplicates"
   ]
  },
  {
   "cell_type": "code",
   "execution_count": 2,
   "metadata": {},
   "outputs": [],
   "source": [
    "%%bash\n",
    "diff datasets/2/ppg-sf-dump.rdf datasets/6/ppg-sf-dump.rdf"
   ]
  },
  {
   "cell_type": "code",
   "execution_count": 4,
   "metadata": {},
   "outputs": [],
   "source": [
    "%%bash\n",
    "diff datasets/13263/Govwild_rdf.n3 datasets/14364/Govwild_rdf.n3"
   ]
  },
  {
   "cell_type": "code",
   "execution_count": 5,
   "metadata": {},
   "outputs": [],
   "source": [
    "%%bash\n",
    "diff datasets/13347/geospecies.rdf datasets/14324/geospecies.rdf"
   ]
  },
  {
   "cell_type": "code",
   "execution_count": 8,
   "metadata": {},
   "outputs": [],
   "source": [
    "%%bash\n",
    "cmp datasets/13368/all-geonames.rdf datasets/14344/all-geonames.rdf"
   ]
  },
  {
   "attachments": {},
   "cell_type": "markdown",
   "metadata": {},
   "source": [
    "#### Duplicates\n",
    "- `datasets/2/ppg-sf-dump.rdf` is the same file as `datasets/6/ppg-sf-dump.rdf`\n",
    "- `datasets/13263/Govwild_rdf.n3` is the same file as `datasets/14364/Govwild_rdf.n3`\n",
    "- `datasets/13347/geospecies.rdf` is the same file as `datasets/14324/geospecies.rdf`\n",
    "- `datasets/13368/all-geonames.rdf` is the same file as `datasets/14344/all-geonames.rdf`\n",
    "\n",
    "#### Invalid files\n",
    "While importing in GraphDB the files below generated errors\n",
    "- `datasets/13263/Govwild_rdf.n3` contains syntax error, GraphDB raises `org.eclipse.rdf4j.sail.SailException: Invalid IRI value`\n",
    "- `datasets/13347/geospecies.rdf` contains syntax error, GraphDB raises `org.eclipse.rdf4j.sail.SailException: Invalid IRI value`\n",
    "- `datasets/13368/all-geonames.rdf` is not processable, GraphDB raises `RDF parse error: content is not allowed in prolog`\n",
    "- `datasets/13565/download-20120123.rdf` contains syntax error, GraphDB raises `org.eclipse.rdf4j.sail.SailException: Invalid IRI value`\n",
    "- `datasets/15243/fr.rdf` contains syntax error, GraphDB raises `RDF parse error`\n",
    "- `datasets/21532/jrcnames_uri.nt` contains syntax error, GraphDB raises `org.eclipse.rdf4j.sail.SailException: Invalid IRI value`"
   ]
  },
  {
   "cell_type": "code",
   "execution_count": 28,
   "metadata": {},
   "outputs": [],
   "source": [
    "# TO DELETE\n",
    "\n",
    "big_files = [\n",
    "    \"datasets/2/ppg-sf-dump.rdf\",\n",
    "    \"datasets/6/ppg-sf-dump.rdf\",\n",
    "    \"datasets/11580/rows.rdf\",\n",
    "    \"datasets/13263/Govwild_rdf.n3\",\n",
    "    \"datasets/13347/geospecies.rdf\",\n",
    "    \"datasets/13368/all-geonames.rdf\",\n",
    "    \"datasets/13565/download-20120123.rdf\",\n",
    "    \"datasets/14079/eat.nt\",\n",
    "    \"datasets/14324/geospecies.rdf\",\n",
    "    \"datasets/14344/all-geonames.rdf\",\n",
    "    \"datasets/14364/Govwild_rdf.n3\",\n",
    "    \"datasets/15243/en.rdf\",\n",
    "    \"datasets/15243/fr.rdf\",\n",
    "    \"datasets/21023/2016-allievi-partecipanti.nt\",\n",
    "    \"datasets/21532/jrcnames_uri.nt\",\n",
    "]\n",
    "\n",
    "unusable_files = [\n",
    "    \"datasets/13283/txn-images.ttl\",\n",
    "    \"datasets/13283/txn-distribution.ttl\",\n",
    "    \"datasets/13284/deck.rdf\",\n",
    "    \"datasets/13378/wordnet-partmeronym.rdf\",\n",
    "    \"datasets/13378/wordnet-substancemeronym.rdf\",\n",
    "    \"datasets/13378/wordnet-seealso.rdf\",\n",
    "    \"datasets/13378/wordnet-pertainsto.rdf\",\n",
    "    \"datasets/13378/wordnet-causes.rdf\",\n",
    "    \"datasets/13378/wordnet-sameverbgroupas.rdf\",\n",
    "    \"datasets/13378/wordnet-hyponym.rdf\",\n",
    "    \"datasets/13378/wordnet-classifiedby.rdf\",\n",
    "    \"datasets/13378/wordnet-membermeronym.rdf\",\n",
    "    \"datasets/13378/wordnet-participleof.rdf\",\n",
    "    \"datasets/13378/wordnet-entailment.rdf\",\n",
    "    \"datasets/13378/wordnet-similarity.rdf\",\n",
    "    \"datasets/13378/wordnet-antonym.rdf\",\n",
    "    \"datasets/13378/wordnet-attribute.rdf\",\n",
    "    \"datasets/13378/wordnet-derivationallyrelated.rdf\",\n",
    "    \"datasets/13997/persee-person-align-rdf.tar.gz\",\n",
    "    \"datasets/13997/license.txt\",\n",
    "    \"datasets/13997/PERSEE_align_wikipedia_2021-09-24.rdf\",\n",
    "    \"datasets/13997/PERSEE_align_ORCID_2021-09-24.rdf\",\n",
    "    \"datasets/13997/PERSEE_align_Idref_2021-09-24.rdf\",\n",
    "    \"datasets/13997/PERSEE_align_All_2021-09-24.rdf\",\n",
    "    \"datasets/13997/PERSEE_align_DBpediaFR_2021-09-24.rdf\",\n",
    "    \"datasets/13997/PERSEE_align_Bnf_2021-09-24.rdf\",\n",
    "    \"datasets/13997/PERSEE_align_Isni_2021-09-24.rdf\",\n",
    "    \"datasets/13997/PERSEE_align_idHAL_2021-09-24.rdf\",\n",
    "    \"datasets/13997/PERSEE_align_viaf_2021-09-24.rdf\",\n",
    "    \"datasets/13997/PERSEE_align_RePEc_2021-09-24.rdf\",\n",
    "    \"datasets/13997/PERSEE_align_wikidata_2021-09-24.rdf\",\n",
    "    \"datasets/13997/PERSEE_align_wikipediaFR_2021-09-24.rdf\",\n",
    "    \"datasets/13997/PERSEE_align_DBpedia_2021-09-24.rdf\",\n",
    "    \"datasets/14054/rdf.rdf\",\n",
    "    \"datasets/14079/wheat.rdf\",\n",
    "    \"datasets/14252/wordnet-partmeronym.rdf\",\n",
    "    \"datasets/14252/wordnet-substancemeronym.rdf\",\n",
    "    \"datasets/14252/wordnet-seealso.rdf\",\n",
    "    \"datasets/14252/wordnet-pertainsto.rdf\",\n",
    "    \"datasets/14252/wordnet-causes.rdf\",\n",
    "    \"datasets/14252/wordnet-sameverbgroupas.rdf\",\n",
    "    \"datasets/14252/wordnet-hyponym.rdf\",\n",
    "    \"datasets/14252/wordnet-classifiedby.rdf\",\n",
    "    \"datasets/14252/wordnet-membermeronym.rdf\",\n",
    "    \"datasets/14252/wordnet-participleof.rdf\",\n",
    "    \"datasets/14252/wordnet-entailment.rdf\",\n",
    "    \"datasets/14252/wordnet-similarity.rdf\",\n",
    "    \"datasets/14252/wordnet-antonym.rdf\",\n",
    "    \"datasets/14252/wordnet-attribute.rdf\",\n",
    "    \"datasets/14252/wordnet-derivationallyrelated.rdf\",\n",
    "    \"datasets/14277/txn-images.ttl\",\n",
    "    \"datasets/14277/txn-distribution.ttl\",\n",
    "    \"datasets/14417/deck.rdf\",\n",
    "]"
   ]
  },
  {
   "cell_type": "code",
   "execution_count": 29,
   "metadata": {},
   "outputs": [],
   "source": [
    "distinct_valid_big_files = [\n",
    "    \"datasets/2/ppg-sf-dump.rdf\",\n",
    "    \"datasets/11580/rows.rdf\",\n",
    "    \"datasets/14079/eat.nt\",\n",
    "    \"datasets/15243/en.rdf\",\n",
    "    \"datasets/21023/2016-allievi-partecipanti.nt\",\n",
    "]"
   ]
  },
  {
   "cell_type": "code",
   "execution_count": 40,
   "metadata": {},
   "outputs": [
    {
     "name": "stdout",
     "output_type": "stream",
     "text": [
      "Deleting datasets/6/ppg-sf-dump.rdf\n",
      "Deleting datasets/13263/Govwild_rdf.n3\n",
      "Deleting datasets/13347/geospecies.rdf\n",
      "Deleting datasets/13368/all-geonames.rdf\n",
      "Deleting datasets/13565/download-20120123.rdf\n",
      "Deleting datasets/14324/geospecies.rdf\n",
      "Deleting datasets/14344/all-geonames.rdf\n",
      "Deleting datasets/14364/Govwild_rdf.n3\n",
      "Deleting datasets/15243/fr.rdf\n",
      "Deleting datasets/21532/jrcnames_uri.nt\n"
     ]
    }
   ],
   "source": [
    "for file in big_files:\n",
    "    if file not in distinct_valid_big_files:\n",
    "        delete_file(file)"
   ]
  }
 ],
 "metadata": {
  "kernelspec": {
   "display_name": "Python 3 (ipykernel)",
   "language": "python",
   "name": "python3"
  },
  "language_info": {
   "codemirror_mode": {
    "name": "ipython",
    "version": 3
   },
   "file_extension": ".py",
   "mimetype": "text/x-python",
   "name": "python",
   "nbconvert_exporter": "python",
   "pygments_lexer": "ipython3",
   "version": "3.9.2"
  }
 },
 "nbformat": 4,
 "nbformat_minor": 2
}
